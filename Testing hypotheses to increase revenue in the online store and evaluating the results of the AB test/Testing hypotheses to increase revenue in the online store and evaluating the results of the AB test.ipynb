{
 "cells": [
  {
   "cell_type": "markdown",
   "metadata": {},
   "source": [
    "# Принятие решений в бизнесе на основе данных\n",
    "\n",
    "Коротко и тезисно. Есть крупный интернет-магазин. Вместе с отделом маркетинга был подготовлен список гипотез для увеличения выручки. Требуется выбрать наиболее приоритетные гипотезы, провести A/B тест, проанализировать его результаты и сделать вывод.\n",
    "\n",
    "План:\n",
    "1. Приоретизация гипотез\n",
    "2. Анализ различных показателей по группам (как выручка, средний чек и т.д.)\n",
    "3. Нахождение границы аномальных параметров пользователей\n",
    "4. Отсеивание аномальных значений и статистическое исследование \"сырых\" и обработанных данных\n",
    "5. Вывод"
   ]
  },
  {
   "cell_type": "markdown",
   "metadata": {},
   "source": [
    "## Приоретизация гипотез"
   ]
  },
  {
   "cell_type": "code",
   "execution_count": 1,
   "metadata": {},
   "outputs": [],
   "source": [
    "import pandas as pd\n",
    "import numpy as np\n",
    "import matplotlib.pyplot as plt\n",
    "import scipy.stats as stats\n",
    "import warnings\n",
    "\n",
    "warnings.filterwarnings('ignore') #Игнорируем предупреждение при вызове plt.xticks(Rotation = -30)"
   ]
  },
  {
   "cell_type": "code",
   "execution_count": 2,
   "metadata": {},
   "outputs": [],
   "source": [
    "hypothesis = pd.read_csv('/datasets/hypothesis.csv')"
   ]
  },
  {
   "cell_type": "code",
   "execution_count": 3,
   "metadata": {},
   "outputs": [],
   "source": [
    "hypothesis #Изучаем полученный датафрейм\n",
    "pd.options.display.max_colwidth = 1"
   ]
  },
  {
   "cell_type": "code",
   "execution_count": 4,
   "metadata": {},
   "outputs": [
    {
     "data": {
      "text/html": [
       "<div>\n",
       "<style scoped>\n",
       "    .dataframe tbody tr th:only-of-type {\n",
       "        vertical-align: middle;\n",
       "    }\n",
       "\n",
       "    .dataframe tbody tr th {\n",
       "        vertical-align: top;\n",
       "    }\n",
       "\n",
       "    .dataframe thead th {\n",
       "        text-align: right;\n",
       "    }\n",
       "</style>\n",
       "<table border=\"1\" class=\"dataframe\">\n",
       "  <thead>\n",
       "    <tr style=\"text-align: right;\">\n",
       "      <th></th>\n",
       "      <th>Hypothesis</th>\n",
       "      <th>Reach</th>\n",
       "      <th>Impact</th>\n",
       "      <th>Confidence</th>\n",
       "      <th>Efforts</th>\n",
       "      <th>ICE</th>\n",
       "    </tr>\n",
       "  </thead>\n",
       "  <tbody>\n",
       "    <tr>\n",
       "      <th>8</th>\n",
       "      <td>Запустить акцию, дающую скидку на товар в день рождения</td>\n",
       "      <td>1</td>\n",
       "      <td>9</td>\n",
       "      <td>9</td>\n",
       "      <td>5</td>\n",
       "      <td>16.200</td>\n",
       "    </tr>\n",
       "    <tr>\n",
       "      <th>0</th>\n",
       "      <td>Добавить два новых канала привлечения трафика, что позволит привлекать на 30% больше пользователей</td>\n",
       "      <td>3</td>\n",
       "      <td>10</td>\n",
       "      <td>8</td>\n",
       "      <td>6</td>\n",
       "      <td>13.333</td>\n",
       "    </tr>\n",
       "    <tr>\n",
       "      <th>7</th>\n",
       "      <td>Добавить форму подписки на все основные страницы, чтобы собрать базу клиентов для email-рассылок</td>\n",
       "      <td>10</td>\n",
       "      <td>7</td>\n",
       "      <td>8</td>\n",
       "      <td>5</td>\n",
       "      <td>11.200</td>\n",
       "    </tr>\n",
       "    <tr>\n",
       "      <th>6</th>\n",
       "      <td>Показать на главной странице баннеры с актуальными акциями и распродажами, чтобы увеличить конверсию</td>\n",
       "      <td>5</td>\n",
       "      <td>3</td>\n",
       "      <td>8</td>\n",
       "      <td>3</td>\n",
       "      <td>8.000</td>\n",
       "    </tr>\n",
       "    <tr>\n",
       "      <th>2</th>\n",
       "      <td>Добавить блоки рекомендаций товаров на сайт интернет магазина, чтобы повысить конверсию и средний чек заказа</td>\n",
       "      <td>8</td>\n",
       "      <td>3</td>\n",
       "      <td>7</td>\n",
       "      <td>3</td>\n",
       "      <td>7.000</td>\n",
       "    </tr>\n",
       "    <tr>\n",
       "      <th>1</th>\n",
       "      <td>Запустить собственную службу доставки, что сократит срок доставки заказов</td>\n",
       "      <td>2</td>\n",
       "      <td>5</td>\n",
       "      <td>4</td>\n",
       "      <td>10</td>\n",
       "      <td>2.000</td>\n",
       "    </tr>\n",
       "    <tr>\n",
       "      <th>5</th>\n",
       "      <td>Добавить страницу отзывов клиентов о магазине, что позволит увеличить количество заказов</td>\n",
       "      <td>3</td>\n",
       "      <td>2</td>\n",
       "      <td>2</td>\n",
       "      <td>3</td>\n",
       "      <td>1.333</td>\n",
       "    </tr>\n",
       "    <tr>\n",
       "      <th>3</th>\n",
       "      <td>Изменить структура категорий, что увеличит конверсию, т.к. пользователи быстрее найдут нужный товар</td>\n",
       "      <td>8</td>\n",
       "      <td>3</td>\n",
       "      <td>3</td>\n",
       "      <td>8</td>\n",
       "      <td>1.125</td>\n",
       "    </tr>\n",
       "    <tr>\n",
       "      <th>4</th>\n",
       "      <td>Изменить цвет фона главной страницы, чтобы увеличить вовлеченность пользователей</td>\n",
       "      <td>3</td>\n",
       "      <td>1</td>\n",
       "      <td>1</td>\n",
       "      <td>1</td>\n",
       "      <td>1.000</td>\n",
       "    </tr>\n",
       "  </tbody>\n",
       "</table>\n",
       "</div>"
      ],
      "text/plain": [
       "                                                                                                     Hypothesis  \\\n",
       "8  Запустить акцию, дающую скидку на товар в день рождения                                                        \n",
       "0  Добавить два новых канала привлечения трафика, что позволит привлекать на 30% больше пользователей             \n",
       "7  Добавить форму подписки на все основные страницы, чтобы собрать базу клиентов для email-рассылок               \n",
       "6  Показать на главной странице баннеры с актуальными акциями и распродажами, чтобы увеличить конверсию           \n",
       "2  Добавить блоки рекомендаций товаров на сайт интернет магазина, чтобы повысить конверсию и средний чек заказа   \n",
       "1  Запустить собственную службу доставки, что сократит срок доставки заказов                                      \n",
       "5  Добавить страницу отзывов клиентов о магазине, что позволит увеличить количество заказов                       \n",
       "3  Изменить структура категорий, что увеличит конверсию, т.к. пользователи быстрее найдут нужный товар            \n",
       "4  Изменить цвет фона главной страницы, чтобы увеличить вовлеченность пользователей                               \n",
       "\n",
       "   Reach  Impact  Confidence  Efforts     ICE  \n",
       "8  1      9       9           5        16.200  \n",
       "0  3      10      8           6        13.333  \n",
       "7  10     7       8           5        11.200  \n",
       "6  5      3       8           3        8.000   \n",
       "2  8      3       7           3        7.000   \n",
       "1  2      5       4           10       2.000   \n",
       "5  3      2       2           3        1.333   \n",
       "3  8      3       3           8        1.125   \n",
       "4  3      1       1           1        1.000   "
      ]
     },
     "execution_count": 4,
     "metadata": {},
     "output_type": "execute_result"
    }
   ],
   "source": [
    "hypothesis['ICE'] = round(hypothesis['Impact'] * hypothesis['Confidence'] / hypothesis['Efforts'], 3) #Применяем фреймворк ICE\n",
    "hypothesis.sort_values(by='ICE', ascending=False)"
   ]
  },
  {
   "cell_type": "markdown",
   "metadata": {},
   "source": [
    "Видим, что при приоритизации гипотез методом 'ICE' наиболее эффективными считаются 8, 0 и 7 гипотезы"
   ]
  },
  {
   "cell_type": "code",
   "execution_count": 5,
   "metadata": {
    "scrolled": true
   },
   "outputs": [
    {
     "data": {
      "text/html": [
       "<div>\n",
       "<style scoped>\n",
       "    .dataframe tbody tr th:only-of-type {\n",
       "        vertical-align: middle;\n",
       "    }\n",
       "\n",
       "    .dataframe tbody tr th {\n",
       "        vertical-align: top;\n",
       "    }\n",
       "\n",
       "    .dataframe thead th {\n",
       "        text-align: right;\n",
       "    }\n",
       "</style>\n",
       "<table border=\"1\" class=\"dataframe\">\n",
       "  <thead>\n",
       "    <tr style=\"text-align: right;\">\n",
       "      <th></th>\n",
       "      <th>Hypothesis</th>\n",
       "      <th>Reach</th>\n",
       "      <th>Impact</th>\n",
       "      <th>Confidence</th>\n",
       "      <th>Efforts</th>\n",
       "      <th>ICE</th>\n",
       "      <th>RICE</th>\n",
       "    </tr>\n",
       "  </thead>\n",
       "  <tbody>\n",
       "    <tr>\n",
       "      <th>7</th>\n",
       "      <td>Добавить форму подписки на все основные страницы, чтобы собрать базу клиентов для email-рассылок</td>\n",
       "      <td>10</td>\n",
       "      <td>7</td>\n",
       "      <td>8</td>\n",
       "      <td>5</td>\n",
       "      <td>11.200</td>\n",
       "      <td>112.0</td>\n",
       "    </tr>\n",
       "    <tr>\n",
       "      <th>2</th>\n",
       "      <td>Добавить блоки рекомендаций товаров на сайт интернет магазина, чтобы повысить конверсию и средний чек заказа</td>\n",
       "      <td>8</td>\n",
       "      <td>3</td>\n",
       "      <td>7</td>\n",
       "      <td>3</td>\n",
       "      <td>7.000</td>\n",
       "      <td>56.0</td>\n",
       "    </tr>\n",
       "    <tr>\n",
       "      <th>0</th>\n",
       "      <td>Добавить два новых канала привлечения трафика, что позволит привлекать на 30% больше пользователей</td>\n",
       "      <td>3</td>\n",
       "      <td>10</td>\n",
       "      <td>8</td>\n",
       "      <td>6</td>\n",
       "      <td>13.333</td>\n",
       "      <td>40.0</td>\n",
       "    </tr>\n",
       "    <tr>\n",
       "      <th>6</th>\n",
       "      <td>Показать на главной странице баннеры с актуальными акциями и распродажами, чтобы увеличить конверсию</td>\n",
       "      <td>5</td>\n",
       "      <td>3</td>\n",
       "      <td>8</td>\n",
       "      <td>3</td>\n",
       "      <td>8.000</td>\n",
       "      <td>40.0</td>\n",
       "    </tr>\n",
       "    <tr>\n",
       "      <th>8</th>\n",
       "      <td>Запустить акцию, дающую скидку на товар в день рождения</td>\n",
       "      <td>1</td>\n",
       "      <td>9</td>\n",
       "      <td>9</td>\n",
       "      <td>5</td>\n",
       "      <td>16.200</td>\n",
       "      <td>16.2</td>\n",
       "    </tr>\n",
       "    <tr>\n",
       "      <th>3</th>\n",
       "      <td>Изменить структура категорий, что увеличит конверсию, т.к. пользователи быстрее найдут нужный товар</td>\n",
       "      <td>8</td>\n",
       "      <td>3</td>\n",
       "      <td>3</td>\n",
       "      <td>8</td>\n",
       "      <td>1.125</td>\n",
       "      <td>9.0</td>\n",
       "    </tr>\n",
       "    <tr>\n",
       "      <th>1</th>\n",
       "      <td>Запустить собственную службу доставки, что сократит срок доставки заказов</td>\n",
       "      <td>2</td>\n",
       "      <td>5</td>\n",
       "      <td>4</td>\n",
       "      <td>10</td>\n",
       "      <td>2.000</td>\n",
       "      <td>4.0</td>\n",
       "    </tr>\n",
       "    <tr>\n",
       "      <th>5</th>\n",
       "      <td>Добавить страницу отзывов клиентов о магазине, что позволит увеличить количество заказов</td>\n",
       "      <td>3</td>\n",
       "      <td>2</td>\n",
       "      <td>2</td>\n",
       "      <td>3</td>\n",
       "      <td>1.333</td>\n",
       "      <td>4.0</td>\n",
       "    </tr>\n",
       "    <tr>\n",
       "      <th>4</th>\n",
       "      <td>Изменить цвет фона главной страницы, чтобы увеличить вовлеченность пользователей</td>\n",
       "      <td>3</td>\n",
       "      <td>1</td>\n",
       "      <td>1</td>\n",
       "      <td>1</td>\n",
       "      <td>1.000</td>\n",
       "      <td>3.0</td>\n",
       "    </tr>\n",
       "  </tbody>\n",
       "</table>\n",
       "</div>"
      ],
      "text/plain": [
       "                                                                                                     Hypothesis  \\\n",
       "7  Добавить форму подписки на все основные страницы, чтобы собрать базу клиентов для email-рассылок               \n",
       "2  Добавить блоки рекомендаций товаров на сайт интернет магазина, чтобы повысить конверсию и средний чек заказа   \n",
       "0  Добавить два новых канала привлечения трафика, что позволит привлекать на 30% больше пользователей             \n",
       "6  Показать на главной странице баннеры с актуальными акциями и распродажами, чтобы увеличить конверсию           \n",
       "8  Запустить акцию, дающую скидку на товар в день рождения                                                        \n",
       "3  Изменить структура категорий, что увеличит конверсию, т.к. пользователи быстрее найдут нужный товар            \n",
       "1  Запустить собственную службу доставки, что сократит срок доставки заказов                                      \n",
       "5  Добавить страницу отзывов клиентов о магазине, что позволит увеличить количество заказов                       \n",
       "4  Изменить цвет фона главной страницы, чтобы увеличить вовлеченность пользователей                               \n",
       "\n",
       "   Reach  Impact  Confidence  Efforts     ICE   RICE  \n",
       "7  10     7       8           5        11.200  112.0  \n",
       "2  8      3       7           3        7.000   56.0   \n",
       "0  3      10      8           6        13.333  40.0   \n",
       "6  5      3       8           3        8.000   40.0   \n",
       "8  1      9       9           5        16.200  16.2   \n",
       "3  8      3       3           8        1.125   9.0    \n",
       "1  2      5       4           10       2.000   4.0    \n",
       "5  3      2       2           3        1.333   4.0    \n",
       "4  3      1       1           1        1.000   3.0    "
      ]
     },
     "execution_count": 5,
     "metadata": {},
     "output_type": "execute_result"
    }
   ],
   "source": [
    "hypothesis['RICE'] = hypothesis['Reach'] * hypothesis['Impact'] * hypothesis['Confidence'] / hypothesis['Efforts'] \n",
    "hypothesis.sort_values(by='RICE', ascending=False)                    #Аналогично с RICE"
   ]
  },
  {
   "cell_type": "markdown",
   "metadata": {},
   "source": [
    "При использовании фреймворка 'RICE' наиболее эффективными оказались 7, 2, 0 и 6 гипотезы (0 и 6 занимают почетное 3 место с одинаковым результатом)"
   ]
  },
  {
   "cell_type": "markdown",
   "metadata": {},
   "source": [
    "По совокупности методов наиболее эффективными оказались 7 и 0 гипотеза, но есть один ньюанс. Дело в том, что метод 'RICE' имеет в своей формуле переменную *Reach* — скольких пользователей затронет изменение, которое вы хотите внести; поэтому целесообразнее придерживаться этого метода. Метод 'ICE' не учитывает его, поэтому на 1 месте оказалась 8 гипотеза с охватом = 1, что интересно, конечно, но бизнесу лучше ориентироваться на бОльшую часть аудитории, а не на ее меньшую часть. Тем более, что при сравнении 8 и 7 гипотезы выгоднее будет 7, так как затраты(Effrots = 5) одинаковы, а Reach отличается на целых 9 пунктов в пользу 7 гипотезы.\n",
    "\n",
    "**Вывод:** Будем руководствоваться методом 'RICE' и примем за наиболее эффективные гипотезы 7, 2, 0 и 6. Из них наиболее эффективная 7 - ее и выберем"
   ]
  },
  {
   "cell_type": "markdown",
   "metadata": {},
   "source": [
    "## Анализ A/B теста"
   ]
  },
  {
   "cell_type": "markdown",
   "metadata": {},
   "source": [
    "### Получение данных"
   ]
  },
  {
   "cell_type": "code",
   "execution_count": 6,
   "metadata": {},
   "outputs": [],
   "source": [
    "orders = pd.read_csv('/datasets/orders.csv')\n",
    "visitors = pd.read_csv('/datasets/visitors.csv')"
   ]
  },
  {
   "cell_type": "code",
   "execution_count": 7,
   "metadata": {},
   "outputs": [
    {
     "name": "stdout",
     "output_type": "stream",
     "text": [
      "<class 'pandas.core.frame.DataFrame'>\n",
      "RangeIndex: 1197 entries, 0 to 1196\n",
      "Data columns (total 5 columns):\n",
      " #   Column         Non-Null Count  Dtype \n",
      "---  ------         --------------  ----- \n",
      " 0   transactionId  1197 non-null   int64 \n",
      " 1   visitorId      1197 non-null   int64 \n",
      " 2   date           1197 non-null   object\n",
      " 3   revenue        1197 non-null   int64 \n",
      " 4   group          1197 non-null   object\n",
      "dtypes: int64(3), object(2)\n",
      "memory usage: 46.9+ KB\n"
     ]
    }
   ],
   "source": [
    "orders.info()"
   ]
  },
  {
   "cell_type": "code",
   "execution_count": 8,
   "metadata": {},
   "outputs": [
    {
     "name": "stdout",
     "output_type": "stream",
     "text": [
      "<class 'pandas.core.frame.DataFrame'>\n",
      "RangeIndex: 62 entries, 0 to 61\n",
      "Data columns (total 3 columns):\n",
      " #   Column    Non-Null Count  Dtype \n",
      "---  ------    --------------  ----- \n",
      " 0   date      62 non-null     object\n",
      " 1   group     62 non-null     object\n",
      " 2   visitors  62 non-null     int64 \n",
      "dtypes: int64(1), object(2)\n",
      "memory usage: 1.6+ KB\n"
     ]
    }
   ],
   "source": [
    "visitors.info()"
   ]
  },
  {
   "cell_type": "markdown",
   "metadata": {},
   "source": [
    "На всякий случай, посмотрели типы данных, соответствуют ли они нужным нам (сразу оговорюсь, что в orders столбец date правильного типа - date, просто он попадает в классификацию object) и есть ли пропуски в данных. На всякий случай проверим на явные дубликаты, но вряд ли эта часть предполагалась изначально)"
   ]
  },
  {
   "cell_type": "code",
   "execution_count": 9,
   "metadata": {
    "scrolled": true
   },
   "outputs": [
    {
     "data": {
      "text/plain": [
       "0"
      ]
     },
     "metadata": {},
     "output_type": "display_data"
    },
    {
     "data": {
      "text/plain": [
       "0"
      ]
     },
     "execution_count": 9,
     "metadata": {},
     "output_type": "execute_result"
    }
   ],
   "source": [
    "display(visitors.duplicated().sum())\n",
    "orders.duplicated().sum()"
   ]
  },
  {
   "cell_type": "code",
   "execution_count": 10,
   "metadata": {},
   "outputs": [
    {
     "data": {
      "text/plain": [
       "166"
      ]
     },
     "execution_count": 10,
     "metadata": {},
     "output_type": "execute_result"
    }
   ],
   "source": [
    "orders.duplicated(subset='visitorId').sum() #Есть 166 повторяющихся пользователей"
   ]
  },
  {
   "cell_type": "code",
   "execution_count": 11,
   "metadata": {},
   "outputs": [
    {
     "data": {
      "text/html": [
       "<div>\n",
       "<style scoped>\n",
       "    .dataframe tbody tr th:only-of-type {\n",
       "        vertical-align: middle;\n",
       "    }\n",
       "\n",
       "    .dataframe tbody tr th {\n",
       "        vertical-align: top;\n",
       "    }\n",
       "\n",
       "    .dataframe thead th {\n",
       "        text-align: right;\n",
       "    }\n",
       "</style>\n",
       "<table border=\"1\" class=\"dataframe\">\n",
       "  <thead>\n",
       "    <tr style=\"text-align: right;\">\n",
       "      <th></th>\n",
       "      <th>transactionId</th>\n",
       "      <th>visitorId</th>\n",
       "      <th>date</th>\n",
       "      <th>revenue</th>\n",
       "      <th>group</th>\n",
       "    </tr>\n",
       "  </thead>\n",
       "  <tbody>\n",
       "    <tr>\n",
       "      <th>71</th>\n",
       "      <td>3679129301</td>\n",
       "      <td>8300375</td>\n",
       "      <td>2019-08-01</td>\n",
       "      <td>10510</td>\n",
       "      <td>B</td>\n",
       "    </tr>\n",
       "    <tr>\n",
       "      <th>703</th>\n",
       "      <td>4293855558</td>\n",
       "      <td>8300375</td>\n",
       "      <td>2019-08-07</td>\n",
       "      <td>1790</td>\n",
       "      <td>A</td>\n",
       "    </tr>\n",
       "    <tr>\n",
       "      <th>26</th>\n",
       "      <td>2223239646</td>\n",
       "      <td>199603092</td>\n",
       "      <td>2019-08-15</td>\n",
       "      <td>3488</td>\n",
       "      <td>A</td>\n",
       "    </tr>\n",
       "    <tr>\n",
       "      <th>134</th>\n",
       "      <td>62794304</td>\n",
       "      <td>199603092</td>\n",
       "      <td>2019-08-22</td>\n",
       "      <td>6976</td>\n",
       "      <td>A</td>\n",
       "    </tr>\n",
       "    <tr>\n",
       "      <th>246</th>\n",
       "      <td>437656952</td>\n",
       "      <td>199603092</td>\n",
       "      <td>2019-08-02</td>\n",
       "      <td>3488</td>\n",
       "      <td>B</td>\n",
       "    </tr>\n",
       "    <tr>\n",
       "      <th>...</th>\n",
       "      <td>...</td>\n",
       "      <td>...</td>\n",
       "      <td>...</td>\n",
       "      <td>...</td>\n",
       "      <td>...</td>\n",
       "    </tr>\n",
       "    <tr>\n",
       "      <th>1018</th>\n",
       "      <td>1415970216</td>\n",
       "      <td>4256040402</td>\n",
       "      <td>2019-08-31</td>\n",
       "      <td>5170</td>\n",
       "      <td>A</td>\n",
       "    </tr>\n",
       "    <tr>\n",
       "      <th>1019</th>\n",
       "      <td>453824282</td>\n",
       "      <td>4256040402</td>\n",
       "      <td>2019-08-31</td>\n",
       "      <td>1850</td>\n",
       "      <td>B</td>\n",
       "    </tr>\n",
       "    <tr>\n",
       "      <th>1091</th>\n",
       "      <td>750632879</td>\n",
       "      <td>4256040402</td>\n",
       "      <td>2019-08-12</td>\n",
       "      <td>50</td>\n",
       "      <td>A</td>\n",
       "    </tr>\n",
       "    <tr>\n",
       "      <th>662</th>\n",
       "      <td>1811671147</td>\n",
       "      <td>4266935830</td>\n",
       "      <td>2019-08-29</td>\n",
       "      <td>78990</td>\n",
       "      <td>A</td>\n",
       "    </tr>\n",
       "    <tr>\n",
       "      <th>682</th>\n",
       "      <td>1216533772</td>\n",
       "      <td>4266935830</td>\n",
       "      <td>2019-08-29</td>\n",
       "      <td>78990</td>\n",
       "      <td>B</td>\n",
       "    </tr>\n",
       "  </tbody>\n",
       "</table>\n",
       "<p>260 rows × 5 columns</p>\n",
       "</div>"
      ],
      "text/plain": [
       "      transactionId   visitorId        date  revenue group\n",
       "71    3679129301     8300375     2019-08-01  10510    B   \n",
       "703   4293855558     8300375     2019-08-07  1790     A   \n",
       "26    2223239646     199603092   2019-08-15  3488     A   \n",
       "134   62794304       199603092   2019-08-22  6976     A   \n",
       "246   437656952      199603092   2019-08-02  3488     B   \n",
       "...         ...            ...          ...   ...    ..   \n",
       "1018  1415970216     4256040402  2019-08-31  5170     A   \n",
       "1019  453824282      4256040402  2019-08-31  1850     B   \n",
       "1091  750632879      4256040402  2019-08-12  50       A   \n",
       "662   1811671147     4266935830  2019-08-29  78990    A   \n",
       "682   1216533772     4266935830  2019-08-29  78990    B   \n",
       "\n",
       "[260 rows x 5 columns]"
      ]
     },
     "execution_count": 11,
     "metadata": {},
     "output_type": "execute_result"
    }
   ],
   "source": [
    "#Смотрим, попали ли наши пользователи в разные группы. \n",
    "#Попали, но здесь так же считаются случаи, когда пользователь 2 раза попал  в 1 группу\n",
    "pd.concat(g for _, g in orders.groupby(\"visitorId\") if len(g) > 1) "
   ]
  },
  {
   "cell_type": "code",
   "execution_count": 12,
   "metadata": {},
   "outputs": [
    {
     "name": "stdout",
     "output_type": "stream",
     "text": [
      "<class 'pandas.core.frame.DataFrame'>\n",
      "Int64Index: 1108 entries, 0 to 1196\n",
      "Data columns (total 5 columns):\n",
      " #   Column         Non-Null Count  Dtype \n",
      "---  ------         --------------  ----- \n",
      " 0   transactionId  1108 non-null   int64 \n",
      " 1   visitorId      1108 non-null   int64 \n",
      " 2   date           1108 non-null   object\n",
      " 3   revenue        1108 non-null   int64 \n",
      " 4   group          1108 non-null   object\n",
      "dtypes: int64(3), object(2)\n",
      "memory usage: 51.9+ KB\n"
     ]
    }
   ],
   "source": [
    "check = orders.loc[orders[\"group\"]==\"A\", \"visitorId\"].isin(orders.loc[orders[\"group\"]==\"B\", \"visitorId\"])\n",
    "clear_orders = orders.drop(check[check].index)\n",
    "clear_orders.info()"
   ]
  },
  {
   "cell_type": "markdown",
   "metadata": {},
   "source": [
    "Сделали проверку на попадание пользователей в 2 группы сразу. Прошлая учитывала случаи, когда человек совершал несколько покупок, теперь проверка была по пользователям, находятся ли они сразу в 2 группах. Выяснилось, что таких пользователей 58 человек (5%). Было решено их оставить"
   ]
  },
  {
   "cell_type": "markdown",
   "metadata": {},
   "source": [
    "На всякий случай переименовал новый датафрейм в orders и проверил значения. Все точно так же, как и писал ранее, только график количества заказов не показывает 1 у всех, а прецентили стали 95% = 1.5 заказа, 99% - 3 заказа. В остальном все +- так же, поэтому оставим, как есть, но забьем память еще 2 переменными)"
   ]
  },
  {
   "cell_type": "code",
   "execution_count": 13,
   "metadata": {
    "scrolled": true
   },
   "outputs": [
    {
     "data": {
      "text/plain": [
       "58"
      ]
     },
     "execution_count": 13,
     "metadata": {},
     "output_type": "execute_result"
    }
   ],
   "source": [
    "(orders.groupby('visitorId')['group'].nunique() == 2).sum() #Считаем количество пользователей, находящихся в 2 группах"
   ]
  },
  {
   "cell_type": "markdown",
   "metadata": {},
   "source": [
    "####  Кумулятивная выручка по группам"
   ]
  },
  {
   "cell_type": "code",
   "execution_count": 14,
   "metadata": {
    "scrolled": false
   },
   "outputs": [
    {
     "name": "stdout",
     "output_type": "stream",
     "text": [
      "         date group  transactions  buyers  revenue  visitors\n",
      "0  2019-08-01  A     24            20      148579   719     \n",
      "1  2019-08-01  B     21            20      101217   713     \n",
      "2  2019-08-02  A     44            38      242401   1338    \n",
      "3  2019-08-02  B     45            43      266748   1294    \n",
      "4  2019-08-03  A     68            62      354874   1845    \n"
     ]
    }
   ],
   "source": [
    "# создаем массив уникальных пар значений дат и групп теста\n",
    "datesGroups = orders[['date','group']].drop_duplicates()\n",
    "\n",
    "# получаем агрегированные кумулятивные по дням данные о заказах \n",
    "ordersAggregated = datesGroups.apply(\n",
    "    lambda x: orders[np.logical_and(orders['date'] <= x['date'], orders['group'] == x['group'])]\n",
    "    .agg({'date' : 'max', 'group' : 'max', 'transactionId' : 'nunique', 'visitorId' : 'nunique', 'revenue' : 'sum'}),\n",
    "    axis=1).sort_values(by=['date','group']\n",
    ")\n",
    "\n",
    "# получаем агрегированные кумулятивные по дням данные о посетителях интернет-магазина \n",
    "visitorsAggregated = datesGroups.apply(\n",
    "    lambda x: visitors[np.logical_and(visitors['date'] <= x['date'], visitors['group'] == x['group'])]\n",
    "    .agg({'date' : 'max', 'group' : 'max', 'visitors' : 'sum'}), axis=1).sort_values(by=['date','group']\n",
    ")\n",
    "\n",
    "# объединяем кумулятивные данные в одной таблице и присваиваем ее столбцам названия\n",
    "cumulativeData = ordersAggregated.merge(visitorsAggregated, left_on=['date', 'group'], right_on=['date', 'group'])\n",
    "cumulativeData.columns = ['date', 'group', 'transactions', 'buyers', 'revenue', 'visitors']\n",
    "\n",
    "print(cumulativeData.head(5))"
   ]
  },
  {
   "cell_type": "code",
   "execution_count": 15,
   "metadata": {
    "scrolled": false
   },
   "outputs": [
    {
     "data": {
      "image/png": "[encoded data removed]",
      "text/plain": [
       "<Figure size 1152x720 with 1 Axes>"
      ]
     },
     "metadata": {
      "needs_background": "light"
     },
     "output_type": "display_data"
    }
   ],
   "source": [
    "# датафрейм с кумулятивным количеством заказов и кумулятивной выручкой по дням в группе А\n",
    "cumulativeRevenueA = cumulativeData[cumulativeData['group']=='A'][['date','revenue', 'transactions', 'visitors']]\n",
    "\n",
    "# датафрейм с кумулятивным количеством заказов и кумулятивной выручкой по дням в группе B\n",
    "cumulativeRevenueB = cumulativeData[cumulativeData['group']=='B'][['date','revenue', 'transactions', 'visitors']]\n",
    "\n",
    "plt.rcParams[\"figure.figsize\"] = (16,10) # Установим размер графиков по умолчанию\n",
    "\n",
    "plt.plot(cumulativeRevenueA['date'], cumulativeRevenueA['revenue'], label='A') # Строим график выручки группы А\n",
    "\n",
    "plt.plot(cumulativeRevenueB['date'], cumulativeRevenueB['revenue'], label='B') # Строим график выручки группы B\n",
    "\n",
    "plt.title(\"Кумулятивная выручка по группам\")\n",
    "plt.xlabel(\"Дата\")\n",
    "plt.ylabel(\"Выручка\")\n",
    "\n",
    "plt.xticks(Rotation = -30) #Повернем подписи оси x под 30 градусов, чтобы они не сливались\n",
    "plt.legend();"
   ]
  },
  {
   "cell_type": "markdown",
   "metadata": {},
   "source": [
    "Заметно, что накопленная выручка группы B уверенно лидирует с отрывом практически с самого начала A/B теста, но стоит понимать, что пока что мы анализируем сырые данные(без анализа аномалий и прочего), поэтому не стоит полностью полагаться на этот вывод.\n",
    "\n",
    "Помимо этого, заметно резкое увеличение выручки группы B с 19 по 20 августа 2019"
   ]
  },
  {
   "cell_type": "markdown",
   "metadata": {},
   "source": [
    "####  Кумулятивный средний чек по группам"
   ]
  },
  {
   "cell_type": "code",
   "execution_count": 16,
   "metadata": {},
   "outputs": [
    {
     "data": {
      "image/png": "[encoded data removed]",
      "text/plain": [
       "<Figure size 1152x720 with 1 Axes>"
      ]
     },
     "metadata": {
      "needs_background": "light"
     },
     "output_type": "display_data"
    }
   ],
   "source": [
    "plt.plot(cumulativeRevenueA['date'], cumulativeRevenueA['revenue']/cumulativeRevenueA['transactions'], label='A')\n",
    "plt.plot(cumulativeRevenueB['date'], cumulativeRevenueB['revenue']/cumulativeRevenueB['transactions'], label='B')\n",
    "\n",
    "plt.title(\"Кумулятивный средний чек по группам\")\n",
    "plt.xlabel(\"Дата\")\n",
    "plt.ylabel(\"Средний чек\")\n",
    "\n",
    "plt.xticks(Rotation = -30)\n",
    "plt.legend();"
   ]
  },
  {
   "cell_type": "markdown",
   "metadata": {},
   "source": [
    "Видим, что изначально(первый день) группа B сильно отставала, но после этого обогнала по среднему чеку группу A. В какой-то период группа A начала расти, дошла до своего максимума по средним чекам и перегнала группу B.\n",
    "\n",
    "Здесь было бы интересно поизучать, почему в начале графика мы видим практически симметричное падение вниз и последующий рост(для группы A падение 2019-08-06, для B - 2019-08-07), почему группа A достигла своего максимума по средним чекам в середине A/B теста(2019-08-11 - 2019-08-15 - резкий рост и последующее падение) и держалась дальше относительно стабильно (в это же время у группы B упал средний чек) и почему у группы B наблюдается такой аномальный рост среднего чека(2019-08-19 - 2019-08-20), который потом снижается. Судя по резкому росту, произошла какая-то маркетинговая акция или что-то подобное, что, по идее, не должно происходить в А/В тесте\n",
    "\n",
    "Но опять же, здесь мы смотрим данные по необработанным данным, поэтому пока что просто запоминаем, что заметили"
   ]
  },
  {
   "cell_type": "markdown",
   "metadata": {},
   "source": [
    "#### Относительное изменение кумулятивного среднего чека группы B к A"
   ]
  },
  {
   "cell_type": "code",
   "execution_count": 17,
   "metadata": {},
   "outputs": [
    {
     "data": {
      "image/png": "[encoded data removed]",
      "text/plain": [
       "<Figure size 1152x720 with 1 Axes>"
      ]
     },
     "metadata": {
      "needs_background": "light"
     },
     "output_type": "display_data"
    }
   ],
   "source": [
    "# собираем данные в одном датафрейме\n",
    "mergedCumulativeRevenue = cumulativeRevenueA.merge(cumulativeRevenueB, left_on='date', \n",
    "                                                   right_on='date', how='left', suffixes=['A', 'B'])\n",
    "\n",
    "# cтроим отношение средних чеков\n",
    "plt.plot(mergedCumulativeRevenue['date'], \n",
    "         (mergedCumulativeRevenue['revenueB']/mergedCumulativeRevenue['transactionsB']) /\n",
    "         (mergedCumulativeRevenue['revenueA']/mergedCumulativeRevenue['transactionsA'])-1\n",
    "        )\n",
    "\n",
    "plt.title(\"Относительное изменение кумулятивного среднего чека группы B к A\")\n",
    "plt.xlabel(\"Дата\")\n",
    "plt.ylabel(\"Относительное изменение\")\n",
    "\n",
    "plt.xticks(Rotation = -30)\n",
    "\n",
    "plt.axhline(y=0, color='orange', linestyle='--'); # добавляем ось X"
   ]
  },
  {
   "cell_type": "markdown",
   "metadata": {},
   "source": [
    "Здесь мы видим, что первый день кумулятивный средний чек группы B был ниже группы A, но потом догнал и перегнал ее. Опять же, замечаем, что в кумулятивный чек группы B резко падает (2019-08-05 -- 2019-08-6; 2019-08-12 -- 2019-08-16), но потом вновь растет, причем, так же резко, как и падал(2019-08-20 - 2019-08-21)"
   ]
  },
  {
   "cell_type": "markdown",
   "metadata": {},
   "source": [
    "#### Кумулятивное среднее количества заказов по группам"
   ]
  },
  {
   "cell_type": "code",
   "execution_count": 18,
   "metadata": {},
   "outputs": [
    {
     "data": {
      "image/png": "[encoded data removed]",
      "text/plain": [
       "<Figure size 1152x720 with 1 Axes>"
      ]
     },
     "metadata": {
      "needs_background": "light"
     },
     "output_type": "display_data"
    }
   ],
   "source": [
    "plt.plot(cumulativeRevenueA['date'], cumulativeRevenueA['transactions'] / cumulativeRevenueA['visitors'] , label='A')\n",
    "plt.plot(cumulativeRevenueB['date'], cumulativeRevenueB['transactions'] / cumulativeRevenueB['visitors'], label='B')\n",
    "\n",
    "plt.title(\"Кумулятивное среднее количества заказов по группам\")\n",
    "plt.xlabel(\"Дата\")\n",
    "plt.ylabel(\"Кумулятивное среднее\")\n",
    "plt.xticks(Rotation = -30)\n",
    "plt.legend();"
   ]
  },
  {
   "cell_type": "markdown",
   "metadata": {},
   "source": [
    "Количество заказов в группе B больше. В начале заметен резкий рост у обеих групп, но далее группа A постепенно снижает количество заказов, тогда как группа B держится на высоком уровне"
   ]
  },
  {
   "cell_type": "markdown",
   "metadata": {},
   "source": [
    "#### Относительное изменение кумулятивного среднего количества заказов группы B к A"
   ]
  },
  {
   "cell_type": "code",
   "execution_count": 19,
   "metadata": {},
   "outputs": [
    {
     "data": {
      "image/png": "[encoded data removed]",
      "text/plain": [
       "<Figure size 1152x720 with 1 Axes>"
      ]
     },
     "metadata": {
      "needs_background": "light"
     },
     "output_type": "display_data"
    }
   ],
   "source": [
    "plt.plot(mergedCumulativeRevenue['date'], mergedCumulativeRevenue['transactionsB']/mergedCumulativeRevenue['transactionsA']-1)\n",
    "\n",
    "plt.title(\"Относительное изменение кумулятивного среднего количества заказов группы B к A\")\n",
    "plt.xlabel(\"Дата\")\n",
    "plt.ylabel(\"Относительное изменение\")\n",
    "plt.xticks(Rotation = -30)\n",
    "plt.axhline(y=0, color='orange', linestyle='--');"
   ]
  },
  {
   "cell_type": "markdown",
   "metadata": {},
   "source": [
    "Видим, что со старта A/B теста и до 2019-08-07 кумулятивное среднее количества заказов группы B находится ниже группы A(за исключением 2019-08-03),  а потом плавно растет и, дойдя до максимума, гораздо более плавно снижается.\n",
    "\n",
    "Здесь стоит отметить первые пару дней графика, в частности, непонятно, почему так резко росло кумулятивное среднее количество заказов, а потом так же резко падало, в остальном график выглядит естественно. Скорее всего, после обработки данных и удаления аномалий мы избавимся от этого"
   ]
  },
  {
   "cell_type": "markdown",
   "metadata": {},
   "source": [
    "#### График количества заказов по пользователям"
   ]
  },
  {
   "cell_type": "code",
   "execution_count": 20,
   "metadata": {},
   "outputs": [
    {
     "data": {
      "image/png": "[encoded data removed]",
      "text/plain": [
       "<Figure size 1152x720 with 1 Axes>"
      ]
     },
     "metadata": {
      "needs_background": "light"
     },
     "output_type": "display_data"
    }
   ],
   "source": [
    "transactions = (\n",
    "    orders.groupby('visitorId', as_index=False)\n",
    "    .agg({'transactionId': 'nunique'})\n",
    ")\n",
    "transactions.columns = ['visitors', 'transactions']\n",
    "x_values = pd.Series(range(0,len(transactions))) #Сгенерированные номера наблюдений\n",
    "\n",
    "plt.scatter(x_values, transactions['transactions'])\n",
    "plt.title(\"Количество заказов по пользователям\")\n",
    "plt.xlabel(\"Номера наблюдений\")\n",
    "plt.ylabel(\"Количество заказов\");"
   ]
  },
  {
   "cell_type": "markdown",
   "metadata": {},
   "source": [
    "Предварительно делаем вывод, что к аномальным пользователям можно отнести людей, совершивших 4 и более покупки, но надо это дело подтвердить статически.\n",
    "\n",
    "Но прежде, чем это сделать, построим аналогичный график для стоимости заказа, чтобы потом все расчеты(целых 2 строчки кода, между прочим(!), объединить в 1 пункт)"
   ]
  },
  {
   "cell_type": "code",
   "execution_count": 21,
   "metadata": {
    "scrolled": false
   },
   "outputs": [
    {
     "data": {
      "image/png": "[encoded data removed]",
      "text/plain": [
       "<Figure size 1152x720 with 1 Axes>"
      ]
     },
     "metadata": {
      "needs_background": "light"
     },
     "output_type": "display_data"
    }
   ],
   "source": [
    "x_values = pd.Series(range(0,len(orders['revenue'])))\n",
    "plt.scatter(x_values, orders['revenue'])\n",
    "plt.title(\"Стоимость заказов по пользователям\")\n",
    "plt.xlabel(\"Номера наблюдений\")\n",
    "plt.ylabel(\"Стоимость заказов\");"
   ]
  },
  {
   "cell_type": "markdown",
   "metadata": {},
   "source": [
    "Видим 1 ярко выраженную аномалию стоимостью более 1.2млн у.е.. Общая масса заказов не превышает(визуально, расчеты - ниже) 50к у.е."
   ]
  },
  {
   "cell_type": "markdown",
   "metadata": {},
   "source": [
    "#### Подсчет перцентилей"
   ]
  },
  {
   "cell_type": "code",
   "execution_count": 22,
   "metadata": {},
   "outputs": [
    {
     "name": "stdout",
     "output_type": "stream",
     "text": [
      "[2. 4.]\n"
     ]
    }
   ],
   "source": [
    "print(np.percentile(transactions['transactions'], [95, 99])) "
   ]
  },
  {
   "cell_type": "markdown",
   "metadata": {},
   "source": [
    "Видим, что не более 5% пользователей оформляли больше 3 заказов, не более 1 процента - более 4"
   ]
  },
  {
   "cell_type": "code",
   "execution_count": 23,
   "metadata": {},
   "outputs": [
    {
     "name": "stdout",
     "output_type": "stream",
     "text": [
      "[28000.  58233.2]\n"
     ]
    }
   ],
   "source": [
    "print(np.percentile(orders['revenue'], [95, 99])) "
   ]
  },
  {
   "cell_type": "markdown",
   "metadata": {},
   "source": [
    "Не более 5% пользователей оформляли заказы дороже 28000 у.е., не более 1 процента - более 58233 у.е."
   ]
  },
  {
   "cell_type": "markdown",
   "metadata": {},
   "source": [
    "**Вывод:** считаем аномальными пользователей, совершивших более 3 покупок и оформивших заказы дороже 28000 у.е."
   ]
  },
  {
   "cell_type": "markdown",
   "metadata": {},
   "source": [
    "### Подсчет статистической значимости"
   ]
  },
  {
   "cell_type": "markdown",
   "metadata": {},
   "source": [
    "#### Статистическая значимость различий в среднем количестве заказов между группами по «сырым» данным"
   ]
  },
  {
   "cell_type": "markdown",
   "metadata": {},
   "source": [
    "Здесь мы будем применять критерий Манна-Уитни для проверки наличия статистической значимых различий между \"сырыми\" и очищенными данными. Сначала мы выполним подготовительные действия(создадим датафреймы и укажем для пользователей их количество заказов) и проведем саму проверку\n",
    "\n",
    "Статистическая значимость будет стандартной - 0.05, так как какой-либо повышенной точности не требуется\n",
    "\n",
    "Гипотезы таковы: **Нулевая гипотеза** - статистически значимых различий между группами нет, **Альтернативная гипотеза** - статистически значимые различия между группами есть"
   ]
  },
  {
   "cell_type": "markdown",
   "metadata": {},
   "source": [
    "Для того, чтобы сформировать датафрейм с критериями, описанными выше, требуется сделать следующие действия:"
   ]
  },
  {
   "cell_type": "code",
   "execution_count": 24,
   "metadata": {
    "scrolled": false
   },
   "outputs": [
    {
     "name": "stdout",
     "output_type": "stream",
     "text": [
      "         date  transactionsPerDateA  revenuePerDateA  transactionsPerDateB  \\\n",
      "0  2019-08-01  24                    148579           21                     \n",
      "1  2019-08-02  20                    93822            24                     \n",
      "2  2019-08-03  24                    112473           16                     \n",
      "3  2019-08-04  16                    70825            17                     \n",
      "4  2019-08-05  25                    124218           23                     \n",
      "\n",
      "   revenuePerDateB  transactionsCummulativeA  revenueCummulativeA  \\\n",
      "0  101217           24                        148579                \n",
      "1  165531           44                        242401                \n",
      "2  114248           68                        354874                \n",
      "3  108571           84                        425699                \n",
      "4  92428            109                       549917                \n",
      "\n",
      "   transactionsCummulativeB  revenueCummulativeB  visitorsPerDateA  \\\n",
      "0  21                        101217               719                \n",
      "1  45                        266748               619                \n",
      "2  61                        380996               507                \n",
      "3  78                        489567               717                \n",
      "4  101                       581995               756                \n",
      "\n",
      "   visitorsPerDateB  visitorsCummulativeA  visitorsCummulativeB  \n",
      "0  713               719                   713                   \n",
      "1  581               1338                  1294                  \n",
      "2  509               1845                  1803                  \n",
      "3  770               2562                  2573                  \n",
      "4  707               3318                  3280                  \n"
     ]
    }
   ],
   "source": [
    "visitorsADaily = visitors[visitors['group'] == 'A'][['date', 'visitors']]   #Посещение группой А в день\n",
    "visitorsADaily.columns = ['date', 'visitorsPerDateA']\n",
    "\n",
    "visitorsACummulative = visitorsADaily.apply(                                #Кумулятивное посещение группой А\n",
    "    lambda x: visitorsADaily[visitorsADaily['date'] <= x['date']].agg(\n",
    "        {'date': 'max', 'visitorsPerDateA': 'sum'}\n",
    "    ),\n",
    "    axis=1,\n",
    ")\n",
    "visitorsACummulative.columns = ['date', 'visitorsCummulativeA']\n",
    "\n",
    "visitorsBDaily = visitors[visitors['group'] == 'B'][['date', 'visitors']]     #Посещение группой B в день\n",
    "visitorsBDaily.columns = ['date', 'visitorsPerDateB']\n",
    "\n",
    "visitorsBCummulative = visitorsBDaily.apply(                                  #Кумулятивное посещение группой B\n",
    "    lambda x: visitorsBDaily[visitorsBDaily['date'] <= x['date']].agg(\n",
    "        {'date': 'max', 'visitorsPerDateB': 'sum'}\n",
    "    ),\n",
    "    axis=1,\n",
    ")\n",
    "visitorsBCummulative.columns = ['date', 'visitorsCummulativeB']\n",
    "\n",
    "ordersADaily = (                                                               # Количество заказов в день группой A\n",
    "    orders[orders['group'] == 'A'][['date', 'transactionId', 'visitorId', 'revenue']]\n",
    "    .groupby('date', as_index=False)\n",
    "    .agg({'transactionId': pd.Series.nunique, 'revenue': 'sum'})\n",
    ")\n",
    "ordersADaily.columns = ['date', 'transactionsPerDateA', 'revenuePerDateA']\n",
    "\n",
    "ordersACummulative = ordersADaily.apply(                                       #Накопительное количество заказов группой А\n",
    "    lambda x: ordersADaily[ordersADaily['date'] <= x['date']].agg(\n",
    "        {'date': 'max', 'transactionsPerDateA': 'sum', 'revenuePerDateA': 'sum'}\n",
    "    ),\n",
    "    axis=1,\n",
    ").sort_values(by=['date'])\n",
    "ordersACummulative.columns = ['date', 'transactionsCummulativeA', 'revenueCummulativeA']\n",
    "\n",
    "ordersBDaily = (                                                               # Количество заказов в день группой B\n",
    "    orders[orders['group'] == 'B'][['date', 'transactionId', 'visitorId', 'revenue']]\n",
    "    .groupby('date', as_index=False)\n",
    "    .agg({'transactionId': pd.Series.nunique, 'revenue': 'sum'})\n",
    ")\n",
    "ordersBDaily.columns = ['date', 'transactionsPerDateB', 'revenuePerDateB']\n",
    "\n",
    "ordersBCummulative = ordersBDaily.apply(                                       #Накопительное количество заказов группой В\n",
    "    lambda x: ordersBDaily[ordersBDaily['date'] <= x['date']].agg(\n",
    "        {'date': 'max', 'transactionsPerDateB': 'sum', 'revenuePerDateB': 'sum'}\n",
    "    ),\n",
    "    axis=1,\n",
    ").sort_values(by=['date'])\n",
    "ordersBCummulative.columns = ['date', 'transactionsCummulativeB', 'revenueCummulativeB']\n",
    "\n",
    "data = (                                                                       #Получившийся датафрейм\n",
    "    ordersADaily.merge(\n",
    "        ordersBDaily, left_on='date', right_on='date', how='left'\n",
    "    )\n",
    "    .merge(ordersACummulative, left_on='date', right_on='date', how='left')\n",
    "    .merge(ordersBCummulative, left_on='date', right_on='date', how='left')\n",
    "    .merge(visitorsADaily, left_on='date', right_on='date', how='left')\n",
    "    .merge(visitorsBDaily, left_on='date', right_on='date', how='left')\n",
    "    .merge(visitorsACummulative, left_on='date', right_on='date', how='left')\n",
    "    .merge(visitorsBCummulative, left_on='date', right_on='date', how='left')\n",
    ")\n",
    "\n",
    "print(data.head(5))"
   ]
  },
  {
   "cell_type": "markdown",
   "metadata": {},
   "source": [
    "Получили датафрейм, теперь для того, чтобы создать условия для отсечения аномальных пользователей, необходимо создать датафреймы для определения количества заказов у пользователей"
   ]
  },
  {
   "cell_type": "code",
   "execution_count": 25,
   "metadata": {},
   "outputs": [],
   "source": [
    "ordersByUsersA = (                                       #Указываем количество заказов для пользователей группы А\n",
    "    orders[orders['group'] == 'A']\n",
    "    .groupby('visitorId', as_index=False)\n",
    "    .agg({'transactionId': pd.Series.nunique})\n",
    ")\n",
    "ordersByUsersA.columns = ['visitorId', 'transactions']\n",
    "\n",
    "ordersByUsersB = (                                       #Указываем количество заказов для пользователей группы В\n",
    "    orders[orders['group'] == 'B']\n",
    "    .groupby('visitorId', as_index=False)\n",
    "    .agg({'transactionId': pd.Series.nunique})\n",
    ")\n",
    "ordersByUsersB.columns = ['visitorId', 'transactions']"
   ]
  },
  {
   "cell_type": "markdown",
   "metadata": {},
   "source": [
    "Теперь объявляем переменные 'sampleA' и 'sampleB', в которых пользователям из разных групп будет соответствовать количество заказов. Тем, кто ничего не заказал, будут соответствовать нули. Это необходимо для подготовки выборок к проверке критерием Манна-Уитни."
   ]
  },
  {
   "cell_type": "code",
   "execution_count": 26,
   "metadata": {},
   "outputs": [],
   "source": [
    "sampleA = pd.concat(\n",
    "    [\n",
    "        ordersByUsersA['transactions'],\n",
    "        pd.Series(0, index=np.arange(data['visitorsPerDateA'].sum() - len(ordersByUsersA['transactions'])),\n",
    "                  name='transactions')\n",
    "    ],axis=0\n",
    ")\n",
    "\n",
    "sampleB = pd.concat(\n",
    "    [\n",
    "        ordersByUsersB['transactions'],\n",
    "        pd.Series(0, index=np.arange(data['visitorsPerDateB'].sum() - len(ordersByUsersB['transactions'])),\n",
    "                  name='transactions')\n",
    "    ],axis=0\n",
    ")"
   ]
  },
  {
   "cell_type": "code",
   "execution_count": 27,
   "metadata": {},
   "outputs": [
    {
     "name": "stdout",
     "output_type": "stream",
     "text": [
      "0.017\n",
      "0.138\n"
     ]
    }
   ],
   "source": [
    "print(\"{0:.3f}\".format(stats.mannwhitneyu(sampleA, sampleB)[1])) #Применяем критерий Манна-Уитни\n",
    "\n",
    "print(\"{0:.3f}\".format(sampleB.mean() / sampleA.mean() - 1))"
   ]
  },
  {
   "cell_type": "markdown",
   "metadata": {},
   "source": [
    "**Вывод:** По «сырым» данным различия в среднем количестве заказов групп A и B есть.\n",
    "\n",
    "Первое число — p-value = 0.017 - меньше 0.05. Значит, нулевую гипотезу о том, что статистически значимых различий в среднем числе заказов между группами нет, отвергаем. Стоит заметить, что на графиках это было заметно.\n",
    "\n",
    "Относительный выигрыш группы B равен 13,8% — второе число в выводе."
   ]
  },
  {
   "cell_type": "markdown",
   "metadata": {},
   "source": [
    "#### Статистическая значимость различий в среднем количестве заказов между группами по «сырым» данным"
   ]
  },
  {
   "cell_type": "markdown",
   "metadata": {},
   "source": [
    "Так как данные уже подготовлены, просто выберем нужные нам значения для проверки и получим необходимые данные для расчета"
   ]
  },
  {
   "cell_type": "code",
   "execution_count": 28,
   "metadata": {},
   "outputs": [
    {
     "name": "stdout",
     "output_type": "stream",
     "text": [
      "0.729\n",
      "0.259\n"
     ]
    }
   ],
   "source": [
    "print('{0:.3f}'.format(stats.mannwhitneyu(orders[orders['group']=='A']['revenue'], orders[orders['group']=='B']['revenue'])[1]))\n",
    "print('{0:.3f}'.format(orders[orders['group']=='B']['revenue'].mean()/orders[orders['group']=='A']['revenue'].mean()-1))"
   ]
  },
  {
   "cell_type": "markdown",
   "metadata": {},
   "source": [
    "**Вывод:** По «сырым» данным различий в среднем количестве заказов групп A и B нет.\n",
    "\n",
    "p-value = 0.729 (больше 0.05), значит, нулевую гипотезу о том, что статистически значимых различий в среднем количестве заказов между группами нет, не отвергаем. Относительный выигрыш группы B равен 25,9%."
   ]
  },
  {
   "cell_type": "markdown",
   "metadata": {},
   "source": [
    "### \"Очистка\" данных и их последующий анализ"
   ]
  },
  {
   "cell_type": "markdown",
   "metadata": {},
   "source": [
    "Ранее мы определили границы для отсекания аномальных пользователей - более 2 заказов или сумма заказа более 28000. Сформируем датафрейм для таких пользователей и подсчитаем их количество:"
   ]
  },
  {
   "cell_type": "code",
   "execution_count": 29,
   "metadata": {
    "scrolled": true
   },
   "outputs": [
    {
     "name": "stdout",
     "output_type": "stream",
     "text": [
      "1099    148427295\n",
      "18      199603092\n",
      "928     204675465\n",
      "23      237748145\n",
      "37      249864742\n",
      "Name: visitorId, dtype: int64\n",
      "74\n"
     ]
    }
   ],
   "source": [
    "usersWithManyOrders = pd.concat(\n",
    "    [\n",
    "        ordersByUsersA[ordersByUsersA['transactions'] > 2]['visitorId'],\n",
    "        ordersByUsersB[ordersByUsersB['transactions'] > 2]['visitorId'],\n",
    "    ],\n",
    "    axis=0,\n",
    ")\n",
    "usersWithExpensiveOrders = orders[orders['revenue'] > 28000]['visitorId']\n",
    "abnormalUsers = (\n",
    "    pd.concat([usersWithManyOrders, usersWithExpensiveOrders], axis=0)\n",
    "    .drop_duplicates()\n",
    "    .sort_values()\n",
    ")\n",
    "print(abnormalUsers.head(5))  #Выведем 5 верхних строчек датафрейма для понимания, что все работает корректно\n",
    "print(abnormalUsers.shape[0]) #Количество аномальных пользователей"
   ]
  },
  {
   "cell_type": "markdown",
   "metadata": {},
   "source": [
    "Теперь посмотрим, как отфильтрованные данные повлияли на результаты исследования. Создаем новые переменные, где не будут учитываться аномальные пользователи, для последующего анализа"
   ]
  },
  {
   "cell_type": "code",
   "execution_count": 30,
   "metadata": {},
   "outputs": [],
   "source": [
    "sampleAFiltered = pd.concat(\n",
    "    [\n",
    "        ordersByUsersA[\n",
    "            np.logical_not(ordersByUsersA['visitorId'].isin(abnormalUsers))\n",
    "        ]['transactions'],\n",
    "        pd.Series(\n",
    "            0,\n",
    "            index=np.arange(\n",
    "                data['visitorsPerDateA'].sum() - len(ordersByUsersA['transactions'])\n",
    "            ),\n",
    "            name='transactions',\n",
    "        ),\n",
    "    ],\n",
    "    axis=0,\n",
    ")\n",
    "\n",
    "sampleBFiltered = pd.concat(\n",
    "    [\n",
    "        ordersByUsersB[\n",
    "            np.logical_not(ordersByUsersB['visitorId'].isin(abnormalUsers))\n",
    "        ]['transactions'],\n",
    "        pd.Series(\n",
    "            0,\n",
    "            index=np.arange(\n",
    "                data['visitorsPerDateB'].sum() - len(ordersByUsersB['transactions'])\n",
    "            ),\n",
    "            name='transactions',\n",
    "        ),\n",
    "    ],\n",
    "    axis=0,\n",
    ")"
   ]
  },
  {
   "cell_type": "markdown",
   "metadata": {},
   "source": [
    "#### Статистическая значимость различий в среднем количестве заказов между группами по «очищенным» данным"
   ]
  },
  {
   "cell_type": "code",
   "execution_count": 31,
   "metadata": {},
   "outputs": [
    {
     "name": "stdout",
     "output_type": "stream",
     "text": [
      "0.013\n",
      "0.173\n"
     ]
    }
   ],
   "source": [
    "print('{0:.3f}'.format(stats.mannwhitneyu(sampleAFiltered, sampleBFiltered)[1]))\n",
    "print('{0:.3f}'.format(sampleBFiltered.mean()/sampleAFiltered.mean()-1))"
   ]
  },
  {
   "cell_type": "markdown",
   "metadata": {},
   "source": [
    "**Вывод:** По очищенным данным различия в среднем числе заказов групп A и B есть.\n",
    "\n",
    "p-value = 0.013 (меньше 0.05), значит, нулевую гипотезу о том, что статистически значимых различий в среднем количестве заказов между группами нет, отвергаем. Относительный выигрыш группы B равен 17,3%.\n",
    "\n",
    "Разница до и после очистки данных небольшая - p-value уменьшился на 0.004, относительный выигрыш вырос на 3,5%"
   ]
  },
  {
   "cell_type": "markdown",
   "metadata": {},
   "source": [
    "#### Статистическая значимость различий в среднем чеке заказа между группами по «очищенным» данным"
   ]
  },
  {
   "cell_type": "code",
   "execution_count": 32,
   "metadata": {},
   "outputs": [
    {
     "name": "stdout",
     "output_type": "stream",
     "text": [
      "0.738\n",
      "-0.020\n"
     ]
    }
   ],
   "source": [
    "print(                                                        #Аналогично предыдущей клетке кода, но здесь играем в лесенку\n",
    "    '{0:.3f}'.format(\n",
    "        stats.mannwhitneyu(\n",
    "            orders[\n",
    "                np.logical_and(\n",
    "                    orders['group'] == 'A',\n",
    "                    np.logical_not(orders['visitorId'].isin(abnormalUsers)),\n",
    "                )\n",
    "            ]['revenue'],\n",
    "            orders[\n",
    "                np.logical_and(\n",
    "                    orders['group'] == 'B',\n",
    "                    np.logical_not(orders['visitorId'].isin(abnormalUsers)),\n",
    "                )\n",
    "            ]['revenue'],\n",
    "        )[1]\n",
    "    )\n",
    ")\n",
    "\n",
    "print(\n",
    "    \"{0:.3f}\".format(\n",
    "        orders[\n",
    "            np.logical_and(\n",
    "                orders['group'] == 'B',\n",
    "                np.logical_not(orders['visitorId'].isin(abnormalUsers)),\n",
    "            )\n",
    "        ]['revenue'].mean()\n",
    "        / orders[\n",
    "            np.logical_and(\n",
    "                orders['group'] == 'A',\n",
    "                np.logical_not(orders['visitorId'].isin(abnormalUsers)),\n",
    "            )\n",
    "        ]['revenue'].mean()\n",
    "        - 1\n",
    "    )\n",
    ")"
   ]
  },
  {
   "cell_type": "markdown",
   "metadata": {},
   "source": [
    "**Вывод:** По очищенным данным различий в среднем количестве заказов групп A и B нет.\n",
    "\n",
    "p-value = 0.738 (был 0.729) (естественно, больше 0.05), значит, нулевую гипотезу о том, что статистически значимых различий в среднем количестве заказов между группами нет, не отвергаем. Здесь впервые появляется относительный проигрыш у группы B на 2% (упал на 27,9% после очистки данных)"
   ]
  },
  {
   "cell_type": "markdown",
   "metadata": {},
   "source": [
    "## Общий вывод"
   ]
  },
  {
   "cell_type": "markdown",
   "metadata": {},
   "source": [
    "Было выдвинуто 9 гипотез, после чего были использованы фреймворки 'ICE' и 'RICE' для их приоретизации. Так как метод 'RICE' позволяет анализировать большее количество параметров, мы руководствовались им и выбрали наиболее эффективную гипотезу под номером 7 - \"Добавить форму подписки на все основные страницы, чтобы собрать базу клиентов для email-рассылок\""
   ]
  },
  {
   "cell_type": "markdown",
   "metadata": {},
   "source": [
    "Во время исследования было выявлено, что порядка 5% пользователей находились в обеих группах во время A/B теста. Так как количество таких пользователей небольшое, было решено оставить данные, как есть. Но, так как так не должно быть, следует проанализировать логику теста и выявить причины, по которым подобное произошло. \n",
    "\n",
    "По результатам исследования был сделан следующий вывод: **A/B тест стоит прекратить** и вот почему:\n",
    "\n",
    "1. Практически с самого старта виден явный отрыв группы B от группы A по всем показателям\n",
    "2. Есть статистически значимые различия по среднему количеству заказов между группами и по «сырым» данным, и по данным после фильтрации аномалий\n",
    "3. Нет статистически значимого различия по среднему чеку между группами ни по «сырым» данным, ни по данным после фильтрации аномалий\n",
    "\n",
    "Если мы посмотрим на графики (пункт 2.1.1 и 2.1.2), то увидим аномально высокий рост показателей у группы B с 2019-08-20 по 2019-08-21. В процессе исследования были отобраны и исключены аномальные пользователи по критерию количества заказов и их стоимости. Была проведена проверка на очищенных и \"сырых\" данных, после чего стало понятно, что статистически значимых различий между очищенными и \"сырыми\" данными нет.\n",
    "\n",
    "Поэтому можно сделать **вывод**, что тест прошел **успешно** в пользу группы B, так как она показывает стабильную прибыль выше группы A и статистически значимое преимущество по количеству заказов.\n",
    "\n",
    "*Опять же, если говорить о датах, то в начале A/B теста мы можем увидеть (2.1.2), как сначала у группы B, а потом и у A пропорционально падает в моменте кумулятивный средний чек, но, так как мы видим одинаковое влияние на обе группы, то делаем вывод, что A/B не нарушается при данной ситуации, но надо понять, из-за чего так среагировали обе группы.*"
   ]
  }
 ],
 "metadata": {
  "ExecuteTimeLog": [
   {
    "duration": 430,
    "start_time": "2022-10-25T17:55:40.811Z"
   },
   {
    "duration": 76,
    "start_time": "2022-10-25T17:56:52.836Z"
   },
   {
    "duration": 25,
    "start_time": "2022-10-25T17:57:09.133Z"
   },
   {
    "duration": 17,
    "start_time": "2022-10-25T17:57:25.657Z"
   },
   {
    "duration": 8,
    "start_time": "2022-10-25T18:00:18.118Z"
   },
   {
    "duration": 14,
    "start_time": "2022-10-25T18:00:23.088Z"
   },
   {
    "duration": 72,
    "start_time": "2022-10-25T18:01:06.043Z"
   },
   {
    "duration": 83,
    "start_time": "2022-10-25T18:01:10.445Z"
   },
   {
    "duration": 10,
    "start_time": "2022-10-25T18:01:20.580Z"
   },
   {
    "duration": 16,
    "start_time": "2022-10-25T18:01:28.884Z"
   },
   {
    "duration": 13,
    "start_time": "2022-10-25T18:03:00.535Z"
   },
   {
    "duration": 12,
    "start_time": "2022-10-25T18:04:03.976Z"
   },
   {
    "duration": 143,
    "start_time": "2022-10-25T19:20:09.311Z"
   },
   {
    "duration": 13,
    "start_time": "2022-10-25T19:20:12.156Z"
   },
   {
    "duration": 10,
    "start_time": "2022-10-25T19:20:16.370Z"
   },
   {
    "duration": 340,
    "start_time": "2022-10-26T16:51:06.963Z"
   },
   {
    "duration": 69,
    "start_time": "2022-10-26T16:51:07.305Z"
   },
   {
    "duration": 13,
    "start_time": "2022-10-26T16:51:07.375Z"
   },
   {
    "duration": 11,
    "start_time": "2022-10-26T16:51:07.389Z"
   },
   {
    "duration": 10,
    "start_time": "2022-10-26T16:51:07.402Z"
   },
   {
    "duration": 131,
    "start_time": "2022-10-26T16:51:07.414Z"
   },
   {
    "duration": 10,
    "start_time": "2022-10-26T16:51:07.547Z"
   },
   {
    "duration": 11,
    "start_time": "2022-10-26T16:51:16.731Z"
   },
   {
    "duration": 9,
    "start_time": "2022-10-26T16:51:33.618Z"
   },
   {
    "duration": 9,
    "start_time": "2022-10-26T16:51:42.163Z"
   },
   {
    "duration": 63,
    "start_time": "2022-10-26T16:55:33.078Z"
   },
   {
    "duration": 6,
    "start_time": "2022-10-26T16:55:43.793Z"
   },
   {
    "duration": 11,
    "start_time": "2022-10-26T16:55:49.297Z"
   },
   {
    "duration": 18,
    "start_time": "2022-10-26T16:55:54.214Z"
   },
   {
    "duration": 6,
    "start_time": "2022-10-26T16:56:05.802Z"
   },
   {
    "duration": 6,
    "start_time": "2022-10-26T16:56:11.793Z"
   },
   {
    "duration": 5,
    "start_time": "2022-10-26T16:56:17.374Z"
   },
   {
    "duration": 5,
    "start_time": "2022-10-26T16:56:22.863Z"
   },
   {
    "duration": 8,
    "start_time": "2022-10-26T16:56:33.633Z"
   },
   {
    "duration": 9,
    "start_time": "2022-10-26T16:56:39.798Z"
   },
   {
    "duration": 19,
    "start_time": "2022-10-26T16:59:34.295Z"
   },
   {
    "duration": 387,
    "start_time": "2022-10-26T16:59:55.277Z"
   },
   {
    "duration": 42,
    "start_time": "2022-10-26T16:59:58.411Z"
   },
   {
    "duration": 178,
    "start_time": "2022-10-26T17:04:08.659Z"
   },
   {
    "duration": 160,
    "start_time": "2022-10-26T17:05:05.733Z"
   },
   {
    "duration": 71,
    "start_time": "2022-10-26T17:05:42.364Z"
   },
   {
    "duration": 11,
    "start_time": "2022-10-26T17:05:44.033Z"
   },
   {
    "duration": 12,
    "start_time": "2022-10-26T17:05:49.357Z"
   },
   {
    "duration": 279,
    "start_time": "2022-10-26T17:05:50.358Z"
   },
   {
    "duration": 249,
    "start_time": "2022-10-26T17:06:26.411Z"
   },
   {
    "duration": 242,
    "start_time": "2022-10-26T17:06:33.337Z"
   },
   {
    "duration": 13,
    "start_time": "2022-10-26T17:06:50.003Z"
   },
   {
    "duration": 267,
    "start_time": "2022-10-26T17:07:18.796Z"
   },
   {
    "duration": 241,
    "start_time": "2022-10-26T17:11:18.998Z"
   },
   {
    "duration": 188,
    "start_time": "2022-10-26T17:11:31.447Z"
   },
   {
    "duration": 259,
    "start_time": "2022-10-26T17:11:40.323Z"
   },
   {
    "duration": 237,
    "start_time": "2022-10-26T17:13:44.739Z"
   },
   {
    "duration": 277,
    "start_time": "2022-10-26T17:15:07.337Z"
   },
   {
    "duration": 256,
    "start_time": "2022-10-26T17:15:33.462Z"
   },
   {
    "duration": 293,
    "start_time": "2022-10-26T17:15:37.258Z"
   },
   {
    "duration": 282,
    "start_time": "2022-10-26T17:15:54.066Z"
   },
   {
    "duration": 322,
    "start_time": "2022-10-26T17:16:03.286Z"
   },
   {
    "duration": 1108,
    "start_time": "2022-10-26T17:22:53.913Z"
   },
   {
    "duration": 272,
    "start_time": "2022-10-26T17:23:14.241Z"
   },
   {
    "duration": 286,
    "start_time": "2022-10-26T17:29:52.333Z"
   },
   {
    "duration": 315,
    "start_time": "2022-10-26T17:29:56.898Z"
   },
   {
    "duration": 471,
    "start_time": "2022-10-26T17:44:40.496Z"
   },
   {
    "duration": 426,
    "start_time": "2022-10-26T17:45:03.207Z"
   },
   {
    "duration": 347,
    "start_time": "2022-10-26T17:45:13.053Z"
   },
   {
    "duration": 369,
    "start_time": "2022-10-26T17:46:32.885Z"
   },
   {
    "duration": 266,
    "start_time": "2022-10-26T17:46:41.506Z"
   },
   {
    "duration": 233,
    "start_time": "2022-10-26T17:46:45.691Z"
   },
   {
    "duration": 404,
    "start_time": "2022-10-26T17:46:50.320Z"
   },
   {
    "duration": 1146,
    "start_time": "2022-10-26T17:50:40.647Z"
   },
   {
    "duration": 1059,
    "start_time": "2022-10-26T17:53:47.916Z"
   },
   {
    "duration": 321,
    "start_time": "2022-10-26T17:56:30.952Z"
   },
   {
    "duration": 363,
    "start_time": "2022-10-26T18:16:01.144Z"
   },
   {
    "duration": 241,
    "start_time": "2022-10-26T18:16:37.353Z"
   },
   {
    "duration": 344,
    "start_time": "2022-10-26T18:16:43.069Z"
   },
   {
    "duration": 349,
    "start_time": "2022-10-26T18:36:47.372Z"
   },
   {
    "duration": 361,
    "start_time": "2022-10-26T18:36:55.964Z"
   },
   {
    "duration": 271,
    "start_time": "2022-10-26T18:37:24.208Z"
   },
   {
    "duration": 295,
    "start_time": "2022-10-26T18:37:46.087Z"
   },
   {
    "duration": 352,
    "start_time": "2022-10-26T19:49:43.545Z"
   },
   {
    "duration": 408,
    "start_time": "2022-10-26T19:49:56.014Z"
   },
   {
    "duration": 341,
    "start_time": "2022-10-26T19:52:02.943Z"
   },
   {
    "duration": 1088,
    "start_time": "2022-10-26T19:55:27.611Z"
   },
   {
    "duration": 1148,
    "start_time": "2022-10-26T20:00:12.430Z"
   },
   {
    "duration": 158,
    "start_time": "2022-10-26T20:00:42.489Z"
   },
   {
    "duration": 132,
    "start_time": "2022-10-26T20:00:58.452Z"
   },
   {
    "duration": 142,
    "start_time": "2022-10-26T20:01:03.343Z"
   },
   {
    "duration": 161,
    "start_time": "2022-10-26T20:01:57.194Z"
   },
   {
    "duration": 4,
    "start_time": "2022-10-26T20:04:42.732Z"
   },
   {
    "duration": 132,
    "start_time": "2022-10-26T20:08:15.359Z"
   },
   {
    "duration": 162,
    "start_time": "2022-10-26T20:09:27.733Z"
   },
   {
    "duration": 7,
    "start_time": "2022-10-26T20:12:42.095Z"
   },
   {
    "duration": 4,
    "start_time": "2022-10-26T20:12:45.951Z"
   },
   {
    "duration": 1053,
    "start_time": "2022-10-26T20:14:36.104Z"
   },
   {
    "duration": 139,
    "start_time": "2022-10-26T20:14:46.570Z"
   },
   {
    "duration": 4,
    "start_time": "2022-10-26T20:14:54.230Z"
   },
   {
    "duration": 5,
    "start_time": "2022-10-26T20:14:57.339Z"
   },
   {
    "duration": 4,
    "start_time": "2022-10-26T20:15:02.937Z"
   },
   {
    "duration": 745,
    "start_time": "2022-10-27T13:49:57.724Z"
   },
   {
    "duration": 60,
    "start_time": "2022-10-27T13:49:58.471Z"
   },
   {
    "duration": 11,
    "start_time": "2022-10-27T13:49:58.532Z"
   },
   {
    "duration": 11,
    "start_time": "2022-10-27T13:49:58.545Z"
   },
   {
    "duration": 34,
    "start_time": "2022-10-27T13:49:58.558Z"
   },
   {
    "duration": 161,
    "start_time": "2022-10-27T13:49:58.593Z"
   },
   {
    "duration": 12,
    "start_time": "2022-10-27T13:49:58.755Z"
   },
   {
    "duration": 34,
    "start_time": "2022-10-27T13:49:58.768Z"
   },
   {
    "duration": 26,
    "start_time": "2022-10-27T13:49:58.804Z"
   },
   {
    "duration": 331,
    "start_time": "2022-10-27T13:49:58.833Z"
   },
   {
    "duration": 313,
    "start_time": "2022-10-27T13:49:59.165Z"
   },
   {
    "duration": 296,
    "start_time": "2022-10-27T13:49:59.479Z"
   },
   {
    "duration": 449,
    "start_time": "2022-10-27T13:49:59.777Z"
   },
   {
    "duration": 303,
    "start_time": "2022-10-27T13:50:00.227Z"
   },
   {
    "duration": 469,
    "start_time": "2022-10-27T13:50:00.531Z"
   },
   {
    "duration": 170,
    "start_time": "2022-10-27T13:50:01.002Z"
   },
   {
    "duration": 48,
    "start_time": "2022-10-27T13:50:01.174Z"
   },
   {
    "duration": 0,
    "start_time": "2022-10-27T13:50:01.224Z"
   },
   {
    "duration": 0,
    "start_time": "2022-10-27T13:50:01.226Z"
   },
   {
    "duration": 0,
    "start_time": "2022-10-27T13:50:01.227Z"
   },
   {
    "duration": 0,
    "start_time": "2022-10-27T13:50:01.228Z"
   },
   {
    "duration": 150,
    "start_time": "2022-10-27T13:50:21.706Z"
   },
   {
    "duration": 5,
    "start_time": "2022-10-27T13:50:25.528Z"
   },
   {
    "duration": 4,
    "start_time": "2022-10-27T13:50:26.467Z"
   },
   {
    "duration": 228,
    "start_time": "2022-10-27T13:50:27.325Z"
   },
   {
    "duration": 155,
    "start_time": "2022-10-27T13:50:45.046Z"
   },
   {
    "duration": 817,
    "start_time": "2022-10-27T14:00:36.468Z"
   },
   {
    "duration": 710,
    "start_time": "2022-10-27T14:00:56.446Z"
   },
   {
    "duration": 6,
    "start_time": "2022-10-27T14:01:32.147Z"
   },
   {
    "duration": 6,
    "start_time": "2022-10-27T14:03:28.725Z"
   },
   {
    "duration": 6,
    "start_time": "2022-10-27T14:03:52.885Z"
   },
   {
    "duration": 8,
    "start_time": "2022-10-27T14:04:03.925Z"
   },
   {
    "duration": 475,
    "start_time": "2022-10-27T14:04:38.627Z"
   },
   {
    "duration": 23,
    "start_time": "2022-10-27T14:04:42.219Z"
   },
   {
    "duration": 9,
    "start_time": "2022-10-27T14:06:45.180Z"
   },
   {
    "duration": 9,
    "start_time": "2022-10-27T14:34:21.999Z"
   },
   {
    "duration": 706,
    "start_time": "2022-10-27T14:39:00.333Z"
   },
   {
    "duration": 8,
    "start_time": "2022-10-27T14:39:19.949Z"
   },
   {
    "duration": 26,
    "start_time": "2022-10-27T14:39:23.853Z"
   },
   {
    "duration": 14,
    "start_time": "2022-10-27T14:40:14.294Z"
   },
   {
    "duration": 7,
    "start_time": "2022-10-27T16:24:45.384Z"
   },
   {
    "duration": 22,
    "start_time": "2022-10-27T17:09:20.559Z"
   },
   {
    "duration": 629,
    "start_time": "2022-10-27T17:09:26.709Z"
   },
   {
    "duration": 9,
    "start_time": "2022-10-27T17:09:32.200Z"
   },
   {
    "duration": 6,
    "start_time": "2022-10-27T17:09:38.418Z"
   },
   {
    "duration": 9,
    "start_time": "2022-10-27T17:09:46.940Z"
   },
   {
    "duration": 49,
    "start_time": "2022-10-27T17:35:13.074Z"
   },
   {
    "duration": 9,
    "start_time": "2022-10-27T17:35:16.539Z"
   },
   {
    "duration": 9,
    "start_time": "2022-10-27T17:35:20.019Z"
   },
   {
    "duration": 9,
    "start_time": "2022-10-27T17:35:25.836Z"
   },
   {
    "duration": 4,
    "start_time": "2022-10-27T17:36:07.412Z"
   },
   {
    "duration": 292,
    "start_time": "2022-10-27T17:36:11.103Z"
   },
   {
    "duration": 366,
    "start_time": "2022-10-27T17:36:18.083Z"
   },
   {
    "duration": 3,
    "start_time": "2022-10-27T17:37:38.649Z"
   },
   {
    "duration": 47,
    "start_time": "2022-10-27T17:42:46.000Z"
   },
   {
    "duration": 234,
    "start_time": "2022-10-27T17:42:53.272Z"
   },
   {
    "duration": 238,
    "start_time": "2022-10-27T17:43:17.249Z"
   },
   {
    "duration": 228,
    "start_time": "2022-10-27T17:43:46.045Z"
   },
   {
    "duration": 229,
    "start_time": "2022-10-27T17:44:00.175Z"
   },
   {
    "duration": 274,
    "start_time": "2022-10-27T17:45:03.460Z"
   },
   {
    "duration": 379,
    "start_time": "2022-10-27T17:46:43.568Z"
   },
   {
    "duration": 369,
    "start_time": "2022-10-27T17:46:47.029Z"
   },
   {
    "duration": 372,
    "start_time": "2022-10-27T17:47:09.426Z"
   },
   {
    "duration": 391,
    "start_time": "2022-10-27T17:47:31.489Z"
   },
   {
    "duration": 291,
    "start_time": "2022-10-27T17:47:59.843Z"
   },
   {
    "duration": 388,
    "start_time": "2022-10-27T17:48:09.305Z"
   },
   {
    "duration": 135,
    "start_time": "2022-10-27T17:48:34.332Z"
   },
   {
    "duration": 159,
    "start_time": "2022-10-27T17:48:47.539Z"
   },
   {
    "duration": 213,
    "start_time": "2022-10-27T17:50:36.434Z"
   },
   {
    "duration": 1238,
    "start_time": "2022-10-28T13:36:53.181Z"
   },
   {
    "duration": 65,
    "start_time": "2022-10-28T13:36:54.423Z"
   },
   {
    "duration": 14,
    "start_time": "2022-10-28T13:36:54.490Z"
   },
   {
    "duration": 14,
    "start_time": "2022-10-28T13:36:54.505Z"
   },
   {
    "duration": 13,
    "start_time": "2022-10-28T13:36:54.522Z"
   },
   {
    "duration": 148,
    "start_time": "2022-10-28T13:36:54.536Z"
   },
   {
    "duration": 11,
    "start_time": "2022-10-28T13:36:54.686Z"
   },
   {
    "duration": 12,
    "start_time": "2022-10-28T13:36:54.699Z"
   },
   {
    "duration": 11,
    "start_time": "2022-10-28T13:36:54.713Z"
   },
   {
    "duration": 306,
    "start_time": "2022-10-28T13:36:54.725Z"
   },
   {
    "duration": 371,
    "start_time": "2022-10-28T13:36:55.033Z"
   },
   {
    "duration": 350,
    "start_time": "2022-10-28T13:36:55.406Z"
   },
   {
    "duration": 466,
    "start_time": "2022-10-28T13:36:55.758Z"
   },
   {
    "duration": 391,
    "start_time": "2022-10-28T13:36:56.227Z"
   },
   {
    "duration": 415,
    "start_time": "2022-10-28T13:36:56.624Z"
   },
   {
    "duration": 173,
    "start_time": "2022-10-28T13:36:57.040Z"
   },
   {
    "duration": 195,
    "start_time": "2022-10-28T13:36:57.215Z"
   },
   {
    "duration": 15,
    "start_time": "2022-10-28T13:36:57.412Z"
   },
   {
    "duration": 26,
    "start_time": "2022-10-28T13:36:57.429Z"
   },
   {
    "duration": 247,
    "start_time": "2022-10-28T13:36:57.457Z"
   },
   {
    "duration": 165,
    "start_time": "2022-10-28T13:36:57.706Z"
   },
   {
    "duration": 8,
    "start_time": "2022-10-28T13:36:57.873Z"
   },
   {
    "duration": 50,
    "start_time": "2022-10-28T13:36:57.883Z"
   },
   {
    "duration": 12,
    "start_time": "2022-10-28T13:36:57.935Z"
   },
   {
    "duration": 16,
    "start_time": "2022-10-28T13:36:57.949Z"
   },
   {
    "duration": 31,
    "start_time": "2022-10-28T13:36:57.967Z"
   },
   {
    "duration": 36,
    "start_time": "2022-10-28T13:36:58.000Z"
   },
   {
    "duration": 16,
    "start_time": "2022-10-28T13:36:58.038Z"
   },
   {
    "duration": 51,
    "start_time": "2022-10-28T14:30:32.412Z"
   },
   {
    "duration": 1233,
    "start_time": "2022-10-28T14:30:37.528Z"
   },
   {
    "duration": 70,
    "start_time": "2022-10-28T14:30:38.763Z"
   },
   {
    "duration": 3,
    "start_time": "2022-10-28T14:30:38.835Z"
   },
   {
    "duration": 38,
    "start_time": "2022-10-28T14:30:38.840Z"
   },
   {
    "duration": 13,
    "start_time": "2022-10-28T14:30:38.880Z"
   },
   {
    "duration": 168,
    "start_time": "2022-10-28T14:30:38.895Z"
   },
   {
    "duration": 14,
    "start_time": "2022-10-28T14:30:39.065Z"
   },
   {
    "duration": 14,
    "start_time": "2022-10-28T14:30:39.081Z"
   },
   {
    "duration": 15,
    "start_time": "2022-10-28T14:30:39.098Z"
   },
   {
    "duration": 281,
    "start_time": "2022-10-28T14:30:39.116Z"
   },
   {
    "duration": 336,
    "start_time": "2022-10-28T14:30:39.399Z"
   },
   {
    "duration": 329,
    "start_time": "2022-10-28T14:30:39.737Z"
   },
   {
    "duration": 465,
    "start_time": "2022-10-28T14:30:40.068Z"
   },
   {
    "duration": 308,
    "start_time": "2022-10-28T14:30:40.535Z"
   },
   {
    "duration": 469,
    "start_time": "2022-10-28T14:30:40.844Z"
   },
   {
    "duration": 169,
    "start_time": "2022-10-28T14:30:41.315Z"
   },
   {
    "duration": 177,
    "start_time": "2022-10-28T14:30:41.486Z"
   },
   {
    "duration": 4,
    "start_time": "2022-10-28T14:30:41.664Z"
   },
   {
    "duration": 13,
    "start_time": "2022-10-28T14:30:41.669Z"
   },
   {
    "duration": 210,
    "start_time": "2022-10-28T14:30:41.684Z"
   },
   {
    "duration": 135,
    "start_time": "2022-10-28T14:30:41.896Z"
   },
   {
    "duration": 6,
    "start_time": "2022-10-28T14:30:42.034Z"
   },
   {
    "duration": 23,
    "start_time": "2022-10-28T14:30:42.042Z"
   },
   {
    "duration": 10,
    "start_time": "2022-10-28T14:30:42.066Z"
   },
   {
    "duration": 8,
    "start_time": "2022-10-28T14:30:42.077Z"
   },
   {
    "duration": 10,
    "start_time": "2022-10-28T14:30:42.087Z"
   },
   {
    "duration": 44,
    "start_time": "2022-10-28T14:30:42.099Z"
   },
   {
    "duration": 12,
    "start_time": "2022-10-28T14:30:42.146Z"
   },
   {
    "duration": 12,
    "start_time": "2022-10-28T14:37:58.801Z"
   },
   {
    "duration": 96,
    "start_time": "2022-10-28T14:38:13.953Z"
   },
   {
    "duration": 13,
    "start_time": "2022-10-28T14:38:18.378Z"
   },
   {
    "duration": 11,
    "start_time": "2022-10-28T14:38:29.859Z"
   },
   {
    "duration": 26,
    "start_time": "2022-10-28T14:38:33.812Z"
   },
   {
    "duration": 6,
    "start_time": "2022-10-28T14:40:19.267Z"
   },
   {
    "duration": 5,
    "start_time": "2022-10-28T14:40:22.381Z"
   },
   {
    "duration": 6,
    "start_time": "2022-10-28T14:40:30.942Z"
   },
   {
    "duration": 14,
    "start_time": "2022-10-28T14:43:12.370Z"
   },
   {
    "duration": 56,
    "start_time": "2022-10-28T14:43:18.733Z"
   },
   {
    "duration": 126,
    "start_time": "2022-10-28T14:43:28.956Z"
   },
   {
    "duration": 6,
    "start_time": "2022-10-28T14:46:36.443Z"
   },
   {
    "duration": 18,
    "start_time": "2022-10-28T14:46:38.945Z"
   },
   {
    "duration": 11,
    "start_time": "2022-10-28T14:46:43.159Z"
   },
   {
    "duration": 1090,
    "start_time": "2022-10-28T14:47:17.884Z"
   },
   {
    "duration": 29,
    "start_time": "2022-10-28T14:47:18.977Z"
   },
   {
    "duration": 3,
    "start_time": "2022-10-28T14:47:19.009Z"
   },
   {
    "duration": 54,
    "start_time": "2022-10-28T14:47:19.014Z"
   },
   {
    "duration": 27,
    "start_time": "2022-10-28T14:47:19.070Z"
   },
   {
    "duration": 92,
    "start_time": "2022-10-28T14:47:19.099Z"
   },
   {
    "duration": 12,
    "start_time": "2022-10-28T14:47:19.193Z"
   },
   {
    "duration": 27,
    "start_time": "2022-10-28T14:47:19.208Z"
   },
   {
    "duration": 38,
    "start_time": "2022-10-28T14:47:19.237Z"
   },
   {
    "duration": 73,
    "start_time": "2022-10-28T14:47:19.278Z"
   },
   {
    "duration": 119,
    "start_time": "2022-10-28T14:47:19.353Z"
   },
   {
    "duration": 0,
    "start_time": "2022-10-28T14:47:19.474Z"
   },
   {
    "duration": 0,
    "start_time": "2022-10-28T14:47:19.475Z"
   },
   {
    "duration": 0,
    "start_time": "2022-10-28T14:47:19.476Z"
   },
   {
    "duration": 0,
    "start_time": "2022-10-28T14:47:19.478Z"
   },
   {
    "duration": 0,
    "start_time": "2022-10-28T14:47:19.479Z"
   },
   {
    "duration": 0,
    "start_time": "2022-10-28T14:47:19.480Z"
   },
   {
    "duration": 0,
    "start_time": "2022-10-28T14:47:19.481Z"
   },
   {
    "duration": 0,
    "start_time": "2022-10-28T14:47:19.482Z"
   },
   {
    "duration": 0,
    "start_time": "2022-10-28T14:47:19.483Z"
   },
   {
    "duration": 0,
    "start_time": "2022-10-28T14:47:19.484Z"
   },
   {
    "duration": 0,
    "start_time": "2022-10-28T14:47:19.485Z"
   },
   {
    "duration": 0,
    "start_time": "2022-10-28T14:47:19.486Z"
   },
   {
    "duration": 0,
    "start_time": "2022-10-28T14:47:19.487Z"
   },
   {
    "duration": 0,
    "start_time": "2022-10-28T14:47:19.489Z"
   },
   {
    "duration": 0,
    "start_time": "2022-10-28T14:47:19.490Z"
   },
   {
    "duration": 0,
    "start_time": "2022-10-28T14:47:19.492Z"
   },
   {
    "duration": 0,
    "start_time": "2022-10-28T14:47:19.493Z"
   },
   {
    "duration": 0,
    "start_time": "2022-10-28T14:47:19.522Z"
   },
   {
    "duration": 0,
    "start_time": "2022-10-28T14:47:19.523Z"
   },
   {
    "duration": 1119,
    "start_time": "2022-10-28T14:47:41.850Z"
   },
   {
    "duration": 30,
    "start_time": "2022-10-28T14:47:42.972Z"
   },
   {
    "duration": 2,
    "start_time": "2022-10-28T14:47:43.004Z"
   },
   {
    "duration": 36,
    "start_time": "2022-10-28T14:47:43.008Z"
   },
   {
    "duration": 12,
    "start_time": "2022-10-28T14:47:43.047Z"
   },
   {
    "duration": 57,
    "start_time": "2022-10-28T14:47:43.060Z"
   },
   {
    "duration": 26,
    "start_time": "2022-10-28T14:47:43.118Z"
   },
   {
    "duration": 13,
    "start_time": "2022-10-28T14:47:43.147Z"
   },
   {
    "duration": 10,
    "start_time": "2022-10-28T14:47:43.161Z"
   },
   {
    "duration": 73,
    "start_time": "2022-10-28T14:47:43.173Z"
   },
   {
    "duration": 5,
    "start_time": "2022-10-28T14:47:43.248Z"
   },
   {
    "duration": 298,
    "start_time": "2022-10-28T14:47:43.254Z"
   },
   {
    "duration": 339,
    "start_time": "2022-10-28T14:47:43.554Z"
   },
   {
    "duration": 329,
    "start_time": "2022-10-28T14:47:43.895Z"
   },
   {
    "duration": 389,
    "start_time": "2022-10-28T14:47:44.228Z"
   },
   {
    "duration": 313,
    "start_time": "2022-10-28T14:47:44.626Z"
   },
   {
    "duration": 405,
    "start_time": "2022-10-28T14:47:44.941Z"
   },
   {
    "duration": 155,
    "start_time": "2022-10-28T14:47:45.348Z"
   },
   {
    "duration": 181,
    "start_time": "2022-10-28T14:47:45.505Z"
   },
   {
    "duration": 4,
    "start_time": "2022-10-28T14:47:45.687Z"
   },
   {
    "duration": 9,
    "start_time": "2022-10-28T14:47:45.693Z"
   },
   {
    "duration": 211,
    "start_time": "2022-10-28T14:47:45.703Z"
   },
   {
    "duration": 136,
    "start_time": "2022-10-28T14:47:45.916Z"
   },
   {
    "duration": 6,
    "start_time": "2022-10-28T14:47:46.054Z"
   },
   {
    "duration": 30,
    "start_time": "2022-10-28T14:47:46.061Z"
   },
   {
    "duration": 9,
    "start_time": "2022-10-28T14:47:46.092Z"
   },
   {
    "duration": 36,
    "start_time": "2022-10-28T14:47:46.103Z"
   },
   {
    "duration": 17,
    "start_time": "2022-10-28T14:47:46.144Z"
   },
   {
    "duration": 21,
    "start_time": "2022-10-28T14:47:46.163Z"
   },
   {
    "duration": 13,
    "start_time": "2022-10-28T14:47:46.185Z"
   },
   {
    "duration": 13,
    "start_time": "2022-10-28T14:51:50.160Z"
   },
   {
    "duration": 12,
    "start_time": "2022-10-28T15:09:28.123Z"
   },
   {
    "duration": 7,
    "start_time": "2022-10-28T15:09:34.323Z"
   },
   {
    "duration": 11,
    "start_time": "2022-10-28T15:09:44.081Z"
   },
   {
    "duration": 5,
    "start_time": "2022-10-28T15:09:46.202Z"
   },
   {
    "duration": 11,
    "start_time": "2022-10-28T15:09:50.578Z"
   },
   {
    "duration": 80,
    "start_time": "2022-10-28T15:09:52.970Z"
   },
   {
    "duration": 11,
    "start_time": "2022-10-28T15:09:56.254Z"
   },
   {
    "duration": 5,
    "start_time": "2022-10-28T15:09:58.553Z"
   },
   {
    "duration": 5,
    "start_time": "2022-10-28T15:10:02.612Z"
   },
   {
    "duration": 61,
    "start_time": "2022-10-28T15:10:05.866Z"
   },
   {
    "duration": 426,
    "start_time": "2022-10-28T15:12:02.710Z"
   },
   {
    "duration": 379,
    "start_time": "2022-10-28T15:12:20.613Z"
   },
   {
    "duration": 13,
    "start_time": "2022-10-28T15:13:08.343Z"
   },
   {
    "duration": 322,
    "start_time": "2022-10-28T15:13:38.189Z"
   },
   {
    "duration": 1054,
    "start_time": "2022-10-28T15:14:32.015Z"
   },
   {
    "duration": 30,
    "start_time": "2022-10-28T15:14:33.071Z"
   },
   {
    "duration": 2,
    "start_time": "2022-10-28T15:14:33.105Z"
   },
   {
    "duration": 57,
    "start_time": "2022-10-28T15:14:33.108Z"
   },
   {
    "duration": 26,
    "start_time": "2022-10-28T15:14:33.167Z"
   },
   {
    "duration": 80,
    "start_time": "2022-10-28T15:14:33.197Z"
   },
   {
    "duration": 11,
    "start_time": "2022-10-28T15:14:33.278Z"
   },
   {
    "duration": 16,
    "start_time": "2022-10-28T15:14:33.290Z"
   },
   {
    "duration": 39,
    "start_time": "2022-10-28T15:14:33.308Z"
   },
   {
    "duration": 15,
    "start_time": "2022-10-28T15:14:33.348Z"
   },
   {
    "duration": 73,
    "start_time": "2022-10-28T15:14:33.365Z"
   },
   {
    "duration": 2,
    "start_time": "2022-10-28T15:14:33.440Z"
   },
   {
    "duration": 258,
    "start_time": "2022-10-28T15:14:33.443Z"
   },
   {
    "duration": 331,
    "start_time": "2022-10-28T15:14:33.703Z"
   },
   {
    "duration": 304,
    "start_time": "2022-10-28T15:14:34.036Z"
   },
   {
    "duration": 372,
    "start_time": "2022-10-28T15:14:34.342Z"
   },
   {
    "duration": 347,
    "start_time": "2022-10-28T15:14:34.716Z"
   },
   {
    "duration": 385,
    "start_time": "2022-10-28T15:14:35.064Z"
   },
   {
    "duration": 153,
    "start_time": "2022-10-28T15:14:35.450Z"
   },
   {
    "duration": 170,
    "start_time": "2022-10-28T15:14:35.604Z"
   },
   {
    "duration": 4,
    "start_time": "2022-10-28T15:14:35.775Z"
   },
   {
    "duration": 30,
    "start_time": "2022-10-28T15:14:35.780Z"
   },
   {
    "duration": 253,
    "start_time": "2022-10-28T15:14:35.812Z"
   },
   {
    "duration": 133,
    "start_time": "2022-10-28T15:14:36.067Z"
   },
   {
    "duration": 19,
    "start_time": "2022-10-28T15:14:36.202Z"
   },
   {
    "duration": 46,
    "start_time": "2022-10-28T15:14:36.222Z"
   },
   {
    "duration": 13,
    "start_time": "2022-10-28T15:14:36.271Z"
   },
   {
    "duration": 33,
    "start_time": "2022-10-28T15:14:36.286Z"
   },
   {
    "duration": 40,
    "start_time": "2022-10-28T15:14:36.326Z"
   },
   {
    "duration": 33,
    "start_time": "2022-10-28T15:14:36.368Z"
   },
   {
    "duration": 15,
    "start_time": "2022-10-28T15:14:36.403Z"
   },
   {
    "duration": 1072,
    "start_time": "2022-10-28T15:38:29.706Z"
   },
   {
    "duration": 39,
    "start_time": "2022-10-28T15:38:30.780Z"
   },
   {
    "duration": 6,
    "start_time": "2022-10-28T15:38:30.827Z"
   },
   {
    "duration": 24,
    "start_time": "2022-10-28T15:38:30.835Z"
   },
   {
    "duration": 13,
    "start_time": "2022-10-28T15:38:30.860Z"
   },
   {
    "duration": 102,
    "start_time": "2022-10-28T15:38:30.874Z"
   },
   {
    "duration": 11,
    "start_time": "2022-10-28T15:38:30.977Z"
   },
   {
    "duration": 61,
    "start_time": "2022-10-28T15:38:30.990Z"
   },
   {
    "duration": 42,
    "start_time": "2022-10-28T15:38:31.055Z"
   },
   {
    "duration": 42,
    "start_time": "2022-10-28T15:38:31.098Z"
   },
   {
    "duration": 109,
    "start_time": "2022-10-28T15:38:31.143Z"
   },
   {
    "duration": 272,
    "start_time": "2022-10-28T15:38:31.254Z"
   },
   {
    "duration": 338,
    "start_time": "2022-10-28T15:38:31.531Z"
   },
   {
    "duration": 305,
    "start_time": "2022-10-28T15:38:31.871Z"
   },
   {
    "duration": 449,
    "start_time": "2022-10-28T15:38:32.178Z"
   },
   {
    "duration": 401,
    "start_time": "2022-10-28T15:38:32.631Z"
   },
   {
    "duration": 401,
    "start_time": "2022-10-28T15:38:33.035Z"
   },
   {
    "duration": 158,
    "start_time": "2022-10-28T15:38:33.439Z"
   },
   {
    "duration": 182,
    "start_time": "2022-10-28T15:38:33.599Z"
   },
   {
    "duration": 5,
    "start_time": "2022-10-28T15:38:33.782Z"
   },
   {
    "duration": 6,
    "start_time": "2022-10-28T15:38:33.788Z"
   },
   {
    "duration": 219,
    "start_time": "2022-10-28T15:38:33.795Z"
   },
   {
    "duration": 167,
    "start_time": "2022-10-28T15:38:34.020Z"
   },
   {
    "duration": 6,
    "start_time": "2022-10-28T15:38:34.189Z"
   },
   {
    "duration": 35,
    "start_time": "2022-10-28T15:38:34.197Z"
   },
   {
    "duration": 11,
    "start_time": "2022-10-28T15:38:34.234Z"
   },
   {
    "duration": 9,
    "start_time": "2022-10-28T15:38:34.248Z"
   },
   {
    "duration": 12,
    "start_time": "2022-10-28T15:38:34.258Z"
   },
   {
    "duration": 21,
    "start_time": "2022-10-28T15:38:34.271Z"
   },
   {
    "duration": 39,
    "start_time": "2022-10-28T15:38:34.294Z"
   },
   {
    "duration": 450,
    "start_time": "2022-10-28T16:17:06.602Z"
   },
   {
    "duration": 309,
    "start_time": "2022-10-28T16:18:49.876Z"
   },
   {
    "duration": 326,
    "start_time": "2022-10-28T16:19:40.346Z"
   },
   {
    "duration": 336,
    "start_time": "2022-10-28T16:20:27.252Z"
   },
   {
    "duration": 404,
    "start_time": "2022-10-28T16:21:09.541Z"
   },
   {
    "duration": 322,
    "start_time": "2022-10-28T16:21:44.566Z"
   },
   {
    "duration": 417,
    "start_time": "2022-10-28T16:22:46.936Z"
   },
   {
    "duration": 166,
    "start_time": "2022-10-28T16:23:58.006Z"
   },
   {
    "duration": 190,
    "start_time": "2022-10-28T16:24:34.450Z"
   },
   {
    "duration": 1121,
    "start_time": "2022-10-28T16:24:45.895Z"
   },
   {
    "duration": 44,
    "start_time": "2022-10-28T16:24:47.021Z"
   },
   {
    "duration": 4,
    "start_time": "2022-10-28T16:24:47.067Z"
   },
   {
    "duration": 29,
    "start_time": "2022-10-28T16:24:47.073Z"
   },
   {
    "duration": 15,
    "start_time": "2022-10-28T16:24:47.103Z"
   },
   {
    "duration": 68,
    "start_time": "2022-10-28T16:24:47.120Z"
   },
   {
    "duration": 11,
    "start_time": "2022-10-28T16:24:47.189Z"
   },
   {
    "duration": 16,
    "start_time": "2022-10-28T16:24:47.202Z"
   },
   {
    "duration": 29,
    "start_time": "2022-10-28T16:24:47.220Z"
   },
   {
    "duration": 5,
    "start_time": "2022-10-28T16:24:47.251Z"
   },
   {
    "duration": 58,
    "start_time": "2022-10-28T16:24:47.258Z"
   },
   {
    "duration": 281,
    "start_time": "2022-10-28T16:24:47.318Z"
   },
   {
    "duration": 369,
    "start_time": "2022-10-28T16:24:47.601Z"
   },
   {
    "duration": 332,
    "start_time": "2022-10-28T16:24:47.972Z"
   },
   {
    "duration": 452,
    "start_time": "2022-10-28T16:24:48.306Z"
   },
   {
    "duration": 431,
    "start_time": "2022-10-28T16:24:48.760Z"
   },
   {
    "duration": 426,
    "start_time": "2022-10-28T16:24:49.192Z"
   },
   {
    "duration": 175,
    "start_time": "2022-10-28T16:24:49.622Z"
   },
   {
    "duration": 200,
    "start_time": "2022-10-28T16:24:49.799Z"
   },
   {
    "duration": 5,
    "start_time": "2022-10-28T16:24:50.001Z"
   },
   {
    "duration": 29,
    "start_time": "2022-10-28T16:24:50.008Z"
   },
   {
    "duration": 225,
    "start_time": "2022-10-28T16:24:50.039Z"
   },
   {
    "duration": 157,
    "start_time": "2022-10-28T16:24:50.267Z"
   },
   {
    "duration": 8,
    "start_time": "2022-10-28T16:24:50.425Z"
   },
   {
    "duration": 29,
    "start_time": "2022-10-28T16:24:50.436Z"
   },
   {
    "duration": 12,
    "start_time": "2022-10-28T16:24:50.467Z"
   },
   {
    "duration": 9,
    "start_time": "2022-10-28T16:24:50.481Z"
   },
   {
    "duration": 7,
    "start_time": "2022-10-28T16:24:50.493Z"
   },
   {
    "duration": 43,
    "start_time": "2022-10-28T16:24:50.502Z"
   },
   {
    "duration": 14,
    "start_time": "2022-10-28T16:24:50.546Z"
   },
   {
    "duration": 1039,
    "start_time": "2022-10-28T16:40:55.668Z"
   },
   {
    "duration": 39,
    "start_time": "2022-10-28T16:40:56.709Z"
   },
   {
    "duration": 3,
    "start_time": "2022-10-28T16:40:56.750Z"
   },
   {
    "duration": 18,
    "start_time": "2022-10-28T16:40:56.755Z"
   },
   {
    "duration": 11,
    "start_time": "2022-10-28T16:40:56.775Z"
   },
   {
    "duration": 63,
    "start_time": "2022-10-28T16:40:56.788Z"
   },
   {
    "duration": 11,
    "start_time": "2022-10-28T16:40:56.853Z"
   },
   {
    "duration": 12,
    "start_time": "2022-10-28T16:40:56.866Z"
   },
   {
    "duration": 10,
    "start_time": "2022-10-28T16:40:56.879Z"
   },
   {
    "duration": 8,
    "start_time": "2022-10-28T16:40:56.891Z"
   },
   {
    "duration": 75,
    "start_time": "2022-10-28T16:40:56.900Z"
   },
   {
    "duration": 292,
    "start_time": "2022-10-28T16:40:56.977Z"
   },
   {
    "duration": 387,
    "start_time": "2022-10-28T16:40:57.271Z"
   },
   {
    "duration": 347,
    "start_time": "2022-10-28T16:40:57.659Z"
   },
   {
    "duration": 437,
    "start_time": "2022-10-28T16:40:58.008Z"
   },
   {
    "duration": 388,
    "start_time": "2022-10-28T16:40:58.446Z"
   },
   {
    "duration": 507,
    "start_time": "2022-10-28T16:40:58.836Z"
   },
   {
    "duration": 196,
    "start_time": "2022-10-28T16:40:59.345Z"
   },
   {
    "duration": 199,
    "start_time": "2022-10-28T16:40:59.543Z"
   },
   {
    "duration": 4,
    "start_time": "2022-10-28T16:40:59.744Z"
   },
   {
    "duration": 30,
    "start_time": "2022-10-28T16:40:59.750Z"
   },
   {
    "duration": 222,
    "start_time": "2022-10-28T16:40:59.782Z"
   },
   {
    "duration": 137,
    "start_time": "2022-10-28T16:41:00.005Z"
   },
   {
    "duration": 7,
    "start_time": "2022-10-28T16:41:00.143Z"
   },
   {
    "duration": 28,
    "start_time": "2022-10-28T16:41:00.151Z"
   },
   {
    "duration": 11,
    "start_time": "2022-10-28T16:41:00.182Z"
   },
   {
    "duration": 41,
    "start_time": "2022-10-28T16:41:00.194Z"
   },
   {
    "duration": 51,
    "start_time": "2022-10-28T16:41:00.238Z"
   },
   {
    "duration": 81,
    "start_time": "2022-10-28T16:41:00.291Z"
   },
   {
    "duration": 16,
    "start_time": "2022-10-28T16:41:00.374Z"
   },
   {
    "duration": 1271,
    "start_time": "2022-10-29T14:03:32.409Z"
   },
   {
    "duration": 69,
    "start_time": "2022-10-29T14:03:33.683Z"
   },
   {
    "duration": 3,
    "start_time": "2022-10-29T14:03:33.754Z"
   },
   {
    "duration": 26,
    "start_time": "2022-10-29T14:03:33.759Z"
   },
   {
    "duration": 15,
    "start_time": "2022-10-29T14:03:33.787Z"
   },
   {
    "duration": 120,
    "start_time": "2022-10-29T14:03:33.803Z"
   },
   {
    "duration": 12,
    "start_time": "2022-10-29T14:03:33.925Z"
   },
   {
    "duration": 12,
    "start_time": "2022-10-29T14:03:33.938Z"
   },
   {
    "duration": 10,
    "start_time": "2022-10-29T14:03:33.952Z"
   },
   {
    "duration": 5,
    "start_time": "2022-10-29T14:03:33.964Z"
   },
   {
    "duration": 58,
    "start_time": "2022-10-29T14:03:33.970Z"
   },
   {
    "duration": 271,
    "start_time": "2022-10-29T14:03:34.030Z"
   },
   {
    "duration": 376,
    "start_time": "2022-10-29T14:03:34.303Z"
   },
   {
    "duration": 316,
    "start_time": "2022-10-29T14:03:34.691Z"
   },
   {
    "duration": 484,
    "start_time": "2022-10-29T14:03:35.009Z"
   },
   {
    "duration": 554,
    "start_time": "2022-10-29T14:03:35.495Z"
   },
   {
    "duration": 661,
    "start_time": "2022-10-29T14:03:36.090Z"
   },
   {
    "duration": 257,
    "start_time": "2022-10-29T14:03:36.754Z"
   },
   {
    "duration": 177,
    "start_time": "2022-10-29T14:03:37.013Z"
   },
   {
    "duration": 4,
    "start_time": "2022-10-29T14:03:37.192Z"
   },
   {
    "duration": 5,
    "start_time": "2022-10-29T14:03:37.198Z"
   },
   {
    "duration": 216,
    "start_time": "2022-10-29T14:03:37.205Z"
   },
   {
    "duration": 142,
    "start_time": "2022-10-29T14:03:37.423Z"
   },
   {
    "duration": 7,
    "start_time": "2022-10-29T14:03:37.567Z"
   },
   {
    "duration": 29,
    "start_time": "2022-10-29T14:03:37.576Z"
   },
   {
    "duration": 14,
    "start_time": "2022-10-29T14:03:37.607Z"
   },
   {
    "duration": 13,
    "start_time": "2022-10-29T14:03:37.623Z"
   },
   {
    "duration": 11,
    "start_time": "2022-10-29T14:03:37.638Z"
   },
   {
    "duration": 51,
    "start_time": "2022-10-29T14:03:37.652Z"
   },
   {
    "duration": 15,
    "start_time": "2022-10-29T14:03:37.705Z"
   },
   {
    "duration": 1156,
    "start_time": "2022-10-29T14:44:54.275Z"
   },
   {
    "duration": 27,
    "start_time": "2022-10-29T14:44:55.433Z"
   },
   {
    "duration": 2,
    "start_time": "2022-10-29T14:44:55.462Z"
   },
   {
    "duration": 18,
    "start_time": "2022-10-29T14:44:55.465Z"
   },
   {
    "duration": 12,
    "start_time": "2022-10-29T14:44:55.485Z"
   },
   {
    "duration": 50,
    "start_time": "2022-10-29T14:44:55.499Z"
   },
   {
    "duration": 11,
    "start_time": "2022-10-29T14:44:55.551Z"
   },
   {
    "duration": 20,
    "start_time": "2022-10-29T14:44:55.564Z"
   },
   {
    "duration": 13,
    "start_time": "2022-10-29T14:44:55.586Z"
   },
   {
    "duration": 6,
    "start_time": "2022-10-29T14:44:55.600Z"
   },
   {
    "duration": 59,
    "start_time": "2022-10-29T14:44:55.607Z"
   },
   {
    "duration": 280,
    "start_time": "2022-10-29T14:44:55.668Z"
   },
   {
    "duration": 359,
    "start_time": "2022-10-29T14:44:55.950Z"
   },
   {
    "duration": 453,
    "start_time": "2022-10-29T14:44:56.312Z"
   },
   {
    "duration": 436,
    "start_time": "2022-10-29T14:44:56.766Z"
   },
   {
    "duration": 344,
    "start_time": "2022-10-29T14:44:57.204Z"
   },
   {
    "duration": 430,
    "start_time": "2022-10-29T14:44:57.550Z"
   },
   {
    "duration": 196,
    "start_time": "2022-10-29T14:44:57.982Z"
   },
   {
    "duration": 193,
    "start_time": "2022-10-29T14:44:58.179Z"
   },
   {
    "duration": 5,
    "start_time": "2022-10-29T14:44:58.374Z"
   },
   {
    "duration": 13,
    "start_time": "2022-10-29T14:44:58.380Z"
   },
   {
    "duration": 232,
    "start_time": "2022-10-29T14:44:58.394Z"
   },
   {
    "duration": 155,
    "start_time": "2022-10-29T14:44:58.628Z"
   },
   {
    "duration": 9,
    "start_time": "2022-10-29T14:44:58.785Z"
   },
   {
    "duration": 21,
    "start_time": "2022-10-29T14:44:58.796Z"
   },
   {
    "duration": 10,
    "start_time": "2022-10-29T14:44:58.819Z"
   },
   {
    "duration": 9,
    "start_time": "2022-10-29T14:44:58.830Z"
   },
   {
    "duration": 10,
    "start_time": "2022-10-29T14:44:58.840Z"
   },
   {
    "duration": 58,
    "start_time": "2022-10-29T14:44:58.851Z"
   },
   {
    "duration": 13,
    "start_time": "2022-10-29T14:44:58.911Z"
   },
   {
    "duration": 1218,
    "start_time": "2022-10-29T17:18:51.518Z"
   },
   {
    "duration": 72,
    "start_time": "2022-10-29T17:18:52.741Z"
   },
   {
    "duration": 3,
    "start_time": "2022-10-29T17:18:52.814Z"
   },
   {
    "duration": 31,
    "start_time": "2022-10-29T17:18:52.819Z"
   },
   {
    "duration": 10,
    "start_time": "2022-10-29T17:18:52.852Z"
   },
   {
    "duration": 167,
    "start_time": "2022-10-29T17:18:52.864Z"
   },
   {
    "duration": 10,
    "start_time": "2022-10-29T17:18:53.034Z"
   },
   {
    "duration": 11,
    "start_time": "2022-10-29T17:18:53.046Z"
   },
   {
    "duration": 8,
    "start_time": "2022-10-29T17:18:53.058Z"
   },
   {
    "duration": 5,
    "start_time": "2022-10-29T17:18:53.068Z"
   },
   {
    "duration": 63,
    "start_time": "2022-10-29T17:18:53.074Z"
   },
   {
    "duration": 257,
    "start_time": "2022-10-29T17:18:53.139Z"
   },
   {
    "duration": 412,
    "start_time": "2022-10-29T17:18:53.397Z"
   },
   {
    "duration": 315,
    "start_time": "2022-10-29T17:18:53.811Z"
   },
   {
    "duration": 448,
    "start_time": "2022-10-29T17:18:54.131Z"
   },
   {
    "duration": 332,
    "start_time": "2022-10-29T17:18:54.580Z"
   },
   {
    "duration": 394,
    "start_time": "2022-10-29T17:18:54.914Z"
   },
   {
    "duration": 169,
    "start_time": "2022-10-29T17:18:55.310Z"
   },
   {
    "duration": 182,
    "start_time": "2022-10-29T17:18:55.481Z"
   },
   {
    "duration": 4,
    "start_time": "2022-10-29T17:18:55.665Z"
   },
   {
    "duration": 6,
    "start_time": "2022-10-29T17:18:55.670Z"
   },
   {
    "duration": 204,
    "start_time": "2022-10-29T17:18:55.677Z"
   },
   {
    "duration": 173,
    "start_time": "2022-10-29T17:18:55.882Z"
   },
   {
    "duration": 7,
    "start_time": "2022-10-29T17:18:56.058Z"
   },
   {
    "duration": 35,
    "start_time": "2022-10-29T17:18:56.067Z"
   },
   {
    "duration": 22,
    "start_time": "2022-10-29T17:18:56.104Z"
   },
   {
    "duration": 31,
    "start_time": "2022-10-29T17:18:56.128Z"
   },
   {
    "duration": 14,
    "start_time": "2022-10-29T17:18:56.164Z"
   },
   {
    "duration": 33,
    "start_time": "2022-10-29T17:18:56.179Z"
   },
   {
    "duration": 18,
    "start_time": "2022-10-29T17:18:56.214Z"
   },
   {
    "duration": 731,
    "start_time": "2022-10-29T17:22:33.238Z"
   },
   {
    "duration": 7,
    "start_time": "2022-10-29T17:25:27.653Z"
   },
   {
    "duration": 14,
    "start_time": "2022-10-29T17:25:31.585Z"
   },
   {
    "duration": 10,
    "start_time": "2022-10-29T17:25:45.210Z"
   },
   {
    "duration": 19,
    "start_time": "2022-10-29T17:25:52.599Z"
   },
   {
    "duration": 16,
    "start_time": "2022-10-29T17:26:20.587Z"
   },
   {
    "duration": 12,
    "start_time": "2022-10-29T17:29:38.822Z"
   },
   {
    "duration": 1037,
    "start_time": "2022-10-29T17:36:19.221Z"
   },
   {
    "duration": 27,
    "start_time": "2022-10-29T17:36:20.260Z"
   },
   {
    "duration": 2,
    "start_time": "2022-10-29T17:36:20.289Z"
   },
   {
    "duration": 16,
    "start_time": "2022-10-29T17:36:20.293Z"
   },
   {
    "duration": 12,
    "start_time": "2022-10-29T17:36:20.311Z"
   },
   {
    "duration": 53,
    "start_time": "2022-10-29T17:36:20.324Z"
   },
   {
    "duration": 10,
    "start_time": "2022-10-29T17:36:20.379Z"
   },
   {
    "duration": 29,
    "start_time": "2022-10-29T17:36:20.390Z"
   },
   {
    "duration": 23,
    "start_time": "2022-10-29T17:36:20.421Z"
   },
   {
    "duration": 15,
    "start_time": "2022-10-29T17:36:20.447Z"
   },
   {
    "duration": 78,
    "start_time": "2022-10-29T17:36:20.463Z"
   },
   {
    "duration": 95,
    "start_time": "2022-10-29T17:36:20.542Z"
   },
   {
    "duration": 0,
    "start_time": "2022-10-29T17:36:20.639Z"
   },
   {
    "duration": 0,
    "start_time": "2022-10-29T17:36:20.640Z"
   },
   {
    "duration": 0,
    "start_time": "2022-10-29T17:36:20.641Z"
   },
   {
    "duration": 0,
    "start_time": "2022-10-29T17:36:20.642Z"
   },
   {
    "duration": 0,
    "start_time": "2022-10-29T17:36:20.643Z"
   },
   {
    "duration": 0,
    "start_time": "2022-10-29T17:36:20.644Z"
   },
   {
    "duration": 0,
    "start_time": "2022-10-29T17:36:20.645Z"
   },
   {
    "duration": 0,
    "start_time": "2022-10-29T17:36:20.646Z"
   },
   {
    "duration": 0,
    "start_time": "2022-10-29T17:36:20.647Z"
   },
   {
    "duration": 0,
    "start_time": "2022-10-29T17:36:20.649Z"
   },
   {
    "duration": 0,
    "start_time": "2022-10-29T17:36:20.650Z"
   },
   {
    "duration": 0,
    "start_time": "2022-10-29T17:36:20.651Z"
   },
   {
    "duration": 0,
    "start_time": "2022-10-29T17:36:20.652Z"
   },
   {
    "duration": 0,
    "start_time": "2022-10-29T17:36:20.653Z"
   },
   {
    "duration": 0,
    "start_time": "2022-10-29T17:36:20.654Z"
   },
   {
    "duration": 0,
    "start_time": "2022-10-29T17:36:20.655Z"
   },
   {
    "duration": 0,
    "start_time": "2022-10-29T17:36:20.656Z"
   },
   {
    "duration": 0,
    "start_time": "2022-10-29T17:36:20.657Z"
   },
   {
    "duration": 0,
    "start_time": "2022-10-29T17:36:20.658Z"
   },
   {
    "duration": 1087,
    "start_time": "2022-10-29T17:36:32.255Z"
   },
   {
    "duration": 27,
    "start_time": "2022-10-29T17:36:33.345Z"
   },
   {
    "duration": 3,
    "start_time": "2022-10-29T17:36:33.374Z"
   },
   {
    "duration": 28,
    "start_time": "2022-10-29T17:36:33.379Z"
   },
   {
    "duration": 11,
    "start_time": "2022-10-29T17:36:33.409Z"
   },
   {
    "duration": 52,
    "start_time": "2022-10-29T17:36:33.421Z"
   },
   {
    "duration": 10,
    "start_time": "2022-10-29T17:36:33.474Z"
   },
   {
    "duration": 10,
    "start_time": "2022-10-29T17:36:33.485Z"
   },
   {
    "duration": 9,
    "start_time": "2022-10-29T17:36:33.497Z"
   },
   {
    "duration": 4,
    "start_time": "2022-10-29T17:36:33.509Z"
   },
   {
    "duration": 49,
    "start_time": "2022-10-29T17:36:33.515Z"
   },
   {
    "duration": 5,
    "start_time": "2022-10-29T17:36:33.565Z"
   },
   {
    "duration": 236,
    "start_time": "2022-10-29T17:36:33.572Z"
   },
   {
    "duration": 328,
    "start_time": "2022-10-29T17:36:33.810Z"
   },
   {
    "duration": 300,
    "start_time": "2022-10-29T17:36:34.140Z"
   },
   {
    "duration": 385,
    "start_time": "2022-10-29T17:36:34.442Z"
   },
   {
    "duration": 355,
    "start_time": "2022-10-29T17:36:34.829Z"
   },
   {
    "duration": 434,
    "start_time": "2022-10-29T17:36:35.185Z"
   },
   {
    "duration": 176,
    "start_time": "2022-10-29T17:36:35.623Z"
   },
   {
    "duration": 172,
    "start_time": "2022-10-29T17:36:35.801Z"
   },
   {
    "duration": 5,
    "start_time": "2022-10-29T17:36:35.974Z"
   },
   {
    "duration": 20,
    "start_time": "2022-10-29T17:36:35.980Z"
   },
   {
    "duration": 256,
    "start_time": "2022-10-29T17:36:36.003Z"
   },
   {
    "duration": 128,
    "start_time": "2022-10-29T17:36:36.261Z"
   },
   {
    "duration": 6,
    "start_time": "2022-10-29T17:36:36.391Z"
   },
   {
    "duration": 34,
    "start_time": "2022-10-29T17:36:36.399Z"
   },
   {
    "duration": 9,
    "start_time": "2022-10-29T17:36:36.434Z"
   },
   {
    "duration": 8,
    "start_time": "2022-10-29T17:36:36.445Z"
   },
   {
    "duration": 9,
    "start_time": "2022-10-29T17:36:36.455Z"
   },
   {
    "duration": 20,
    "start_time": "2022-10-29T17:36:36.465Z"
   },
   {
    "duration": 41,
    "start_time": "2022-10-29T17:36:36.487Z"
   },
   {
    "duration": 12,
    "start_time": "2022-10-29T17:37:18.384Z"
   },
   {
    "duration": 990,
    "start_time": "2022-10-29T17:41:42.580Z"
   },
   {
    "duration": 27,
    "start_time": "2022-10-29T17:41:43.571Z"
   },
   {
    "duration": 3,
    "start_time": "2022-10-29T17:41:43.601Z"
   },
   {
    "duration": 35,
    "start_time": "2022-10-29T17:41:43.605Z"
   },
   {
    "duration": 12,
    "start_time": "2022-10-29T17:41:43.641Z"
   },
   {
    "duration": 60,
    "start_time": "2022-10-29T17:41:43.655Z"
   },
   {
    "duration": 11,
    "start_time": "2022-10-29T17:41:43.716Z"
   },
   {
    "duration": 11,
    "start_time": "2022-10-29T17:41:43.728Z"
   },
   {
    "duration": 18,
    "start_time": "2022-10-29T17:41:43.741Z"
   },
   {
    "duration": 4,
    "start_time": "2022-10-29T17:41:43.760Z"
   },
   {
    "duration": 65,
    "start_time": "2022-10-29T17:41:43.765Z"
   },
   {
    "duration": 12,
    "start_time": "2022-10-29T17:41:43.832Z"
   },
   {
    "duration": 302,
    "start_time": "2022-10-29T17:41:43.845Z"
   },
   {
    "duration": 357,
    "start_time": "2022-10-29T17:41:44.149Z"
   },
   {
    "duration": 304,
    "start_time": "2022-10-29T17:41:44.508Z"
   },
   {
    "duration": 404,
    "start_time": "2022-10-29T17:41:44.813Z"
   },
   {
    "duration": 339,
    "start_time": "2022-10-29T17:41:45.221Z"
   },
   {
    "duration": 393,
    "start_time": "2022-10-29T17:41:45.562Z"
   },
   {
    "duration": 202,
    "start_time": "2022-10-29T17:41:45.957Z"
   },
   {
    "duration": 200,
    "start_time": "2022-10-29T17:41:46.161Z"
   },
   {
    "duration": 4,
    "start_time": "2022-10-29T17:41:46.363Z"
   },
   {
    "duration": 16,
    "start_time": "2022-10-29T17:41:46.369Z"
   },
   {
    "duration": 259,
    "start_time": "2022-10-29T17:41:46.386Z"
   },
   {
    "duration": 161,
    "start_time": "2022-10-29T17:41:46.647Z"
   },
   {
    "duration": 13,
    "start_time": "2022-10-29T17:41:46.810Z"
   },
   {
    "duration": 21,
    "start_time": "2022-10-29T17:41:46.825Z"
   },
   {
    "duration": 9,
    "start_time": "2022-10-29T17:41:46.849Z"
   },
   {
    "duration": 10,
    "start_time": "2022-10-29T17:41:46.859Z"
   },
   {
    "duration": 24,
    "start_time": "2022-10-29T17:41:46.870Z"
   },
   {
    "duration": 33,
    "start_time": "2022-10-29T17:41:46.896Z"
   },
   {
    "duration": 12,
    "start_time": "2022-10-29T17:41:46.930Z"
   },
   {
    "duration": 1040,
    "start_time": "2022-10-29T17:52:48.034Z"
   },
   {
    "duration": 28,
    "start_time": "2022-10-29T17:52:49.075Z"
   },
   {
    "duration": 3,
    "start_time": "2022-10-29T17:52:49.105Z"
   },
   {
    "duration": 21,
    "start_time": "2022-10-29T17:52:49.110Z"
   },
   {
    "duration": 12,
    "start_time": "2022-10-29T17:52:49.132Z"
   },
   {
    "duration": 52,
    "start_time": "2022-10-29T17:52:49.146Z"
   },
   {
    "duration": 13,
    "start_time": "2022-10-29T17:52:49.200Z"
   },
   {
    "duration": 19,
    "start_time": "2022-10-29T17:52:49.214Z"
   },
   {
    "duration": 14,
    "start_time": "2022-10-29T17:52:49.235Z"
   },
   {
    "duration": 5,
    "start_time": "2022-10-29T17:52:49.252Z"
   },
   {
    "duration": 64,
    "start_time": "2022-10-29T17:52:49.258Z"
   },
   {
    "duration": 13,
    "start_time": "2022-10-29T17:52:49.324Z"
   },
   {
    "duration": 292,
    "start_time": "2022-10-29T17:52:49.340Z"
   },
   {
    "duration": 334,
    "start_time": "2022-10-29T17:52:49.634Z"
   },
   {
    "duration": 331,
    "start_time": "2022-10-29T17:52:49.970Z"
   },
   {
    "duration": 432,
    "start_time": "2022-10-29T17:52:50.302Z"
   },
   {
    "duration": 376,
    "start_time": "2022-10-29T17:52:50.736Z"
   },
   {
    "duration": 404,
    "start_time": "2022-10-29T17:52:51.114Z"
   },
   {
    "duration": 157,
    "start_time": "2022-10-29T17:52:51.522Z"
   },
   {
    "duration": 173,
    "start_time": "2022-10-29T17:52:51.681Z"
   },
   {
    "duration": 4,
    "start_time": "2022-10-29T17:52:51.855Z"
   },
   {
    "duration": 11,
    "start_time": "2022-10-29T17:52:51.860Z"
   },
   {
    "duration": 196,
    "start_time": "2022-10-29T17:52:51.873Z"
   },
   {
    "duration": 127,
    "start_time": "2022-10-29T17:52:52.071Z"
   },
   {
    "duration": 6,
    "start_time": "2022-10-29T17:52:52.199Z"
   },
   {
    "duration": 26,
    "start_time": "2022-10-29T17:52:52.206Z"
   },
   {
    "duration": 8,
    "start_time": "2022-10-29T17:52:52.234Z"
   },
   {
    "duration": 8,
    "start_time": "2022-10-29T17:52:52.244Z"
   },
   {
    "duration": 10,
    "start_time": "2022-10-29T17:52:52.253Z"
   },
   {
    "duration": 17,
    "start_time": "2022-10-29T17:52:52.265Z"
   },
   {
    "duration": 12,
    "start_time": "2022-10-29T17:52:52.283Z"
   },
   {
    "duration": 1189,
    "start_time": "2022-10-30T06:59:47.550Z"
   },
   {
    "duration": 67,
    "start_time": "2022-10-30T06:59:48.741Z"
   },
   {
    "duration": 3,
    "start_time": "2022-10-30T06:59:48.810Z"
   },
   {
    "duration": 16,
    "start_time": "2022-10-30T06:59:48.814Z"
   },
   {
    "duration": 10,
    "start_time": "2022-10-30T06:59:48.832Z"
   },
   {
    "duration": 120,
    "start_time": "2022-10-30T06:59:48.843Z"
   },
   {
    "duration": 11,
    "start_time": "2022-10-30T06:59:48.964Z"
   },
   {
    "duration": 10,
    "start_time": "2022-10-30T06:59:48.977Z"
   },
   {
    "duration": 9,
    "start_time": "2022-10-30T06:59:48.989Z"
   },
   {
    "duration": 5,
    "start_time": "2022-10-30T06:59:48.999Z"
   },
   {
    "duration": 56,
    "start_time": "2022-10-30T06:59:49.005Z"
   },
   {
    "duration": 12,
    "start_time": "2022-10-30T06:59:49.062Z"
   },
   {
    "duration": 253,
    "start_time": "2022-10-30T06:59:49.075Z"
   },
   {
    "duration": 300,
    "start_time": "2022-10-30T06:59:49.330Z"
   },
   {
    "duration": 282,
    "start_time": "2022-10-30T06:59:49.632Z"
   },
   {
    "duration": 407,
    "start_time": "2022-10-30T06:59:49.915Z"
   },
   {
    "duration": 355,
    "start_time": "2022-10-30T06:59:50.324Z"
   },
   {
    "duration": 390,
    "start_time": "2022-10-30T06:59:50.682Z"
   },
   {
    "duration": 154,
    "start_time": "2022-10-30T06:59:51.073Z"
   },
   {
    "duration": 171,
    "start_time": "2022-10-30T06:59:51.229Z"
   },
   {
    "duration": 7,
    "start_time": "2022-10-30T06:59:51.401Z"
   },
   {
    "duration": 9,
    "start_time": "2022-10-30T06:59:51.409Z"
   },
   {
    "duration": 198,
    "start_time": "2022-10-30T06:59:51.420Z"
   },
   {
    "duration": 152,
    "start_time": "2022-10-30T06:59:51.620Z"
   },
   {
    "duration": 6,
    "start_time": "2022-10-30T06:59:51.774Z"
   },
   {
    "duration": 34,
    "start_time": "2022-10-30T06:59:51.781Z"
   },
   {
    "duration": 10,
    "start_time": "2022-10-30T06:59:51.817Z"
   },
   {
    "duration": 10,
    "start_time": "2022-10-30T06:59:51.828Z"
   },
   {
    "duration": 15,
    "start_time": "2022-10-30T06:59:51.840Z"
   },
   {
    "duration": 20,
    "start_time": "2022-10-30T06:59:51.856Z"
   },
   {
    "duration": 35,
    "start_time": "2022-10-30T06:59:51.877Z"
   },
   {
    "duration": 44,
    "start_time": "2022-10-30T08:11:34.266Z"
   },
   {
    "duration": 1227,
    "start_time": "2022-10-30T08:11:38.223Z"
   },
   {
    "duration": 59,
    "start_time": "2022-10-30T08:11:39.452Z"
   },
   {
    "duration": 2,
    "start_time": "2022-10-30T08:11:39.513Z"
   },
   {
    "duration": 27,
    "start_time": "2022-10-30T08:11:39.517Z"
   },
   {
    "duration": 11,
    "start_time": "2022-10-30T08:11:39.545Z"
   },
   {
    "duration": 147,
    "start_time": "2022-10-30T08:11:39.557Z"
   },
   {
    "duration": 10,
    "start_time": "2022-10-30T08:11:39.706Z"
   },
   {
    "duration": 15,
    "start_time": "2022-10-30T08:11:39.717Z"
   },
   {
    "duration": 9,
    "start_time": "2022-10-30T08:11:39.734Z"
   },
   {
    "duration": 12,
    "start_time": "2022-10-30T08:11:39.745Z"
   },
   {
    "duration": 53,
    "start_time": "2022-10-30T08:11:39.758Z"
   },
   {
    "duration": 12,
    "start_time": "2022-10-30T08:11:39.812Z"
   },
   {
    "duration": 39,
    "start_time": "2022-10-30T08:11:39.825Z"
   },
   {
    "duration": 0,
    "start_time": "2022-10-30T08:11:39.865Z"
   },
   {
    "duration": 0,
    "start_time": "2022-10-30T08:11:39.867Z"
   },
   {
    "duration": 0,
    "start_time": "2022-10-30T08:11:39.868Z"
   },
   {
    "duration": 0,
    "start_time": "2022-10-30T08:11:39.869Z"
   },
   {
    "duration": 0,
    "start_time": "2022-10-30T08:11:39.870Z"
   },
   {
    "duration": 0,
    "start_time": "2022-10-30T08:11:39.871Z"
   },
   {
    "duration": 0,
    "start_time": "2022-10-30T08:11:39.872Z"
   },
   {
    "duration": 0,
    "start_time": "2022-10-30T08:11:39.873Z"
   },
   {
    "duration": 0,
    "start_time": "2022-10-30T08:11:39.874Z"
   },
   {
    "duration": 0,
    "start_time": "2022-10-30T08:11:39.875Z"
   },
   {
    "duration": 0,
    "start_time": "2022-10-30T08:11:39.876Z"
   },
   {
    "duration": 0,
    "start_time": "2022-10-30T08:11:39.876Z"
   },
   {
    "duration": 0,
    "start_time": "2022-10-30T08:11:39.877Z"
   },
   {
    "duration": 0,
    "start_time": "2022-10-30T08:11:39.878Z"
   },
   {
    "duration": 0,
    "start_time": "2022-10-30T08:11:39.879Z"
   },
   {
    "duration": 0,
    "start_time": "2022-10-30T08:11:39.880Z"
   },
   {
    "duration": 0,
    "start_time": "2022-10-30T08:11:39.882Z"
   },
   {
    "duration": 0,
    "start_time": "2022-10-30T08:11:39.883Z"
   },
   {
    "duration": 0,
    "start_time": "2022-10-30T08:11:39.885Z"
   },
   {
    "duration": 43,
    "start_time": "2022-10-30T08:11:49.663Z"
   },
   {
    "duration": 42,
    "start_time": "2022-10-30T08:12:24.548Z"
   },
   {
    "duration": 5,
    "start_time": "2022-10-30T08:12:28.996Z"
   },
   {
    "duration": 99,
    "start_time": "2022-10-30T08:12:32.744Z"
   },
   {
    "duration": 14,
    "start_time": "2022-10-30T08:12:39.103Z"
   },
   {
    "duration": 6,
    "start_time": "2022-10-30T08:13:01.362Z"
   },
   {
    "duration": 15,
    "start_time": "2022-10-30T08:13:05.078Z"
   },
   {
    "duration": 5,
    "start_time": "2022-10-30T08:13:08.677Z"
   },
   {
    "duration": 55,
    "start_time": "2022-10-30T08:13:12.889Z"
   },
   {
    "duration": 6,
    "start_time": "2022-10-30T08:13:15.920Z"
   },
   {
    "duration": 5,
    "start_time": "2022-10-30T08:13:49.846Z"
   },
   {
    "duration": 5,
    "start_time": "2022-10-30T08:13:57.829Z"
   },
   {
    "duration": 6,
    "start_time": "2022-10-30T08:14:00.939Z"
   },
   {
    "duration": 7,
    "start_time": "2022-10-30T08:14:05.641Z"
   },
   {
    "duration": 5,
    "start_time": "2022-10-30T08:14:11.464Z"
   },
   {
    "duration": 5,
    "start_time": "2022-10-30T08:14:13.605Z"
   },
   {
    "duration": 6,
    "start_time": "2022-10-30T08:14:15.680Z"
   },
   {
    "duration": 6,
    "start_time": "2022-10-30T08:14:18.153Z"
   },
   {
    "duration": 6,
    "start_time": "2022-10-30T08:14:20.250Z"
   },
   {
    "duration": 6,
    "start_time": "2022-10-30T08:14:22.488Z"
   },
   {
    "duration": 6,
    "start_time": "2022-10-30T08:14:24.364Z"
   },
   {
    "duration": 6,
    "start_time": "2022-10-30T08:21:09.997Z"
   },
   {
    "duration": 6,
    "start_time": "2022-10-30T08:23:06.331Z"
   },
   {
    "duration": 1214,
    "start_time": "2022-10-30T13:46:22.803Z"
   },
   {
    "duration": 73,
    "start_time": "2022-10-30T13:46:24.019Z"
   },
   {
    "duration": 3,
    "start_time": "2022-10-30T13:46:24.093Z"
   },
   {
    "duration": 22,
    "start_time": "2022-10-30T13:46:24.098Z"
   },
   {
    "duration": 11,
    "start_time": "2022-10-30T13:46:24.122Z"
   },
   {
    "duration": 130,
    "start_time": "2022-10-30T13:46:24.135Z"
   },
   {
    "duration": 13,
    "start_time": "2022-10-30T13:46:24.266Z"
   },
   {
    "duration": 19,
    "start_time": "2022-10-30T13:46:24.287Z"
   },
   {
    "duration": 11,
    "start_time": "2022-10-30T13:46:24.308Z"
   },
   {
    "duration": 5,
    "start_time": "2022-10-30T13:46:24.323Z"
   },
   {
    "duration": 66,
    "start_time": "2022-10-30T13:46:24.330Z"
   },
   {
    "duration": 12,
    "start_time": "2022-10-30T13:46:24.397Z"
   },
   {
    "duration": 6,
    "start_time": "2022-10-30T13:46:24.410Z"
   },
   {
    "duration": 274,
    "start_time": "2022-10-30T13:46:24.418Z"
   },
   {
    "duration": 329,
    "start_time": "2022-10-30T13:46:24.693Z"
   },
   {
    "duration": 323,
    "start_time": "2022-10-30T13:46:25.024Z"
   },
   {
    "duration": 449,
    "start_time": "2022-10-30T13:46:25.349Z"
   },
   {
    "duration": 361,
    "start_time": "2022-10-30T13:46:25.799Z"
   },
   {
    "duration": 397,
    "start_time": "2022-10-30T13:46:26.161Z"
   },
   {
    "duration": 175,
    "start_time": "2022-10-30T13:46:26.559Z"
   },
   {
    "duration": 179,
    "start_time": "2022-10-30T13:46:26.736Z"
   },
   {
    "duration": 4,
    "start_time": "2022-10-30T13:46:26.916Z"
   },
   {
    "duration": 7,
    "start_time": "2022-10-30T13:46:26.921Z"
   },
   {
    "duration": 202,
    "start_time": "2022-10-30T13:46:26.929Z"
   },
   {
    "duration": 131,
    "start_time": "2022-10-30T13:46:27.132Z"
   },
   {
    "duration": 5,
    "start_time": "2022-10-30T13:46:27.265Z"
   },
   {
    "duration": 20,
    "start_time": "2022-10-30T13:46:27.292Z"
   },
   {
    "duration": 9,
    "start_time": "2022-10-30T13:46:27.314Z"
   },
   {
    "duration": 8,
    "start_time": "2022-10-30T13:46:27.325Z"
   },
   {
    "duration": 10,
    "start_time": "2022-10-30T13:46:27.334Z"
   },
   {
    "duration": 42,
    "start_time": "2022-10-30T13:46:27.346Z"
   },
   {
    "duration": 14,
    "start_time": "2022-10-30T13:46:27.390Z"
   }
  ],
  "kernelspec": {
   "display_name": "Python 3 (ipykernel)",
   "language": "python",
   "name": "python3"
  },
  "language_info": {
   "codemirror_mode": {
    "name": "ipython",
    "version": 3
   },
   "file_extension": ".py",
   "mimetype": "text/x-python",
   "name": "python",
   "nbconvert_exporter": "python",
   "pygments_lexer": "ipython3",
   "version": "3.9.12"
  },
  "toc": {
   "base_numbering": 1,
   "nav_menu": {
    "height": "602.461px",
    "width": "323.496px"
   },
   "number_sections": true,
   "sideBar": true,
   "skip_h1_title": true,
   "title_cell": "Table of Contents",
   "title_sidebar": "Contents",
   "toc_cell": false,
   "toc_position": {},
   "toc_section_display": true,
   "toc_window_display": false
  }
 },
 "nbformat": 4,
 "nbformat_minor": 2
}
