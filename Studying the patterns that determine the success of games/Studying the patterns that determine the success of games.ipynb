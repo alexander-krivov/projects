{
 "cells": [
  {
   "cell_type": "markdown",
   "metadata": {},
   "source": [
    "# Изучение закономерностей, определяющих успешность игр\n",
    "\n",
    "В нашем распоряжении данные из открытых источников о продажах игр, оценках пользователей и экспертов, жанры и платформы. Необходимо \n",
    "\n",
    "\n",
    "**Цель исследования** будет состоять из следующих пунктов:\n",
    "1. Выявление каких-либо зависимостей, определяющие успешность продажи игры.\n",
    "2. Анализ портрета пользователя по регионам.\n",
    "3. Выявление наиболее популярных платформ и жанров.\n",
    "4. Выявление актуального периода для анализа.\n",
    "\n",
    "\n",
    "**Ход исследования**\n",
    "\n",
    "Данные находятся в файле `games.csv`. О качестве данных ничего не известно. Поэтому перед  исследованием понадобится провести обзор данных.\n",
    "\n",
    "На этапе предобработки данных надо будет устранить пропуски там, где это возможно. Во всех остальных случаях необходимо пояснить, почему пропуски остались нетронутыми. Проанализировать тип данных и изменить их, если потребуется.\n",
    "\n",
    "Следующим пунктом будет добавление новых столбцов в таблицу для дальнейших рачетов и нахождения зависимостей.\n",
    "\n",
    "Так же надо будет проверить гипотезы о равной пользовательской оценке платформ Xbox One и PC одинаковые и о том, что средние пользовательские рейтинги жанров Action и Sports разные.\n",
    "\n",
    "И финальным будет исследовательский анализ с выявлением закономерностей, построением графиков и создание соответствующих выводов.\n",
    "Таким образом, исследование пройдёт в шесть этапов:\n",
    " 1. Обзор данных.\n",
    " 2. Предобработка данных.\n",
    " 3. Исследовательский анализ данных\n",
    " 4. Составление портрета пользователя по регионам\n",
    " 5. Проверка гипотез\n",
    " 6. Общий вывод"
   ]
  },
  {
   "cell_type": "markdown",
   "metadata": {},
   "source": [
    "## Обзор данных"
   ]
  },
  {
   "cell_type": "code",
   "execution_count": 1,
   "metadata": {},
   "outputs": [],
   "source": [
    "import pandas as pd\n",
    "import numpy as np\n",
    "import matplotlib.pyplot as plt\n",
    "from scipy import stats as st"
   ]
  },
  {
   "cell_type": "code",
   "execution_count": 2,
   "metadata": {},
   "outputs": [],
   "source": [
    "try:\n",
    "    df = pd.read_csv('C:/Users/Alexander/Downloads/games.csv')\n",
    "except:\n",
    "    df = pd.read_csv('/datasets/games.csv') "
   ]
  },
  {
   "cell_type": "code",
   "execution_count": 3,
   "metadata": {},
   "outputs": [
    {
     "data": {
      "text/html": [
       "<div>\n",
       "<style scoped>\n",
       "    .dataframe tbody tr th:only-of-type {\n",
       "        vertical-align: middle;\n",
       "    }\n",
       "\n",
       "    .dataframe tbody tr th {\n",
       "        vertical-align: top;\n",
       "    }\n",
       "\n",
       "    .dataframe thead th {\n",
       "        text-align: right;\n",
       "    }\n",
       "</style>\n",
       "<table border=\"1\" class=\"dataframe\">\n",
       "  <thead>\n",
       "    <tr style=\"text-align: right;\">\n",
       "      <th></th>\n",
       "      <th>Name</th>\n",
       "      <th>Platform</th>\n",
       "      <th>Year_of_Release</th>\n",
       "      <th>Genre</th>\n",
       "      <th>NA_sales</th>\n",
       "      <th>EU_sales</th>\n",
       "      <th>JP_sales</th>\n",
       "      <th>Other_sales</th>\n",
       "      <th>Critic_Score</th>\n",
       "      <th>User_Score</th>\n",
       "      <th>Rating</th>\n",
       "    </tr>\n",
       "  </thead>\n",
       "  <tbody>\n",
       "    <tr>\n",
       "      <th>0</th>\n",
       "      <td>Wii Sports</td>\n",
       "      <td>Wii</td>\n",
       "      <td>2006.0</td>\n",
       "      <td>Sports</td>\n",
       "      <td>41.36</td>\n",
       "      <td>28.96</td>\n",
       "      <td>3.77</td>\n",
       "      <td>8.45</td>\n",
       "      <td>76.0</td>\n",
       "      <td>8</td>\n",
       "      <td>E</td>\n",
       "    </tr>\n",
       "    <tr>\n",
       "      <th>1</th>\n",
       "      <td>Super Mario Bros.</td>\n",
       "      <td>NES</td>\n",
       "      <td>1985.0</td>\n",
       "      <td>Platform</td>\n",
       "      <td>29.08</td>\n",
       "      <td>3.58</td>\n",
       "      <td>6.81</td>\n",
       "      <td>0.77</td>\n",
       "      <td>NaN</td>\n",
       "      <td>NaN</td>\n",
       "      <td>NaN</td>\n",
       "    </tr>\n",
       "    <tr>\n",
       "      <th>2</th>\n",
       "      <td>Mario Kart Wii</td>\n",
       "      <td>Wii</td>\n",
       "      <td>2008.0</td>\n",
       "      <td>Racing</td>\n",
       "      <td>15.68</td>\n",
       "      <td>12.76</td>\n",
       "      <td>3.79</td>\n",
       "      <td>3.29</td>\n",
       "      <td>82.0</td>\n",
       "      <td>8.3</td>\n",
       "      <td>E</td>\n",
       "    </tr>\n",
       "    <tr>\n",
       "      <th>3</th>\n",
       "      <td>Wii Sports Resort</td>\n",
       "      <td>Wii</td>\n",
       "      <td>2009.0</td>\n",
       "      <td>Sports</td>\n",
       "      <td>15.61</td>\n",
       "      <td>10.93</td>\n",
       "      <td>3.28</td>\n",
       "      <td>2.95</td>\n",
       "      <td>80.0</td>\n",
       "      <td>8</td>\n",
       "      <td>E</td>\n",
       "    </tr>\n",
       "    <tr>\n",
       "      <th>4</th>\n",
       "      <td>Pokemon Red/Pokemon Blue</td>\n",
       "      <td>GB</td>\n",
       "      <td>1996.0</td>\n",
       "      <td>Role-Playing</td>\n",
       "      <td>11.27</td>\n",
       "      <td>8.89</td>\n",
       "      <td>10.22</td>\n",
       "      <td>1.00</td>\n",
       "      <td>NaN</td>\n",
       "      <td>NaN</td>\n",
       "      <td>NaN</td>\n",
       "    </tr>\n",
       "  </tbody>\n",
       "</table>\n",
       "</div>"
      ],
      "text/plain": [
       "                       Name Platform  Year_of_Release         Genre  NA_sales  \\\n",
       "0                Wii Sports      Wii           2006.0        Sports     41.36   \n",
       "1         Super Mario Bros.      NES           1985.0      Platform     29.08   \n",
       "2            Mario Kart Wii      Wii           2008.0        Racing     15.68   \n",
       "3         Wii Sports Resort      Wii           2009.0        Sports     15.61   \n",
       "4  Pokemon Red/Pokemon Blue       GB           1996.0  Role-Playing     11.27   \n",
       "\n",
       "   EU_sales  JP_sales  Other_sales  Critic_Score User_Score Rating  \n",
       "0     28.96      3.77         8.45          76.0          8      E  \n",
       "1      3.58      6.81         0.77           NaN        NaN    NaN  \n",
       "2     12.76      3.79         3.29          82.0        8.3      E  \n",
       "3     10.93      3.28         2.95          80.0          8      E  \n",
       "4      8.89     10.22         1.00           NaN        NaN    NaN  "
      ]
     },
     "execution_count": 3,
     "metadata": {},
     "output_type": "execute_result"
    }
   ],
   "source": [
    "df.head()"
   ]
  },
  {
   "cell_type": "markdown",
   "metadata": {},
   "source": [
    "Видим, что в названиях столбцов присутствует верхний регистр, приведем их к общепринятому змеиному регистру"
   ]
  },
  {
   "cell_type": "code",
   "execution_count": 4,
   "metadata": {},
   "outputs": [],
   "source": [
    "df.columns = df.columns.str.lower()"
   ]
  },
  {
   "cell_type": "code",
   "execution_count": 5,
   "metadata": {},
   "outputs": [
    {
     "name": "stdout",
     "output_type": "stream",
     "text": [
      "<class 'pandas.core.frame.DataFrame'>\n",
      "RangeIndex: 16715 entries, 0 to 16714\n",
      "Data columns (total 11 columns):\n",
      " #   Column           Non-Null Count  Dtype  \n",
      "---  ------           --------------  -----  \n",
      " 0   name             16713 non-null  object \n",
      " 1   platform         16715 non-null  object \n",
      " 2   year_of_release  16446 non-null  float64\n",
      " 3   genre            16713 non-null  object \n",
      " 4   na_sales         16715 non-null  float64\n",
      " 5   eu_sales         16715 non-null  float64\n",
      " 6   jp_sales         16715 non-null  float64\n",
      " 7   other_sales      16715 non-null  float64\n",
      " 8   critic_score     8137 non-null   float64\n",
      " 9   user_score       10014 non-null  object \n",
      " 10  rating           9949 non-null   object \n",
      "dtypes: float64(6), object(5)\n",
      "memory usage: 1.4+ MB\n"
     ]
    }
   ],
   "source": [
    "df.info()"
   ]
  },
  {
   "cell_type": "markdown",
   "metadata": {},
   "source": [
    "Видим, что в некоторых столбцах присутствуют пропуски, а в некоторых не тот тип данных, который хотелось бы иметь.\n",
    "\n",
    "Но обо всем по порядку:\n",
    "\n",
    "1. В столбце 'name' потеряны 2 названия. Восстановить их не представляется возможным, поэтому избавимся от них. Аналогично с данными из столбца 'year_of_release'\n",
    "\n",
    "2. В столбцах 'critic_score' и 'user_score' пропущено большое количество данных, поэтому их заполнить не представляется возможным - например, заполнение медианным значением сильно изменит ситуацию.\n",
    "\n",
    "3. Некоторые столбцы имеют некорректный тип данных, например 'year_of_release' и 'user_score', поэтому надо будет изменить тип данных, предварительно исправив данные в 'user_score'."
   ]
  },
  {
   "cell_type": "markdown",
   "metadata": {},
   "source": [
    "## Предобработка данных"
   ]
  },
  {
   "cell_type": "markdown",
   "metadata": {},
   "source": [
    "Выше написаны общие задачи для данного пункта, будем последовательно их выполнять и комментировать по необходимости. По мере продвижения будет описываться каждая встреченная проблема. Единственное, что не будет затронуто - 2 пункт, в частности, причины пропусков. В столбце 'critic_score' пропуски могут быть связаны с годом выхода игры, например, игра слишком \"старая\". Так же это может быть связано с определенными затратами времени на прохождение игры, подготовку материала по ней и публикацию обзора. \n",
    "\n",
    "А в случаях, когда для рейтинга нужно как минимум несколько таких оценок, затраты времени еще больше. Ну и можно предположить, что для некоторых игр не хватило критиков. Например, игру прошло 2 человека, а по какому-нибудь стандарту необходимо, чтобы оценило игру 5 критиков. А критикам некогда, на дворе 16 год, они Ведьмака 3 проходят. Помимо этого может быть связано с жанром игры, например музыкальные игры не так интересны для большинства. Пропуски в столбце 'user_score' объяснить труднее, потому что игроки зачастую оценивают пройденные игры, тем более, сейчас даже в яндексе при поиске игры появляется опрос \"вы играли, поставьте оценку игре\". \n",
    "\n",
    "Поэтому пропуски в данном столбце могу объяснить только потерей части данных."
   ]
  },
  {
   "cell_type": "markdown",
   "metadata": {},
   "source": [
    "Применим метод .shape к датафрейму после каждого удаления данных. В этом случае наглядно будет видно сколько строк/столбцов было удалено. Иногда может быть ошибка в коде из-за которой удаляется больше чем ожидалось, используя этот способ, мы сможем сразу найти такую проблему"
   ]
  },
  {
   "cell_type": "code",
   "execution_count": 6,
   "metadata": {},
   "outputs": [
    {
     "data": {
      "text/plain": [
       "(16713, 11)"
      ]
     },
     "execution_count": 6,
     "metadata": {},
     "output_type": "execute_result"
    }
   ],
   "source": [
    "df = df.dropna(subset = ['name'])\n",
    "df.shape"
   ]
  },
  {
   "cell_type": "code",
   "execution_count": 7,
   "metadata": {
    "scrolled": true
   },
   "outputs": [
    {
     "data": {
      "text/plain": [
       "(16444, 11)"
      ]
     },
     "execution_count": 7,
     "metadata": {},
     "output_type": "execute_result"
    }
   ],
   "source": [
    "df = df.dropna(subset = ['year_of_release'])\n",
    "df.shape"
   ]
  },
  {
   "cell_type": "code",
   "execution_count": 8,
   "metadata": {},
   "outputs": [],
   "source": [
    "df['year_of_release'] = df['year_of_release'].astype(int)"
   ]
  },
  {
   "cell_type": "code",
   "execution_count": 9,
   "metadata": {},
   "outputs": [
    {
     "data": {
      "text/plain": [
       "array(['E', nan, 'M', 'T', 'E10+', 'K-A', 'AO', 'EC', 'RP'], dtype=object)"
      ]
     },
     "metadata": {},
     "output_type": "display_data"
    }
   ],
   "source": [
    "display(df['rating'].unique())\n",
    "df['rating'] = df['rating'].fillna('other')"
   ]
  },
  {
   "cell_type": "markdown",
   "metadata": {},
   "source": [
    "Хоть раньше и было написано про большое количество пропусков, про этот столбец там намеренно не упоминалось. Логика данного решение и заполения пропусков на 'E' такова: Мы знаем, что ESRB анализирует игры и выставляет им оценки. Есть вероятность, что они анализируют не все вышедшие игры и не присваивают каждой рейтинг, но в первую очередь она будет ставить возрастные метки, например, 'M'. Некоторые кампании специально будут требовать оценки своей игры от ESRB, например, если их продукт - развивающая игра для детей.\n",
    "\n",
    "Но тут стоит заметить, что ESRB - американское что это рейтинговое агентство. При изучении этого вопроса глубже, задаемся вопросом, а есть ли что-то подобное в Японии. И выясняется, что есть - CERO - Японское рейтинговое агентство. Ну а отсюда уже и недалеко до вывода, что Японские игры не имеют оценки ESRB, так как Американцы их не оценивают"
   ]
  },
  {
   "cell_type": "markdown",
   "metadata": {},
   "source": [
    "В данном случае есть вероятность, что пропуски связаны не с потерей данных или логикой, описанной выше, а с тем, что рейтинг данным играм ставило другое рейтинговое агенство(CERO). Хотя, лично по моему мнению, это несколько нелогично, так как рейтинги американского агенства и японского разные, как и принципы оценивания. Соответственно, можно сказать, что в случаях, когда игра собирает большую аудиторию в Японии, игра становится хотя бы отчасти попялурной и за ее пределами, где за дело возьмется ESRB. И, следуя этой логике, можно предположить, что данные игры популярны исключительно в Японии\n",
    "\n",
    "Но в данном случае примем во внимание этот факт и заполним пропуски на 'other', так как оценка есть, она другая, даже из другого агенства. Просто не у нас."
   ]
  },
  {
   "cell_type": "code",
   "execution_count": 10,
   "metadata": {},
   "outputs": [
    {
     "data": {
      "text/plain": [
       "array(['8', nan, '8.3', '8.5', '6.6', '8.4', '8.6', '7.7', '6.3', '7.4',\n",
       "       '8.2', '9', '7.9', '8.1', '8.7', '7.1', '3.4', '5.3', '4.8', '3.2',\n",
       "       '8.9', '6.4', '7.8', '7.5', '2.6', '7.2', '9.2', '7', '7.3', '4.3',\n",
       "       '7.6', '5.7', '5', '9.1', '6.5', 'tbd', '8.8', '6.9', '9.4', '6.8',\n",
       "       '6.1', '6.7', '5.4', '4', '4.9', '4.5', '9.3', '6.2', '4.2', '6',\n",
       "       '3.7', '4.1', '5.8', '5.6', '5.5', '4.4', '4.6', '5.9', '3.9',\n",
       "       '3.1', '2.9', '5.2', '3.3', '4.7', '5.1', '3.5', '2.5', '1.9', '3',\n",
       "       '2.7', '2.2', '2', '9.5', '2.1', '3.6', '2.8', '1.8', '3.8', '0',\n",
       "       '1.6', '9.6', '2.4', '1.7', '1.1', '0.3', '1.5', '0.7', '1.2',\n",
       "       '2.3', '0.5', '1.3', '0.2', '0.6', '1.4', '0.9', '1', '9.7'],\n",
       "      dtype=object)"
      ]
     },
     "metadata": {},
     "output_type": "display_data"
    }
   ],
   "source": [
    "display(df['user_score'].unique())\n",
    "df['user_score'] = df['user_score'].replace('tbd', np.NaN)\n",
    "df['user_score'] = df['user_score'].astype(float)"
   ]
  },
  {
   "cell_type": "markdown",
   "metadata": {},
   "source": [
    "Теперь анализируем столбец 'user_score' и видим там аббревиатуру 'tbd' - To Be Determinated (подлежит определению(много расшифровок, много переводов, но суть одна)). Для нас это не представляет какой-либо информации, так как это - отсутствие оценки, соответственно, заменяем его на NaN\n",
    "\n",
    "Замена на любую оценку(медиана, среднее, 0, еще какие-то варианты) не является правильной, так как таким образом мы изменим ситуацию и реальный пользовательский рейтинг. Так какой-то хороший проект получит слишком низкую оценку, плохой - хорошую ,и так далее."
   ]
  },
  {
   "cell_type": "code",
   "execution_count": 11,
   "metadata": {},
   "outputs": [],
   "source": [
    "df['summ_sales'] = df['na_sales'] + df['eu_sales'] + df['jp_sales'] + df['other_sales']"
   ]
  },
  {
   "cell_type": "code",
   "execution_count": 12,
   "metadata": {},
   "outputs": [
    {
     "data": {
      "text/plain": [
       "0"
      ]
     },
     "execution_count": 12,
     "metadata": {},
     "output_type": "execute_result"
    }
   ],
   "source": [
    "df.duplicated().sum() #Явных дубликатов нет"
   ]
  },
  {
   "cell_type": "code",
   "execution_count": 13,
   "metadata": {},
   "outputs": [
    {
     "data": {
      "text/plain": [
       "3"
      ]
     },
     "execution_count": 13,
     "metadata": {},
     "output_type": "execute_result"
    }
   ],
   "source": [
    "df.duplicated(subset=['name', 'platform']).sum() #Неявные есть"
   ]
  },
  {
   "cell_type": "code",
   "execution_count": 14,
   "metadata": {},
   "outputs": [
    {
     "data": {
      "text/html": [
       "<div>\n",
       "<style scoped>\n",
       "    .dataframe tbody tr th:only-of-type {\n",
       "        vertical-align: middle;\n",
       "    }\n",
       "\n",
       "    .dataframe tbody tr th {\n",
       "        vertical-align: top;\n",
       "    }\n",
       "\n",
       "    .dataframe thead th {\n",
       "        text-align: right;\n",
       "    }\n",
       "</style>\n",
       "<table border=\"1\" class=\"dataframe\">\n",
       "  <thead>\n",
       "    <tr style=\"text-align: right;\">\n",
       "      <th></th>\n",
       "      <th>name</th>\n",
       "      <th>platform</th>\n",
       "      <th>year_of_release</th>\n",
       "      <th>genre</th>\n",
       "      <th>na_sales</th>\n",
       "      <th>eu_sales</th>\n",
       "      <th>jp_sales</th>\n",
       "      <th>other_sales</th>\n",
       "      <th>critic_score</th>\n",
       "      <th>user_score</th>\n",
       "      <th>rating</th>\n",
       "      <th>summ_sales</th>\n",
       "    </tr>\n",
       "  </thead>\n",
       "  <tbody>\n",
       "    <tr>\n",
       "      <th>1591</th>\n",
       "      <td>Need for Speed: Most Wanted</td>\n",
       "      <td>X360</td>\n",
       "      <td>2005</td>\n",
       "      <td>Racing</td>\n",
       "      <td>1.0</td>\n",
       "      <td>0.13</td>\n",
       "      <td>0.02</td>\n",
       "      <td>0.10</td>\n",
       "      <td>83.0</td>\n",
       "      <td>8.5</td>\n",
       "      <td>T</td>\n",
       "      <td>1.25</td>\n",
       "    </tr>\n",
       "    <tr>\n",
       "      <th>11715</th>\n",
       "      <td>Need for Speed: Most Wanted</td>\n",
       "      <td>PC</td>\n",
       "      <td>2012</td>\n",
       "      <td>Racing</td>\n",
       "      <td>0.0</td>\n",
       "      <td>0.06</td>\n",
       "      <td>0.00</td>\n",
       "      <td>0.02</td>\n",
       "      <td>82.0</td>\n",
       "      <td>8.5</td>\n",
       "      <td>T</td>\n",
       "      <td>0.08</td>\n",
       "    </tr>\n",
       "    <tr>\n",
       "      <th>16230</th>\n",
       "      <td>Madden NFL 13</td>\n",
       "      <td>PS3</td>\n",
       "      <td>2012</td>\n",
       "      <td>Sports</td>\n",
       "      <td>0.0</td>\n",
       "      <td>0.01</td>\n",
       "      <td>0.00</td>\n",
       "      <td>0.00</td>\n",
       "      <td>83.0</td>\n",
       "      <td>5.5</td>\n",
       "      <td>E</td>\n",
       "      <td>0.01</td>\n",
       "    </tr>\n",
       "  </tbody>\n",
       "</table>\n",
       "</div>"
      ],
      "text/plain": [
       "                              name platform  year_of_release   genre  \\\n",
       "1591   Need for Speed: Most Wanted     X360             2005  Racing   \n",
       "11715  Need for Speed: Most Wanted       PC             2012  Racing   \n",
       "16230                Madden NFL 13      PS3             2012  Sports   \n",
       "\n",
       "       na_sales  eu_sales  jp_sales  other_sales  critic_score  user_score  \\\n",
       "1591        1.0      0.13      0.02         0.10          83.0         8.5   \n",
       "11715       0.0      0.06      0.00         0.02          82.0         8.5   \n",
       "16230       0.0      0.01      0.00         0.00          83.0         5.5   \n",
       "\n",
       "      rating  summ_sales  \n",
       "1591       T        1.25  \n",
       "11715      T        0.08  \n",
       "16230      E        0.01  "
      ]
     },
     "execution_count": 14,
     "metadata": {},
     "output_type": "execute_result"
    }
   ],
   "source": [
    "df[df.duplicated(subset=['name', 'platform']) == True] #Узнали, какие именно строки считаются дубликатами"
   ]
  },
  {
   "cell_type": "code",
   "execution_count": 15,
   "metadata": {
    "scrolled": false
   },
   "outputs": [
    {
     "data": {
      "text/html": [
       "<div>\n",
       "<style scoped>\n",
       "    .dataframe tbody tr th:only-of-type {\n",
       "        vertical-align: middle;\n",
       "    }\n",
       "\n",
       "    .dataframe tbody tr th {\n",
       "        vertical-align: top;\n",
       "    }\n",
       "\n",
       "    .dataframe thead th {\n",
       "        text-align: right;\n",
       "    }\n",
       "</style>\n",
       "<table border=\"1\" class=\"dataframe\">\n",
       "  <thead>\n",
       "    <tr style=\"text-align: right;\">\n",
       "      <th></th>\n",
       "      <th>name</th>\n",
       "      <th>platform</th>\n",
       "      <th>year_of_release</th>\n",
       "      <th>genre</th>\n",
       "      <th>na_sales</th>\n",
       "      <th>eu_sales</th>\n",
       "      <th>jp_sales</th>\n",
       "      <th>other_sales</th>\n",
       "      <th>critic_score</th>\n",
       "      <th>user_score</th>\n",
       "      <th>rating</th>\n",
       "      <th>summ_sales</th>\n",
       "    </tr>\n",
       "  </thead>\n",
       "  <tbody>\n",
       "    <tr>\n",
       "      <th>253</th>\n",
       "      <td>Need for Speed: Most Wanted</td>\n",
       "      <td>PS2</td>\n",
       "      <td>2005</td>\n",
       "      <td>Racing</td>\n",
       "      <td>2.03</td>\n",
       "      <td>1.79</td>\n",
       "      <td>0.08</td>\n",
       "      <td>0.47</td>\n",
       "      <td>82.0</td>\n",
       "      <td>9.1</td>\n",
       "      <td>T</td>\n",
       "      <td>4.37</td>\n",
       "    </tr>\n",
       "    <tr>\n",
       "      <th>523</th>\n",
       "      <td>Need for Speed: Most Wanted</td>\n",
       "      <td>PS3</td>\n",
       "      <td>2012</td>\n",
       "      <td>Racing</td>\n",
       "      <td>0.71</td>\n",
       "      <td>1.46</td>\n",
       "      <td>0.06</td>\n",
       "      <td>0.58</td>\n",
       "      <td>NaN</td>\n",
       "      <td>NaN</td>\n",
       "      <td>other</td>\n",
       "      <td>2.81</td>\n",
       "    </tr>\n",
       "    <tr>\n",
       "      <th>1190</th>\n",
       "      <td>Need for Speed: Most Wanted</td>\n",
       "      <td>X360</td>\n",
       "      <td>2012</td>\n",
       "      <td>Racing</td>\n",
       "      <td>0.62</td>\n",
       "      <td>0.78</td>\n",
       "      <td>0.01</td>\n",
       "      <td>0.15</td>\n",
       "      <td>83.0</td>\n",
       "      <td>8.5</td>\n",
       "      <td>T</td>\n",
       "      <td>1.56</td>\n",
       "    </tr>\n",
       "    <tr>\n",
       "      <th>1591</th>\n",
       "      <td>Need for Speed: Most Wanted</td>\n",
       "      <td>X360</td>\n",
       "      <td>2005</td>\n",
       "      <td>Racing</td>\n",
       "      <td>1.00</td>\n",
       "      <td>0.13</td>\n",
       "      <td>0.02</td>\n",
       "      <td>0.10</td>\n",
       "      <td>83.0</td>\n",
       "      <td>8.5</td>\n",
       "      <td>T</td>\n",
       "      <td>1.25</td>\n",
       "    </tr>\n",
       "    <tr>\n",
       "      <th>1998</th>\n",
       "      <td>Need for Speed: Most Wanted</td>\n",
       "      <td>XB</td>\n",
       "      <td>2005</td>\n",
       "      <td>Racing</td>\n",
       "      <td>0.53</td>\n",
       "      <td>0.46</td>\n",
       "      <td>0.00</td>\n",
       "      <td>0.05</td>\n",
       "      <td>83.0</td>\n",
       "      <td>8.8</td>\n",
       "      <td>T</td>\n",
       "      <td>1.04</td>\n",
       "    </tr>\n",
       "    <tr>\n",
       "      <th>2048</th>\n",
       "      <td>Need for Speed: Most Wanted</td>\n",
       "      <td>PSV</td>\n",
       "      <td>2012</td>\n",
       "      <td>Racing</td>\n",
       "      <td>0.33</td>\n",
       "      <td>0.45</td>\n",
       "      <td>0.01</td>\n",
       "      <td>0.22</td>\n",
       "      <td>NaN</td>\n",
       "      <td>NaN</td>\n",
       "      <td>other</td>\n",
       "      <td>1.01</td>\n",
       "    </tr>\n",
       "    <tr>\n",
       "      <th>3581</th>\n",
       "      <td>Need for Speed: Most Wanted</td>\n",
       "      <td>GC</td>\n",
       "      <td>2005</td>\n",
       "      <td>Racing</td>\n",
       "      <td>0.43</td>\n",
       "      <td>0.11</td>\n",
       "      <td>0.00</td>\n",
       "      <td>0.02</td>\n",
       "      <td>80.0</td>\n",
       "      <td>9.1</td>\n",
       "      <td>T</td>\n",
       "      <td>0.56</td>\n",
       "    </tr>\n",
       "    <tr>\n",
       "      <th>5972</th>\n",
       "      <td>Need for Speed: Most Wanted</td>\n",
       "      <td>PC</td>\n",
       "      <td>2005</td>\n",
       "      <td>Racing</td>\n",
       "      <td>0.02</td>\n",
       "      <td>0.23</td>\n",
       "      <td>0.00</td>\n",
       "      <td>0.04</td>\n",
       "      <td>82.0</td>\n",
       "      <td>8.5</td>\n",
       "      <td>T</td>\n",
       "      <td>0.29</td>\n",
       "    </tr>\n",
       "    <tr>\n",
       "      <th>6273</th>\n",
       "      <td>Need for Speed: Most Wanted</td>\n",
       "      <td>WiiU</td>\n",
       "      <td>2013</td>\n",
       "      <td>Racing</td>\n",
       "      <td>0.13</td>\n",
       "      <td>0.12</td>\n",
       "      <td>0.00</td>\n",
       "      <td>0.02</td>\n",
       "      <td>NaN</td>\n",
       "      <td>NaN</td>\n",
       "      <td>other</td>\n",
       "      <td>0.27</td>\n",
       "    </tr>\n",
       "    <tr>\n",
       "      <th>6410</th>\n",
       "      <td>Need for Speed: Most Wanted</td>\n",
       "      <td>DS</td>\n",
       "      <td>2005</td>\n",
       "      <td>Racing</td>\n",
       "      <td>0.24</td>\n",
       "      <td>0.01</td>\n",
       "      <td>0.00</td>\n",
       "      <td>0.02</td>\n",
       "      <td>45.0</td>\n",
       "      <td>6.1</td>\n",
       "      <td>E</td>\n",
       "      <td>0.27</td>\n",
       "    </tr>\n",
       "    <tr>\n",
       "      <th>6473</th>\n",
       "      <td>Need for Speed: Most Wanted</td>\n",
       "      <td>GBA</td>\n",
       "      <td>2005</td>\n",
       "      <td>Racing</td>\n",
       "      <td>0.19</td>\n",
       "      <td>0.07</td>\n",
       "      <td>0.00</td>\n",
       "      <td>0.00</td>\n",
       "      <td>NaN</td>\n",
       "      <td>8.3</td>\n",
       "      <td>E</td>\n",
       "      <td>0.26</td>\n",
       "    </tr>\n",
       "    <tr>\n",
       "      <th>11715</th>\n",
       "      <td>Need for Speed: Most Wanted</td>\n",
       "      <td>PC</td>\n",
       "      <td>2012</td>\n",
       "      <td>Racing</td>\n",
       "      <td>0.00</td>\n",
       "      <td>0.06</td>\n",
       "      <td>0.00</td>\n",
       "      <td>0.02</td>\n",
       "      <td>82.0</td>\n",
       "      <td>8.5</td>\n",
       "      <td>T</td>\n",
       "      <td>0.08</td>\n",
       "    </tr>\n",
       "  </tbody>\n",
       "</table>\n",
       "</div>"
      ],
      "text/plain": [
       "                              name platform  year_of_release   genre  \\\n",
       "253    Need for Speed: Most Wanted      PS2             2005  Racing   \n",
       "523    Need for Speed: Most Wanted      PS3             2012  Racing   \n",
       "1190   Need for Speed: Most Wanted     X360             2012  Racing   \n",
       "1591   Need for Speed: Most Wanted     X360             2005  Racing   \n",
       "1998   Need for Speed: Most Wanted       XB             2005  Racing   \n",
       "2048   Need for Speed: Most Wanted      PSV             2012  Racing   \n",
       "3581   Need for Speed: Most Wanted       GC             2005  Racing   \n",
       "5972   Need for Speed: Most Wanted       PC             2005  Racing   \n",
       "6273   Need for Speed: Most Wanted     WiiU             2013  Racing   \n",
       "6410   Need for Speed: Most Wanted       DS             2005  Racing   \n",
       "6473   Need for Speed: Most Wanted      GBA             2005  Racing   \n",
       "11715  Need for Speed: Most Wanted       PC             2012  Racing   \n",
       "\n",
       "       na_sales  eu_sales  jp_sales  other_sales  critic_score  user_score  \\\n",
       "253        2.03      1.79      0.08         0.47          82.0         9.1   \n",
       "523        0.71      1.46      0.06         0.58           NaN         NaN   \n",
       "1190       0.62      0.78      0.01         0.15          83.0         8.5   \n",
       "1591       1.00      0.13      0.02         0.10          83.0         8.5   \n",
       "1998       0.53      0.46      0.00         0.05          83.0         8.8   \n",
       "2048       0.33      0.45      0.01         0.22           NaN         NaN   \n",
       "3581       0.43      0.11      0.00         0.02          80.0         9.1   \n",
       "5972       0.02      0.23      0.00         0.04          82.0         8.5   \n",
       "6273       0.13      0.12      0.00         0.02           NaN         NaN   \n",
       "6410       0.24      0.01      0.00         0.02          45.0         6.1   \n",
       "6473       0.19      0.07      0.00         0.00           NaN         8.3   \n",
       "11715      0.00      0.06      0.00         0.02          82.0         8.5   \n",
       "\n",
       "      rating  summ_sales  \n",
       "253        T        4.37  \n",
       "523    other        2.81  \n",
       "1190       T        1.56  \n",
       "1591       T        1.25  \n",
       "1998       T        1.04  \n",
       "2048   other        1.01  \n",
       "3581       T        0.56  \n",
       "5972       T        0.29  \n",
       "6273   other        0.27  \n",
       "6410       E        0.27  \n",
       "6473       E        0.26  \n",
       "11715      T        0.08  "
      ]
     },
     "execution_count": 15,
     "metadata": {},
     "output_type": "execute_result"
    }
   ],
   "source": [
    "df[df['name'] == 'Need for Speed: Most Wanted']"
   ]
  },
  {
   "cell_type": "markdown",
   "metadata": {},
   "source": [
    "Здесь строки **1190** и **1591** посчитались, как дубликаты, но это разные версии игры(по крайней мере, я так нашел). Поэтому можно предположить, что это разные игры с одним названием(там 7 лет разницы, вряд ли просто перевыпуск). Аналогично с **5972** и **11715**. Поэтому оставим данные строки нетронутыми(одинаковый реейтинг не смутил, может, и переиздание, но тогда графика другая, другая аудитория и т.д.)"
   ]
  },
  {
   "cell_type": "code",
   "execution_count": 16,
   "metadata": {},
   "outputs": [
    {
     "data": {
      "text/html": [
       "<div>\n",
       "<style scoped>\n",
       "    .dataframe tbody tr th:only-of-type {\n",
       "        vertical-align: middle;\n",
       "    }\n",
       "\n",
       "    .dataframe tbody tr th {\n",
       "        vertical-align: top;\n",
       "    }\n",
       "\n",
       "    .dataframe thead th {\n",
       "        text-align: right;\n",
       "    }\n",
       "</style>\n",
       "<table border=\"1\" class=\"dataframe\">\n",
       "  <thead>\n",
       "    <tr style=\"text-align: right;\">\n",
       "      <th></th>\n",
       "      <th>name</th>\n",
       "      <th>platform</th>\n",
       "      <th>year_of_release</th>\n",
       "      <th>genre</th>\n",
       "      <th>na_sales</th>\n",
       "      <th>eu_sales</th>\n",
       "      <th>jp_sales</th>\n",
       "      <th>other_sales</th>\n",
       "      <th>critic_score</th>\n",
       "      <th>user_score</th>\n",
       "      <th>rating</th>\n",
       "      <th>summ_sales</th>\n",
       "    </tr>\n",
       "  </thead>\n",
       "  <tbody>\n",
       "    <tr>\n",
       "      <th>507</th>\n",
       "      <td>Madden NFL 13</td>\n",
       "      <td>X360</td>\n",
       "      <td>2012</td>\n",
       "      <td>Sports</td>\n",
       "      <td>2.53</td>\n",
       "      <td>0.15</td>\n",
       "      <td>0.0</td>\n",
       "      <td>0.17</td>\n",
       "      <td>81.0</td>\n",
       "      <td>5.8</td>\n",
       "      <td>E</td>\n",
       "      <td>2.85</td>\n",
       "    </tr>\n",
       "    <tr>\n",
       "      <th>604</th>\n",
       "      <td>Madden NFL 13</td>\n",
       "      <td>PS3</td>\n",
       "      <td>2012</td>\n",
       "      <td>Sports</td>\n",
       "      <td>2.11</td>\n",
       "      <td>0.22</td>\n",
       "      <td>0.0</td>\n",
       "      <td>0.23</td>\n",
       "      <td>83.0</td>\n",
       "      <td>5.5</td>\n",
       "      <td>E</td>\n",
       "      <td>2.56</td>\n",
       "    </tr>\n",
       "    <tr>\n",
       "      <th>3986</th>\n",
       "      <td>Madden NFL 13</td>\n",
       "      <td>Wii</td>\n",
       "      <td>2012</td>\n",
       "      <td>Sports</td>\n",
       "      <td>0.47</td>\n",
       "      <td>0.00</td>\n",
       "      <td>0.0</td>\n",
       "      <td>0.03</td>\n",
       "      <td>NaN</td>\n",
       "      <td>7.3</td>\n",
       "      <td>E</td>\n",
       "      <td>0.50</td>\n",
       "    </tr>\n",
       "    <tr>\n",
       "      <th>5887</th>\n",
       "      <td>Madden NFL 13</td>\n",
       "      <td>PSV</td>\n",
       "      <td>2012</td>\n",
       "      <td>Sports</td>\n",
       "      <td>0.28</td>\n",
       "      <td>0.00</td>\n",
       "      <td>0.0</td>\n",
       "      <td>0.02</td>\n",
       "      <td>63.0</td>\n",
       "      <td>7.3</td>\n",
       "      <td>E</td>\n",
       "      <td>0.30</td>\n",
       "    </tr>\n",
       "    <tr>\n",
       "      <th>7066</th>\n",
       "      <td>Madden NFL 13</td>\n",
       "      <td>WiiU</td>\n",
       "      <td>2012</td>\n",
       "      <td>Sports</td>\n",
       "      <td>0.21</td>\n",
       "      <td>0.00</td>\n",
       "      <td>0.0</td>\n",
       "      <td>0.02</td>\n",
       "      <td>75.0</td>\n",
       "      <td>6.7</td>\n",
       "      <td>E</td>\n",
       "      <td>0.23</td>\n",
       "    </tr>\n",
       "    <tr>\n",
       "      <th>16230</th>\n",
       "      <td>Madden NFL 13</td>\n",
       "      <td>PS3</td>\n",
       "      <td>2012</td>\n",
       "      <td>Sports</td>\n",
       "      <td>0.00</td>\n",
       "      <td>0.01</td>\n",
       "      <td>0.0</td>\n",
       "      <td>0.00</td>\n",
       "      <td>83.0</td>\n",
       "      <td>5.5</td>\n",
       "      <td>E</td>\n",
       "      <td>0.01</td>\n",
       "    </tr>\n",
       "  </tbody>\n",
       "</table>\n",
       "</div>"
      ],
      "text/plain": [
       "                name platform  year_of_release   genre  na_sales  eu_sales  \\\n",
       "507    Madden NFL 13     X360             2012  Sports      2.53      0.15   \n",
       "604    Madden NFL 13      PS3             2012  Sports      2.11      0.22   \n",
       "3986   Madden NFL 13      Wii             2012  Sports      0.47      0.00   \n",
       "5887   Madden NFL 13      PSV             2012  Sports      0.28      0.00   \n",
       "7066   Madden NFL 13     WiiU             2012  Sports      0.21      0.00   \n",
       "16230  Madden NFL 13      PS3             2012  Sports      0.00      0.01   \n",
       "\n",
       "       jp_sales  other_sales  critic_score  user_score rating  summ_sales  \n",
       "507         0.0         0.17          81.0         5.8      E        2.85  \n",
       "604         0.0         0.23          83.0         5.5      E        2.56  \n",
       "3986        0.0         0.03           NaN         7.3      E        0.50  \n",
       "5887        0.0         0.02          63.0         7.3      E        0.30  \n",
       "7066        0.0         0.02          75.0         6.7      E        0.23  \n",
       "16230       0.0         0.00          83.0         5.5      E        0.01  "
      ]
     },
     "execution_count": 16,
     "metadata": {},
     "output_type": "execute_result"
    }
   ],
   "source": [
    "df[df['name'] == 'Madden NFL 13']"
   ]
  },
  {
   "cell_type": "markdown",
   "metadata": {},
   "source": [
    "Здесь явный дубликат, **604** и **16230** строки совпадают полностью, причем, последняя продалась исключительно в европейском сегменте. Скорее всего, речь идет о каком-то дополнении или ошибке. Но после долгих поисков решения проблемы \"как объединить дубликаты в 1\" само решение не было найдено, поэтому было принято решение оставить все как есть(решение изменится, если поделишься строчкой кода для объединения дубликатов))"
   ]
  },
  {
   "cell_type": "code",
   "execution_count": 17,
   "metadata": {},
   "outputs": [
    {
     "name": "stdout",
     "output_type": "stream",
     "text": [
      "<class 'pandas.core.frame.DataFrame'>\n",
      "Int64Index: 16444 entries, 0 to 16714\n",
      "Data columns (total 12 columns):\n",
      " #   Column           Non-Null Count  Dtype  \n",
      "---  ------           --------------  -----  \n",
      " 0   name             16444 non-null  object \n",
      " 1   platform         16444 non-null  object \n",
      " 2   year_of_release  16444 non-null  int64  \n",
      " 3   genre            16444 non-null  object \n",
      " 4   na_sales         16444 non-null  float64\n",
      " 5   eu_sales         16444 non-null  float64\n",
      " 6   jp_sales         16444 non-null  float64\n",
      " 7   other_sales      16444 non-null  float64\n",
      " 8   critic_score     7983 non-null   float64\n",
      " 9   user_score       7463 non-null   float64\n",
      " 10  rating           16444 non-null  object \n",
      " 11  summ_sales       16444 non-null  float64\n",
      "dtypes: float64(7), int64(1), object(4)\n",
      "memory usage: 1.6+ MB\n"
     ]
    }
   ],
   "source": [
    "df.info()"
   ]
  },
  {
   "cell_type": "markdown",
   "metadata": {},
   "source": [
    "Все пункты, написанные в выводе прошлого пункта, были выполнены - от большей части пропусков удалось избавиться, типы данных были изменены, а так же был добавлен новый столбец, показывающий общие продажи продукта - 'summ_sales'\n",
    "\n",
    "Итак, мы провели предварительный анализ данных, проверили данные на наличие пропусков и затем обработали их (аргументированно заполнили / удалили / оставили как есть). Теперь можно приступать собственно к анализу данных и ответам на вопросы проекта."
   ]
  },
  {
   "cell_type": "markdown",
   "metadata": {},
   "source": [
    "## Исследовательский анализ данных"
   ]
  },
  {
   "cell_type": "markdown",
   "metadata": {},
   "source": [
    "Стоит пояснить следующее действие. Агрегация по count() покажет нам число игр, выпущенных на всех платформах, в разрезе лет. Т.е. если одна и та же игра (name) вышла в некоем году на одной платформе, агрегат == 1. Если на 2-х платформах, агрегат == 2, ну и так далее. \n",
    "\n",
    "Я считаю, что именно такая логика здесь и необходима(счиитаем ВСЕ игры с учетом платформ, а не 1 игра - 5 платформ. Объясню свою логику - для выпуска на консоль разработчики точно знают ее характеристики, поэтому они могут выставить необходимые настройки графики и опираться на них. При этом не стоит забывать про настройку контроллера, который разный, например, у PS4 и Wii. Помимо этого, у каждой платформы есть особенности, накладывающие определенные ограничения(например, на консоли не хватит мощности на качество 4К и гиперреализм в то время как на компьютере это возможно). Но на компьютерах придется адаптировать игру и под слабые компьютеры, под разные системы, под разное железо, видеокарты и так далее. Не считая настройки контроллера, адаптирования управления и многих других различий. Именно поэтому считаю, что должна считаться каждая игра на каждой платформе как отдельная игра. К примеру, раз уж заговорили про Ведьмака, он совершенно по-разному ощущается на геймпаде и на компьютере."
   ]
  },
  {
   "cell_type": "code",
   "execution_count": 18,
   "metadata": {},
   "outputs": [
    {
     "data": {
      "text/html": [
       "<div>\n",
       "<style scoped>\n",
       "    .dataframe tbody tr th:only-of-type {\n",
       "        vertical-align: middle;\n",
       "    }\n",
       "\n",
       "    .dataframe tbody tr th {\n",
       "        vertical-align: top;\n",
       "    }\n",
       "\n",
       "    .dataframe thead th {\n",
       "        text-align: right;\n",
       "    }\n",
       "</style>\n",
       "<table border=\"1\" class=\"dataframe\">\n",
       "  <thead>\n",
       "    <tr style=\"text-align: right;\">\n",
       "      <th></th>\n",
       "      <th>year_of_release</th>\n",
       "      <th>name</th>\n",
       "    </tr>\n",
       "  </thead>\n",
       "  <tbody>\n",
       "    <tr>\n",
       "      <th>0</th>\n",
       "      <td>1980</td>\n",
       "      <td>9</td>\n",
       "    </tr>\n",
       "    <tr>\n",
       "      <th>1</th>\n",
       "      <td>1981</td>\n",
       "      <td>46</td>\n",
       "    </tr>\n",
       "    <tr>\n",
       "      <th>2</th>\n",
       "      <td>1982</td>\n",
       "      <td>36</td>\n",
       "    </tr>\n",
       "    <tr>\n",
       "      <th>3</th>\n",
       "      <td>1983</td>\n",
       "      <td>17</td>\n",
       "    </tr>\n",
       "    <tr>\n",
       "      <th>4</th>\n",
       "      <td>1984</td>\n",
       "      <td>14</td>\n",
       "    </tr>\n",
       "    <tr>\n",
       "      <th>5</th>\n",
       "      <td>1985</td>\n",
       "      <td>14</td>\n",
       "    </tr>\n",
       "    <tr>\n",
       "      <th>6</th>\n",
       "      <td>1986</td>\n",
       "      <td>21</td>\n",
       "    </tr>\n",
       "    <tr>\n",
       "      <th>7</th>\n",
       "      <td>1987</td>\n",
       "      <td>16</td>\n",
       "    </tr>\n",
       "    <tr>\n",
       "      <th>8</th>\n",
       "      <td>1988</td>\n",
       "      <td>15</td>\n",
       "    </tr>\n",
       "    <tr>\n",
       "      <th>9</th>\n",
       "      <td>1989</td>\n",
       "      <td>17</td>\n",
       "    </tr>\n",
       "    <tr>\n",
       "      <th>10</th>\n",
       "      <td>1990</td>\n",
       "      <td>16</td>\n",
       "    </tr>\n",
       "    <tr>\n",
       "      <th>11</th>\n",
       "      <td>1991</td>\n",
       "      <td>41</td>\n",
       "    </tr>\n",
       "    <tr>\n",
       "      <th>12</th>\n",
       "      <td>1992</td>\n",
       "      <td>43</td>\n",
       "    </tr>\n",
       "    <tr>\n",
       "      <th>13</th>\n",
       "      <td>1993</td>\n",
       "      <td>60</td>\n",
       "    </tr>\n",
       "    <tr>\n",
       "      <th>14</th>\n",
       "      <td>1994</td>\n",
       "      <td>121</td>\n",
       "    </tr>\n",
       "    <tr>\n",
       "      <th>15</th>\n",
       "      <td>1995</td>\n",
       "      <td>219</td>\n",
       "    </tr>\n",
       "    <tr>\n",
       "      <th>16</th>\n",
       "      <td>1996</td>\n",
       "      <td>263</td>\n",
       "    </tr>\n",
       "    <tr>\n",
       "      <th>17</th>\n",
       "      <td>1997</td>\n",
       "      <td>289</td>\n",
       "    </tr>\n",
       "    <tr>\n",
       "      <th>18</th>\n",
       "      <td>1998</td>\n",
       "      <td>379</td>\n",
       "    </tr>\n",
       "    <tr>\n",
       "      <th>19</th>\n",
       "      <td>1999</td>\n",
       "      <td>338</td>\n",
       "    </tr>\n",
       "    <tr>\n",
       "      <th>20</th>\n",
       "      <td>2000</td>\n",
       "      <td>350</td>\n",
       "    </tr>\n",
       "    <tr>\n",
       "      <th>21</th>\n",
       "      <td>2001</td>\n",
       "      <td>482</td>\n",
       "    </tr>\n",
       "    <tr>\n",
       "      <th>22</th>\n",
       "      <td>2002</td>\n",
       "      <td>829</td>\n",
       "    </tr>\n",
       "    <tr>\n",
       "      <th>23</th>\n",
       "      <td>2003</td>\n",
       "      <td>775</td>\n",
       "    </tr>\n",
       "    <tr>\n",
       "      <th>24</th>\n",
       "      <td>2004</td>\n",
       "      <td>762</td>\n",
       "    </tr>\n",
       "    <tr>\n",
       "      <th>25</th>\n",
       "      <td>2005</td>\n",
       "      <td>939</td>\n",
       "    </tr>\n",
       "    <tr>\n",
       "      <th>26</th>\n",
       "      <td>2006</td>\n",
       "      <td>1006</td>\n",
       "    </tr>\n",
       "    <tr>\n",
       "      <th>27</th>\n",
       "      <td>2007</td>\n",
       "      <td>1197</td>\n",
       "    </tr>\n",
       "    <tr>\n",
       "      <th>28</th>\n",
       "      <td>2008</td>\n",
       "      <td>1427</td>\n",
       "    </tr>\n",
       "    <tr>\n",
       "      <th>29</th>\n",
       "      <td>2009</td>\n",
       "      <td>1426</td>\n",
       "    </tr>\n",
       "    <tr>\n",
       "      <th>30</th>\n",
       "      <td>2010</td>\n",
       "      <td>1255</td>\n",
       "    </tr>\n",
       "    <tr>\n",
       "      <th>31</th>\n",
       "      <td>2011</td>\n",
       "      <td>1136</td>\n",
       "    </tr>\n",
       "    <tr>\n",
       "      <th>32</th>\n",
       "      <td>2012</td>\n",
       "      <td>653</td>\n",
       "    </tr>\n",
       "    <tr>\n",
       "      <th>33</th>\n",
       "      <td>2013</td>\n",
       "      <td>544</td>\n",
       "    </tr>\n",
       "    <tr>\n",
       "      <th>34</th>\n",
       "      <td>2014</td>\n",
       "      <td>581</td>\n",
       "    </tr>\n",
       "    <tr>\n",
       "      <th>35</th>\n",
       "      <td>2015</td>\n",
       "      <td>606</td>\n",
       "    </tr>\n",
       "    <tr>\n",
       "      <th>36</th>\n",
       "      <td>2016</td>\n",
       "      <td>502</td>\n",
       "    </tr>\n",
       "  </tbody>\n",
       "</table>\n",
       "</div>"
      ],
      "text/plain": [
       "    year_of_release  name\n",
       "0              1980     9\n",
       "1              1981    46\n",
       "2              1982    36\n",
       "3              1983    17\n",
       "4              1984    14\n",
       "5              1985    14\n",
       "6              1986    21\n",
       "7              1987    16\n",
       "8              1988    15\n",
       "9              1989    17\n",
       "10             1990    16\n",
       "11             1991    41\n",
       "12             1992    43\n",
       "13             1993    60\n",
       "14             1994   121\n",
       "15             1995   219\n",
       "16             1996   263\n",
       "17             1997   289\n",
       "18             1998   379\n",
       "19             1999   338\n",
       "20             2000   350\n",
       "21             2001   482\n",
       "22             2002   829\n",
       "23             2003   775\n",
       "24             2004   762\n",
       "25             2005   939\n",
       "26             2006  1006\n",
       "27             2007  1197\n",
       "28             2008  1427\n",
       "29             2009  1426\n",
       "30             2010  1255\n",
       "31             2011  1136\n",
       "32             2012   653\n",
       "33             2013   544\n",
       "34             2014   581\n",
       "35             2015   606\n",
       "36             2016   502"
      ]
     },
     "execution_count": 18,
     "metadata": {},
     "output_type": "execute_result"
    },
    {
     "data": {
      "image/png": "[encoded data removed]",
      "text/plain": [
       "<Figure size 432x288 with 1 Axes>"
      ]
     },
     "metadata": {
      "needs_background": "light"
     },
     "output_type": "display_data"
    }
   ],
   "source": [
    "df.boxplot('year_of_release')\n",
    "df.groupby('year_of_release', as_index=False)['name'].count()"
   ]
  },
  {
   "cell_type": "markdown",
   "metadata": {},
   "source": [
    "И на графике и в таблице мы можем увидеть, что с 1993 года начинается интенсивный рост выпуска игр, он идет до 2008, после чего наблюдается спад. Поэтому при анализе мы може отбросить малую часть данных, находящуюся за \"усами\", в частности, игры до 1994 года"
   ]
  },
  {
   "cell_type": "code",
   "execution_count": 19,
   "metadata": {},
   "outputs": [
    {
     "data": {
      "text/plain": [
       "platform\n",
       "PS2     1233.56\n",
       "X360     961.24\n",
       "PS3      931.34\n",
       "Wii      891.18\n",
       "DS       802.78\n",
       "PS       727.58\n",
       "PS4      314.14\n",
       "GBA      312.88\n",
       "PSP      289.53\n",
       "3DS      257.81\n",
       "Name: summ_sales, dtype: float64"
      ]
     },
     "execution_count": 19,
     "metadata": {},
     "output_type": "execute_result"
    }
   ],
   "source": [
    "df.groupby('platform')['summ_sales'].sum().sort_values(ascending=False).head(10) #Топ-10 платформ по общим продажам"
   ]
  },
  {
   "cell_type": "code",
   "execution_count": 20,
   "metadata": {},
   "outputs": [
    {
     "data": {
      "text/plain": [
       "<AxesSubplot:xlabel='year_of_release'>"
      ]
     },
     "execution_count": 20,
     "metadata": {},
     "output_type": "execute_result"
    },
    {
     "data": {
      "image/png": "[encoded data removed]",
      "text/plain": [
       "<Figure size 432x288 with 1 Axes>"
      ]
     },
     "metadata": {
      "needs_background": "light"
     },
     "output_type": "display_data"
    }
   ],
   "source": [
    "names = df.pivot_table(index='platform', values='summ_sales', aggfunc='sum').sort_values('summ_sales', ascending=False)\n",
    "names = names.index[:6].tolist() #топ-6, потому что 7 место сильно отличается\n",
    "data = df.query('platform in @names')\n",
    "data.pivot_table(index='year_of_release', columns='platform', values='summ_sales', aggfunc='sum').plot()"
   ]
  },
  {
   "cell_type": "markdown",
   "metadata": {},
   "source": [
    "Стоит заметить, что на графиках видно, что средний \"срок актуальности\" платформы находится на уровне 10 лет. Соответственно, для нашего актуального периода мы можем брать данные как максимум за последние 10 лет"
   ]
  },
  {
   "cell_type": "code",
   "execution_count": 21,
   "metadata": {},
   "outputs": [
    {
     "data": {
      "text/plain": [
       "year_of_release\n",
       "1980     11.38\n",
       "1981     35.68\n",
       "1982     28.88\n",
       "1983     16.80\n",
       "1984     50.35\n",
       "1985     53.95\n",
       "1986     37.08\n",
       "1987     21.70\n",
       "1988     47.21\n",
       "1989     73.45\n",
       "1990     49.37\n",
       "1991     32.23\n",
       "1992     76.16\n",
       "1993     45.99\n",
       "1994     79.23\n",
       "1995     88.12\n",
       "1996    199.15\n",
       "1997    201.07\n",
       "1998    256.31\n",
       "1999    251.11\n",
       "2000    201.66\n",
       "2001    331.46\n",
       "2002    394.97\n",
       "2003    357.54\n",
       "2004    418.68\n",
       "2005    457.82\n",
       "2006    517.71\n",
       "2007    604.75\n",
       "2008    671.50\n",
       "2009    658.82\n",
       "2010    590.13\n",
       "2011    507.58\n",
       "2012    355.84\n",
       "2013    361.24\n",
       "2014    331.53\n",
       "2015    267.98\n",
       "2016    129.94\n",
       "Name: summ_sales, dtype: float64"
      ]
     },
     "execution_count": 21,
     "metadata": {},
     "output_type": "execute_result"
    }
   ],
   "source": [
    "df.groupby('year_of_release')['summ_sales'].sum()"
   ]
  },
  {
   "cell_type": "markdown",
   "metadata": {},
   "source": [
    "Как было написано 2 ячейками выше, актуальный период должен быть не больше 10 лет. Но нам нужно выбрать актуальный период, помогающий спрогнозировать количество игр на 2017 год. Так как сфера электроники динамично меняется, требуется брать период не более 3 лет, этот срок и будет использоваться для анализа"
   ]
  },
  {
   "cell_type": "code",
   "execution_count": 22,
   "metadata": {},
   "outputs": [
    {
     "data": {
      "text/plain": [
       "platform\n",
       "PS4     288.15\n",
       "XOne    140.36\n",
       "3DS      86.68\n",
       "PS3      68.18\n",
       "X360     48.22\n",
       "WiiU     42.98\n",
       "PC       27.05\n",
       "PSV      22.40\n",
       "Wii       5.07\n",
       "PSP       0.36\n",
       "Name: summ_sales, dtype: float64"
      ]
     },
     "metadata": {},
     "output_type": "display_data"
    }
   ],
   "source": [
    "data = df.query('year_of_release >= 2014')\n",
    "display(data.groupby('platform')['summ_sales'].sum().sort_values(ascending=False))\n",
    "names = data.pivot_table(index='platform', values='summ_sales', aggfunc='sum').sort_values('summ_sales', ascending=False)\n",
    "names = names.index[:6].tolist() #Снова берем топ-6, так как отрыв между 5 и 6 не такой большой, как между 6 и 7\n",
    "data = data.query('platform in @ names')"
   ]
  },
  {
   "cell_type": "code",
   "execution_count": 23,
   "metadata": {},
   "outputs": [
    {
     "data": {
      "text/plain": [
       "<AxesSubplot:xlabel='year_of_release'>"
      ]
     },
     "execution_count": 23,
     "metadata": {},
     "output_type": "execute_result"
    },
    {
     "data": {
      "image/png": "[encoded data removed]",
      "text/plain": [
       "<Figure size 432x288 with 1 Axes>"
      ]
     },
     "metadata": {
      "needs_background": "light"
     },
     "output_type": "display_data"
    }
   ],
   "source": [
    "data.pivot_table(index='year_of_release', columns='platform', values='summ_sales', aggfunc='sum').plot()"
   ]
  },
  {
   "cell_type": "code",
   "execution_count": 24,
   "metadata": {},
   "outputs": [
    {
     "data": {
      "text/plain": [
       "year_of_release\n",
       "2014    418\n",
       "2015    439\n",
       "2016    362\n",
       "Name: name, dtype: int64"
      ]
     },
     "execution_count": 24,
     "metadata": {},
     "output_type": "execute_result"
    }
   ],
   "source": [
    "data.groupby('year_of_release')['name'].count() #Смотрим, сколько значений остается в конечном датафреме для прогнозов"
   ]
  },
  {
   "cell_type": "markdown",
   "metadata": {},
   "source": [
    "Ниже будем строить графики распределения продаж для каждой из отобранных плаформ. В каждом из графиков будет видно, что бОльшая часть игр продалась общей стоимостью не более 1 миллиона копий. Поэтому можно подумать, что остальные данные не нужны или это - выбросы. Но, с точки зрения магазина, наиболее выгодно взять именно наиболее популярные игры и продавать их по всему миру\n",
    "\n",
    "Поэтому никаких срезов или ограничений не предусматривается(Ну или, как вариант, ограничивать со стороны минимума продаж)"
   ]
  },
  {
   "cell_type": "code",
   "execution_count": 25,
   "metadata": {
    "scrolled": true
   },
   "outputs": [
    {
     "data": {
      "text/plain": [
       "<AxesSubplot:title={'center':'summ_sales'}, xlabel='platform'>"
      ]
     },
     "execution_count": 25,
     "metadata": {},
     "output_type": "execute_result"
    },
    {
     "data": {
      "image/png": "[encoded data removed]",
      "text/plain": [
       "<Figure size 432x288 with 1 Axes>"
      ]
     },
     "metadata": {
      "needs_background": "light"
     },
     "output_type": "display_data"
    }
   ],
   "source": [
    "data.boxplot('summ_sales', 'platform')"
   ]
  },
  {
   "cell_type": "markdown",
   "metadata": {},
   "source": [
    "Видим, что масштаб слишком большой из-за выбросов. Ограничим боксплот по оси y"
   ]
  },
  {
   "cell_type": "code",
   "execution_count": 26,
   "metadata": {},
   "outputs": [
    {
     "data": {
      "image/png": "[encoded data removed]",
      "text/plain": [
       "<Figure size 432x288 with 1 Axes>"
      ]
     },
     "metadata": {
      "needs_background": "light"
     },
     "output_type": "display_data"
    }
   ],
   "source": [
    "data.boxplot('summ_sales', 'platform')\n",
    "\n",
    "plt.ylim(0, 0.85)\n",
    "plt.show()"
   ]
  },
  {
   "cell_type": "markdown",
   "metadata": {},
   "source": [
    "Если смотреть по данным, полученным методом describe(), можно прийти к выводу, что наиболее выгодная платформа - PS4, так как 75% всех значений находится на уровне около полутора млн. копий, что является максимальным значением"
   ]
  },
  {
   "cell_type": "code",
   "execution_count": 27,
   "metadata": {},
   "outputs": [
    {
     "name": "stdout",
     "output_type": "stream",
     "text": [
      "<class 'pandas.core.frame.DataFrame'>\n",
      "Int64Index: 1219 entries, 31 to 16710\n",
      "Data columns (total 12 columns):\n",
      " #   Column           Non-Null Count  Dtype  \n",
      "---  ------           --------------  -----  \n",
      " 0   name             1219 non-null   object \n",
      " 1   platform         1219 non-null   object \n",
      " 2   year_of_release  1219 non-null   int64  \n",
      " 3   genre            1219 non-null   object \n",
      " 4   na_sales         1219 non-null   float64\n",
      " 5   eu_sales         1219 non-null   float64\n",
      " 6   jp_sales         1219 non-null   float64\n",
      " 7   other_sales      1219 non-null   float64\n",
      " 8   critic_score     548 non-null    float64\n",
      " 9   user_score       691 non-null    float64\n",
      " 10  rating           1219 non-null   object \n",
      " 11  summ_sales       1219 non-null   float64\n",
      "dtypes: float64(7), int64(1), object(4)\n",
      "memory usage: 123.8+ KB\n"
     ]
    }
   ],
   "source": [
    "data.info()"
   ]
  },
  {
   "cell_type": "markdown",
   "metadata": {},
   "source": [
    "Здесь мы можем заметить, что данные за актуальный период и по актуальным платформам составляет 1/16 от общего датафрейма"
   ]
  },
  {
   "cell_type": "code",
   "execution_count": 28,
   "metadata": {},
   "outputs": [
    {
     "data": {
      "image/png": "[encoded data removed]",
      "text/plain": [
       "<Figure size 576x576 with 1 Axes>"
      ]
     },
     "metadata": {
      "needs_background": "light"
     },
     "output_type": "display_data"
    },
    {
     "data": {
      "text/plain": [
       "0.3863209760179763"
      ]
     },
     "execution_count": 28,
     "metadata": {},
     "output_type": "execute_result"
    }
   ],
   "source": [
    "x = data['critic_score']\n",
    "y = data['summ_sales']\n",
    "\n",
    "fig, ax = plt.subplots()\n",
    "\n",
    "ax.scatter(x, y,\n",
    "           c = 'deeppink')\n",
    "\n",
    "ax.set_facecolor('black')\n",
    "ax.set_title('Зависимость покупок от оценок критиков')\n",
    "\n",
    "fig.set_figwidth(8)\n",
    "fig.set_figheight(8)\n",
    "\n",
    "plt.show()\n",
    "\n",
    "data['summ_sales'].corr(data['critic_score'])"
   ]
  },
  {
   "cell_type": "code",
   "execution_count": 29,
   "metadata": {},
   "outputs": [
    {
     "data": {
      "image/png": "[encoded data removed]",
      "text/plain": [
       "<Figure size 576x576 with 1 Axes>"
      ]
     },
     "metadata": {
      "needs_background": "light"
     },
     "output_type": "display_data"
    },
    {
     "data": {
      "text/plain": [
       "0.004264283332695286"
      ]
     },
     "execution_count": 29,
     "metadata": {},
     "output_type": "execute_result"
    }
   ],
   "source": [
    "x = data['user_score']\n",
    "y = data['summ_sales']\n",
    "\n",
    "fig, ax = plt.subplots()\n",
    "\n",
    "ax.scatter(x, y,\n",
    "           c = 'deeppink')\n",
    "\n",
    "ax.set_facecolor('black')\n",
    "ax.set_title('Зависимость покупок от оценок игроков')\n",
    "\n",
    "fig.set_figwidth(8)\n",
    "fig.set_figheight(8)\n",
    "\n",
    "plt.show()\n",
    "\n",
    "data['summ_sales'].corr(data['user_score'])"
   ]
  },
  {
   "cell_type": "code",
   "execution_count": 30,
   "metadata": {},
   "outputs": [
    {
     "data": {
      "image/png": "[encoded data removed]",
      "text/plain": [
       "<Figure size 576x576 with 1 Axes>"
      ]
     },
     "metadata": {
      "needs_background": "light"
     },
     "output_type": "display_data"
    },
    {
     "data": {
      "text/plain": [
       "0.40266141068104083"
      ]
     },
     "execution_count": 30,
     "metadata": {},
     "output_type": "execute_result"
    }
   ],
   "source": [
    "x = data[data['platform'] == 'PS4']['critic_score']\n",
    "y = data[data['platform'] == 'PS4']['summ_sales']\n",
    "\n",
    "fig, ax = plt.subplots()\n",
    "\n",
    "ax.scatter(x, y,\n",
    "           c = 'deeppink')\n",
    "\n",
    "ax.set_facecolor('black')\n",
    "ax.set_title('Зависимость покупок от оценок критиков на PS4')\n",
    "\n",
    "fig.set_figwidth(8)\n",
    "fig.set_figheight(8)\n",
    "\n",
    "plt.show()\n",
    "\n",
    "data[data['platform'] == 'PS4']['summ_sales'].corr(data[data['platform'] == 'PS4']['critic_score'])"
   ]
  },
  {
   "cell_type": "code",
   "execution_count": 31,
   "metadata": {},
   "outputs": [
    {
     "data": {
      "image/png": "[encoded data removed]",
      "text/plain": [
       "<Figure size 576x576 with 1 Axes>"
      ]
     },
     "metadata": {
      "needs_background": "light"
     },
     "output_type": "display_data"
    },
    {
     "data": {
      "text/plain": [
       "-0.040131589472697356"
      ]
     },
     "execution_count": 31,
     "metadata": {},
     "output_type": "execute_result"
    }
   ],
   "source": [
    "x = data[data['platform'] == 'PS4']['user_score']\n",
    "y = data[data['platform'] == 'PS4']['summ_sales']\n",
    "\n",
    "fig, ax = plt.subplots()\n",
    "\n",
    "ax.scatter(x, y,\n",
    "           c = 'deeppink')\n",
    "\n",
    "ax.set_facecolor('black')\n",
    "ax.set_title('Зависимость покупок от оценок игроков на PS4')\n",
    "\n",
    "fig.set_figwidth(8)\n",
    "fig.set_figheight(8)\n",
    "\n",
    "plt.show()\n",
    "\n",
    "data[data['platform'] == 'PS4']['summ_sales'].corr(data[data['platform'] == 'PS4']['user_score'])"
   ]
  },
  {
   "cell_type": "markdown",
   "metadata": {},
   "source": [
    "Выше мы строили графики рассеивания и смотрели на корреляцию между общими продажами и оценками игроков\\критиков.  Можно заметить, что оценки пользователей зачастую выше критиков, а так же, что определенная зависимость есть. Чем выше оценка, тем выше продажи. Это логично, так как критику зачастую делают обзоры и оценку игр, пользуясь пресс-релизом. Соответственно, если критикам понравилось, он выкладывает интересный обзор и ставит высокую оценку, что привлекает новых покупателей игры\n",
    "\n",
    "Зависимость между общими продажами и оценками игроков не столь заметна(например, на PS4 корреляция практически равна 0). В общем случае здесь так же с увеличением одного растет другое, но можно увидеть на графике, что есть бОльшее количество отклонений от этого правила. Если у критиков в диапазоне от 40 до 60 выше 2 млн. копий не набрала ни 1 игра, то у игроков в диапазоне от 4 до 6 игр с продажами более 5 млн.копий гораздо больше 10.\n",
    "\n",
    "Именно поэтому целесообразнее опираться на оценку критиков\n",
    "\n",
    "*коэффициент корелляции показывает лишь наличие линейной связи, здесь в обоих случаях нет сильной зависимости между оценкой и продажами, поэтому можно сделать вывод, что зависимость есть, и лучше опираться на оценку критиков, но не слишком сильно полагаться на это*"
   ]
  },
  {
   "cell_type": "code",
   "execution_count": 32,
   "metadata": {},
   "outputs": [
    {
     "data": {
      "text/plain": [
       "genre\n",
       "Shooter         0.680\n",
       "Sports          0.315\n",
       "Role-Playing    0.170\n",
       "Platform        0.160\n",
       "Fighting        0.150\n",
       "Racing          0.130\n",
       "Simulation      0.120\n",
       "Action          0.120\n",
       "Misc            0.110\n",
       "Adventure       0.060\n",
       "Strategy        0.060\n",
       "Puzzle          0.050\n",
       "Name: summ_sales, dtype: float64"
      ]
     },
     "execution_count": 32,
     "metadata": {},
     "output_type": "execute_result"
    }
   ],
   "source": [
    "data.groupby('genre')['summ_sales'].median().sort_values(ascending=False)"
   ]
  },
  {
   "cell_type": "markdown",
   "metadata": {},
   "source": [
    "~~А здесь мы видим боль в глазах любителей стратегий(да просто HMM3 вышла до 2008 года)...~~\n",
    "\n",
    "Можно заметить, что наиболее популярный жанр - Shooter, наименее - Puzzle.\n",
    "\n",
    "Динамичные игры более популярны(шутеры, спортивные игры и т.д.), более спокойные и размеренные не так интересны(пазлы, стратегии, приключения...)"
   ]
  },
  {
   "cell_type": "markdown",
   "metadata": {},
   "source": [
    "## Составление портрета пользователя по регионам"
   ]
  },
  {
   "cell_type": "markdown",
   "metadata": {},
   "source": [
    "Ниже будет классическая группировка по общим продажам по каждому региону для понимания, какая платформа и какой жанр наиболее популярен в разных регионах"
   ]
  },
  {
   "cell_type": "code",
   "execution_count": 33,
   "metadata": {},
   "outputs": [
    {
     "data": {
      "text/plain": [
       "platform\n",
       "PS4     98.61\n",
       "XOne    81.27\n",
       "X360    28.30\n",
       "3DS     22.64\n",
       "PS3     22.05\n",
       "Name: na_sales, dtype: float64"
      ]
     },
     "metadata": {},
     "output_type": "display_data"
    },
    {
     "data": {
      "text/plain": [
       "genre\n",
       "Shooter         76.83\n",
       "Action          69.83\n",
       "Sports          45.71\n",
       "Role-Playing    31.14\n",
       "Misc            13.15\n",
       "Name: na_sales, dtype: float64"
      ]
     },
     "execution_count": 33,
     "metadata": {},
     "output_type": "execute_result"
    }
   ],
   "source": [
    "display(data.groupby('platform')['na_sales'].sum().sort_values(ascending=False).head(5))\n",
    "data.groupby('genre')['na_sales'].sum().sort_values(ascending=False).head(5)"
   ]
  },
  {
   "cell_type": "code",
   "execution_count": 34,
   "metadata": {},
   "outputs": [
    {
     "data": {
      "text/plain": [
       "platform\n",
       "PS4     130.04\n",
       "XOne     46.25\n",
       "PS3      25.54\n",
       "3DS      16.12\n",
       "X360     15.49\n",
       "Name: eu_sales, dtype: float64"
      ]
     },
     "metadata": {},
     "output_type": "display_data"
    },
    {
     "data": {
      "text/plain": [
       "genre\n",
       "Action          69.32\n",
       "Shooter         61.87\n",
       "Sports          44.17\n",
       "Role-Playing    24.91\n",
       "Racing          13.51\n",
       "Name: eu_sales, dtype: float64"
      ]
     },
     "execution_count": 34,
     "metadata": {},
     "output_type": "execute_result"
    }
   ],
   "source": [
    "display(data.groupby('platform')['eu_sales'].sum().sort_values(ascending=False).head(5))\n",
    "data.groupby('genre')['eu_sales'].sum().sort_values(ascending=False).head(5)"
   ]
  },
  {
   "cell_type": "code",
   "execution_count": 35,
   "metadata": {},
   "outputs": [
    {
     "data": {
      "text/plain": [
       "platform\n",
       "3DS     44.24\n",
       "PS4     15.02\n",
       "PS3     11.22\n",
       "WiiU     7.31\n",
       "XOne     0.32\n",
       "Name: jp_sales, dtype: float64"
      ]
     },
     "metadata": {},
     "output_type": "display_data"
    },
    {
     "data": {
      "text/plain": [
       "genre\n",
       "Role-Playing    26.47\n",
       "Action          24.48\n",
       "Fighting         5.91\n",
       "Shooter          4.86\n",
       "Misc             3.74\n",
       "Name: jp_sales, dtype: float64"
      ]
     },
     "execution_count": 35,
     "metadata": {},
     "output_type": "execute_result"
    }
   ],
   "source": [
    "display(data.groupby('platform')['jp_sales'].sum().sort_values(ascending=False).head(5))\n",
    "data.groupby('genre')['jp_sales'].sum().sort_values(ascending=False).head(5)"
   ]
  },
  {
   "cell_type": "markdown",
   "metadata": {},
   "source": [
    "Можно заметить, что общие продажи в японском регионе гораздо ниже, чем в остальных. Помимо этого, в нем наиболее популярна платформа 3DS, не столь популярная в других регионах. Аналогично с жанрами, в японском регионе наиболее популярен Role-Playing, тогда как в остальных регионах он находится на 4 месте по популярности.\n",
    "\n",
    "Сравнивая NA и EU регионы, можно сказать, что они похожи. Наиболее популярные жанры и платформы практически идентичны(например, в EU платформа PS3 находится на 3 месте, а X360 находится на 5, в NA - наоборот, а на 1 месте по жанрам в NA находится Shooter, а в EU сегменте - Action)"
   ]
  },
  {
   "cell_type": "code",
   "execution_count": 36,
   "metadata": {},
   "outputs": [
    {
     "data": {
      "text/html": [
       "<div>\n",
       "<style scoped>\n",
       "    .dataframe tbody tr th:only-of-type {\n",
       "        vertical-align: middle;\n",
       "    }\n",
       "\n",
       "    .dataframe tbody tr th {\n",
       "        vertical-align: top;\n",
       "    }\n",
       "\n",
       "    .dataframe thead th {\n",
       "        text-align: right;\n",
       "    }\n",
       "</style>\n",
       "<table border=\"1\" class=\"dataframe\">\n",
       "  <thead>\n",
       "    <tr style=\"text-align: right;\">\n",
       "      <th></th>\n",
       "      <th>na_sales</th>\n",
       "      <th>eu_sales</th>\n",
       "      <th>jp_sales</th>\n",
       "    </tr>\n",
       "    <tr>\n",
       "      <th>rating</th>\n",
       "      <th></th>\n",
       "      <th></th>\n",
       "      <th></th>\n",
       "    </tr>\n",
       "  </thead>\n",
       "  <tbody>\n",
       "    <tr>\n",
       "      <th>E</th>\n",
       "      <td>50.28</td>\n",
       "      <td>55.05</td>\n",
       "      <td>8.89</td>\n",
       "    </tr>\n",
       "    <tr>\n",
       "      <th>E10+</th>\n",
       "      <td>30.80</td>\n",
       "      <td>22.22</td>\n",
       "      <td>4.18</td>\n",
       "    </tr>\n",
       "    <tr>\n",
       "      <th>M</th>\n",
       "      <td>91.25</td>\n",
       "      <td>85.40</td>\n",
       "      <td>7.21</td>\n",
       "    </tr>\n",
       "    <tr>\n",
       "      <th>T</th>\n",
       "      <td>36.05</td>\n",
       "      <td>29.21</td>\n",
       "      <td>10.73</td>\n",
       "    </tr>\n",
       "    <tr>\n",
       "      <th>other</th>\n",
       "      <td>63.85</td>\n",
       "      <td>54.71</td>\n",
       "      <td>47.18</td>\n",
       "    </tr>\n",
       "  </tbody>\n",
       "</table>\n",
       "</div>"
      ],
      "text/plain": [
       "        na_sales  eu_sales  jp_sales\n",
       "rating                              \n",
       "E          50.28     55.05      8.89\n",
       "E10+       30.80     22.22      4.18\n",
       "M          91.25     85.40      7.21\n",
       "T          36.05     29.21     10.73\n",
       "other      63.85     54.71     47.18"
      ]
     },
     "execution_count": 36,
     "metadata": {},
     "output_type": "execute_result"
    }
   ],
   "source": [
    "data.groupby('rating')[['na_sales', 'eu_sales', 'jp_sales']].sum()"
   ]
  },
  {
   "cell_type": "markdown",
   "metadata": {},
   "source": [
    "Видно, что наиболее популярный жанр в Японии - 'other'. Напомню, что так мы обозначили пропущенные значения в столбце 'rating', предположив, что пропущенные данные принадлежат разработчикам из Японии. На 2 месте - игры жанра 'T' - для подростков.\n",
    "\n",
    "Таким образом мы видим, что японские игры пользуются популярностью не только в японии(тогда тем более работает мой довод про необходимость оценки американской кампанией, но да ладно). Наиболее популярные жанры в NA и EU регионах - 'M' и 'E' - игры с возрастным ограничением 18+ и игры для всех. За исключением сегмента 'E', EU рынок полностью повторяет предпочтения NA сегмента, но с меньшим количеством покупок(в 'E' наоборот)"
   ]
  },
  {
   "cell_type": "markdown",
   "metadata": {},
   "source": [
    "## Проверка гипотез"
   ]
  },
  {
   "cell_type": "markdown",
   "metadata": {},
   "source": [
    "необходимо проверить, равна ли пользовательская оценка игр платформы PC пользовательской оценке игр платформы X360. Для этого будем проводить t-тест ~~потому что я так чувствую~~, так как мы не можем найти просто среднее и сравнить. Нам интересно анализировать именно распределение, поэтому t-тест. Пороговое значение устанавливается на уровне 0.05, так как оно считается стандартным(более точное значение берут там, где критически важен результат, например, в медицине, здесь такое не требуется)\n",
    "\n",
    "Соответственно, наша нулевая гипотеза звучит как \"рейтинги одинаковые\", альтернативная - \"пристутствуют значимые различия\"\n",
    "\n",
    "Аналогично будет с жанрами"
   ]
  },
  {
   "cell_type": "code",
   "execution_count": 37,
   "metadata": {},
   "outputs": [
    {
     "name": "stdout",
     "output_type": "stream",
     "text": [
      "1.9805716308031527e-12\n",
      "Отвергаем нулевую гипотезу\n"
     ]
    }
   ],
   "source": [
    "alpha = .05\n",
    "results = st.ttest_ind(\n",
    "    data[data['genre'] =='Sports']['user_score'],\n",
    "    data[data['genre'] =='Action']['user_score'],\n",
    "    equal_var=False, \n",
    "    nan_policy='omit'\n",
    ")\n",
    "\n",
    "print(results.pvalue)\n",
    "if results.pvalue < alpha:\n",
    "    print('Отвергаем нулевую гипотезу')\n",
    "else:\n",
    "    print('Не получилось отвергнуть нулевую гипотезу')"
   ]
  },
  {
   "cell_type": "markdown",
   "metadata": {},
   "source": [
    "Здесь получилась интересная ситуация: обе платформы, сравниваемые ниже, не попали в отфильтрованный датафрейм по причине низких продаж по сравнению с другими платформами. Но раз требуется сравнить, считаю, что надо сравнивать данные за актуальный период(как минимум, потому, что это пригодно для прогнозирования, как максимум, потому, что на платформе PC игры выходят на протяжении всей своей истории, а старым проектам зачастую ставят высокие оценки из-за ностальгии или каких-либо других необоснованных причин)"
   ]
  },
  {
   "cell_type": "code",
   "execution_count": 38,
   "metadata": {},
   "outputs": [
    {
     "name": "stdout",
     "output_type": "stream",
     "text": [
      "0.11111296036738469\n",
      "Не получилось отвергнуть нулевую гипотезу\n"
     ]
    }
   ],
   "source": [
    "data = df.query('year_of_release >=2008')\n",
    "\n",
    "alpha = .05\n",
    "results = st.ttest_ind(\n",
    "    data[data['platform'] =='XOne']['user_score'],\n",
    "    data[data['platform'] =='PC']['user_score'],\n",
    "    equal_var=False, \n",
    "    nan_policy='omit'\n",
    ")\n",
    "\n",
    "print(results.pvalue)\n",
    "if results.pvalue < alpha:\n",
    "    print('Отвергаем нулевую гипотезу')\n",
    "else:\n",
    "    print('Не получилось отвергнуть нулевую гипотезу')"
   ]
  },
  {
   "cell_type": "markdown",
   "metadata": {},
   "source": [
    "## Общий вывод"
   ]
  },
  {
   "cell_type": "markdown",
   "metadata": {},
   "source": [
    "В процессе работы были выявлены и исправлены, где это возможно, исходные данные(об этом ниже). Были исправлены неточности в типах данных, данные об общих продажах были добавлены в датафрейм. Так же были проанализированы данные, найдены различные закономерности, построены соответствующие графики и каждый из них был прокомментирован. Помимо этого, рядом с графиками, на которых видна зависимость одного фактора от другого, был посчитан коэффициент корреляции, свидетельствующий о наличии или отсутствии линейной взаимосвязи.\n",
    "\n",
    "Во - первых, в исходных данных есть пропущенные данные, которые статистически важны, поэтому их невозможно заполнить каким-либо значением. Это столбцы  'critic_score' и 'user_score'. Требуется проверить исходные данные и заполнить пропуски. В случае с 'user_score' часть данных будет получена вариантом \"просто подождать\", но это не сильно улучшит ситуацию.\n",
    "\n",
    "Во-вторых, были выявлены следующие закономерности:\n",
    "\n",
    "1. Количество продаж **частично зависит от оценки критиков**. При увеличении рейтинга есть тенденция к увеличению общих продаж. От оценки игроков количество продаж не так сильно зависит, поэтому лучше опираться на рейтинг критиков.\n",
    "\n",
    "2. Наиболее популярные платформы в мире - **PS4, XOne, 3DS, PS3, X360, WiiU**. Наиболее популярные жанры - **Shooter, Sports, Role-Playing, Platform, Fighting**    \n",
    "\n",
    "3. Средний \"срок жизни\" - период появления и затухания популярности новой консоли составляет около **10 лет**.\n",
    "\n",
    "4. В зависимости от региона наиболее популярные жанры и платформы меняются. Обособленно от других регионов находится японский регион. Общие продажи в нем гораздо ниже, чем в остальных, наиболее популярная платформа - 3DS, занимающая 4 позиции в других регионах. Аналогично с жанрами, в японском регионе наиболее популярен 'other'(японские игры не оценивает американское агенство, вероятно, часть данных утеряна, поэтому все пропуски были заменены на данный тип), тогда как в остальных регионах он находится на 3 месте по популярности. Так же в японском регионе 2 место по популярности занимают игры для подростков('T' - игры для людей от 13 лет). Сравнивая NA и EU регионы, можно сказать, что они похожи. Наиболее популярные жанры в NA и EU регионах - 'M' и 'E' - игры с возрастным ограничением 18+ и игры для всех. За исключением сегмента 'E', EU рынок полностью повторяет предпочтения NA сегмента, но с меньшим количеством покупок(в 'E' наоборот)\n",
    "\n",
    "5. При анализе продаж игр на различных платформах всегда находились игры, резко отрывающиеся от других свой популярностью. Считаю, что это не выбросы или ошибки, а игры-бестселлеры, соответственно, рекомендуется найти такие игры и продавать их в первую очередь\n",
    "\n",
    "6. Гипотеза о равности средней пользовательской оценки игр на платформе PC пользовательской оценке игр на платформы X360 **не была подтверждена**\n",
    "\n",
    "7. Гипотеза о том, что средний рейтинг жанра Action не равен среднему рейтингу жанра Sports **была подтверждена**"
   ]
  }
 ],
 "metadata": {
  "ExecuteTimeLog": [
   {
    "duration": 377,
    "start_time": "2022-08-22T10:05:18.829Z"
   },
   {
    "duration": 90,
    "start_time": "2022-08-22T10:05:34.016Z"
   },
   {
    "duration": 18,
    "start_time": "2022-08-22T10:05:39.195Z"
   },
   {
    "duration": 68,
    "start_time": "2022-08-22T10:06:19.116Z"
   },
   {
    "duration": 6,
    "start_time": "2022-08-22T10:06:30.333Z"
   },
   {
    "duration": 77,
    "start_time": "2022-08-22T10:09:55.752Z"
   },
   {
    "duration": 3,
    "start_time": "2022-08-22T10:10:04.563Z"
   },
   {
    "duration": 12,
    "start_time": "2022-08-22T10:10:06.639Z"
   },
   {
    "duration": 7,
    "start_time": "2022-08-22T10:14:01.358Z"
   },
   {
    "duration": 7,
    "start_time": "2022-08-22T10:14:10.955Z"
   },
   {
    "duration": 4,
    "start_time": "2022-08-22T10:16:37.739Z"
   },
   {
    "duration": 12,
    "start_time": "2022-08-22T10:16:39.853Z"
   },
   {
    "duration": 20,
    "start_time": "2022-08-22T10:17:06.835Z"
   },
   {
    "duration": 14,
    "start_time": "2022-08-22T10:17:47.842Z"
   },
   {
    "duration": 12,
    "start_time": "2022-08-22T10:18:11.351Z"
   },
   {
    "duration": 2,
    "start_time": "2022-08-22T10:18:16.510Z"
   },
   {
    "duration": 11,
    "start_time": "2022-08-22T10:25:19.411Z"
   },
   {
    "duration": 4,
    "start_time": "2022-08-22T10:28:53.275Z"
   },
   {
    "duration": 13,
    "start_time": "2022-08-22T10:29:09.518Z"
   },
   {
    "duration": 8,
    "start_time": "2022-08-22T10:30:36.522Z"
   },
   {
    "duration": 20,
    "start_time": "2022-08-22T10:30:44.959Z"
   },
   {
    "duration": 20,
    "start_time": "2022-08-22T10:31:09.650Z"
   },
   {
    "duration": 20,
    "start_time": "2022-08-22T10:31:36.033Z"
   },
   {
    "duration": 19,
    "start_time": "2022-08-22T10:33:45.990Z"
   },
   {
    "duration": 22,
    "start_time": "2022-08-22T10:33:54.217Z"
   },
   {
    "duration": 9,
    "start_time": "2022-08-22T10:35:01.181Z"
   },
   {
    "duration": 7,
    "start_time": "2022-08-22T10:38:19.865Z"
   },
   {
    "duration": 8,
    "start_time": "2022-08-22T10:38:23.557Z"
   },
   {
    "duration": 8,
    "start_time": "2022-08-22T10:38:36.772Z"
   },
   {
    "duration": 18,
    "start_time": "2022-08-22T10:39:12.040Z"
   },
   {
    "duration": 6,
    "start_time": "2022-08-22T10:39:28.190Z"
   },
   {
    "duration": 34,
    "start_time": "2022-08-22T10:39:43.212Z"
   },
   {
    "duration": 23,
    "start_time": "2022-08-22T10:42:08.666Z"
   },
   {
    "duration": 5,
    "start_time": "2022-08-22T10:44:21.437Z"
   },
   {
    "duration": 29,
    "start_time": "2022-08-22T10:44:25.357Z"
   },
   {
    "duration": 5,
    "start_time": "2022-08-22T10:44:56.513Z"
   },
   {
    "duration": 29,
    "start_time": "2022-08-22T10:44:58.542Z"
   },
   {
    "duration": 12,
    "start_time": "2022-08-22T10:45:07.633Z"
   },
   {
    "duration": 813,
    "start_time": "2022-08-22T10:45:18.222Z"
   },
   {
    "duration": 5,
    "start_time": "2022-08-22T10:45:27.263Z"
   },
   {
    "duration": 24,
    "start_time": "2022-08-22T10:50:01.527Z"
   },
   {
    "duration": 36,
    "start_time": "2022-08-22T10:50:10.201Z"
   },
   {
    "duration": 7,
    "start_time": "2022-08-22T10:50:30.143Z"
   },
   {
    "duration": 39,
    "start_time": "2022-08-22T10:50:32.696Z"
   },
   {
    "duration": 19,
    "start_time": "2022-08-22T10:50:42.694Z"
   },
   {
    "duration": 25,
    "start_time": "2022-08-22T10:51:16.728Z"
   },
   {
    "duration": 19,
    "start_time": "2022-08-22T10:51:26.412Z"
   },
   {
    "duration": 6,
    "start_time": "2022-08-22T10:51:51.015Z"
   },
   {
    "duration": 18,
    "start_time": "2022-08-22T10:52:08.590Z"
   },
   {
    "duration": 7,
    "start_time": "2022-08-22T10:52:15.227Z"
   },
   {
    "duration": 6,
    "start_time": "2022-08-22T10:52:22.640Z"
   },
   {
    "duration": 29,
    "start_time": "2022-08-22T10:52:24.444Z"
   },
   {
    "duration": 14,
    "start_time": "2022-08-22T10:53:32.525Z"
   },
   {
    "duration": 10,
    "start_time": "2022-08-22T10:53:36.478Z"
   },
   {
    "duration": 18,
    "start_time": "2022-08-22T10:53:48.625Z"
   },
   {
    "duration": 29,
    "start_time": "2022-08-22T10:53:51.694Z"
   },
   {
    "duration": 21,
    "start_time": "2022-08-22T10:54:05.201Z"
   },
   {
    "duration": 7,
    "start_time": "2022-08-22T10:54:10.756Z"
   },
   {
    "duration": 29,
    "start_time": "2022-08-22T10:54:12.870Z"
   },
   {
    "duration": 12,
    "start_time": "2022-08-22T10:54:29.467Z"
   },
   {
    "duration": 20,
    "start_time": "2022-08-22T10:55:14.508Z"
   },
   {
    "duration": 21,
    "start_time": "2022-08-22T10:55:28.965Z"
   },
   {
    "duration": 21,
    "start_time": "2022-08-22T10:55:42.268Z"
   },
   {
    "duration": 7,
    "start_time": "2022-08-22T10:56:26.627Z"
   },
   {
    "duration": 20,
    "start_time": "2022-08-22T10:56:29.066Z"
   },
   {
    "duration": 12,
    "start_time": "2022-08-22T10:56:33.659Z"
   },
   {
    "duration": 4,
    "start_time": "2022-08-22T10:56:51.916Z"
   },
   {
    "duration": 12,
    "start_time": "2022-08-22T10:56:55.870Z"
   },
   {
    "duration": 5,
    "start_time": "2022-08-22T10:57:32.986Z"
   },
   {
    "duration": 5,
    "start_time": "2022-08-22T10:57:37.534Z"
   },
   {
    "duration": 7,
    "start_time": "2022-08-22T11:03:27.710Z"
   },
   {
    "duration": 8,
    "start_time": "2022-08-22T11:03:33.998Z"
   },
   {
    "duration": 9,
    "start_time": "2022-08-22T11:03:48.047Z"
   },
   {
    "duration": 9,
    "start_time": "2022-08-22T11:03:56.062Z"
   },
   {
    "duration": 6,
    "start_time": "2022-08-22T11:04:29.195Z"
   },
   {
    "duration": 12,
    "start_time": "2022-08-22T11:04:40.031Z"
   },
   {
    "duration": 4,
    "start_time": "2022-08-22T11:04:57.107Z"
   },
   {
    "duration": 18,
    "start_time": "2022-08-22T11:05:03.059Z"
   },
   {
    "duration": 17,
    "start_time": "2022-08-22T11:05:12.042Z"
   },
   {
    "duration": 18,
    "start_time": "2022-08-22T11:05:18.348Z"
   },
   {
    "duration": 19,
    "start_time": "2022-08-22T11:05:25.415Z"
   },
   {
    "duration": 12,
    "start_time": "2022-08-22T11:05:41.647Z"
   },
   {
    "duration": 11,
    "start_time": "2022-08-22T11:06:05.293Z"
   },
   {
    "duration": 14,
    "start_time": "2022-08-22T11:06:19.455Z"
   },
   {
    "duration": 8,
    "start_time": "2022-08-22T11:15:07.157Z"
   },
   {
    "duration": 7,
    "start_time": "2022-08-22T11:15:13.226Z"
   },
   {
    "duration": 4,
    "start_time": "2022-08-22T11:15:15.998Z"
   },
   {
    "duration": 9,
    "start_time": "2022-08-22T11:16:31.978Z"
   },
   {
    "duration": 6,
    "start_time": "2022-08-22T11:16:36.628Z"
   },
   {
    "duration": 12,
    "start_time": "2022-08-22T11:16:43.785Z"
   },
   {
    "duration": 371,
    "start_time": "2022-08-22T11:19:18.653Z"
   },
   {
    "duration": 50,
    "start_time": "2022-08-22T11:19:19.026Z"
   },
   {
    "duration": 19,
    "start_time": "2022-08-22T11:19:19.077Z"
   },
   {
    "duration": 3,
    "start_time": "2022-08-22T11:19:19.097Z"
   },
   {
    "duration": 19,
    "start_time": "2022-08-22T11:19:19.102Z"
   },
   {
    "duration": 7,
    "start_time": "2022-08-22T11:19:19.123Z"
   },
   {
    "duration": 7,
    "start_time": "2022-08-22T11:19:19.131Z"
   },
   {
    "duration": 5,
    "start_time": "2022-08-22T11:19:19.139Z"
   },
   {
    "duration": 14,
    "start_time": "2022-08-22T11:19:19.146Z"
   },
   {
    "duration": 5,
    "start_time": "2022-08-22T11:19:19.162Z"
   },
   {
    "duration": 6,
    "start_time": "2022-08-22T11:19:19.168Z"
   },
   {
    "duration": 38,
    "start_time": "2022-08-22T11:19:19.175Z"
   },
   {
    "duration": 74,
    "start_time": "2022-08-22T11:19:19.215Z"
   },
   {
    "duration": 98,
    "start_time": "2022-08-22T11:23:30.549Z"
   },
   {
    "duration": 6,
    "start_time": "2022-08-22T11:23:37.658Z"
   },
   {
    "duration": 8,
    "start_time": "2022-08-22T11:23:53.100Z"
   },
   {
    "duration": 9,
    "start_time": "2022-08-22T11:24:09.423Z"
   },
   {
    "duration": 14,
    "start_time": "2022-08-22T11:24:27.419Z"
   },
   {
    "duration": 907,
    "start_time": "2022-08-22T11:26:21.026Z"
   },
   {
    "duration": 4,
    "start_time": "2022-08-22T11:26:27.807Z"
   },
   {
    "duration": 14,
    "start_time": "2022-08-22T11:26:29.995Z"
   },
   {
    "duration": 15,
    "start_time": "2022-08-22T11:26:42.605Z"
   },
   {
    "duration": 27,
    "start_time": "2022-08-22T11:26:45.853Z"
   },
   {
    "duration": 9,
    "start_time": "2022-08-22T11:32:15.987Z"
   },
   {
    "duration": 27,
    "start_time": "2022-08-22T11:32:21.799Z"
   },
   {
    "duration": 8,
    "start_time": "2022-08-22T11:32:41.794Z"
   },
   {
    "duration": 19,
    "start_time": "2022-08-22T11:33:00.468Z"
   },
   {
    "duration": 9,
    "start_time": "2022-08-22T11:33:51.503Z"
   },
   {
    "duration": 8,
    "start_time": "2022-08-22T11:35:45.449Z"
   },
   {
    "duration": 10,
    "start_time": "2022-08-22T11:36:08.707Z"
   },
   {
    "duration": 494,
    "start_time": "2022-08-22T11:38:26.438Z"
   },
   {
    "duration": 18,
    "start_time": "2022-08-22T11:38:58.660Z"
   },
   {
    "duration": 182,
    "start_time": "2022-08-22T11:39:09.801Z"
   },
   {
    "duration": 8,
    "start_time": "2022-08-22T11:39:19.993Z"
   },
   {
    "duration": 7,
    "start_time": "2022-08-22T11:39:35.330Z"
   },
   {
    "duration": 8,
    "start_time": "2022-08-22T11:42:24.439Z"
   },
   {
    "duration": 8,
    "start_time": "2022-08-22T11:42:34.785Z"
   },
   {
    "duration": 104,
    "start_time": "2022-08-22T11:42:39.790Z"
   },
   {
    "duration": 20,
    "start_time": "2022-08-22T11:53:41.193Z"
   },
   {
    "duration": 10,
    "start_time": "2022-08-22T11:53:57.734Z"
   },
   {
    "duration": 423,
    "start_time": "2022-08-23T08:40:08.717Z"
   },
   {
    "duration": 442,
    "start_time": "2022-08-23T08:40:09.142Z"
   },
   {
    "duration": 5,
    "start_time": "2022-08-23T08:40:13.015Z"
   },
   {
    "duration": 17,
    "start_time": "2022-08-23T08:40:16.162Z"
   },
   {
    "duration": 12,
    "start_time": "2022-08-23T08:40:19.540Z"
   },
   {
    "duration": 9,
    "start_time": "2022-08-23T08:40:20.411Z"
   },
   {
    "duration": 4,
    "start_time": "2022-08-23T08:40:26.050Z"
   },
   {
    "duration": 20,
    "start_time": "2022-08-23T08:40:32.013Z"
   },
   {
    "duration": 109,
    "start_time": "2022-08-23T08:42:51.639Z"
   },
   {
    "duration": 9,
    "start_time": "2022-08-23T08:43:05.969Z"
   },
   {
    "duration": 6,
    "start_time": "2022-08-23T08:43:12.590Z"
   },
   {
    "duration": 16,
    "start_time": "2022-08-23T08:43:23.355Z"
   },
   {
    "duration": 22,
    "start_time": "2022-08-23T08:43:57.576Z"
   },
   {
    "duration": 14,
    "start_time": "2022-08-23T08:44:09.728Z"
   },
   {
    "duration": 22,
    "start_time": "2022-08-23T08:44:13.625Z"
   },
   {
    "duration": 688,
    "start_time": "2022-08-23T08:44:44.152Z"
   },
   {
    "duration": 210,
    "start_time": "2022-08-23T08:45:02.056Z"
   },
   {
    "duration": 6,
    "start_time": "2022-08-23T08:58:25.206Z"
   },
   {
    "duration": 6,
    "start_time": "2022-08-23T08:58:35.352Z"
   },
   {
    "duration": 6,
    "start_time": "2022-08-23T08:58:41.326Z"
   },
   {
    "duration": 9,
    "start_time": "2022-08-23T08:58:46.074Z"
   },
   {
    "duration": 15,
    "start_time": "2022-08-23T08:59:39.298Z"
   },
   {
    "duration": 11,
    "start_time": "2022-08-23T08:59:51.555Z"
   },
   {
    "duration": 8,
    "start_time": "2022-08-23T09:00:19.347Z"
   },
   {
    "duration": 10,
    "start_time": "2022-08-23T09:00:26.295Z"
   },
   {
    "duration": 1535,
    "start_time": "2022-08-23T09:01:46.505Z"
   },
   {
    "duration": 1265,
    "start_time": "2022-08-23T09:01:58.521Z"
   },
   {
    "duration": 1371,
    "start_time": "2022-08-23T09:02:06.356Z"
   },
   {
    "duration": 719,
    "start_time": "2022-08-23T09:02:16.026Z"
   },
   {
    "duration": 15,
    "start_time": "2022-08-23T09:02:23.432Z"
   },
   {
    "duration": 562,
    "start_time": "2022-08-23T09:02:31.941Z"
   },
   {
    "duration": 146,
    "start_time": "2022-08-23T09:02:57.739Z"
   },
   {
    "duration": 264,
    "start_time": "2022-08-23T09:03:29.454Z"
   },
   {
    "duration": 325,
    "start_time": "2022-08-23T09:05:38.762Z"
   },
   {
    "duration": 309,
    "start_time": "2022-08-23T09:05:50.791Z"
   },
   {
    "duration": 301,
    "start_time": "2022-08-23T09:06:00.294Z"
   },
   {
    "duration": 388,
    "start_time": "2022-08-23T09:06:33.914Z"
   },
   {
    "duration": 9,
    "start_time": "2022-08-23T09:07:55.512Z"
   },
   {
    "duration": 255,
    "start_time": "2022-08-23T09:09:15.221Z"
   },
   {
    "duration": 212,
    "start_time": "2022-08-23T09:09:26.789Z"
   },
   {
    "duration": 3729,
    "start_time": "2022-08-23T09:09:35.243Z"
   },
   {
    "duration": 285,
    "start_time": "2022-08-23T09:09:51.528Z"
   },
   {
    "duration": 11,
    "start_time": "2022-08-23T09:10:35.412Z"
   },
   {
    "duration": 27,
    "start_time": "2022-08-23T09:10:42.639Z"
   },
   {
    "duration": 270,
    "start_time": "2022-08-23T09:11:13.620Z"
   },
   {
    "duration": 18,
    "start_time": "2022-08-23T09:11:28.646Z"
   },
   {
    "duration": 261,
    "start_time": "2022-08-23T09:11:42.827Z"
   },
   {
    "duration": 8,
    "start_time": "2022-08-23T09:13:33.603Z"
   },
   {
    "duration": 10,
    "start_time": "2022-08-23T09:13:42.731Z"
   },
   {
    "duration": 186,
    "start_time": "2022-08-23T09:14:01.900Z"
   },
   {
    "duration": 249,
    "start_time": "2022-08-23T09:14:07.820Z"
   },
   {
    "duration": 4135,
    "start_time": "2022-08-23T09:16:51.151Z"
   },
   {
    "duration": 3047,
    "start_time": "2022-08-23T09:17:09.016Z"
   },
   {
    "duration": 152,
    "start_time": "2022-08-23T09:26:23.348Z"
   },
   {
    "duration": 149,
    "start_time": "2022-08-23T09:26:42.291Z"
   },
   {
    "duration": 141,
    "start_time": "2022-08-23T09:26:46.041Z"
   },
   {
    "duration": 79,
    "start_time": "2022-08-23T09:26:55.944Z"
   },
   {
    "duration": 176,
    "start_time": "2022-08-23T09:27:00.657Z"
   },
   {
    "duration": 141,
    "start_time": "2022-08-23T09:27:07.398Z"
   },
   {
    "duration": 103,
    "start_time": "2022-08-23T09:29:30.154Z"
   },
   {
    "duration": 0,
    "start_time": "2022-08-23T09:29:30.259Z"
   },
   {
    "duration": 149,
    "start_time": "2022-08-23T09:29:35.569Z"
   },
   {
    "duration": 209,
    "start_time": "2022-08-23T09:31:19.957Z"
   },
   {
    "duration": 203,
    "start_time": "2022-08-23T09:31:47.388Z"
   },
   {
    "duration": 286,
    "start_time": "2022-08-23T09:32:21.811Z"
   },
   {
    "duration": 205,
    "start_time": "2022-08-23T09:32:30.398Z"
   },
   {
    "duration": 209,
    "start_time": "2022-08-23T09:57:47.972Z"
   },
   {
    "duration": 215,
    "start_time": "2022-08-23T09:58:09.707Z"
   },
   {
    "duration": 212,
    "start_time": "2022-08-23T10:00:08.233Z"
   },
   {
    "duration": 9,
    "start_time": "2022-08-23T10:06:12.795Z"
   },
   {
    "duration": 12,
    "start_time": "2022-08-23T10:06:18.615Z"
   },
   {
    "duration": 54,
    "start_time": "2022-08-23T10:09:07.012Z"
   },
   {
    "duration": 9,
    "start_time": "2022-08-23T10:09:18.567Z"
   },
   {
    "duration": 227,
    "start_time": "2022-08-23T10:09:32.723Z"
   },
   {
    "duration": 2111,
    "start_time": "2022-08-23T10:10:03.476Z"
   },
   {
    "duration": 14,
    "start_time": "2022-08-23T10:10:16.415Z"
   },
   {
    "duration": 420,
    "start_time": "2022-08-23T10:10:26.146Z"
   },
   {
    "duration": 1352,
    "start_time": "2022-08-23T10:12:39.112Z"
   },
   {
    "duration": 216,
    "start_time": "2022-08-23T10:12:42.389Z"
   },
   {
    "duration": 9,
    "start_time": "2022-08-23T10:13:19.082Z"
   },
   {
    "duration": 0,
    "start_time": "2022-08-23T10:13:35.557Z"
   },
   {
    "duration": 191,
    "start_time": "2022-08-23T10:14:03.187Z"
   },
   {
    "duration": 0,
    "start_time": "2022-08-23T10:14:28.374Z"
   },
   {
    "duration": 12,
    "start_time": "2022-08-23T10:14:30.262Z"
   },
   {
    "duration": 0,
    "start_time": "2022-08-23T10:15:05.427Z"
   },
   {
    "duration": 189,
    "start_time": "2022-08-23T10:15:10.149Z"
   },
   {
    "duration": 9,
    "start_time": "2022-08-23T10:18:56.906Z"
   },
   {
    "duration": 7,
    "start_time": "2022-08-23T10:19:11.092Z"
   },
   {
    "duration": 157,
    "start_time": "2022-08-23T10:19:12.717Z"
   },
   {
    "duration": 31,
    "start_time": "2022-08-23T10:28:12.086Z"
   },
   {
    "duration": 12,
    "start_time": "2022-08-23T10:28:15.452Z"
   },
   {
    "duration": 9,
    "start_time": "2022-08-23T10:28:46.938Z"
   },
   {
    "duration": 8,
    "start_time": "2022-08-23T10:28:59.527Z"
   },
   {
    "duration": 9,
    "start_time": "2022-08-23T10:29:24.559Z"
   },
   {
    "duration": 11,
    "start_time": "2022-08-23T10:29:46.156Z"
   },
   {
    "duration": 9,
    "start_time": "2022-08-23T10:30:00.579Z"
   },
   {
    "duration": 8,
    "start_time": "2022-08-23T10:33:10.412Z"
   },
   {
    "duration": 217,
    "start_time": "2022-08-23T10:33:30.676Z"
   },
   {
    "duration": 338,
    "start_time": "2022-08-23T10:33:38.991Z"
   },
   {
    "duration": 11,
    "start_time": "2022-08-23T10:33:58.425Z"
   },
   {
    "duration": 212,
    "start_time": "2022-08-23T10:37:00.868Z"
   },
   {
    "duration": 201,
    "start_time": "2022-08-23T10:37:11.487Z"
   },
   {
    "duration": 187,
    "start_time": "2022-08-23T10:37:27.242Z"
   },
   {
    "duration": 18,
    "start_time": "2022-08-23T10:37:49.642Z"
   },
   {
    "duration": 15,
    "start_time": "2022-08-23T10:38:00.736Z"
   },
   {
    "duration": 222,
    "start_time": "2022-08-23T10:39:31.693Z"
   },
   {
    "duration": 749,
    "start_time": "2022-08-23T10:39:38.660Z"
   },
   {
    "duration": 81179,
    "start_time": "2022-08-23T10:39:52.504Z"
   },
   {
    "duration": 167,
    "start_time": "2022-08-23T10:41:15.206Z"
   },
   {
    "duration": 217,
    "start_time": "2022-08-23T10:41:26.269Z"
   },
   {
    "duration": 47,
    "start_time": "2022-08-23T10:42:07.411Z"
   },
   {
    "duration": 19,
    "start_time": "2022-08-23T10:42:31.371Z"
   },
   {
    "duration": 55416,
    "start_time": "2022-08-23T10:42:38.336Z"
   },
   {
    "duration": 5,
    "start_time": "2022-08-23T10:44:27.726Z"
   },
   {
    "duration": 220,
    "start_time": "2022-08-23T10:44:35.584Z"
   },
   {
    "duration": 117,
    "start_time": "2022-08-23T10:44:53.708Z"
   },
   {
    "duration": 124,
    "start_time": "2022-08-23T10:45:32.449Z"
   },
   {
    "duration": 176,
    "start_time": "2022-08-23T10:45:57.800Z"
   },
   {
    "duration": 26,
    "start_time": "2022-08-23T10:46:36.357Z"
   },
   {
    "duration": 180,
    "start_time": "2022-08-23T10:47:36.677Z"
   },
   {
    "duration": 6,
    "start_time": "2022-08-23T10:48:25.889Z"
   },
   {
    "duration": 18,
    "start_time": "2022-08-23T10:48:45.628Z"
   },
   {
    "duration": 9,
    "start_time": "2022-08-23T10:48:54.290Z"
   },
   {
    "duration": 1151,
    "start_time": "2022-08-23T10:50:57.566Z"
   },
   {
    "duration": 260,
    "start_time": "2022-08-23T10:56:32.055Z"
   },
   {
    "duration": 209,
    "start_time": "2022-08-23T10:56:43.694Z"
   },
   {
    "duration": 175,
    "start_time": "2022-08-23T10:56:58.719Z"
   },
   {
    "duration": 21,
    "start_time": "2022-08-23T10:57:13.068Z"
   },
   {
    "duration": 281,
    "start_time": "2022-08-23T10:57:36.588Z"
   },
   {
    "duration": 292,
    "start_time": "2022-08-23T10:57:50.282Z"
   },
   {
    "duration": 152,
    "start_time": "2022-08-23T10:58:19.200Z"
   },
   {
    "duration": 258,
    "start_time": "2022-08-23T10:58:22.430Z"
   },
   {
    "duration": 327,
    "start_time": "2022-08-23T10:58:38.258Z"
   },
   {
    "duration": 81425,
    "start_time": "2022-08-23T10:58:43.359Z"
   },
   {
    "duration": 111,
    "start_time": "2022-08-23T11:58:16.499Z"
   },
   {
    "duration": 11,
    "start_time": "2022-08-23T11:58:26.495Z"
   },
   {
    "duration": 8,
    "start_time": "2022-08-23T12:02:32.760Z"
   },
   {
    "duration": 10,
    "start_time": "2022-08-23T12:02:45.721Z"
   },
   {
    "duration": 9,
    "start_time": "2022-08-23T12:02:55.130Z"
   },
   {
    "duration": 35,
    "start_time": "2022-08-23T12:07:09.237Z"
   },
   {
    "duration": 415,
    "start_time": "2022-08-23T12:07:17.370Z"
   },
   {
    "duration": 172,
    "start_time": "2022-08-23T12:07:44.063Z"
   },
   {
    "duration": 168,
    "start_time": "2022-08-23T12:09:07.294Z"
   },
   {
    "duration": 753,
    "start_time": "2022-08-23T12:09:49.586Z"
   },
   {
    "duration": 174,
    "start_time": "2022-08-23T12:10:10.471Z"
   },
   {
    "duration": 154,
    "start_time": "2022-08-23T12:10:28.804Z"
   },
   {
    "duration": 155,
    "start_time": "2022-08-23T12:10:33.265Z"
   },
   {
    "duration": 240,
    "start_time": "2022-08-23T12:11:38.991Z"
   },
   {
    "duration": 391,
    "start_time": "2022-08-23T12:11:51.865Z"
   },
   {
    "duration": 260,
    "start_time": "2022-08-23T12:12:29.752Z"
   },
   {
    "duration": 328,
    "start_time": "2022-08-23T12:13:13.056Z"
   },
   {
    "duration": 278,
    "start_time": "2022-08-23T12:13:17.426Z"
   },
   {
    "duration": 285,
    "start_time": "2022-08-23T12:13:28.306Z"
   },
   {
    "duration": 406,
    "start_time": "2022-08-24T09:54:37.788Z"
   },
   {
    "duration": 98,
    "start_time": "2022-08-24T09:54:38.197Z"
   },
   {
    "duration": 21,
    "start_time": "2022-08-24T09:54:38.298Z"
   },
   {
    "duration": 14,
    "start_time": "2022-08-24T09:54:38.322Z"
   },
   {
    "duration": 22,
    "start_time": "2022-08-24T09:54:38.337Z"
   },
   {
    "duration": 14,
    "start_time": "2022-08-24T09:54:38.361Z"
   },
   {
    "duration": 20,
    "start_time": "2022-08-24T09:54:38.376Z"
   },
   {
    "duration": 27,
    "start_time": "2022-08-24T09:54:38.397Z"
   },
   {
    "duration": 17,
    "start_time": "2022-08-24T09:54:38.425Z"
   },
   {
    "duration": 27,
    "start_time": "2022-08-24T09:54:38.444Z"
   },
   {
    "duration": 12,
    "start_time": "2022-08-24T09:54:38.473Z"
   },
   {
    "duration": 38,
    "start_time": "2022-08-24T09:54:38.486Z"
   },
   {
    "duration": 504,
    "start_time": "2022-08-24T09:54:38.526Z"
   },
   {
    "duration": 10,
    "start_time": "2022-08-24T09:54:39.032Z"
   },
   {
    "duration": 20,
    "start_time": "2022-08-24T09:54:39.044Z"
   },
   {
    "duration": 147,
    "start_time": "2022-08-24T09:54:39.066Z"
   },
   {
    "duration": 7,
    "start_time": "2022-08-24T09:54:39.215Z"
   },
   {
    "duration": 15,
    "start_time": "2022-08-24T09:54:39.224Z"
   },
   {
    "duration": 12,
    "start_time": "2022-08-24T09:54:39.241Z"
   },
   {
    "duration": 29,
    "start_time": "2022-08-24T09:54:39.255Z"
   },
   {
    "duration": 50785,
    "start_time": "2022-08-24T09:54:39.286Z"
   },
   {
    "duration": 78,
    "start_time": "2022-08-24T09:57:04.030Z"
   },
   {
    "duration": 234,
    "start_time": "2022-08-24T09:57:14.418Z"
   },
   {
    "duration": 9,
    "start_time": "2022-08-24T09:58:39.721Z"
   },
   {
    "duration": 8,
    "start_time": "2022-08-24T09:58:41.863Z"
   },
   {
    "duration": 6,
    "start_time": "2022-08-24T09:58:43.326Z"
   },
   {
    "duration": 17590,
    "start_time": "2022-08-24T09:58:46.896Z"
   },
   {
    "duration": 159,
    "start_time": "2022-08-24T09:59:08.747Z"
   },
   {
    "duration": 182,
    "start_time": "2022-08-24T10:00:12.828Z"
   },
   {
    "duration": 12,
    "start_time": "2022-08-24T10:00:33.398Z"
   },
   {
    "duration": 105,
    "start_time": "2022-08-24T10:00:54.143Z"
   },
   {
    "duration": 116,
    "start_time": "2022-08-24T10:01:37.319Z"
   },
   {
    "duration": 3,
    "start_time": "2022-08-24T10:02:39.966Z"
   },
   {
    "duration": 185,
    "start_time": "2022-08-24T10:02:44.528Z"
   },
   {
    "duration": 153,
    "start_time": "2022-08-24T10:03:06.724Z"
   },
   {
    "duration": 84,
    "start_time": "2022-08-24T10:03:25.978Z"
   },
   {
    "duration": 94,
    "start_time": "2022-08-24T10:03:53.046Z"
   },
   {
    "duration": 82,
    "start_time": "2022-08-24T10:04:02.956Z"
   },
   {
    "duration": 94,
    "start_time": "2022-08-24T10:04:10.970Z"
   },
   {
    "duration": 86,
    "start_time": "2022-08-24T10:04:17.994Z"
   },
   {
    "duration": 86,
    "start_time": "2022-08-24T10:04:26.594Z"
   },
   {
    "duration": 87,
    "start_time": "2022-08-24T10:04:50.701Z"
   },
   {
    "duration": 107,
    "start_time": "2022-08-24T10:04:59.855Z"
   },
   {
    "duration": 107,
    "start_time": "2022-08-24T10:05:10.206Z"
   },
   {
    "duration": 89,
    "start_time": "2022-08-24T10:05:17.935Z"
   },
   {
    "duration": 44,
    "start_time": "2022-08-24T12:10:47.360Z"
   },
   {
    "duration": 391,
    "start_time": "2022-08-24T12:10:53.410Z"
   },
   {
    "duration": 204,
    "start_time": "2022-08-24T12:10:53.803Z"
   },
   {
    "duration": 20,
    "start_time": "2022-08-24T12:10:54.009Z"
   },
   {
    "duration": 4,
    "start_time": "2022-08-24T12:10:54.031Z"
   },
   {
    "duration": 16,
    "start_time": "2022-08-24T12:10:54.037Z"
   },
   {
    "duration": 12,
    "start_time": "2022-08-24T12:10:54.055Z"
   },
   {
    "duration": 10,
    "start_time": "2022-08-24T12:10:54.068Z"
   },
   {
    "duration": 5,
    "start_time": "2022-08-24T12:10:54.106Z"
   },
   {
    "duration": 9,
    "start_time": "2022-08-24T12:10:54.112Z"
   },
   {
    "duration": 9,
    "start_time": "2022-08-24T12:10:54.123Z"
   },
   {
    "duration": 5,
    "start_time": "2022-08-24T12:10:54.134Z"
   },
   {
    "duration": 14,
    "start_time": "2022-08-24T12:10:54.140Z"
   },
   {
    "duration": 554,
    "start_time": "2022-08-24T12:10:54.156Z"
   },
   {
    "duration": 9,
    "start_time": "2022-08-24T12:10:54.712Z"
   },
   {
    "duration": 206,
    "start_time": "2022-08-24T12:10:54.723Z"
   },
   {
    "duration": 9,
    "start_time": "2022-08-24T12:10:54.931Z"
   },
   {
    "duration": 13,
    "start_time": "2022-08-24T12:10:54.942Z"
   },
   {
    "duration": 10,
    "start_time": "2022-08-24T12:10:54.957Z"
   },
   {
    "duration": 7,
    "start_time": "2022-08-24T12:10:54.969Z"
   },
   {
    "duration": 212,
    "start_time": "2022-08-24T12:10:54.978Z"
   },
   {
    "duration": 117,
    "start_time": "2022-08-24T12:10:55.192Z"
   },
   {
    "duration": 155,
    "start_time": "2022-08-24T12:10:55.311Z"
   },
   {
    "duration": 116,
    "start_time": "2022-08-24T12:10:55.468Z"
   },
   {
    "duration": 100,
    "start_time": "2022-08-24T12:10:55.586Z"
   },
   {
    "duration": 186,
    "start_time": "2022-08-24T12:10:55.688Z"
   },
   {
    "duration": 26,
    "start_time": "2022-08-24T12:12:35.972Z"
   },
   {
    "duration": 177,
    "start_time": "2022-08-24T12:12:44.279Z"
   },
   {
    "duration": 12,
    "start_time": "2022-08-24T12:14:36.997Z"
   },
   {
    "duration": 8,
    "start_time": "2022-08-24T12:14:49.218Z"
   },
   {
    "duration": 1482,
    "start_time": "2022-08-24T12:14:53.868Z"
   },
   {
    "duration": 127,
    "start_time": "2022-08-24T12:15:12.777Z"
   },
   {
    "duration": 1440,
    "start_time": "2022-08-24T12:18:05.099Z"
   },
   {
    "duration": 74,
    "start_time": "2022-08-24T12:18:16.625Z"
   },
   {
    "duration": 1241,
    "start_time": "2022-08-24T12:18:19.760Z"
   },
   {
    "duration": 96,
    "start_time": "2022-08-24T12:18:54.877Z"
   },
   {
    "duration": 158,
    "start_time": "2022-08-24T12:19:05.061Z"
   },
   {
    "duration": 158,
    "start_time": "2022-08-24T12:19:46.963Z"
   },
   {
    "duration": 4,
    "start_time": "2022-08-24T12:20:43.996Z"
   },
   {
    "duration": 9,
    "start_time": "2022-08-24T12:20:56.356Z"
   },
   {
    "duration": 8,
    "start_time": "2022-08-24T12:21:05.370Z"
   },
   {
    "duration": 9,
    "start_time": "2022-08-24T12:21:27.009Z"
   },
   {
    "duration": 2,
    "start_time": "2022-08-24T12:22:49.327Z"
   },
   {
    "duration": 417,
    "start_time": "2022-08-24T17:53:05.708Z"
   },
   {
    "duration": 210,
    "start_time": "2022-08-24T17:53:06.127Z"
   },
   {
    "duration": 22,
    "start_time": "2022-08-24T17:53:06.339Z"
   },
   {
    "duration": 3,
    "start_time": "2022-08-24T17:53:06.364Z"
   },
   {
    "duration": 19,
    "start_time": "2022-08-24T17:53:06.369Z"
   },
   {
    "duration": 11,
    "start_time": "2022-08-24T17:53:06.389Z"
   },
   {
    "duration": 16,
    "start_time": "2022-08-24T17:53:06.403Z"
   },
   {
    "duration": 3,
    "start_time": "2022-08-24T17:53:06.421Z"
   },
   {
    "duration": 10,
    "start_time": "2022-08-24T17:53:06.426Z"
   },
   {
    "duration": 11,
    "start_time": "2022-08-24T17:53:06.438Z"
   },
   {
    "duration": 5,
    "start_time": "2022-08-24T17:53:06.450Z"
   },
   {
    "duration": 38,
    "start_time": "2022-08-24T17:53:06.456Z"
   },
   {
    "duration": 582,
    "start_time": "2022-08-24T17:53:06.496Z"
   },
   {
    "duration": 20,
    "start_time": "2022-08-24T17:53:07.080Z"
   },
   {
    "duration": 220,
    "start_time": "2022-08-24T17:53:07.102Z"
   },
   {
    "duration": 7,
    "start_time": "2022-08-24T17:53:07.324Z"
   },
   {
    "duration": 11,
    "start_time": "2022-08-24T17:53:07.333Z"
   },
   {
    "duration": 9,
    "start_time": "2022-08-24T17:53:07.346Z"
   },
   {
    "duration": 8,
    "start_time": "2022-08-24T17:53:07.357Z"
   },
   {
    "duration": 212,
    "start_time": "2022-08-24T17:53:07.393Z"
   },
   {
    "duration": 138,
    "start_time": "2022-08-24T17:53:07.607Z"
   },
   {
    "duration": 174,
    "start_time": "2022-08-24T17:53:07.747Z"
   },
   {
    "duration": 156,
    "start_time": "2022-08-24T17:53:07.923Z"
   },
   {
    "duration": 147,
    "start_time": "2022-08-24T17:53:08.080Z"
   },
   {
    "duration": 232,
    "start_time": "2022-08-24T17:53:08.229Z"
   },
   {
    "duration": 14,
    "start_time": "2022-08-24T17:53:08.463Z"
   },
   {
    "duration": 159,
    "start_time": "2022-08-24T17:53:08.479Z"
   },
   {
    "duration": 196,
    "start_time": "2022-08-24T17:53:08.641Z"
   },
   {
    "duration": 8,
    "start_time": "2022-08-24T17:53:08.839Z"
   },
   {
    "duration": 175,
    "start_time": "2022-08-24T17:53:27.166Z"
   },
   {
    "duration": 161,
    "start_time": "2022-08-24T17:53:41.491Z"
   },
   {
    "duration": 166,
    "start_time": "2022-08-24T17:54:11.670Z"
   },
   {
    "duration": 159,
    "start_time": "2022-08-24T17:55:07.554Z"
   },
   {
    "duration": 157,
    "start_time": "2022-08-24T17:57:47.609Z"
   },
   {
    "duration": 219,
    "start_time": "2022-08-24T17:58:20.571Z"
   },
   {
    "duration": 167,
    "start_time": "2022-08-24T17:58:56.732Z"
   },
   {
    "duration": 31,
    "start_time": "2022-08-24T18:00:16.128Z"
   },
   {
    "duration": 7,
    "start_time": "2022-08-24T18:00:40.083Z"
   },
   {
    "duration": 7,
    "start_time": "2022-08-24T18:01:05.321Z"
   },
   {
    "duration": 7,
    "start_time": "2022-08-24T18:02:51.657Z"
   },
   {
    "duration": 94,
    "start_time": "2022-08-24T18:03:06.862Z"
   },
   {
    "duration": 8,
    "start_time": "2022-08-24T18:03:12.653Z"
   },
   {
    "duration": 6,
    "start_time": "2022-08-24T18:07:21.751Z"
   },
   {
    "duration": 5,
    "start_time": "2022-08-24T18:07:33.975Z"
   },
   {
    "duration": 6,
    "start_time": "2022-08-24T18:07:38.424Z"
   },
   {
    "duration": 14,
    "start_time": "2022-08-24T18:07:59.724Z"
   },
   {
    "duration": 5,
    "start_time": "2022-08-24T18:08:03.806Z"
   },
   {
    "duration": 13,
    "start_time": "2022-08-24T18:08:08.049Z"
   },
   {
    "duration": 12,
    "start_time": "2022-08-24T18:08:53.436Z"
   },
   {
    "duration": 9,
    "start_time": "2022-08-24T18:08:56.370Z"
   },
   {
    "duration": 57,
    "start_time": "2022-08-24T18:10:37.889Z"
   },
   {
    "duration": 10,
    "start_time": "2022-08-24T18:11:36.551Z"
   },
   {
    "duration": 15,
    "start_time": "2022-08-24T18:11:48.254Z"
   },
   {
    "duration": 26,
    "start_time": "2022-08-24T18:13:07.188Z"
   },
   {
    "duration": 12,
    "start_time": "2022-08-24T18:13:19.674Z"
   },
   {
    "duration": 19,
    "start_time": "2022-08-24T18:13:53.189Z"
   },
   {
    "duration": 16,
    "start_time": "2022-08-24T18:14:08.024Z"
   },
   {
    "duration": 5,
    "start_time": "2022-08-24T18:20:52.531Z"
   },
   {
    "duration": 14,
    "start_time": "2022-08-24T18:21:03.422Z"
   },
   {
    "duration": 12,
    "start_time": "2022-08-24T18:21:15.131Z"
   },
   {
    "duration": 11,
    "start_time": "2022-08-24T18:21:22.771Z"
   },
   {
    "duration": 14,
    "start_time": "2022-08-24T18:21:31.021Z"
   },
   {
    "duration": 407,
    "start_time": "2022-08-24T18:41:09.541Z"
   },
   {
    "duration": 6,
    "start_time": "2022-08-24T18:43:44.176Z"
   },
   {
    "duration": 7,
    "start_time": "2022-08-24T18:45:09.511Z"
   },
   {
    "duration": 7,
    "start_time": "2022-08-24T18:45:14.777Z"
   },
   {
    "duration": 11,
    "start_time": "2022-08-24T18:45:32.491Z"
   },
   {
    "duration": 35,
    "start_time": "2022-08-24T18:47:10.547Z"
   },
   {
    "duration": 8,
    "start_time": "2022-08-24T18:47:15.733Z"
   },
   {
    "duration": 7,
    "start_time": "2022-08-24T18:47:43.459Z"
   },
   {
    "duration": 7,
    "start_time": "2022-08-24T18:47:48.648Z"
   },
   {
    "duration": 9,
    "start_time": "2022-08-24T18:48:40.553Z"
   },
   {
    "duration": 8,
    "start_time": "2022-08-24T18:48:43.276Z"
   },
   {
    "duration": 90,
    "start_time": "2022-08-24T18:48:50.835Z"
   },
   {
    "duration": 7,
    "start_time": "2022-08-24T18:48:55.035Z"
   },
   {
    "duration": 7,
    "start_time": "2022-08-24T18:48:57.908Z"
   },
   {
    "duration": 6,
    "start_time": "2022-08-24T18:49:07.431Z"
   },
   {
    "duration": 6,
    "start_time": "2022-08-24T18:49:16.456Z"
   },
   {
    "duration": 15,
    "start_time": "2022-08-24T18:49:49.599Z"
   },
   {
    "duration": 10,
    "start_time": "2022-08-24T18:50:13.491Z"
   },
   {
    "duration": 7,
    "start_time": "2022-08-24T18:50:22.129Z"
   },
   {
    "duration": 9,
    "start_time": "2022-08-24T18:50:30.958Z"
   },
   {
    "duration": 11,
    "start_time": "2022-08-24T18:50:56.364Z"
   },
   {
    "duration": 415,
    "start_time": "2022-08-24T18:52:10.314Z"
   },
   {
    "duration": 58,
    "start_time": "2022-08-24T18:52:10.731Z"
   },
   {
    "duration": 27,
    "start_time": "2022-08-24T18:52:10.790Z"
   },
   {
    "duration": 4,
    "start_time": "2022-08-24T18:52:10.818Z"
   },
   {
    "duration": 25,
    "start_time": "2022-08-24T18:52:10.824Z"
   },
   {
    "duration": 8,
    "start_time": "2022-08-24T18:52:10.851Z"
   },
   {
    "duration": 7,
    "start_time": "2022-08-24T18:52:10.861Z"
   },
   {
    "duration": 25,
    "start_time": "2022-08-24T18:52:10.870Z"
   },
   {
    "duration": 22,
    "start_time": "2022-08-24T18:52:10.897Z"
   },
   {
    "duration": 9,
    "start_time": "2022-08-24T18:52:10.921Z"
   },
   {
    "duration": 5,
    "start_time": "2022-08-24T18:52:10.931Z"
   },
   {
    "duration": 16,
    "start_time": "2022-08-24T18:52:10.937Z"
   },
   {
    "duration": 403,
    "start_time": "2022-08-24T18:52:10.955Z"
   },
   {
    "duration": 8,
    "start_time": "2022-08-24T18:52:11.362Z"
   },
   {
    "duration": 241,
    "start_time": "2022-08-24T18:52:11.372Z"
   },
   {
    "duration": 8,
    "start_time": "2022-08-24T18:52:11.614Z"
   },
   {
    "duration": 8,
    "start_time": "2022-08-24T18:52:11.623Z"
   },
   {
    "duration": 6,
    "start_time": "2022-08-24T18:52:11.633Z"
   },
   {
    "duration": 6,
    "start_time": "2022-08-24T18:52:11.641Z"
   },
   {
    "duration": 341,
    "start_time": "2022-08-24T18:52:11.648Z"
   },
   {
    "duration": 138,
    "start_time": "2022-08-24T18:52:11.991Z"
   },
   {
    "duration": 121,
    "start_time": "2022-08-24T18:52:12.130Z"
   },
   {
    "duration": 192,
    "start_time": "2022-08-24T18:52:12.253Z"
   },
   {
    "duration": 114,
    "start_time": "2022-08-24T18:52:12.447Z"
   },
   {
    "duration": 309,
    "start_time": "2022-08-24T18:52:12.563Z"
   },
   {
    "duration": 20,
    "start_time": "2022-08-24T18:52:12.874Z"
   },
   {
    "duration": 167,
    "start_time": "2022-08-24T18:52:12.896Z"
   },
   {
    "duration": 185,
    "start_time": "2022-08-24T18:52:13.064Z"
   },
   {
    "duration": 161,
    "start_time": "2022-08-24T18:52:13.251Z"
   },
   {
    "duration": 167,
    "start_time": "2022-08-24T18:52:13.414Z"
   },
   {
    "duration": 18,
    "start_time": "2022-08-24T18:52:13.583Z"
   },
   {
    "duration": 19,
    "start_time": "2022-08-24T18:52:13.603Z"
   },
   {
    "duration": 12,
    "start_time": "2022-08-24T18:52:13.623Z"
   },
   {
    "duration": 11,
    "start_time": "2022-08-24T18:52:13.636Z"
   },
   {
    "duration": 46,
    "start_time": "2022-08-24T18:52:13.649Z"
   },
   {
    "duration": 480,
    "start_time": "2022-08-24T18:52:13.697Z"
   },
   {
    "duration": 7,
    "start_time": "2022-08-24T18:52:14.179Z"
   },
   {
    "duration": 11,
    "start_time": "2022-08-24T18:52:14.187Z"
   },
   {
    "duration": 15,
    "start_time": "2022-08-24T18:52:40.291Z"
   },
   {
    "duration": 15,
    "start_time": "2022-08-24T18:53:26.277Z"
   },
   {
    "duration": 415,
    "start_time": "2022-08-24T18:53:35.860Z"
   },
   {
    "duration": 57,
    "start_time": "2022-08-24T18:53:36.277Z"
   },
   {
    "duration": 21,
    "start_time": "2022-08-24T18:53:36.336Z"
   },
   {
    "duration": 4,
    "start_time": "2022-08-24T18:53:36.359Z"
   },
   {
    "duration": 20,
    "start_time": "2022-08-24T18:53:36.364Z"
   },
   {
    "duration": 11,
    "start_time": "2022-08-24T18:53:36.386Z"
   },
   {
    "duration": 30,
    "start_time": "2022-08-24T18:53:36.399Z"
   },
   {
    "duration": 10,
    "start_time": "2022-08-24T18:53:36.431Z"
   },
   {
    "duration": 10,
    "start_time": "2022-08-24T18:53:36.443Z"
   },
   {
    "duration": 10,
    "start_time": "2022-08-24T18:53:36.456Z"
   },
   {
    "duration": 4,
    "start_time": "2022-08-24T18:53:36.468Z"
   },
   {
    "duration": 20,
    "start_time": "2022-08-24T18:53:36.474Z"
   },
   {
    "duration": 417,
    "start_time": "2022-08-24T18:53:36.495Z"
   },
   {
    "duration": 8,
    "start_time": "2022-08-24T18:53:36.914Z"
   },
   {
    "duration": 232,
    "start_time": "2022-08-24T18:53:36.924Z"
   },
   {
    "duration": 8,
    "start_time": "2022-08-24T18:53:37.158Z"
   },
   {
    "duration": 26,
    "start_time": "2022-08-24T18:53:37.167Z"
   },
   {
    "duration": 9,
    "start_time": "2022-08-24T18:53:37.196Z"
   },
   {
    "duration": 10,
    "start_time": "2022-08-24T18:53:37.207Z"
   },
   {
    "duration": 226,
    "start_time": "2022-08-24T18:53:37.219Z"
   },
   {
    "duration": 125,
    "start_time": "2022-08-24T18:53:37.447Z"
   },
   {
    "duration": 121,
    "start_time": "2022-08-24T18:53:37.574Z"
   },
   {
    "duration": 196,
    "start_time": "2022-08-24T18:53:37.697Z"
   },
   {
    "duration": 125,
    "start_time": "2022-08-24T18:53:37.896Z"
   },
   {
    "duration": 240,
    "start_time": "2022-08-24T18:53:38.023Z"
   },
   {
    "duration": 28,
    "start_time": "2022-08-24T18:53:38.265Z"
   },
   {
    "duration": 186,
    "start_time": "2022-08-24T18:53:38.295Z"
   },
   {
    "duration": 162,
    "start_time": "2022-08-24T18:53:38.484Z"
   },
   {
    "duration": 146,
    "start_time": "2022-08-24T18:53:38.648Z"
   },
   {
    "duration": 169,
    "start_time": "2022-08-24T18:53:38.799Z"
   },
   {
    "duration": 8,
    "start_time": "2022-08-24T18:53:38.969Z"
   },
   {
    "duration": 27,
    "start_time": "2022-08-24T18:53:38.979Z"
   },
   {
    "duration": 18,
    "start_time": "2022-08-24T18:53:39.009Z"
   },
   {
    "duration": 11,
    "start_time": "2022-08-24T18:53:39.029Z"
   },
   {
    "duration": 12,
    "start_time": "2022-08-24T18:53:39.042Z"
   },
   {
    "duration": 529,
    "start_time": "2022-08-24T18:53:39.056Z"
   },
   {
    "duration": 15,
    "start_time": "2022-08-24T18:53:39.586Z"
   },
   {
    "duration": 21,
    "start_time": "2022-08-24T18:55:08.188Z"
   },
   {
    "duration": 12,
    "start_time": "2022-08-24T18:55:24.920Z"
   },
   {
    "duration": 10,
    "start_time": "2022-08-24T18:56:55.878Z"
   },
   {
    "duration": 52,
    "start_time": "2022-08-25T08:36:25.478Z"
   },
   {
    "duration": 436,
    "start_time": "2022-08-25T08:36:30.890Z"
   },
   {
    "duration": 210,
    "start_time": "2022-08-25T08:36:31.329Z"
   },
   {
    "duration": 29,
    "start_time": "2022-08-25T08:36:31.541Z"
   },
   {
    "duration": 5,
    "start_time": "2022-08-25T08:36:31.573Z"
   },
   {
    "duration": 26,
    "start_time": "2022-08-25T08:36:31.581Z"
   },
   {
    "duration": 9,
    "start_time": "2022-08-25T08:36:31.609Z"
   },
   {
    "duration": 11,
    "start_time": "2022-08-25T08:36:31.621Z"
   },
   {
    "duration": 12,
    "start_time": "2022-08-25T08:36:31.634Z"
   },
   {
    "duration": 15,
    "start_time": "2022-08-25T08:36:31.650Z"
   },
   {
    "duration": 38,
    "start_time": "2022-08-25T08:36:31.668Z"
   },
   {
    "duration": 7,
    "start_time": "2022-08-25T08:36:31.710Z"
   },
   {
    "duration": 37,
    "start_time": "2022-08-25T08:36:31.719Z"
   },
   {
    "duration": 1027,
    "start_time": "2022-08-25T08:36:31.758Z"
   },
   {
    "duration": 145,
    "start_time": "2022-08-25T08:36:32.788Z"
   },
   {
    "duration": 13,
    "start_time": "2022-08-25T08:36:32.936Z"
   },
   {
    "duration": 240,
    "start_time": "2022-08-25T08:36:32.951Z"
   },
   {
    "duration": 11,
    "start_time": "2022-08-25T08:36:33.194Z"
   },
   {
    "duration": 30,
    "start_time": "2022-08-25T08:36:33.207Z"
   },
   {
    "duration": 9,
    "start_time": "2022-08-25T08:36:33.240Z"
   },
   {
    "duration": 306,
    "start_time": "2022-08-25T08:36:33.250Z"
   },
   {
    "duration": 148,
    "start_time": "2022-08-25T08:36:33.558Z"
   },
   {
    "duration": 154,
    "start_time": "2022-08-25T08:36:33.708Z"
   },
   {
    "duration": 170,
    "start_time": "2022-08-25T08:36:33.864Z"
   },
   {
    "duration": 123,
    "start_time": "2022-08-25T08:36:34.036Z"
   },
   {
    "duration": 212,
    "start_time": "2022-08-25T08:36:34.161Z"
   },
   {
    "duration": 24,
    "start_time": "2022-08-25T08:36:34.375Z"
   },
   {
    "duration": 182,
    "start_time": "2022-08-25T08:36:34.401Z"
   },
   {
    "duration": 180,
    "start_time": "2022-08-25T08:36:34.595Z"
   },
   {
    "duration": 158,
    "start_time": "2022-08-25T08:36:34.777Z"
   },
   {
    "duration": 204,
    "start_time": "2022-08-25T08:36:34.937Z"
   },
   {
    "duration": 10,
    "start_time": "2022-08-25T08:36:35.143Z"
   },
   {
    "duration": 40,
    "start_time": "2022-08-25T08:36:35.155Z"
   },
   {
    "duration": 17,
    "start_time": "2022-08-25T08:36:35.197Z"
   },
   {
    "duration": 15,
    "start_time": "2022-08-25T08:36:35.216Z"
   },
   {
    "duration": 19,
    "start_time": "2022-08-25T08:36:35.233Z"
   },
   {
    "duration": 526,
    "start_time": "2022-08-25T08:36:35.254Z"
   },
   {
    "duration": 16,
    "start_time": "2022-08-25T08:36:35.782Z"
   },
   {
    "duration": 411,
    "start_time": "2022-08-25T08:47:58.246Z"
   },
   {
    "duration": 182,
    "start_time": "2022-08-25T08:51:54.552Z"
   },
   {
    "duration": 160,
    "start_time": "2022-08-25T08:52:00.523Z"
   },
   {
    "duration": 168,
    "start_time": "2022-08-25T09:04:54.300Z"
   },
   {
    "duration": 141,
    "start_time": "2022-08-25T09:05:05.709Z"
   },
   {
    "duration": 434,
    "start_time": "2022-08-25T09:59:22.706Z"
   },
   {
    "duration": 65,
    "start_time": "2022-08-25T09:59:23.144Z"
   },
   {
    "duration": 30,
    "start_time": "2022-08-25T09:59:23.217Z"
   },
   {
    "duration": 4,
    "start_time": "2022-08-25T09:59:23.249Z"
   },
   {
    "duration": 26,
    "start_time": "2022-08-25T09:59:23.256Z"
   },
   {
    "duration": 11,
    "start_time": "2022-08-25T09:59:23.292Z"
   },
   {
    "duration": 26,
    "start_time": "2022-08-25T09:59:23.305Z"
   },
   {
    "duration": 8,
    "start_time": "2022-08-25T09:59:23.332Z"
   },
   {
    "duration": 17,
    "start_time": "2022-08-25T09:59:23.341Z"
   },
   {
    "duration": 15,
    "start_time": "2022-08-25T09:59:23.360Z"
   },
   {
    "duration": 10,
    "start_time": "2022-08-25T09:59:23.376Z"
   },
   {
    "duration": 17,
    "start_time": "2022-08-25T09:59:23.388Z"
   },
   {
    "duration": 406,
    "start_time": "2022-08-25T09:59:23.407Z"
   },
   {
    "duration": 8,
    "start_time": "2022-08-25T09:59:23.816Z"
   },
   {
    "duration": 230,
    "start_time": "2022-08-25T09:59:23.826Z"
   },
   {
    "duration": 7,
    "start_time": "2022-08-25T09:59:24.058Z"
   },
   {
    "duration": 31,
    "start_time": "2022-08-25T09:59:24.067Z"
   },
   {
    "duration": 10,
    "start_time": "2022-08-25T09:59:24.100Z"
   },
   {
    "duration": 231,
    "start_time": "2022-08-25T09:59:24.112Z"
   },
   {
    "duration": 138,
    "start_time": "2022-08-25T09:59:24.344Z"
   },
   {
    "duration": 139,
    "start_time": "2022-08-25T09:59:24.483Z"
   },
   {
    "duration": 193,
    "start_time": "2022-08-25T09:59:24.624Z"
   },
   {
    "duration": 121,
    "start_time": "2022-08-25T09:59:24.818Z"
   },
   {
    "duration": 13,
    "start_time": "2022-08-25T09:59:24.940Z"
   },
   {
    "duration": 189,
    "start_time": "2022-08-25T09:59:24.954Z"
   },
   {
    "duration": 182,
    "start_time": "2022-08-25T09:59:25.144Z"
   },
   {
    "duration": 190,
    "start_time": "2022-08-25T09:59:25.328Z"
   },
   {
    "duration": 154,
    "start_time": "2022-08-25T09:59:25.520Z"
   },
   {
    "duration": 19,
    "start_time": "2022-08-25T09:59:25.675Z"
   },
   {
    "duration": 18,
    "start_time": "2022-08-25T09:59:25.695Z"
   },
   {
    "duration": 10,
    "start_time": "2022-08-25T09:59:25.715Z"
   },
   {
    "duration": 9,
    "start_time": "2022-08-25T09:59:25.727Z"
   },
   {
    "duration": 11,
    "start_time": "2022-08-25T09:59:25.738Z"
   },
   {
    "duration": 117,
    "start_time": "2022-08-25T09:59:25.750Z"
   },
   {
    "duration": 0,
    "start_time": "2022-08-25T09:59:25.868Z"
   },
   {
    "duration": 483,
    "start_time": "2022-08-25T09:59:42.713Z"
   },
   {
    "duration": 13,
    "start_time": "2022-08-25T09:59:44.462Z"
   },
   {
    "duration": 365,
    "start_time": "2022-08-25T10:31:58.065Z"
   },
   {
    "duration": 52,
    "start_time": "2022-08-25T10:31:58.432Z"
   },
   {
    "duration": 22,
    "start_time": "2022-08-25T10:31:58.486Z"
   },
   {
    "duration": 7,
    "start_time": "2022-08-25T10:31:58.510Z"
   },
   {
    "duration": 24,
    "start_time": "2022-08-25T10:31:58.519Z"
   },
   {
    "duration": 9,
    "start_time": "2022-08-25T10:31:58.545Z"
   },
   {
    "duration": 10,
    "start_time": "2022-08-25T10:31:58.556Z"
   },
   {
    "duration": 13,
    "start_time": "2022-08-25T10:31:58.568Z"
   },
   {
    "duration": 10,
    "start_time": "2022-08-25T10:31:58.583Z"
   },
   {
    "duration": 13,
    "start_time": "2022-08-25T10:31:58.607Z"
   },
   {
    "duration": 5,
    "start_time": "2022-08-25T10:31:58.622Z"
   },
   {
    "duration": 15,
    "start_time": "2022-08-25T10:31:58.628Z"
   },
   {
    "duration": 363,
    "start_time": "2022-08-25T10:31:58.645Z"
   },
   {
    "duration": 8,
    "start_time": "2022-08-25T10:31:59.009Z"
   },
   {
    "duration": 201,
    "start_time": "2022-08-25T10:31:59.019Z"
   },
   {
    "duration": 8,
    "start_time": "2022-08-25T10:31:59.222Z"
   },
   {
    "duration": 23,
    "start_time": "2022-08-25T10:31:59.232Z"
   },
   {
    "duration": 5,
    "start_time": "2022-08-25T10:31:59.257Z"
   },
   {
    "duration": 234,
    "start_time": "2022-08-25T10:31:59.264Z"
   },
   {
    "duration": 137,
    "start_time": "2022-08-25T10:31:59.508Z"
   },
   {
    "duration": 134,
    "start_time": "2022-08-25T10:31:59.646Z"
   },
   {
    "duration": 195,
    "start_time": "2022-08-25T10:31:59.782Z"
   },
   {
    "duration": 134,
    "start_time": "2022-08-25T10:31:59.979Z"
   },
   {
    "duration": 24,
    "start_time": "2022-08-25T10:32:00.115Z"
   },
   {
    "duration": 172,
    "start_time": "2022-08-25T10:32:00.142Z"
   },
   {
    "duration": 154,
    "start_time": "2022-08-25T10:32:00.316Z"
   },
   {
    "duration": 188,
    "start_time": "2022-08-25T10:32:00.472Z"
   },
   {
    "duration": 188,
    "start_time": "2022-08-25T10:32:00.665Z"
   },
   {
    "duration": 7,
    "start_time": "2022-08-25T10:32:00.857Z"
   },
   {
    "duration": 38,
    "start_time": "2022-08-25T10:32:00.866Z"
   },
   {
    "duration": 23,
    "start_time": "2022-08-25T10:32:00.906Z"
   },
   {
    "duration": 18,
    "start_time": "2022-08-25T10:32:00.931Z"
   },
   {
    "duration": 33,
    "start_time": "2022-08-25T10:32:00.951Z"
   },
   {
    "duration": 443,
    "start_time": "2022-08-25T10:32:00.986Z"
   },
   {
    "duration": 9,
    "start_time": "2022-08-25T10:32:01.431Z"
   },
   {
    "duration": 408,
    "start_time": "2022-08-25T14:19:09.505Z"
   },
   {
    "duration": 57,
    "start_time": "2022-08-25T14:19:09.915Z"
   },
   {
    "duration": 23,
    "start_time": "2022-08-25T14:19:09.976Z"
   },
   {
    "duration": 4,
    "start_time": "2022-08-25T14:19:10.001Z"
   },
   {
    "duration": 18,
    "start_time": "2022-08-25T14:19:10.007Z"
   },
   {
    "duration": 10,
    "start_time": "2022-08-25T14:19:10.027Z"
   },
   {
    "duration": 36,
    "start_time": "2022-08-25T14:19:10.039Z"
   },
   {
    "duration": 5,
    "start_time": "2022-08-25T14:19:10.079Z"
   },
   {
    "duration": 13,
    "start_time": "2022-08-25T14:19:10.086Z"
   },
   {
    "duration": 15,
    "start_time": "2022-08-25T14:19:10.104Z"
   },
   {
    "duration": 6,
    "start_time": "2022-08-25T14:19:10.121Z"
   },
   {
    "duration": 25,
    "start_time": "2022-08-25T14:19:10.129Z"
   },
   {
    "duration": 450,
    "start_time": "2022-08-25T14:19:10.168Z"
   },
   {
    "duration": 12,
    "start_time": "2022-08-25T14:19:10.620Z"
   },
   {
    "duration": 260,
    "start_time": "2022-08-25T14:19:10.634Z"
   },
   {
    "duration": 9,
    "start_time": "2022-08-25T14:19:10.896Z"
   },
   {
    "duration": 15,
    "start_time": "2022-08-25T14:19:10.907Z"
   },
   {
    "duration": 6,
    "start_time": "2022-08-25T14:19:10.923Z"
   },
   {
    "duration": 235,
    "start_time": "2022-08-25T14:19:10.930Z"
   },
   {
    "duration": 122,
    "start_time": "2022-08-25T14:19:11.167Z"
   },
   {
    "duration": 112,
    "start_time": "2022-08-25T14:19:11.290Z"
   },
   {
    "duration": 183,
    "start_time": "2022-08-25T14:19:11.403Z"
   },
   {
    "duration": 116,
    "start_time": "2022-08-25T14:19:11.588Z"
   },
   {
    "duration": 12,
    "start_time": "2022-08-25T14:19:11.706Z"
   },
   {
    "duration": 173,
    "start_time": "2022-08-25T14:19:11.719Z"
   },
   {
    "duration": 171,
    "start_time": "2022-08-25T14:19:11.893Z"
   },
   {
    "duration": 171,
    "start_time": "2022-08-25T14:19:12.065Z"
   },
   {
    "duration": 154,
    "start_time": "2022-08-25T14:19:12.239Z"
   },
   {
    "duration": 7,
    "start_time": "2022-08-25T14:19:12.395Z"
   },
   {
    "duration": 16,
    "start_time": "2022-08-25T14:19:12.404Z"
   },
   {
    "duration": 11,
    "start_time": "2022-08-25T14:19:12.422Z"
   },
   {
    "duration": 51,
    "start_time": "2022-08-25T14:19:12.435Z"
   },
   {
    "duration": 13,
    "start_time": "2022-08-25T14:19:12.488Z"
   },
   {
    "duration": 462,
    "start_time": "2022-08-25T14:19:12.502Z"
   },
   {
    "duration": 17,
    "start_time": "2022-08-25T14:19:12.969Z"
   },
   {
    "duration": 66,
    "start_time": "2022-08-26T10:58:39.668Z"
   },
   {
    "duration": 1059,
    "start_time": "2022-08-26T10:58:52.571Z"
   },
   {
    "duration": 99,
    "start_time": "2022-08-26T10:58:53.631Z"
   },
   {
    "duration": 16,
    "start_time": "2022-08-26T10:58:53.731Z"
   },
   {
    "duration": 9,
    "start_time": "2022-08-26T10:58:53.749Z"
   },
   {
    "duration": 19,
    "start_time": "2022-08-26T10:58:53.759Z"
   },
   {
    "duration": 11,
    "start_time": "2022-08-26T10:58:53.780Z"
   },
   {
    "duration": 9,
    "start_time": "2022-08-26T10:58:53.798Z"
   },
   {
    "duration": 25,
    "start_time": "2022-08-26T10:58:53.808Z"
   },
   {
    "duration": 16,
    "start_time": "2022-08-26T10:58:53.834Z"
   },
   {
    "duration": 10,
    "start_time": "2022-08-26T10:58:53.853Z"
   },
   {
    "duration": 9,
    "start_time": "2022-08-26T10:58:53.865Z"
   },
   {
    "duration": 31,
    "start_time": "2022-08-26T10:58:53.875Z"
   },
   {
    "duration": 17,
    "start_time": "2022-08-26T10:58:53.907Z"
   },
   {
    "duration": 28,
    "start_time": "2022-08-26T10:58:53.926Z"
   },
   {
    "duration": 29,
    "start_time": "2022-08-26T10:58:53.956Z"
   },
   {
    "duration": 43,
    "start_time": "2022-08-26T10:58:53.987Z"
   },
   {
    "duration": 16,
    "start_time": "2022-08-26T10:58:54.031Z"
   },
   {
    "duration": 135,
    "start_time": "2022-08-26T10:58:54.048Z"
   },
   {
    "duration": 8,
    "start_time": "2022-08-26T10:58:54.185Z"
   },
   {
    "duration": 271,
    "start_time": "2022-08-26T10:58:54.195Z"
   },
   {
    "duration": 8,
    "start_time": "2022-08-26T10:58:54.468Z"
   },
   {
    "duration": 61,
    "start_time": "2022-08-26T10:58:54.478Z"
   },
   {
    "duration": 256,
    "start_time": "2022-08-26T10:58:54.541Z"
   },
   {
    "duration": 9,
    "start_time": "2022-08-26T10:58:54.798Z"
   },
   {
    "duration": 200,
    "start_time": "2022-08-26T10:58:54.809Z"
   },
   {
    "duration": 181,
    "start_time": "2022-08-26T10:58:55.015Z"
   },
   {
    "duration": 13,
    "start_time": "2022-08-26T10:58:55.202Z"
   },
   {
    "duration": 183,
    "start_time": "2022-08-26T10:58:55.219Z"
   },
   {
    "duration": 182,
    "start_time": "2022-08-26T10:58:55.405Z"
   },
   {
    "duration": 163,
    "start_time": "2022-08-26T10:58:55.589Z"
   },
   {
    "duration": 188,
    "start_time": "2022-08-26T10:58:55.754Z"
   },
   {
    "duration": 8,
    "start_time": "2022-08-26T10:58:55.944Z"
   },
   {
    "duration": 15,
    "start_time": "2022-08-26T10:58:55.955Z"
   },
   {
    "duration": 33,
    "start_time": "2022-08-26T10:58:55.971Z"
   },
   {
    "duration": 40,
    "start_time": "2022-08-26T10:58:56.006Z"
   },
   {
    "duration": 36,
    "start_time": "2022-08-26T10:58:56.047Z"
   },
   {
    "duration": 40,
    "start_time": "2022-08-26T10:58:56.085Z"
   },
   {
    "duration": 32,
    "start_time": "2022-08-26T10:58:56.127Z"
   },
   {
    "duration": 330,
    "start_time": "2022-08-26T10:59:45.066Z"
   },
   {
    "duration": 260,
    "start_time": "2022-08-26T10:59:53.468Z"
   },
   {
    "duration": 1043,
    "start_time": "2022-08-26T11:01:36.139Z"
   },
   {
    "duration": 106,
    "start_time": "2022-08-26T11:01:37.184Z"
   },
   {
    "duration": 19,
    "start_time": "2022-08-26T11:01:37.291Z"
   },
   {
    "duration": 14,
    "start_time": "2022-08-26T11:01:37.312Z"
   },
   {
    "duration": 15,
    "start_time": "2022-08-26T11:01:37.327Z"
   },
   {
    "duration": 10,
    "start_time": "2022-08-26T11:01:37.343Z"
   },
   {
    "duration": 7,
    "start_time": "2022-08-26T11:01:37.354Z"
   },
   {
    "duration": 8,
    "start_time": "2022-08-26T11:01:37.365Z"
   },
   {
    "duration": 9,
    "start_time": "2022-08-26T11:01:37.374Z"
   },
   {
    "duration": 23,
    "start_time": "2022-08-26T11:01:37.385Z"
   },
   {
    "duration": 20,
    "start_time": "2022-08-26T11:01:37.410Z"
   },
   {
    "duration": 18,
    "start_time": "2022-08-26T11:01:37.431Z"
   },
   {
    "duration": 8,
    "start_time": "2022-08-26T11:01:37.451Z"
   },
   {
    "duration": 24,
    "start_time": "2022-08-26T11:01:37.461Z"
   },
   {
    "duration": 26,
    "start_time": "2022-08-26T11:01:37.499Z"
   },
   {
    "duration": 19,
    "start_time": "2022-08-26T11:01:37.527Z"
   },
   {
    "duration": 25,
    "start_time": "2022-08-26T11:01:37.548Z"
   },
   {
    "duration": 175,
    "start_time": "2022-08-26T11:01:37.575Z"
   },
   {
    "duration": 9,
    "start_time": "2022-08-26T11:01:37.752Z"
   },
   {
    "duration": 212,
    "start_time": "2022-08-26T11:01:37.763Z"
   },
   {
    "duration": 11,
    "start_time": "2022-08-26T11:01:37.977Z"
   },
   {
    "duration": 26,
    "start_time": "2022-08-26T11:01:37.989Z"
   },
   {
    "duration": 218,
    "start_time": "2022-08-26T11:01:38.016Z"
   },
   {
    "duration": 6,
    "start_time": "2022-08-26T11:01:38.235Z"
   },
   {
    "duration": 180,
    "start_time": "2022-08-26T11:01:38.242Z"
   },
   {
    "duration": 213,
    "start_time": "2022-08-26T11:01:38.424Z"
   },
   {
    "duration": 13,
    "start_time": "2022-08-26T11:01:38.639Z"
   },
   {
    "duration": 173,
    "start_time": "2022-08-26T11:01:38.655Z"
   },
   {
    "duration": 145,
    "start_time": "2022-08-26T11:01:38.830Z"
   },
   {
    "duration": 167,
    "start_time": "2022-08-26T11:01:38.977Z"
   },
   {
    "duration": 165,
    "start_time": "2022-08-26T11:01:39.145Z"
   },
   {
    "duration": 9,
    "start_time": "2022-08-26T11:01:39.312Z"
   },
   {
    "duration": 14,
    "start_time": "2022-08-26T11:01:39.323Z"
   },
   {
    "duration": 10,
    "start_time": "2022-08-26T11:01:39.339Z"
   },
   {
    "duration": 9,
    "start_time": "2022-08-26T11:01:39.351Z"
   },
   {
    "duration": 45,
    "start_time": "2022-08-26T11:01:39.362Z"
   },
   {
    "duration": 18,
    "start_time": "2022-08-26T11:01:39.409Z"
   },
   {
    "duration": 12,
    "start_time": "2022-08-26T11:01:39.429Z"
   }
  ],
  "kernelspec": {
   "display_name": "Python 3 (ipykernel)",
   "language": "python",
   "name": "python3"
  },
  "language_info": {
   "codemirror_mode": {
    "name": "ipython",
    "version": 3
   },
   "file_extension": ".py",
   "mimetype": "text/x-python",
   "name": "python",
   "nbconvert_exporter": "python",
   "pygments_lexer": "ipython3",
   "version": "3.9.12"
  },
  "toc": {
   "base_numbering": 1,
   "nav_menu": {},
   "number_sections": true,
   "sideBar": true,
   "skip_h1_title": true,
   "title_cell": "Table of Contents",
   "title_sidebar": "Contents",
   "toc_cell": false,
   "toc_position": {
    "height": "calc(100% - 180px)",
    "left": "10px",
    "top": "150px",
    "width": "356.594px"
   },
   "toc_section_display": true,
   "toc_window_display": true
  }
 },
 "nbformat": 4,
 "nbformat_minor": 2
}
