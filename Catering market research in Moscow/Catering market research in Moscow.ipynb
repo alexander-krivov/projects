{
 "cells": [
  {
   "cell_type": "markdown",
   "metadata": {},
   "source": [
    "# Сборный проект\n",
    "\n",
    "По легенде, мы работаем в стартапе, который продаёт продукты питания. Нужно разобраться, как ведут себя пользователи мобильного приложения.\n",
    "\n",
    "Дизайнеры захотели поменять шрифты во всём приложении, а менеджеры испугались, что пользователям будет непривычно. Договорились принять решение по результатам A/A/B-теста. Пользователей разбили на 3 группы: 2 контрольные со старыми шрифтами и одну экспериментальную — с новыми.\n",
    "\n",
    "План будет следующий:\n",
    "1. Получение и предобработка данных\n",
    "2. Проверка данных\n",
    "3. Построение воронки событий\n",
    "4. Изучение результата эксперимента\n",
    "5. Общий вывод"
   ]
  },
  {
   "cell_type": "markdown",
   "metadata": {},
   "source": [
    "## Получение и предобработка данных"
   ]
  },
  {
   "cell_type": "code",
   "execution_count": 1,
   "metadata": {},
   "outputs": [],
   "source": [
    "import pandas as pd\n",
    "from datetime import datetime\n",
    "import math as mth\n",
    "from scipy import stats as st\n",
    "import numpy as np"
   ]
  },
  {
   "cell_type": "code",
   "execution_count": 2,
   "metadata": {},
   "outputs": [],
   "source": [
    "df = pd.read_csv('/datasets/logs_exp.csv', sep='\\t')"
   ]
  },
  {
   "cell_type": "code",
   "execution_count": 3,
   "metadata": {
    "scrolled": false
   },
   "outputs": [
    {
     "data": {
      "text/html": [
       "<div>\n",
       "<style scoped>\n",
       "    .dataframe tbody tr th:only-of-type {\n",
       "        vertical-align: middle;\n",
       "    }\n",
       "\n",
       "    .dataframe tbody tr th {\n",
       "        vertical-align: top;\n",
       "    }\n",
       "\n",
       "    .dataframe thead th {\n",
       "        text-align: right;\n",
       "    }\n",
       "</style>\n",
       "<table border=\"1\" class=\"dataframe\">\n",
       "  <thead>\n",
       "    <tr style=\"text-align: right;\">\n",
       "      <th></th>\n",
       "      <th>EventName</th>\n",
       "      <th>DeviceIDHash</th>\n",
       "      <th>EventTimestamp</th>\n",
       "      <th>ExpId</th>\n",
       "    </tr>\n",
       "  </thead>\n",
       "  <tbody>\n",
       "    <tr>\n",
       "      <th>0</th>\n",
       "      <td>MainScreenAppear</td>\n",
       "      <td>4575588528974610257</td>\n",
       "      <td>1564029816</td>\n",
       "      <td>246</td>\n",
       "    </tr>\n",
       "    <tr>\n",
       "      <th>1</th>\n",
       "      <td>MainScreenAppear</td>\n",
       "      <td>7416695313311560658</td>\n",
       "      <td>1564053102</td>\n",
       "      <td>246</td>\n",
       "    </tr>\n",
       "    <tr>\n",
       "      <th>2</th>\n",
       "      <td>PaymentScreenSuccessful</td>\n",
       "      <td>3518123091307005509</td>\n",
       "      <td>1564054127</td>\n",
       "      <td>248</td>\n",
       "    </tr>\n",
       "    <tr>\n",
       "      <th>3</th>\n",
       "      <td>CartScreenAppear</td>\n",
       "      <td>3518123091307005509</td>\n",
       "      <td>1564054127</td>\n",
       "      <td>248</td>\n",
       "    </tr>\n",
       "    <tr>\n",
       "      <th>4</th>\n",
       "      <td>PaymentScreenSuccessful</td>\n",
       "      <td>6217807653094995999</td>\n",
       "      <td>1564055322</td>\n",
       "      <td>248</td>\n",
       "    </tr>\n",
       "    <tr>\n",
       "      <th>...</th>\n",
       "      <td>...</td>\n",
       "      <td>...</td>\n",
       "      <td>...</td>\n",
       "      <td>...</td>\n",
       "    </tr>\n",
       "    <tr>\n",
       "      <th>244121</th>\n",
       "      <td>MainScreenAppear</td>\n",
       "      <td>4599628364049201812</td>\n",
       "      <td>1565212345</td>\n",
       "      <td>247</td>\n",
       "    </tr>\n",
       "    <tr>\n",
       "      <th>244122</th>\n",
       "      <td>MainScreenAppear</td>\n",
       "      <td>5849806612437486590</td>\n",
       "      <td>1565212439</td>\n",
       "      <td>246</td>\n",
       "    </tr>\n",
       "    <tr>\n",
       "      <th>244123</th>\n",
       "      <td>MainScreenAppear</td>\n",
       "      <td>5746969938801999050</td>\n",
       "      <td>1565212483</td>\n",
       "      <td>246</td>\n",
       "    </tr>\n",
       "    <tr>\n",
       "      <th>244124</th>\n",
       "      <td>MainScreenAppear</td>\n",
       "      <td>5746969938801999050</td>\n",
       "      <td>1565212498</td>\n",
       "      <td>246</td>\n",
       "    </tr>\n",
       "    <tr>\n",
       "      <th>244125</th>\n",
       "      <td>OffersScreenAppear</td>\n",
       "      <td>5746969938801999050</td>\n",
       "      <td>1565212517</td>\n",
       "      <td>246</td>\n",
       "    </tr>\n",
       "  </tbody>\n",
       "</table>\n",
       "<p>244126 rows × 4 columns</p>\n",
       "</div>"
      ],
      "text/plain": [
       "                      EventName         DeviceIDHash  EventTimestamp  ExpId\n",
       "0              MainScreenAppear  4575588528974610257      1564029816    246\n",
       "1              MainScreenAppear  7416695313311560658      1564053102    246\n",
       "2       PaymentScreenSuccessful  3518123091307005509      1564054127    248\n",
       "3              CartScreenAppear  3518123091307005509      1564054127    248\n",
       "4       PaymentScreenSuccessful  6217807653094995999      1564055322    248\n",
       "...                         ...                  ...             ...    ...\n",
       "244121         MainScreenAppear  4599628364049201812      1565212345    247\n",
       "244122         MainScreenAppear  5849806612437486590      1565212439    246\n",
       "244123         MainScreenAppear  5746969938801999050      1565212483    246\n",
       "244124         MainScreenAppear  5746969938801999050      1565212498    246\n",
       "244125       OffersScreenAppear  5746969938801999050      1565212517    246\n",
       "\n",
       "[244126 rows x 4 columns]"
      ]
     },
     "execution_count": 3,
     "metadata": {},
     "output_type": "execute_result"
    }
   ],
   "source": [
    "df"
   ]
  },
  {
   "cell_type": "markdown",
   "metadata": {},
   "source": [
    "Не нравятся названия столбцов, так как они не совсем интуитивно понятны и написаны не по правилам змеиного регистра. Переименуем в более понятные и удобные названия"
   ]
  },
  {
   "cell_type": "code",
   "execution_count": 4,
   "metadata": {},
   "outputs": [],
   "source": [
    "df = df.rename(columns = {\n",
    "    'EventName': 'event_name', 'DeviceIDHash' : 'user_id', 'EventTimestamp' : 'datetime', 'ExpId' : 'group'})"
   ]
  },
  {
   "cell_type": "code",
   "execution_count": 5,
   "metadata": {},
   "outputs": [
    {
     "name": "stdout",
     "output_type": "stream",
     "text": [
      "<class 'pandas.core.frame.DataFrame'>\n",
      "RangeIndex: 244126 entries, 0 to 244125\n",
      "Data columns (total 4 columns):\n",
      " #   Column      Non-Null Count   Dtype \n",
      "---  ------      --------------   ----- \n",
      " 0   event_name  244126 non-null  object\n",
      " 1   user_id     244126 non-null  int64 \n",
      " 2   datetime    244126 non-null  int64 \n",
      " 3   group       244126 non-null  int64 \n",
      "dtypes: int64(3), object(1)\n",
      "memory usage: 7.5+ MB\n"
     ]
    }
   ],
   "source": [
    "df.info()"
   ]
  },
  {
   "cell_type": "markdown",
   "metadata": {},
   "source": [
    "Пропусков нет, но некоторые данные можно изменить ('datetime' перевести в datetime) и добавить новый столбец с датой"
   ]
  },
  {
   "cell_type": "code",
   "execution_count": 6,
   "metadata": {},
   "outputs": [],
   "source": [
    "df['datetime'] = pd.to_datetime(df['datetime'], unit='s')"
   ]
  },
  {
   "cell_type": "code",
   "execution_count": 7,
   "metadata": {},
   "outputs": [],
   "source": [
    "df['date'] = df['datetime'].dt.floor('D') #округляем время до дня"
   ]
  },
  {
   "cell_type": "code",
   "execution_count": 8,
   "metadata": {},
   "outputs": [
    {
     "data": {
      "text/plain": [
       "413"
      ]
     },
     "execution_count": 8,
     "metadata": {},
     "output_type": "execute_result"
    }
   ],
   "source": [
    "df.duplicated().sum() #Количество явных дубликатов в датафрейме"
   ]
  },
  {
   "cell_type": "code",
   "execution_count": 9,
   "metadata": {},
   "outputs": [
    {
     "data": {
      "text/html": [
       "<div>\n",
       "<style scoped>\n",
       "    .dataframe tbody tr th:only-of-type {\n",
       "        vertical-align: middle;\n",
       "    }\n",
       "\n",
       "    .dataframe tbody tr th {\n",
       "        vertical-align: top;\n",
       "    }\n",
       "\n",
       "    .dataframe thead th {\n",
       "        text-align: right;\n",
       "    }\n",
       "</style>\n",
       "<table border=\"1\" class=\"dataframe\">\n",
       "  <thead>\n",
       "    <tr style=\"text-align: right;\">\n",
       "      <th></th>\n",
       "      <th>event_name</th>\n",
       "      <th>user_id</th>\n",
       "      <th>datetime</th>\n",
       "      <th>group</th>\n",
       "      <th>date</th>\n",
       "    </tr>\n",
       "  </thead>\n",
       "  <tbody>\n",
       "    <tr>\n",
       "      <th>452</th>\n",
       "      <td>MainScreenAppear</td>\n",
       "      <td>5613408041324010552</td>\n",
       "      <td>2019-07-30 08:19:44</td>\n",
       "      <td>248</td>\n",
       "      <td>2019-07-30</td>\n",
       "    </tr>\n",
       "    <tr>\n",
       "      <th>453</th>\n",
       "      <td>MainScreenAppear</td>\n",
       "      <td>5613408041324010552</td>\n",
       "      <td>2019-07-30 08:19:44</td>\n",
       "      <td>248</td>\n",
       "      <td>2019-07-30</td>\n",
       "    </tr>\n",
       "    <tr>\n",
       "      <th>2348</th>\n",
       "      <td>CartScreenAppear</td>\n",
       "      <td>1694940645335807244</td>\n",
       "      <td>2019-07-31 21:51:39</td>\n",
       "      <td>248</td>\n",
       "      <td>2019-07-31</td>\n",
       "    </tr>\n",
       "    <tr>\n",
       "      <th>2350</th>\n",
       "      <td>CartScreenAppear</td>\n",
       "      <td>1694940645335807244</td>\n",
       "      <td>2019-07-31 21:51:39</td>\n",
       "      <td>248</td>\n",
       "      <td>2019-07-31</td>\n",
       "    </tr>\n",
       "    <tr>\n",
       "      <th>3572</th>\n",
       "      <td>MainScreenAppear</td>\n",
       "      <td>434103746454591587</td>\n",
       "      <td>2019-08-01 02:59:37</td>\n",
       "      <td>248</td>\n",
       "      <td>2019-08-01</td>\n",
       "    </tr>\n",
       "    <tr>\n",
       "      <th>...</th>\n",
       "      <td>...</td>\n",
       "      <td>...</td>\n",
       "      <td>...</td>\n",
       "      <td>...</td>\n",
       "      <td>...</td>\n",
       "    </tr>\n",
       "    <tr>\n",
       "      <th>242359</th>\n",
       "      <td>PaymentScreenSuccessful</td>\n",
       "      <td>2382591782303281935</td>\n",
       "      <td>2019-08-07 19:27:29</td>\n",
       "      <td>246</td>\n",
       "      <td>2019-08-07</td>\n",
       "    </tr>\n",
       "    <tr>\n",
       "      <th>242360</th>\n",
       "      <td>PaymentScreenSuccessful</td>\n",
       "      <td>2382591782303281935</td>\n",
       "      <td>2019-08-07 19:27:29</td>\n",
       "      <td>246</td>\n",
       "      <td>2019-08-07</td>\n",
       "    </tr>\n",
       "    <tr>\n",
       "      <th>242362</th>\n",
       "      <td>CartScreenAppear</td>\n",
       "      <td>2382591782303281935</td>\n",
       "      <td>2019-08-07 19:27:29</td>\n",
       "      <td>246</td>\n",
       "      <td>2019-08-07</td>\n",
       "    </tr>\n",
       "    <tr>\n",
       "      <th>242634</th>\n",
       "      <td>MainScreenAppear</td>\n",
       "      <td>4097782667445790512</td>\n",
       "      <td>2019-08-07 19:36:58</td>\n",
       "      <td>246</td>\n",
       "      <td>2019-08-07</td>\n",
       "    </tr>\n",
       "    <tr>\n",
       "      <th>242635</th>\n",
       "      <td>MainScreenAppear</td>\n",
       "      <td>4097782667445790512</td>\n",
       "      <td>2019-08-07 19:36:58</td>\n",
       "      <td>246</td>\n",
       "      <td>2019-08-07</td>\n",
       "    </tr>\n",
       "  </tbody>\n",
       "</table>\n",
       "<p>768 rows × 5 columns</p>\n",
       "</div>"
      ],
      "text/plain": [
       "                     event_name              user_id            datetime  \\\n",
       "452            MainScreenAppear  5613408041324010552 2019-07-30 08:19:44   \n",
       "453            MainScreenAppear  5613408041324010552 2019-07-30 08:19:44   \n",
       "2348           CartScreenAppear  1694940645335807244 2019-07-31 21:51:39   \n",
       "2350           CartScreenAppear  1694940645335807244 2019-07-31 21:51:39   \n",
       "3572           MainScreenAppear   434103746454591587 2019-08-01 02:59:37   \n",
       "...                         ...                  ...                 ...   \n",
       "242359  PaymentScreenSuccessful  2382591782303281935 2019-08-07 19:27:29   \n",
       "242360  PaymentScreenSuccessful  2382591782303281935 2019-08-07 19:27:29   \n",
       "242362         CartScreenAppear  2382591782303281935 2019-08-07 19:27:29   \n",
       "242634         MainScreenAppear  4097782667445790512 2019-08-07 19:36:58   \n",
       "242635         MainScreenAppear  4097782667445790512 2019-08-07 19:36:58   \n",
       "\n",
       "        group       date  \n",
       "452       248 2019-07-30  \n",
       "453       248 2019-07-30  \n",
       "2348      248 2019-07-31  \n",
       "2350      248 2019-07-31  \n",
       "3572      248 2019-08-01  \n",
       "...       ...        ...  \n",
       "242359    246 2019-08-07  \n",
       "242360    246 2019-08-07  \n",
       "242362    246 2019-08-07  \n",
       "242634    246 2019-08-07  \n",
       "242635    246 2019-08-07  \n",
       "\n",
       "[768 rows x 5 columns]"
      ]
     },
     "execution_count": 9,
     "metadata": {},
     "output_type": "execute_result"
    }
   ],
   "source": [
    "df[df.duplicated(keep=False)]"
   ]
  },
  {
   "cell_type": "markdown",
   "metadata": {},
   "source": [
    "Увидели, что есть дубликаты, проверили глазами, что совпадают строки полностью, 768 строк дубликатов, из них 413 - дубликаты. Так избавимся же от них!"
   ]
  },
  {
   "cell_type": "code",
   "execution_count": 10,
   "metadata": {},
   "outputs": [],
   "source": [
    "df = df.drop_duplicates().reset_index()"
   ]
  },
  {
   "cell_type": "code",
   "execution_count": 11,
   "metadata": {},
   "outputs": [
    {
     "data": {
      "text/plain": [
       "0"
      ]
     },
     "execution_count": 11,
     "metadata": {},
     "output_type": "execute_result"
    }
   ],
   "source": [
    "(df.groupby('user_id')['group'].nunique() >= 2).sum() #Проверяем, есть ли кто-то в нескольких группах"
   ]
  },
  {
   "cell_type": "markdown",
   "metadata": {},
   "source": [
    "**Вывод:**Получили данные, предобработали, поменяли названия столбцов(и добавили новые), проверили на явные дубликаты(и убрали их), проверили, не находится ли кто-либо из пользователей в нескольких группах(никого нет). Видим, что у нас 2 контрольные (246 и 247) и 1 экспериментальная(тестовая, получается) группа(248)"
   ]
  },
  {
   "cell_type": "markdown",
   "metadata": {},
   "source": [
    "## Проверка данных"
   ]
  },
  {
   "cell_type": "markdown",
   "metadata": {},
   "source": [
    "Здесь мы будем смотреть на данные и делать срезы по различным условиям, отсеивая аномальные результаты\n",
    "\n",
    "Сначала узнаем, сколько у нас уникальных пользователей и событий и сколько в среднем приходится на 1 пользователя событий"
   ]
  },
  {
   "cell_type": "code",
   "execution_count": 12,
   "metadata": {
    "scrolled": true
   },
   "outputs": [
    {
     "name": "stdout",
     "output_type": "stream",
     "text": [
      "Уникальных событий в логе - 5\n",
      "Уникальных пользоватей в логе - 7551\n"
     ]
    }
   ],
   "source": [
    "print('Уникальных событий в логе -', df['event_name'].nunique())\n",
    "print('Уникальных пользоватей в логе -', df['user_id'].nunique())"
   ]
  },
  {
   "cell_type": "code",
   "execution_count": 13,
   "metadata": {},
   "outputs": [
    {
     "data": {
      "text/html": [
       "<div>\n",
       "<style scoped>\n",
       "    .dataframe tbody tr th:only-of-type {\n",
       "        vertical-align: middle;\n",
       "    }\n",
       "\n",
       "    .dataframe tbody tr th {\n",
       "        vertical-align: top;\n",
       "    }\n",
       "\n",
       "    .dataframe thead th {\n",
       "        text-align: right;\n",
       "    }\n",
       "</style>\n",
       "<table border=\"1\" class=\"dataframe\">\n",
       "  <thead>\n",
       "    <tr style=\"text-align: right;\">\n",
       "      <th></th>\n",
       "      <th>event_name</th>\n",
       "      <th>unique</th>\n",
       "      <th>count</th>\n",
       "      <th>mean</th>\n",
       "    </tr>\n",
       "  </thead>\n",
       "  <tbody>\n",
       "    <tr>\n",
       "      <th>1</th>\n",
       "      <td>MainScreenAppear</td>\n",
       "      <td>7439</td>\n",
       "      <td>119101</td>\n",
       "      <td>16.01</td>\n",
       "    </tr>\n",
       "    <tr>\n",
       "      <th>2</th>\n",
       "      <td>OffersScreenAppear</td>\n",
       "      <td>4613</td>\n",
       "      <td>46808</td>\n",
       "      <td>10.15</td>\n",
       "    </tr>\n",
       "    <tr>\n",
       "      <th>0</th>\n",
       "      <td>CartScreenAppear</td>\n",
       "      <td>3749</td>\n",
       "      <td>42668</td>\n",
       "      <td>11.38</td>\n",
       "    </tr>\n",
       "    <tr>\n",
       "      <th>3</th>\n",
       "      <td>PaymentScreenSuccessful</td>\n",
       "      <td>3547</td>\n",
       "      <td>34118</td>\n",
       "      <td>9.62</td>\n",
       "    </tr>\n",
       "    <tr>\n",
       "      <th>4</th>\n",
       "      <td>Tutorial</td>\n",
       "      <td>847</td>\n",
       "      <td>1018</td>\n",
       "      <td>1.20</td>\n",
       "    </tr>\n",
       "  </tbody>\n",
       "</table>\n",
       "</div>"
      ],
      "text/plain": [
       "                event_name  unique   count   mean\n",
       "1         MainScreenAppear    7439  119101  16.01\n",
       "2       OffersScreenAppear    4613   46808  10.15\n",
       "0         CartScreenAppear    3749   42668  11.38\n",
       "3  PaymentScreenSuccessful    3547   34118   9.62\n",
       "4                 Tutorial     847    1018   1.20"
      ]
     },
     "execution_count": 13,
     "metadata": {},
     "output_type": "execute_result"
    }
   ],
   "source": [
    "uniq_cnt_before = df.groupby('event_name')['user_id'].nunique().reset_index()\n",
    "count_cnt_before = df.groupby('event_name')['user_id'].count().reset_index()\n",
    "table = uniq_cnt_before.merge(count_cnt_before, on = 'event_name')\n",
    "table = table.rename(columns = {'user_id_x': 'unique', 'user_id_y': 'count'})\n",
    "table['mean'] = round(table['count'] / table['unique'], 2)\n",
    "table.sort_values(by='count', ascending=False) "
   ]
  },
  {
   "cell_type": "markdown",
   "metadata": {},
   "source": [
    "Теперь проверим, данными за какой период мы располагаем:"
   ]
  },
  {
   "cell_type": "code",
   "execution_count": 14,
   "metadata": {},
   "outputs": [
    {
     "data": {
      "text/plain": [
       "Timestamp('2019-07-25 04:43:36')"
      ]
     },
     "metadata": {},
     "output_type": "display_data"
    },
    {
     "data": {
      "text/plain": [
       "Timestamp('2019-08-07 21:15:17')"
      ]
     },
     "execution_count": 14,
     "metadata": {},
     "output_type": "execute_result"
    }
   ],
   "source": [
    "display(df['datetime'].min())\n",
    "df['datetime'].max()"
   ]
  },
  {
   "cell_type": "code",
   "execution_count": 16,
   "metadata": {},
   "outputs": [
    {
     "data": {
      "image/png": "[encoded data removed]",
      "text/plain": [
       "<Figure size 1008x360 with 1 Axes>"
      ]
     },
     "metadata": {
      "needs_background": "light"
     },
     "output_type": "display_data"
    }
   ],
   "source": [
    "# код ревьюера\n",
    "df['datetime'].hist(bins=14*24, figsize=(14, 5));"
   ]
  },
  {
   "cell_type": "markdown",
   "metadata": {},
   "source": [
    "Видим, что первое время количество событий минимально. Несмотря на то, что технически в логи новых дней по некоторым пользователям могут «доезжать» события из прошлого(это может «перекашивать данные»), мы отсеем часть. Я посмотрел, подумал и решил, что мы возьмем данные с 2019-08-01, но сначала проверим, что не отсеем слишком большое количество начений:"
   ]
  },
  {
   "cell_type": "code",
   "execution_count": 17,
   "metadata": {},
   "outputs": [
    {
     "data": {
      "text/plain": [
       "796"
      ]
     },
     "execution_count": 17,
     "metadata": {},
     "output_type": "execute_result"
    }
   ],
   "source": [
    "df[df['datetime'] <= datetime(2019, 7, 31)]['date'].count()"
   ]
  },
  {
   "cell_type": "code",
   "execution_count": 18,
   "metadata": {
    "scrolled": false
   },
   "outputs": [],
   "source": [
    "df = df.query('date > \"2019-07-31\"') #Нас утраивает такое количество убранных значений, поэтому удаляем их"
   ]
  },
  {
   "cell_type": "code",
   "execution_count": 19,
   "metadata": {
    "scrolled": false
   },
   "outputs": [
    {
     "data": {
      "image/png": "[encoded data removed]",
      "text/plain": [
       "<Figure size 1296x576 with 1 Axes>"
      ]
     },
     "metadata": {
      "needs_background": "light"
     },
     "output_type": "display_data"
    }
   ],
   "source": [
    "df['datetime'].hist(figsize=(18,8), bins = 30*20);"
   ]
  },
  {
   "cell_type": "markdown",
   "metadata": {},
   "source": [
    "Видим, что значения распределены равномерно"
   ]
  },
  {
   "cell_type": "code",
   "execution_count": 20,
   "metadata": {},
   "outputs": [
    {
     "name": "stdout",
     "output_type": "stream",
     "text": [
      "<class 'pandas.core.frame.DataFrame'>\n",
      "Int64Index: 240887 entries, 2826 to 243712\n",
      "Data columns (total 6 columns):\n",
      " #   Column      Non-Null Count   Dtype         \n",
      "---  ------      --------------   -----         \n",
      " 0   index       240887 non-null  int64         \n",
      " 1   event_name  240887 non-null  object        \n",
      " 2   user_id     240887 non-null  int64         \n",
      " 3   datetime    240887 non-null  datetime64[ns]\n",
      " 4   group       240887 non-null  int64         \n",
      " 5   date        240887 non-null  datetime64[ns]\n",
      "dtypes: datetime64[ns](2), int64(3), object(1)\n",
      "memory usage: 12.9+ MB\n"
     ]
    }
   ],
   "source": [
    "df.info() #убрали 4 тысячи строчек, это 1.3 %, нас это устраивает"
   ]
  },
  {
   "cell_type": "code",
   "execution_count": 21,
   "metadata": {},
   "outputs": [
    {
     "data": {
      "text/html": [
       "<div>\n",
       "<style scoped>\n",
       "    .dataframe tbody tr th:only-of-type {\n",
       "        vertical-align: middle;\n",
       "    }\n",
       "\n",
       "    .dataframe tbody tr th {\n",
       "        vertical-align: top;\n",
       "    }\n",
       "\n",
       "    .dataframe thead th {\n",
       "        text-align: right;\n",
       "    }\n",
       "</style>\n",
       "<table border=\"1\" class=\"dataframe\">\n",
       "  <thead>\n",
       "    <tr style=\"text-align: right;\">\n",
       "      <th></th>\n",
       "      <th>event_name</th>\n",
       "      <th>unique</th>\n",
       "      <th>count</th>\n",
       "      <th>mean</th>\n",
       "    </tr>\n",
       "  </thead>\n",
       "  <tbody>\n",
       "    <tr>\n",
       "      <th>1</th>\n",
       "      <td>MainScreenAppear</td>\n",
       "      <td>7419</td>\n",
       "      <td>117328</td>\n",
       "      <td>15.81</td>\n",
       "    </tr>\n",
       "    <tr>\n",
       "      <th>2</th>\n",
       "      <td>OffersScreenAppear</td>\n",
       "      <td>4593</td>\n",
       "      <td>46333</td>\n",
       "      <td>10.09</td>\n",
       "    </tr>\n",
       "    <tr>\n",
       "      <th>0</th>\n",
       "      <td>CartScreenAppear</td>\n",
       "      <td>3734</td>\n",
       "      <td>42303</td>\n",
       "      <td>11.33</td>\n",
       "    </tr>\n",
       "    <tr>\n",
       "      <th>3</th>\n",
       "      <td>PaymentScreenSuccessful</td>\n",
       "      <td>3539</td>\n",
       "      <td>33918</td>\n",
       "      <td>9.58</td>\n",
       "    </tr>\n",
       "    <tr>\n",
       "      <th>4</th>\n",
       "      <td>Tutorial</td>\n",
       "      <td>840</td>\n",
       "      <td>1005</td>\n",
       "      <td>1.20</td>\n",
       "    </tr>\n",
       "  </tbody>\n",
       "</table>\n",
       "</div>"
      ],
      "text/plain": [
       "                event_name  unique   count   mean\n",
       "1         MainScreenAppear    7419  117328  15.81\n",
       "2       OffersScreenAppear    4593   46333  10.09\n",
       "0         CartScreenAppear    3734   42303  11.33\n",
       "3  PaymentScreenSuccessful    3539   33918   9.58\n",
       "4                 Tutorial     840    1005   1.20"
      ]
     },
     "execution_count": 21,
     "metadata": {},
     "output_type": "execute_result"
    }
   ],
   "source": [
    "uniq_cnt_after = df.groupby('event_name')['user_id'].nunique().reset_index()\n",
    "count_cnt_after = df.groupby('event_name')['user_id'].count().reset_index()\n",
    "table = uniq_cnt_after.merge(count_cnt_after, on = 'event_name')\n",
    "table = table.rename(columns = {'user_id_x': 'unique', 'user_id_y': 'count'})\n",
    "table['mean'] = round(table['count'] / table['unique'], 2)\n",
    "table.sort_values(by='count', ascending=False) "
   ]
  },
  {
   "cell_type": "code",
   "execution_count": 22,
   "metadata": {},
   "outputs": [
    {
     "data": {
      "text/plain": [
       "1    0.997311\n",
       "2    0.995664\n",
       "0    0.995999\n",
       "3    0.997745\n",
       "4    0.991736\n",
       "Name: user_id, dtype: float64"
      ]
     },
     "metadata": {},
     "output_type": "display_data"
    },
    {
     "data": {
      "text/plain": [
       "1    20\n",
       "2    20\n",
       "0    15\n",
       "3     8\n",
       "4     7\n",
       "Name: user_id, dtype: int64"
      ]
     },
     "execution_count": 22,
     "metadata": {},
     "output_type": "execute_result"
    }
   ],
   "source": [
    "#Потери в количестве уникальных пользователей\n",
    "display(uniq_cnt_after['user_id'].sort_values(ascending=False) / uniq_cnt_before['user_id'].sort_values(ascending=False))\n",
    "uniq_cnt_before['user_id'].sort_values(ascending=False) - uniq_cnt_after['user_id'].sort_values(ascending=False)"
   ]
  },
  {
   "cell_type": "code",
   "execution_count": 23,
   "metadata": {},
   "outputs": [
    {
     "data": {
      "text/plain": [
       "1    0.985113\n",
       "2    0.989852\n",
       "0    0.991446\n",
       "3    0.994138\n",
       "4    0.987230\n",
       "Name: user_id, dtype: float64"
      ]
     },
     "metadata": {},
     "output_type": "display_data"
    },
    {
     "data": {
      "text/plain": [
       "1    1773\n",
       "2     475\n",
       "0     365\n",
       "3     200\n",
       "4      13\n",
       "Name: user_id, dtype: int64"
      ]
     },
     "execution_count": 23,
     "metadata": {},
     "output_type": "execute_result"
    }
   ],
   "source": [
    "#Потери в количестве событий\n",
    "display(count_cnt_after['user_id'].sort_values(ascending=False) / count_cnt_before['user_id'].sort_values(ascending=False))\n",
    "count_cnt_before['user_id'].sort_values(ascending=False) - count_cnt_after['user_id'].sort_values(ascending=False)"
   ]
  },
  {
   "cell_type": "code",
   "execution_count": 24,
   "metadata": {},
   "outputs": [
    {
     "name": "stdout",
     "output_type": "stream",
     "text": [
      "Уникальных событий в логе - 5\n",
      "Уникальных пользоватей в логе - 7534\n"
     ]
    }
   ],
   "source": [
    "print('Уникальных событий в логе -', df['event_name'].nunique())\n",
    "print('Уникальных пользоватей в логе -', df['user_id'].nunique())"
   ]
  },
  {
   "cell_type": "code",
   "execution_count": 25,
   "metadata": {},
   "outputs": [
    {
     "data": {
      "text/plain": [
       "array([246, 247, 248])"
      ]
     },
     "metadata": {},
     "output_type": "display_data"
    },
    {
     "data": {
      "text/plain": [
       "79302"
      ]
     },
     "metadata": {},
     "output_type": "display_data"
    },
    {
     "data": {
      "text/plain": [
       "77022"
      ]
     },
     "metadata": {},
     "output_type": "display_data"
    },
    {
     "data": {
      "text/plain": [
       "84563"
      ]
     },
     "metadata": {},
     "output_type": "display_data"
    }
   ],
   "source": [
    "display(df['group'].unique())                               #Смотрим, остались ли все 3 группы\n",
    "display(df[df['group'] == 246]['user_id'].count())          #И проверяем их количество, группы +- равны\n",
    "display(df[df['group'] == 247]['user_id'].count())\n",
    "display(df[df['group'] == 248]['user_id'].count())"
   ]
  },
  {
   "cell_type": "markdown",
   "metadata": {},
   "source": [
    "**Вывод:**Узнали, что у нас 5 уникальных событий и 7534 пользователя в конечном датафрейме. В процессе предобработки данных убрали 3239 строчек (1.3% от первичных данных) и 17 пользователей (0.2 %). Помимо этого, изменили диапазон времени, который будем исследовать, так как первое время было малое количество событий и было решено их отбросить"
   ]
  },
  {
   "cell_type": "markdown",
   "metadata": {},
   "source": [
    "## Воронка событий"
   ]
  },
  {
   "cell_type": "markdown",
   "metadata": {},
   "source": [
    "Здесь мы посмотрим, какие события наиболее и наименее популярны(да и что это за события, в принципе), какой процент пользователей теряется на каждом этапе и отбросим этап, который посещают слишком маленькое количество пользователей (если это не оплата, конечно))"
   ]
  },
  {
   "cell_type": "code",
   "execution_count": 26,
   "metadata": {},
   "outputs": [
    {
     "data": {
      "text/plain": [
       "event_name\n",
       "MainScreenAppear           117328\n",
       "OffersScreenAppear          46333\n",
       "CartScreenAppear            42303\n",
       "PaymentScreenSuccessful     33918\n",
       "Tutorial                     1005\n",
       "Name: user_id, dtype: int64"
      ]
     },
     "execution_count": 26,
     "metadata": {},
     "output_type": "execute_result"
    }
   ],
   "source": [
    "df.groupby('event_name')['user_id'].count().sort_values(ascending=False)"
   ]
  },
  {
   "cell_type": "markdown",
   "metadata": {},
   "source": [
    "Видим список событий и их \"популярность\". Наиболее частое событие - MainScreenAppear - появление главного экрана, на 2 месте - OffersScreenAppear - появление предложений на экране, на 3 - CartScreenAppear - появление экрана корзины, на 4 - PaymentScreenSuccessful - появление экрана успешной оплаты, а на 5 месте находится Tutorial - обучение, которое посещают аномально низкое количество раз. \n",
    "\n",
    "Соответственно, делаем вывод, что последовательность действий пользователя такова: пользователь заходит в приложение, видит главный экран, появляются предложения, он добавляет это в корзину и оплачивает"
   ]
  },
  {
   "cell_type": "code",
   "execution_count": 27,
   "metadata": {},
   "outputs": [
    {
     "data": {
      "text/html": [
       "<div>\n",
       "<style scoped>\n",
       "    .dataframe tbody tr th:only-of-type {\n",
       "        vertical-align: middle;\n",
       "    }\n",
       "\n",
       "    .dataframe tbody tr th {\n",
       "        vertical-align: top;\n",
       "    }\n",
       "\n",
       "    .dataframe thead th {\n",
       "        text-align: right;\n",
       "    }\n",
       "</style>\n",
       "<table border=\"1\" class=\"dataframe\">\n",
       "  <thead>\n",
       "    <tr style=\"text-align: right;\">\n",
       "      <th></th>\n",
       "      <th>user_id</th>\n",
       "    </tr>\n",
       "    <tr>\n",
       "      <th>event_name</th>\n",
       "      <th></th>\n",
       "    </tr>\n",
       "  </thead>\n",
       "  <tbody>\n",
       "    <tr>\n",
       "      <th>MainScreenAppear</th>\n",
       "      <td>7419</td>\n",
       "    </tr>\n",
       "    <tr>\n",
       "      <th>OffersScreenAppear</th>\n",
       "      <td>4593</td>\n",
       "    </tr>\n",
       "    <tr>\n",
       "      <th>CartScreenAppear</th>\n",
       "      <td>3734</td>\n",
       "    </tr>\n",
       "    <tr>\n",
       "      <th>PaymentScreenSuccessful</th>\n",
       "      <td>3539</td>\n",
       "    </tr>\n",
       "    <tr>\n",
       "      <th>Tutorial</th>\n",
       "      <td>840</td>\n",
       "    </tr>\n",
       "  </tbody>\n",
       "</table>\n",
       "</div>"
      ],
      "text/plain": [
       "                         user_id\n",
       "event_name                      \n",
       "MainScreenAppear            7419\n",
       "OffersScreenAppear          4593\n",
       "CartScreenAppear            3734\n",
       "PaymentScreenSuccessful     3539\n",
       "Tutorial                     840"
      ]
     },
     "metadata": {},
     "output_type": "display_data"
    },
    {
     "data": {
      "text/plain": [
       "user_id    37.44\n",
       "dtype: float64"
      ]
     },
     "execution_count": 27,
     "metadata": {},
     "output_type": "execute_result"
    }
   ],
   "source": [
    "display(df.groupby('event_name').agg({'user_id' : 'nunique'}).sort_values(by='user_id', ascending=False))\n",
    "round(df['user_id'].nunique() / df.groupby('event_name').agg({'user_id' : 'nunique'}).sum() * 100, 2)"
   ]
  },
  {
   "cell_type": "markdown",
   "metadata": {},
   "source": [
    "Здесь то же самое, что и выше, но здесь мы смотрим по уникальными пользователям \n",
    "\n",
    "Стоит заметить, что процент пользователей, совершивших действие, равен 37.44%"
   ]
  },
  {
   "cell_type": "code",
   "execution_count": 28,
   "metadata": {},
   "outputs": [
    {
     "data": {
      "text/html": [
       "<div>\n",
       "<style scoped>\n",
       "    .dataframe tbody tr th:only-of-type {\n",
       "        vertical-align: middle;\n",
       "    }\n",
       "\n",
       "    .dataframe tbody tr th {\n",
       "        vertical-align: top;\n",
       "    }\n",
       "\n",
       "    .dataframe thead th {\n",
       "        text-align: right;\n",
       "    }\n",
       "</style>\n",
       "<table border=\"1\" class=\"dataframe\">\n",
       "  <thead>\n",
       "    <tr style=\"text-align: right;\">\n",
       "      <th></th>\n",
       "      <th>user_id</th>\n",
       "    </tr>\n",
       "    <tr>\n",
       "      <th>event_name</th>\n",
       "      <th></th>\n",
       "    </tr>\n",
       "  </thead>\n",
       "  <tbody>\n",
       "    <tr>\n",
       "      <th>MainScreenAppear</th>\n",
       "      <td>98.47</td>\n",
       "    </tr>\n",
       "    <tr>\n",
       "      <th>OffersScreenAppear</th>\n",
       "      <td>60.96</td>\n",
       "    </tr>\n",
       "    <tr>\n",
       "      <th>CartScreenAppear</th>\n",
       "      <td>49.56</td>\n",
       "    </tr>\n",
       "    <tr>\n",
       "      <th>PaymentScreenSuccessful</th>\n",
       "      <td>46.97</td>\n",
       "    </tr>\n",
       "    <tr>\n",
       "      <th>Tutorial</th>\n",
       "      <td>11.15</td>\n",
       "    </tr>\n",
       "  </tbody>\n",
       "</table>\n",
       "</div>"
      ],
      "text/plain": [
       "                         user_id\n",
       "event_name                      \n",
       "MainScreenAppear           98.47\n",
       "OffersScreenAppear         60.96\n",
       "CartScreenAppear           49.56\n",
       "PaymentScreenSuccessful    46.97\n",
       "Tutorial                   11.15"
      ]
     },
     "execution_count": 28,
     "metadata": {},
     "output_type": "execute_result"
    }
   ],
   "source": [
    "round(\n",
    "    100 * df.groupby('event_name').agg({'user_id': 'nunique'}) / df['user_id'].nunique(), 2\n",
    ").sort_values(by='user_id', ascending=False)"
   ]
  },
  {
   "cell_type": "markdown",
   "metadata": {},
   "source": [
    "В принципе, то же самое, но в процентах(считаем от числа пользователей, совершивших действие)"
   ]
  },
  {
   "cell_type": "code",
   "execution_count": 29,
   "metadata": {},
   "outputs": [],
   "source": [
    "df = df.query('event_name != \"Tutorial\"') #Исключаем обучение из списка"
   ]
  },
  {
   "cell_type": "code",
   "execution_count": 30,
   "metadata": {},
   "outputs": [
    {
     "data": {
      "text/plain": [
       "array(['MainScreenAppear', 'OffersScreenAppear', 'CartScreenAppear',\n",
       "       'PaymentScreenSuccessful'], dtype=object)"
      ]
     },
     "execution_count": 30,
     "metadata": {},
     "output_type": "execute_result"
    }
   ],
   "source": [
    "names = df['event_name'].unique()\n",
    "names"
   ]
  },
  {
   "cell_type": "code",
   "execution_count": 31,
   "metadata": {},
   "outputs": [
    {
     "name": "stdout",
     "output_type": "stream",
     "text": [
      "Процент людей, перешедших от OffersScreenAppear до MainScreenAppear\n",
      "61.91\n",
      "Процент людей, перешедших от CartScreenAppear до OffersScreenAppear\n",
      "81.3\n",
      "Процент людей, перешедших от PaymentScreenSuccessful до CartScreenAppear\n",
      "94.78\n"
     ]
    }
   ],
   "source": [
    "for i in range(1, len(names)):\n",
    "    print('Процент людей, перешедших от', names[i], 'до', names[i-1])\n",
    "    print(round(100 *df[df['event_name'] == names[i]]['user_id'].nunique()\n",
    "          / df[df['event_name'] == names[i-1]]['user_id'].nunique(), 2))"
   ]
  },
  {
   "cell_type": "markdown",
   "metadata": {},
   "source": [
    "**Вывод:** Построили воронку событий, выглядит она так:\n",
    "1.MainScreenAppear - появление главного экрана\n",
    "2. OffersScreenAppear - появление предложений на экране\n",
    "3. CartScreenAppear - появление экрана корзины\n",
    "4. PaymentScreenSuccessful - появление экрана успешной оплаты\n",
    "\n",
    "Там еще было обучение, но оно на то и \"было\"...\n",
    "\n",
    "Узнали, что только 37.44% пользователей доходит до совершения любого события, что как-то неправильно и мало Наиболее большие потери пользователей происходят при переходе с главного экрана на экран предложений (38.19%)"
   ]
  },
  {
   "cell_type": "markdown",
   "metadata": {},
   "source": [
    "## Изучение результата эксперимента"
   ]
  },
  {
   "cell_type": "markdown",
   "metadata": {},
   "source": [
    "Тут мы смотрим, сколько у нас пользователей в группах(да, еще раз, на всякий случай), задаем различные функции для расчета переменных, изучаем, есть ли статистические отличия между группами, смотрим на различия в выводах при различных уровнях статистической значимости и делаем соответствующие выводы"
   ]
  },
  {
   "cell_type": "code",
   "execution_count": 32,
   "metadata": {},
   "outputs": [
    {
     "data": {
      "text/plain": [
       "78985"
      ]
     },
     "metadata": {},
     "output_type": "display_data"
    },
    {
     "data": {
      "text/plain": [
       "76684"
      ]
     },
     "metadata": {},
     "output_type": "display_data"
    },
    {
     "data": {
      "text/plain": [
       "84213"
      ]
     },
     "metadata": {},
     "output_type": "display_data"
    }
   ],
   "source": [
    "display(df[df['group'] == 246]['user_id'].count())          \n",
    "display(df[df['group'] == 247]['user_id'].count())\n",
    "display(df[df['group'] == 248]['user_id'].count())"
   ]
  },
  {
   "cell_type": "code",
   "execution_count": 33,
   "metadata": {},
   "outputs": [],
   "source": [
    "def event_stats(event):\n",
    "    t1 = df[df['event_name'] == event]\n",
    "    t2 = t1.groupby('group').agg({'user_id': 'nunique'})\n",
    "    t3 = df.groupby('group').agg({'user_id': 'nunique'})\n",
    "    t2.columns = ['event']\n",
    "    t3.columns = ['group']\n",
    "    t3= t2.join(t3)\n",
    "    \n",
    "    t3.loc['246-247', 'event'] = t3.loc[246, 'event'] + t3.loc[247, 'event']\n",
    "    t3.loc['246-247', 'group'] = t3.loc[246, 'group'] + t3.loc[247, 'group']\n",
    "    \n",
    "    t3['percent'] = (t3['event'] / t3['group']).map(lambda x: '{0:.2%}'.format(x))\n",
    "    \n",
    "    return t3"
   ]
  },
  {
   "cell_type": "markdown",
   "metadata": {},
   "source": [
    "Функция для объединения данных по группам в 1 табличку. Будем ее использовать для того, чтобы смотреть на данные по пользователям в разрезе событий. Здесь столбец 'event' отвечает за количество людей, перешедших на этот этап воронки, 'group' - общее количество людей в группе, 'percent' - отношение людей, перешедших на этап воронки, к количеству людей в группе"
   ]
  },
  {
   "cell_type": "code",
   "execution_count": 34,
   "metadata": {},
   "outputs": [],
   "source": [
    "def z_test(new, previous):\n",
    "    p1 = new[0] / previous[0]\n",
    "    p2 = new[1] / previous[1]\n",
    "    difference = p1 - p2\n",
    "    p_combined = (new[0] + new[1]) / (previous[0] + previous[1])\n",
    "    z_value = difference / mth.sqrt(p_combined * (1 - p_combined) * (1 / previous[0] + 1 / previous[1]))\n",
    "    distr = st.norm(0, 1)\n",
    "    p_value = round((1 - distr.cdf(abs(z_value))) * 2, 3) \n",
    "    print('p-значение: ', p_value)\n",
    "    if p_value < alpha:\n",
    "        print('Отвергаем нулевую гипотезу: между долями есть значимая разница')\n",
    "    else:\n",
    "        print('Не получилось отвергнуть нулевую гипотезу, нет оснований считать доли разными')"
   ]
  },
  {
   "cell_type": "markdown",
   "metadata": {},
   "source": [
    "Функция для сравнения долей с помощью z-теста. С его помощью мы проверим, есть ли разница в долях или нет. Уровень значимости зададим в другой функции, так запланировано"
   ]
  },
  {
   "cell_type": "code",
   "execution_count": 35,
   "metadata": {},
   "outputs": [
    {
     "data": {
      "text/plain": [
       "'MainScreenAppear'"
      ]
     },
     "metadata": {},
     "output_type": "display_data"
    },
    {
     "data": {
      "text/html": [
       "<div>\n",
       "<style scoped>\n",
       "    .dataframe tbody tr th:only-of-type {\n",
       "        vertical-align: middle;\n",
       "    }\n",
       "\n",
       "    .dataframe tbody tr th {\n",
       "        vertical-align: top;\n",
       "    }\n",
       "\n",
       "    .dataframe thead th {\n",
       "        text-align: right;\n",
       "    }\n",
       "</style>\n",
       "<table border=\"1\" class=\"dataframe\">\n",
       "  <thead>\n",
       "    <tr style=\"text-align: right;\">\n",
       "      <th></th>\n",
       "      <th>event</th>\n",
       "      <th>group</th>\n",
       "      <th>percent</th>\n",
       "    </tr>\n",
       "    <tr>\n",
       "      <th>group</th>\n",
       "      <th></th>\n",
       "      <th></th>\n",
       "      <th></th>\n",
       "    </tr>\n",
       "  </thead>\n",
       "  <tbody>\n",
       "    <tr>\n",
       "      <th>246</th>\n",
       "      <td>2450.0</td>\n",
       "      <td>2483.0</td>\n",
       "      <td>98.67%</td>\n",
       "    </tr>\n",
       "    <tr>\n",
       "      <th>247</th>\n",
       "      <td>2476.0</td>\n",
       "      <td>2512.0</td>\n",
       "      <td>98.57%</td>\n",
       "    </tr>\n",
       "    <tr>\n",
       "      <th>248</th>\n",
       "      <td>2493.0</td>\n",
       "      <td>2535.0</td>\n",
       "      <td>98.34%</td>\n",
       "    </tr>\n",
       "    <tr>\n",
       "      <th>246-247</th>\n",
       "      <td>4926.0</td>\n",
       "      <td>4995.0</td>\n",
       "      <td>98.62%</td>\n",
       "    </tr>\n",
       "  </tbody>\n",
       "</table>\n",
       "</div>"
      ],
      "text/plain": [
       "          event   group percent\n",
       "group                          \n",
       "246      2450.0  2483.0  98.67%\n",
       "247      2476.0  2512.0  98.57%\n",
       "248      2493.0  2535.0  98.34%\n",
       "246-247  4926.0  4995.0  98.62%"
      ]
     },
     "metadata": {},
     "output_type": "display_data"
    },
    {
     "data": {
      "text/plain": [
       "'OffersScreenAppear'"
      ]
     },
     "metadata": {},
     "output_type": "display_data"
    },
    {
     "data": {
      "text/html": [
       "<div>\n",
       "<style scoped>\n",
       "    .dataframe tbody tr th:only-of-type {\n",
       "        vertical-align: middle;\n",
       "    }\n",
       "\n",
       "    .dataframe tbody tr th {\n",
       "        vertical-align: top;\n",
       "    }\n",
       "\n",
       "    .dataframe thead th {\n",
       "        text-align: right;\n",
       "    }\n",
       "</style>\n",
       "<table border=\"1\" class=\"dataframe\">\n",
       "  <thead>\n",
       "    <tr style=\"text-align: right;\">\n",
       "      <th></th>\n",
       "      <th>event</th>\n",
       "      <th>group</th>\n",
       "      <th>percent</th>\n",
       "    </tr>\n",
       "    <tr>\n",
       "      <th>group</th>\n",
       "      <th></th>\n",
       "      <th></th>\n",
       "      <th></th>\n",
       "    </tr>\n",
       "  </thead>\n",
       "  <tbody>\n",
       "    <tr>\n",
       "      <th>246</th>\n",
       "      <td>1542.0</td>\n",
       "      <td>2483.0</td>\n",
       "      <td>62.10%</td>\n",
       "    </tr>\n",
       "    <tr>\n",
       "      <th>247</th>\n",
       "      <td>1520.0</td>\n",
       "      <td>2512.0</td>\n",
       "      <td>60.51%</td>\n",
       "    </tr>\n",
       "    <tr>\n",
       "      <th>248</th>\n",
       "      <td>1531.0</td>\n",
       "      <td>2535.0</td>\n",
       "      <td>60.39%</td>\n",
       "    </tr>\n",
       "    <tr>\n",
       "      <th>246-247</th>\n",
       "      <td>3062.0</td>\n",
       "      <td>4995.0</td>\n",
       "      <td>61.30%</td>\n",
       "    </tr>\n",
       "  </tbody>\n",
       "</table>\n",
       "</div>"
      ],
      "text/plain": [
       "          event   group percent\n",
       "group                          \n",
       "246      1542.0  2483.0  62.10%\n",
       "247      1520.0  2512.0  60.51%\n",
       "248      1531.0  2535.0  60.39%\n",
       "246-247  3062.0  4995.0  61.30%"
      ]
     },
     "metadata": {},
     "output_type": "display_data"
    },
    {
     "data": {
      "text/plain": [
       "'CartScreenAppear'"
      ]
     },
     "metadata": {},
     "output_type": "display_data"
    },
    {
     "data": {
      "text/html": [
       "<div>\n",
       "<style scoped>\n",
       "    .dataframe tbody tr th:only-of-type {\n",
       "        vertical-align: middle;\n",
       "    }\n",
       "\n",
       "    .dataframe tbody tr th {\n",
       "        vertical-align: top;\n",
       "    }\n",
       "\n",
       "    .dataframe thead th {\n",
       "        text-align: right;\n",
       "    }\n",
       "</style>\n",
       "<table border=\"1\" class=\"dataframe\">\n",
       "  <thead>\n",
       "    <tr style=\"text-align: right;\">\n",
       "      <th></th>\n",
       "      <th>event</th>\n",
       "      <th>group</th>\n",
       "      <th>percent</th>\n",
       "    </tr>\n",
       "    <tr>\n",
       "      <th>group</th>\n",
       "      <th></th>\n",
       "      <th></th>\n",
       "      <th></th>\n",
       "    </tr>\n",
       "  </thead>\n",
       "  <tbody>\n",
       "    <tr>\n",
       "      <th>246</th>\n",
       "      <td>1266.0</td>\n",
       "      <td>2483.0</td>\n",
       "      <td>50.99%</td>\n",
       "    </tr>\n",
       "    <tr>\n",
       "      <th>247</th>\n",
       "      <td>1238.0</td>\n",
       "      <td>2512.0</td>\n",
       "      <td>49.28%</td>\n",
       "    </tr>\n",
       "    <tr>\n",
       "      <th>248</th>\n",
       "      <td>1230.0</td>\n",
       "      <td>2535.0</td>\n",
       "      <td>48.52%</td>\n",
       "    </tr>\n",
       "    <tr>\n",
       "      <th>246-247</th>\n",
       "      <td>2504.0</td>\n",
       "      <td>4995.0</td>\n",
       "      <td>50.13%</td>\n",
       "    </tr>\n",
       "  </tbody>\n",
       "</table>\n",
       "</div>"
      ],
      "text/plain": [
       "          event   group percent\n",
       "group                          \n",
       "246      1266.0  2483.0  50.99%\n",
       "247      1238.0  2512.0  49.28%\n",
       "248      1230.0  2535.0  48.52%\n",
       "246-247  2504.0  4995.0  50.13%"
      ]
     },
     "metadata": {},
     "output_type": "display_data"
    },
    {
     "data": {
      "text/plain": [
       "'PaymentScreenSuccessful'"
      ]
     },
     "metadata": {},
     "output_type": "display_data"
    },
    {
     "data": {
      "text/html": [
       "<div>\n",
       "<style scoped>\n",
       "    .dataframe tbody tr th:only-of-type {\n",
       "        vertical-align: middle;\n",
       "    }\n",
       "\n",
       "    .dataframe tbody tr th {\n",
       "        vertical-align: top;\n",
       "    }\n",
       "\n",
       "    .dataframe thead th {\n",
       "        text-align: right;\n",
       "    }\n",
       "</style>\n",
       "<table border=\"1\" class=\"dataframe\">\n",
       "  <thead>\n",
       "    <tr style=\"text-align: right;\">\n",
       "      <th></th>\n",
       "      <th>event</th>\n",
       "      <th>group</th>\n",
       "      <th>percent</th>\n",
       "    </tr>\n",
       "    <tr>\n",
       "      <th>group</th>\n",
       "      <th></th>\n",
       "      <th></th>\n",
       "      <th></th>\n",
       "    </tr>\n",
       "  </thead>\n",
       "  <tbody>\n",
       "    <tr>\n",
       "      <th>246</th>\n",
       "      <td>1200.0</td>\n",
       "      <td>2483.0</td>\n",
       "      <td>48.33%</td>\n",
       "    </tr>\n",
       "    <tr>\n",
       "      <th>247</th>\n",
       "      <td>1158.0</td>\n",
       "      <td>2512.0</td>\n",
       "      <td>46.10%</td>\n",
       "    </tr>\n",
       "    <tr>\n",
       "      <th>248</th>\n",
       "      <td>1181.0</td>\n",
       "      <td>2535.0</td>\n",
       "      <td>46.59%</td>\n",
       "    </tr>\n",
       "    <tr>\n",
       "      <th>246-247</th>\n",
       "      <td>2358.0</td>\n",
       "      <td>4995.0</td>\n",
       "      <td>47.21%</td>\n",
       "    </tr>\n",
       "  </tbody>\n",
       "</table>\n",
       "</div>"
      ],
      "text/plain": [
       "          event   group percent\n",
       "group                          \n",
       "246      1200.0  2483.0  48.33%\n",
       "247      1158.0  2512.0  46.10%\n",
       "248      1181.0  2535.0  46.59%\n",
       "246-247  2358.0  4995.0  47.21%"
      ]
     },
     "metadata": {},
     "output_type": "display_data"
    }
   ],
   "source": [
    "for i in names:\n",
    "    display(i)\n",
    "    display(event_stats(i))"
   ]
  },
  {
   "cell_type": "markdown",
   "metadata": {},
   "source": [
    "Здесь требуется предисловие. Написал я, значит, функции, вывел данные, все красиво. А как прописать, чтобы сами данные подтягивались - не придумал, хотя думал несколько дней. Таким образом получилось самокритичное название функции (в следующий раз поменяю, но надеюсь на подсказку, как это оптимизировать и не вбивать ручками). \n",
    "\n",
    "Теперь коротко о сути: при помощи z-теста мы будем искать различия в долях. Будем сравнивать 248 группу со всеми и 247 с 246(чтобы понять, отличаются ли наши контрольные группы). Уровень стат значимости тоже будем задавать в функции, так как будем проверять, насколько изменятся результаты при разлиных уровнях значимости.\n",
    "\n",
    "Да, даже это я обернул в простейшую функцию, а как по-человечески взять значения - не придумал)"
   ]
  },
  {
   "cell_type": "code",
   "execution_count": 36,
   "metadata": {},
   "outputs": [],
   "source": [
    "def stats(alph):\n",
    "    global alpha    #Здесь мы объявляем alpha глобальной, чтобы в z-тесте она менялась\n",
    "    alpha = alph    #Но нельзя, чтобы название переменной в функции было и глобальным, поэтому проявили чудеса смекалки\n",
    "    print('Проверка 247 и 246 группы при критическом уровне статистической значимости alpha =', alpha)\n",
    "    z_test(np.array([event_stats('MainScreenAppear')['event'][247], \n",
    "                     event_stats('MainScreenAppear')['event'][246]]), \n",
    "           np.array([event_stats('MainScreenAppear')['group'][247], \n",
    "                     event_stats('MainScreenAppear')['group'][246]]))\n",
    "    z_test(np.array([event_stats('OffersScreenAppear')['event'][247], \n",
    "                     event_stats('OffersScreenAppear')['event'][246]]), \n",
    "           np.array([event_stats('OffersScreenAppear')['group'][247], \n",
    "                     event_stats('OffersScreenAppear')['group'][246]]))\n",
    "    z_test(np.array([event_stats('CartScreenAppear')['event'][247], \n",
    "                     event_stats('CartScreenAppear')['event'][246]]), \n",
    "           np.array([event_stats('CartScreenAppear')['group'][247], \n",
    "                     event_stats('CartScreenAppear')['group'][246]]))\n",
    "    z_test(np.array([event_stats('PaymentScreenSuccessful')['event'][247], \n",
    "                     event_stats('PaymentScreenSuccessful')['event'][246]]), \n",
    "           np.array([event_stats('PaymentScreenSuccessful')['group'][247], \n",
    "                     event_stats('PaymentScreenSuccessful')['group'][246]]))\n",
    "    print()\n",
    "    print('Проверка 248 и 246 группы при критическом уровне статистической значимости alpha =', alpha)\n",
    "    z_test(np.array([event_stats('MainScreenAppear')['event'][248], \n",
    "                     event_stats('MainScreenAppear')['event'][246]]), \n",
    "           np.array([event_stats('MainScreenAppear')['group'][248], \n",
    "                     event_stats('MainScreenAppear')['group'][246]]))\n",
    "    z_test(np.array([event_stats('OffersScreenAppear')['event'][248], \n",
    "                     event_stats('OffersScreenAppear')['event'][246]]), \n",
    "           np.array([event_stats('OffersScreenAppear')['group'][248], \n",
    "                     event_stats('OffersScreenAppear')['group'][246]]))\n",
    "    z_test(np.array([event_stats('CartScreenAppear')['event'][248], \n",
    "                     event_stats('CartScreenAppear')['event'][246]]), \n",
    "           np.array([event_stats('CartScreenAppear')['group'][248], \n",
    "                     event_stats('CartScreenAppear')['group'][246]]))\n",
    "    z_test(np.array([event_stats('PaymentScreenSuccessful')['event'][248], \n",
    "                     event_stats('PaymentScreenSuccessful')['event'][246]]), \n",
    "           np.array([event_stats('PaymentScreenSuccessful')['group'][248], \n",
    "                     event_stats('PaymentScreenSuccessful')['group'][246]]))\n",
    "    print()\n",
    "    print('Проверка 247 и 248 группы при критическом уровне статистической значимости alpha =', alpha)\n",
    "    z_test(np.array([event_stats('MainScreenAppear')['event'][247], \n",
    "                     event_stats('MainScreenAppear')['event'][248]]), \n",
    "           np.array([event_stats('MainScreenAppear')['group'][247], \n",
    "                     event_stats('MainScreenAppear')['group'][248]]))\n",
    "    z_test(np.array([event_stats('OffersScreenAppear')['event'][247], \n",
    "                     event_stats('OffersScreenAppear')['event'][248]]), \n",
    "           np.array([event_stats('OffersScreenAppear')['group'][247], \n",
    "                     event_stats('OffersScreenAppear')['group'][248]]))\n",
    "    z_test(np.array([event_stats('CartScreenAppear')['event'][247], \n",
    "                     event_stats('CartScreenAppear')['event'][248]]), \n",
    "           np.array([event_stats('CartScreenAppear')['group'][247], \n",
    "                     event_stats('CartScreenAppear')['group'][248]]))\n",
    "    z_test(np.array([event_stats('PaymentScreenSuccessful')['event'][247], \n",
    "                     event_stats('PaymentScreenSuccessful')['event'][248]]), \n",
    "           np.array([event_stats('PaymentScreenSuccessful')['group'][247], \n",
    "                     event_stats('PaymentScreenSuccessful')['group'][248]]))\n",
    "    print()\n",
    "    print('Проверка объединенных 247 и 246 групп и 248 при критическом уровне статистической значимости alpha =', alpha)\n",
    "    z_test(np.array([event_stats('MainScreenAppear')['event']['246-247'], \n",
    "                     event_stats('MainScreenAppear')['event'][248]]), \n",
    "           np.array([event_stats('MainScreenAppear')['group']['246-247'], \n",
    "                     event_stats('MainScreenAppear')['group'][248]]))\n",
    "    z_test(np.array([event_stats('OffersScreenAppear')['event']['246-247'], \n",
    "                     event_stats('OffersScreenAppear')['event'][248]]), \n",
    "           np.array([event_stats('OffersScreenAppear')['group']['246-247'], \n",
    "                     event_stats('OffersScreenAppear')['group'][248]]))\n",
    "    z_test(np.array([event_stats('CartScreenAppear')['event']['246-247'], \n",
    "                     event_stats('CartScreenAppear')['event'][248]]), \n",
    "           np.array([event_stats('CartScreenAppear')['group']['246-247'], \n",
    "                     event_stats('CartScreenAppear')['group'][248]]))\n",
    "    z_test(np.array([event_stats('PaymentScreenSuccessful')['event']['246-247'], \n",
    "                     event_stats('PaymentScreenSuccessful')['event'][248]]), \n",
    "           np.array([event_stats('PaymentScreenSuccessful')['group']['246-247'], \n",
    "                     event_stats('PaymentScreenSuccessful')['group'][248]]))"
   ]
  },
  {
   "cell_type": "markdown",
   "metadata": {},
   "source": [
    "Теперь о клетках ниже. Если я верно понял, то в данном проекте подразумевается, что я посмотрю на данные, увижу, что в случае моих данных при alpha = 0.1 есть ложноположительный результат, посмотрю на остальные alpha и приму alpha=0.05 как оптимальную  статистическую значимость для данных."
   ]
  },
  {
   "cell_type": "code",
   "execution_count": 37,
   "metadata": {},
   "outputs": [
    {
     "name": "stdout",
     "output_type": "stream",
     "text": [
      "Проверка 247 и 246 группы при критическом уровне статистической значимости alpha = 0.01\n",
      "p-значение:  0.753\n",
      "Не получилось отвергнуть нулевую гипотезу, нет оснований считать доли разными\n",
      "p-значение:  0.248\n",
      "Не получилось отвергнуть нулевую гипотезу, нет оснований считать доли разными\n",
      "p-значение:  0.229\n",
      "Не получилось отвергнуть нулевую гипотезу, нет оснований считать доли разными\n",
      "p-значение:  0.114\n",
      "Не получилось отвергнуть нулевую гипотезу, нет оснований считать доли разными\n",
      "\n",
      "Проверка 248 и 246 группы при критическом уровне статистической значимости alpha = 0.01\n",
      "p-значение:  0.339\n",
      "Не получилось отвергнуть нулевую гипотезу, нет оснований считать доли разными\n",
      "p-значение:  0.214\n",
      "Не получилось отвергнуть нулевую гипотезу, нет оснований считать доли разными\n",
      "p-значение:  0.081\n",
      "Не получилось отвергнуть нулевую гипотезу, нет оснований считать доли разными\n",
      "p-значение:  0.217\n",
      "Не получилось отвергнуть нулевую гипотезу, нет оснований считать доли разными\n",
      "\n",
      "Проверка 247 и 248 группы при критическом уровне статистической значимости alpha = 0.01\n",
      "p-значение:  0.519\n",
      "Не получилось отвергнуть нулевую гипотезу, нет оснований считать доли разными\n",
      "p-значение:  0.933\n",
      "Не получилось отвергнуть нулевую гипотезу, нет оснований считать доли разными\n",
      "p-значение:  0.588\n",
      "Не получилось отвергнуть нулевую гипотезу, нет оснований считать доли разными\n",
      "p-значение:  0.728\n",
      "Не получилось отвергнуть нулевую гипотезу, нет оснований считать доли разными\n",
      "\n",
      "Проверка объединенных 247 и 246 групп и 248 при критическом уровне статистической значимости alpha = 0.01\n",
      "p-значение:  0.349\n",
      "Не получилось отвергнуть нулевую гипотезу, нет оснований считать доли разными\n",
      "p-значение:  0.446\n",
      "Не получилось отвергнуть нулевую гипотезу, нет оснований считать доли разными\n",
      "p-значение:  0.187\n",
      "Не получилось отвергнуть нулевую гипотезу, нет оснований считать доли разными\n",
      "p-значение:  0.611\n",
      "Не получилось отвергнуть нулевую гипотезу, нет оснований считать доли разными\n"
     ]
    }
   ],
   "source": [
    "stats(.01)"
   ]
  },
  {
   "cell_type": "markdown",
   "metadata": {},
   "source": [
    "При уровне статистической значимости = 0.01 нет оснований считать доли разными"
   ]
  },
  {
   "cell_type": "code",
   "execution_count": 38,
   "metadata": {},
   "outputs": [
    {
     "name": "stdout",
     "output_type": "stream",
     "text": [
      "Проверка 247 и 246 группы при критическом уровне статистической значимости alpha = 0.05\n",
      "p-значение:  0.753\n",
      "Не получилось отвергнуть нулевую гипотезу, нет оснований считать доли разными\n",
      "p-значение:  0.248\n",
      "Не получилось отвергнуть нулевую гипотезу, нет оснований считать доли разными\n",
      "p-значение:  0.229\n",
      "Не получилось отвергнуть нулевую гипотезу, нет оснований считать доли разными\n",
      "p-значение:  0.114\n",
      "Не получилось отвергнуть нулевую гипотезу, нет оснований считать доли разными\n",
      "\n",
      "Проверка 248 и 246 группы при критическом уровне статистической значимости alpha = 0.05\n",
      "p-значение:  0.339\n",
      "Не получилось отвергнуть нулевую гипотезу, нет оснований считать доли разными\n",
      "p-значение:  0.214\n",
      "Не получилось отвергнуть нулевую гипотезу, нет оснований считать доли разными\n",
      "p-значение:  0.081\n",
      "Не получилось отвергнуть нулевую гипотезу, нет оснований считать доли разными\n",
      "p-значение:  0.217\n",
      "Не получилось отвергнуть нулевую гипотезу, нет оснований считать доли разными\n",
      "\n",
      "Проверка 247 и 248 группы при критическом уровне статистической значимости alpha = 0.05\n",
      "p-значение:  0.519\n",
      "Не получилось отвергнуть нулевую гипотезу, нет оснований считать доли разными\n",
      "p-значение:  0.933\n",
      "Не получилось отвергнуть нулевую гипотезу, нет оснований считать доли разными\n",
      "p-значение:  0.588\n",
      "Не получилось отвергнуть нулевую гипотезу, нет оснований считать доли разными\n",
      "p-значение:  0.728\n",
      "Не получилось отвергнуть нулевую гипотезу, нет оснований считать доли разными\n",
      "\n",
      "Проверка объединенных 247 и 246 групп и 248 при критическом уровне статистической значимости alpha = 0.05\n",
      "p-значение:  0.349\n",
      "Не получилось отвергнуть нулевую гипотезу, нет оснований считать доли разными\n",
      "p-значение:  0.446\n",
      "Не получилось отвергнуть нулевую гипотезу, нет оснований считать доли разными\n",
      "p-значение:  0.187\n",
      "Не получилось отвергнуть нулевую гипотезу, нет оснований считать доли разными\n",
      "p-значение:  0.611\n",
      "Не получилось отвергнуть нулевую гипотезу, нет оснований считать доли разными\n"
     ]
    }
   ],
   "source": [
    "stats(.05)"
   ]
  },
  {
   "cell_type": "markdown",
   "metadata": {},
   "source": [
    "При уровне статистической значимости = 0.05 аналогично нет оснований считать доли разными"
   ]
  },
  {
   "cell_type": "code",
   "execution_count": 39,
   "metadata": {},
   "outputs": [
    {
     "name": "stdout",
     "output_type": "stream",
     "text": [
      "Проверка 247 и 246 группы при критическом уровне статистической значимости alpha = 0.1\n",
      "p-значение:  0.753\n",
      "Не получилось отвергнуть нулевую гипотезу, нет оснований считать доли разными\n",
      "p-значение:  0.248\n",
      "Не получилось отвергнуть нулевую гипотезу, нет оснований считать доли разными\n",
      "p-значение:  0.229\n",
      "Не получилось отвергнуть нулевую гипотезу, нет оснований считать доли разными\n",
      "p-значение:  0.114\n",
      "Не получилось отвергнуть нулевую гипотезу, нет оснований считать доли разными\n",
      "\n",
      "Проверка 248 и 246 группы при критическом уровне статистической значимости alpha = 0.1\n",
      "p-значение:  0.339\n",
      "Не получилось отвергнуть нулевую гипотезу, нет оснований считать доли разными\n",
      "p-значение:  0.214\n",
      "Не получилось отвергнуть нулевую гипотезу, нет оснований считать доли разными\n",
      "p-значение:  0.081\n",
      "Отвергаем нулевую гипотезу: между долями есть значимая разница\n",
      "p-значение:  0.217\n",
      "Не получилось отвергнуть нулевую гипотезу, нет оснований считать доли разными\n",
      "\n",
      "Проверка 247 и 248 группы при критическом уровне статистической значимости alpha = 0.1\n",
      "p-значение:  0.519\n",
      "Не получилось отвергнуть нулевую гипотезу, нет оснований считать доли разными\n",
      "p-значение:  0.933\n",
      "Не получилось отвергнуть нулевую гипотезу, нет оснований считать доли разными\n",
      "p-значение:  0.588\n",
      "Не получилось отвергнуть нулевую гипотезу, нет оснований считать доли разными\n",
      "p-значение:  0.728\n",
      "Не получилось отвергнуть нулевую гипотезу, нет оснований считать доли разными\n",
      "\n",
      "Проверка объединенных 247 и 246 групп и 248 при критическом уровне статистической значимости alpha = 0.1\n",
      "p-значение:  0.349\n",
      "Не получилось отвергнуть нулевую гипотезу, нет оснований считать доли разными\n",
      "p-значение:  0.446\n",
      "Не получилось отвергнуть нулевую гипотезу, нет оснований считать доли разными\n",
      "p-значение:  0.187\n",
      "Не получилось отвергнуть нулевую гипотезу, нет оснований считать доли разными\n",
      "p-значение:  0.611\n",
      "Не получилось отвергнуть нулевую гипотезу, нет оснований считать доли разными\n"
     ]
    }
   ],
   "source": [
    "stats(.1)"
   ]
  },
  {
   "cell_type": "markdown",
   "metadata": {},
   "source": [
    "При уровне статистической значимости = 0.1 мы видим, что 248 и 246 группа становятся статистически различыми на событии появления корзины('CartScreenAppear')\n",
    "\n",
    "Но не стоит забывать, что при таком уровне стат значимости каждые 10 раз можно получить ложноположительный результат, так что не стоит верить этим данным"
   ]
  },
  {
   "cell_type": "markdown",
   "metadata": {},
   "source": [
    "**Выводы:** Объединили все группы (в том числе и объединенные контрольные группы в 1) и проанализировали, есть ли среди них значимые отличия(статистические). При alpha = *0.1* статистические различия появляются между группами 248 и 246 на событии 'CartScreenAppear'. При alpha= *0.05* и aplha = *0.01* статистических различий нет\n",
    "\n",
    "И так как разницы между 246 и 247 группами нет нигде, делаем вывод, что мы можем быть уверены в точности проведенного тестирования. "
   ]
  },
  {
   "cell_type": "markdown",
   "metadata": {},
   "source": [
    "## Общий вывод"
   ]
  },
  {
   "cell_type": "markdown",
   "metadata": {},
   "source": [
    "1. Предобработали данные: изначально было 244126 значений, после обработки дубликатов и отброса аномальных значений мы получили следущие данные: 5 уникальных событий и 7534 пользователя в конечном датафрейме. В процессе предобработки данных было убрано 3239 строчек (1.3% от первичных данных) и 17 пользователей (0.2 %). Помимо этого, изменили диапазон времени, который будем исследовать, так как первое время было малое количество событий и было решено их отбросить(первоначально данные начинались с 2019-07-25, но было решено брать данные с 2019-08-31, так как за эти дни было всего лишь 796 событий)\n",
    "2. Построили воронку событий, выглядит она так: MainScreenAppear(появление главного экрана) - > OffersScreenAppear(появление предложений на экране) -> CartScreenAppear(появление экрана корзины)-> PaymentScreenSuccessful(появление экрана успешной оплаты). Самое популярное событие - MainScreenAppear(98.47%), самое редкое - Tutorial(11.15%), поэтому был сделан вывод, что обучение не входит в воронку, и оно было исключено из последующего анализа\n",
    "3. 37.44% пользователей доходит до совершения любого события\n",
    "4. Наиболее большие потери пользователей происходят при переходе с главного экрана на экран предложений (38.19%)\n",
    "5. Проверили статистические различия между контрольными группами (в том числе между собой) и экспериментальной. При alpha = 0.1  присутствуют статистические различия между группами 248 и 246 на событии 'CartScreenAppear'. При alpha= 0.05 и aplha = 0.01 статистических различий нет. Поэтому примем оптимальный уровень статистической значимости alpha = 0.05\n",
    "6. Обе группы типа 'A'(246 и 247) не отличаются статистически между собой, значит, данные были собраны верно"
   ]
  }
 ],
 "metadata": {
  "ExecuteTimeLog": [
   {
    "duration": 382,
    "start_time": "2022-10-31T18:13:23.501Z"
   },
   {
    "duration": 555,
    "start_time": "2022-10-31T18:13:56.729Z"
   },
   {
    "duration": 13,
    "start_time": "2022-10-31T18:13:57.797Z"
   },
   {
    "duration": 48,
    "start_time": "2022-10-31T18:14:12.085Z"
   },
   {
    "duration": 240,
    "start_time": "2022-10-31T18:14:37.540Z"
   },
   {
    "duration": 7,
    "start_time": "2022-10-31T18:14:39.535Z"
   },
   {
    "duration": 132,
    "start_time": "2022-10-31T18:17:13.527Z"
   },
   {
    "duration": 10,
    "start_time": "2022-10-31T18:17:15.210Z"
   },
   {
    "duration": 56,
    "start_time": "2022-10-31T18:17:42.307Z"
   },
   {
    "duration": 3,
    "start_time": "2022-10-31T18:17:51.606Z"
   },
   {
    "duration": 9,
    "start_time": "2022-10-31T18:17:54.986Z"
   },
   {
    "duration": 139,
    "start_time": "2022-10-31T18:18:44.449Z"
   },
   {
    "duration": 9,
    "start_time": "2022-10-31T18:18:44.621Z"
   },
   {
    "duration": 6,
    "start_time": "2022-10-31T18:20:11.669Z"
   },
   {
    "duration": 51,
    "start_time": "2022-10-31T18:20:34.687Z"
   },
   {
    "duration": 60,
    "start_time": "2022-10-31T18:21:24.963Z"
   },
   {
    "duration": 13,
    "start_time": "2022-10-31T18:21:43.856Z"
   },
   {
    "duration": 6,
    "start_time": "2022-10-31T18:21:49.649Z"
   },
   {
    "duration": 10,
    "start_time": "2022-10-31T18:21:52.257Z"
   },
   {
    "duration": 17,
    "start_time": "2022-10-31T18:22:06.849Z"
   },
   {
    "duration": 33,
    "start_time": "2022-10-31T18:23:29.702Z"
   },
   {
    "duration": 12,
    "start_time": "2022-10-31T18:23:31.981Z"
   },
   {
    "duration": 141,
    "start_time": "2022-10-31T18:23:44.151Z"
   },
   {
    "duration": 8,
    "start_time": "2022-10-31T18:23:45.787Z"
   },
   {
    "duration": 4,
    "start_time": "2022-10-31T18:24:30.196Z"
   },
   {
    "duration": 795,
    "start_time": "2022-10-31T18:24:35.028Z"
   },
   {
    "duration": 6,
    "start_time": "2022-10-31T18:24:39.878Z"
   },
   {
    "duration": 16,
    "start_time": "2022-10-31T18:24:40.259Z"
   },
   {
    "duration": 369,
    "start_time": "2022-10-31T18:24:41.334Z"
   },
   {
    "duration": 7,
    "start_time": "2022-10-31T18:25:48.457Z"
   },
   {
    "duration": 11,
    "start_time": "2022-10-31T18:25:51.372Z"
   },
   {
    "duration": 5,
    "start_time": "2022-10-31T18:27:11.828Z"
   },
   {
    "duration": 11,
    "start_time": "2022-10-31T18:27:13.891Z"
   },
   {
    "duration": 73,
    "start_time": "2022-10-31T18:27:19.452Z"
   },
   {
    "duration": 46,
    "start_time": "2022-10-31T18:27:40.806Z"
   },
   {
    "duration": 45,
    "start_time": "2022-10-31T18:27:50.493Z"
   },
   {
    "duration": 13,
    "start_time": "2022-10-31T18:27:54.735Z"
   },
   {
    "duration": 133,
    "start_time": "2022-10-31T18:27:56.511Z"
   },
   {
    "duration": 9,
    "start_time": "2022-10-31T18:27:56.870Z"
   },
   {
    "duration": 700,
    "start_time": "2022-10-31T18:28:58.887Z"
   },
   {
    "duration": 8,
    "start_time": "2022-10-31T18:29:02.897Z"
   },
   {
    "duration": 19,
    "start_time": "2022-10-31T18:29:03.150Z"
   },
   {
    "duration": 100,
    "start_time": "2022-10-31T18:29:03.412Z"
   },
   {
    "duration": 12,
    "start_time": "2022-10-31T18:29:06.873Z"
   },
   {
    "duration": 148,
    "start_time": "2022-10-31T18:29:21.478Z"
   },
   {
    "duration": 6,
    "start_time": "2022-10-31T18:29:26.502Z"
   },
   {
    "duration": 9,
    "start_time": "2022-10-31T18:29:27.746Z"
   },
   {
    "duration": 10,
    "start_time": "2022-10-31T18:29:39.872Z"
   },
   {
    "duration": 42,
    "start_time": "2022-10-31T18:30:52.773Z"
   },
   {
    "duration": 94,
    "start_time": "2022-10-31T18:30:59.676Z"
   },
   {
    "duration": 137,
    "start_time": "2022-10-31T18:31:02.149Z"
   },
   {
    "duration": 5,
    "start_time": "2022-10-31T18:31:02.404Z"
   },
   {
    "duration": 10,
    "start_time": "2022-10-31T18:31:02.633Z"
   },
   {
    "duration": 96,
    "start_time": "2022-10-31T18:31:02.892Z"
   },
   {
    "duration": 95,
    "start_time": "2022-10-31T18:31:23.786Z"
   },
   {
    "duration": 106,
    "start_time": "2022-10-31T18:31:33.841Z"
   },
   {
    "duration": 127,
    "start_time": "2022-10-31T18:31:46.173Z"
   },
   {
    "duration": 12,
    "start_time": "2022-10-31T18:31:50.662Z"
   },
   {
    "duration": 139,
    "start_time": "2022-10-31T18:32:11.660Z"
   },
   {
    "duration": 5,
    "start_time": "2022-10-31T18:32:11.970Z"
   },
   {
    "duration": 9,
    "start_time": "2022-10-31T18:32:12.411Z"
   },
   {
    "duration": 7,
    "start_time": "2022-10-31T18:32:28.536Z"
   },
   {
    "duration": 11,
    "start_time": "2022-10-31T18:32:32.481Z"
   },
   {
    "duration": 12,
    "start_time": "2022-10-31T18:32:36.979Z"
   },
   {
    "duration": 5,
    "start_time": "2022-10-31T18:32:49.343Z"
   },
   {
    "duration": 11,
    "start_time": "2022-10-31T18:32:51.057Z"
   },
   {
    "duration": 10,
    "start_time": "2022-10-31T18:35:06.318Z"
   },
   {
    "duration": 11,
    "start_time": "2022-10-31T18:35:08.261Z"
   },
   {
    "duration": 3,
    "start_time": "2022-10-31T18:35:41.439Z"
   },
   {
    "duration": 10,
    "start_time": "2022-10-31T18:35:44.120Z"
   },
   {
    "duration": 12,
    "start_time": "2022-10-31T18:35:45.831Z"
   },
   {
    "duration": 131,
    "start_time": "2022-10-31T18:39:24.925Z"
   },
   {
    "duration": 7,
    "start_time": "2022-10-31T18:39:25.163Z"
   },
   {
    "duration": 9,
    "start_time": "2022-10-31T18:39:25.651Z"
   },
   {
    "duration": 7,
    "start_time": "2022-10-31T18:40:47.751Z"
   },
   {
    "duration": 2,
    "start_time": "2022-10-31T18:41:09.873Z"
   },
   {
    "duration": 6,
    "start_time": "2022-10-31T18:41:12.185Z"
   },
   {
    "duration": 7,
    "start_time": "2022-10-31T18:44:37.595Z"
   },
   {
    "duration": 7,
    "start_time": "2022-10-31T18:45:45.129Z"
   },
   {
    "duration": 2,
    "start_time": "2022-10-31T18:45:53.681Z"
   },
   {
    "duration": 8,
    "start_time": "2022-10-31T18:45:56.353Z"
   },
   {
    "duration": 10,
    "start_time": "2022-10-31T18:47:13.576Z"
   },
   {
    "duration": 10,
    "start_time": "2022-10-31T18:47:38.205Z"
   },
   {
    "duration": 29,
    "start_time": "2022-10-31T18:49:17.553Z"
   },
   {
    "duration": 11,
    "start_time": "2022-10-31T18:49:19.394Z"
   },
   {
    "duration": 65,
    "start_time": "2022-10-31T18:49:55.327Z"
   },
   {
    "duration": 11,
    "start_time": "2022-10-31T18:49:56.929Z"
   },
   {
    "duration": 136,
    "start_time": "2022-10-31T18:51:49.064Z"
   },
   {
    "duration": 8,
    "start_time": "2022-10-31T18:51:49.308Z"
   },
   {
    "duration": 10,
    "start_time": "2022-10-31T18:51:49.464Z"
   },
   {
    "duration": 10,
    "start_time": "2022-10-31T18:54:24.737Z"
   },
   {
    "duration": 5,
    "start_time": "2022-10-31T18:55:05.099Z"
   },
   {
    "duration": 10,
    "start_time": "2022-10-31T18:55:07.744Z"
   },
   {
    "duration": 24,
    "start_time": "2022-10-31T18:55:11.869Z"
   },
   {
    "duration": 11,
    "start_time": "2022-10-31T18:55:13.477Z"
   },
   {
    "duration": 19,
    "start_time": "2022-10-31T18:55:16.745Z"
   },
   {
    "duration": 11,
    "start_time": "2022-10-31T18:55:18.196Z"
   },
   {
    "duration": 8,
    "start_time": "2022-10-31T18:58:16.131Z"
   },
   {
    "duration": 136,
    "start_time": "2022-10-31T18:58:20.511Z"
   },
   {
    "duration": 7,
    "start_time": "2022-10-31T18:58:20.817Z"
   },
   {
    "duration": 10,
    "start_time": "2022-10-31T18:58:21.087Z"
   },
   {
    "duration": 7,
    "start_time": "2022-10-31T18:58:21.414Z"
   },
   {
    "duration": 6,
    "start_time": "2022-10-31T19:00:44.019Z"
   },
   {
    "duration": 7,
    "start_time": "2022-10-31T19:05:05.743Z"
   },
   {
    "duration": 10,
    "start_time": "2022-10-31T19:05:07.578Z"
   },
   {
    "duration": 15,
    "start_time": "2022-10-31T20:48:27.075Z"
   },
   {
    "duration": 5,
    "start_time": "2022-10-31T20:49:33.928Z"
   },
   {
    "duration": 11,
    "start_time": "2022-10-31T20:49:36.252Z"
   },
   {
    "duration": 18,
    "start_time": "2022-10-31T20:49:37.352Z"
   },
   {
    "duration": 59,
    "start_time": "2022-10-31T20:49:58.268Z"
   },
   {
    "duration": 148,
    "start_time": "2022-10-31T20:50:03.738Z"
   },
   {
    "duration": 13,
    "start_time": "2022-10-31T20:50:04.139Z"
   },
   {
    "duration": 5,
    "start_time": "2022-10-31T20:50:05.179Z"
   },
   {
    "duration": 793,
    "start_time": "2022-10-31T20:50:06.792Z"
   },
   {
    "duration": 7,
    "start_time": "2022-10-31T20:50:14.356Z"
   },
   {
    "duration": 15,
    "start_time": "2022-10-31T20:50:16.490Z"
   },
   {
    "duration": 63,
    "start_time": "2022-10-31T20:50:31.281Z"
   },
   {
    "duration": 11,
    "start_time": "2022-10-31T20:51:38.564Z"
   },
   {
    "duration": 8,
    "start_time": "2022-10-31T20:52:06.703Z"
   },
   {
    "duration": 9,
    "start_time": "2022-10-31T20:52:13.340Z"
   },
   {
    "duration": 6,
    "start_time": "2022-10-31T20:52:20.876Z"
   },
   {
    "duration": 6,
    "start_time": "2022-10-31T20:54:22.629Z"
   },
   {
    "duration": 7,
    "start_time": "2022-10-31T20:54:35.692Z"
   },
   {
    "duration": 10,
    "start_time": "2022-10-31T20:56:08.106Z"
   },
   {
    "duration": 34,
    "start_time": "2022-10-31T20:57:57.737Z"
   },
   {
    "duration": 33,
    "start_time": "2022-10-31T20:58:02.996Z"
   },
   {
    "duration": 32,
    "start_time": "2022-10-31T20:58:11.838Z"
   },
   {
    "duration": 30,
    "start_time": "2022-10-31T20:58:16.225Z"
   },
   {
    "duration": 31,
    "start_time": "2022-10-31T20:58:48.331Z"
   },
   {
    "duration": 30,
    "start_time": "2022-10-31T20:59:51.045Z"
   },
   {
    "duration": 18,
    "start_time": "2022-10-31T21:03:12.836Z"
   },
   {
    "duration": 31,
    "start_time": "2022-10-31T21:03:17.844Z"
   },
   {
    "duration": 26,
    "start_time": "2022-10-31T21:03:26.117Z"
   },
   {
    "duration": 25,
    "start_time": "2022-10-31T21:03:32.299Z"
   },
   {
    "duration": 19,
    "start_time": "2022-10-31T21:03:40.592Z"
   },
   {
    "duration": 24,
    "start_time": "2022-10-31T21:03:50.564Z"
   },
   {
    "duration": 24,
    "start_time": "2022-10-31T21:04:38.108Z"
   },
   {
    "duration": 52,
    "start_time": "2022-10-31T21:04:50.992Z"
   },
   {
    "duration": 24,
    "start_time": "2022-10-31T21:04:56.380Z"
   },
   {
    "duration": 31,
    "start_time": "2022-10-31T21:05:03.356Z"
   },
   {
    "duration": 23,
    "start_time": "2022-10-31T21:05:18.762Z"
   },
   {
    "duration": 24,
    "start_time": "2022-10-31T21:05:25.499Z"
   },
   {
    "duration": 24,
    "start_time": "2022-10-31T21:05:29.695Z"
   },
   {
    "duration": 25,
    "start_time": "2022-10-31T21:06:02.756Z"
   },
   {
    "duration": 52,
    "start_time": "2022-10-31T21:08:08.944Z"
   },
   {
    "duration": 50,
    "start_time": "2022-10-31T21:08:23.606Z"
   },
   {
    "duration": 51,
    "start_time": "2022-10-31T21:08:45.565Z"
   },
   {
    "duration": 51,
    "start_time": "2022-10-31T21:08:53.557Z"
   },
   {
    "duration": 15,
    "start_time": "2022-10-31T21:12:23.787Z"
   },
   {
    "duration": 25,
    "start_time": "2022-10-31T21:12:50.979Z"
   },
   {
    "duration": 8,
    "start_time": "2022-10-31T21:13:12.135Z"
   },
   {
    "duration": 394,
    "start_time": "2022-10-31T21:13:15.104Z"
   },
   {
    "duration": 416,
    "start_time": "2022-10-31T21:13:22.280Z"
   },
   {
    "duration": 387,
    "start_time": "2022-10-31T21:13:57.651Z"
   },
   {
    "duration": 9,
    "start_time": "2022-10-31T21:14:42.649Z"
   },
   {
    "duration": 8,
    "start_time": "2022-10-31T21:14:49.049Z"
   },
   {
    "duration": 399,
    "start_time": "2022-10-31T21:15:35.471Z"
   },
   {
    "duration": 206,
    "start_time": "2022-10-31T21:16:20.001Z"
   },
   {
    "duration": 214,
    "start_time": "2022-10-31T21:17:29.954Z"
   },
   {
    "duration": 166,
    "start_time": "2022-10-31T21:18:51.989Z"
   },
   {
    "duration": 8,
    "start_time": "2022-10-31T21:19:13.220Z"
   },
   {
    "duration": 7,
    "start_time": "2022-10-31T21:19:25.566Z"
   },
   {
    "duration": 191,
    "start_time": "2022-10-31T21:19:31.461Z"
   },
   {
    "duration": 213,
    "start_time": "2022-10-31T21:19:36.026Z"
   },
   {
    "duration": 192,
    "start_time": "2022-10-31T21:20:37.519Z"
   },
   {
    "duration": 7,
    "start_time": "2022-10-31T21:20:46.717Z"
   },
   {
    "duration": 208,
    "start_time": "2022-10-31T21:20:49.930Z"
   },
   {
    "duration": 4,
    "start_time": "2022-10-31T21:21:35.372Z"
   },
   {
    "duration": 7,
    "start_time": "2022-10-31T21:21:40.192Z"
   },
   {
    "duration": 8,
    "start_time": "2022-10-31T21:21:48.302Z"
   },
   {
    "duration": 3,
    "start_time": "2022-10-31T21:22:08.076Z"
   },
   {
    "duration": 8,
    "start_time": "2022-10-31T21:22:18.708Z"
   },
   {
    "duration": 7,
    "start_time": "2022-10-31T21:25:42.236Z"
   },
   {
    "duration": 6,
    "start_time": "2022-10-31T21:26:37.361Z"
   },
   {
    "duration": 7,
    "start_time": "2022-10-31T21:26:48.937Z"
   },
   {
    "duration": 7,
    "start_time": "2022-10-31T21:26:51.326Z"
   },
   {
    "duration": 32,
    "start_time": "2022-10-31T21:27:00.331Z"
   },
   {
    "duration": 53,
    "start_time": "2022-10-31T21:27:12.150Z"
   },
   {
    "duration": 2,
    "start_time": "2022-10-31T21:27:18.336Z"
   },
   {
    "duration": 29,
    "start_time": "2022-10-31T21:27:24.701Z"
   },
   {
    "duration": 24,
    "start_time": "2022-10-31T21:27:34.978Z"
   },
   {
    "duration": 2,
    "start_time": "2022-10-31T21:27:42.835Z"
   },
   {
    "duration": 24,
    "start_time": "2022-10-31T21:27:55.990Z"
   },
   {
    "duration": 13,
    "start_time": "2022-10-31T21:28:05.536Z"
   },
   {
    "duration": 12,
    "start_time": "2022-10-31T21:28:14.350Z"
   },
   {
    "duration": 7,
    "start_time": "2022-10-31T21:28:35.384Z"
   },
   {
    "duration": 5,
    "start_time": "2022-10-31T21:28:46.917Z"
   },
   {
    "duration": 6,
    "start_time": "2022-10-31T21:29:39.552Z"
   },
   {
    "duration": 744,
    "start_time": "2022-10-31T21:29:50.374Z"
   },
   {
    "duration": 12,
    "start_time": "2022-10-31T21:29:53.334Z"
   },
   {
    "duration": 79,
    "start_time": "2022-10-31T21:30:18.987Z"
   },
   {
    "duration": 7,
    "start_time": "2022-10-31T21:30:35.050Z"
   },
   {
    "duration": 43,
    "start_time": "2022-10-31T21:31:20.547Z"
   },
   {
    "duration": 36,
    "start_time": "2022-10-31T21:31:38.915Z"
   },
   {
    "duration": 214,
    "start_time": "2022-10-31T21:31:54.789Z"
   },
   {
    "duration": 27,
    "start_time": "2022-10-31T21:32:27.767Z"
   },
   {
    "duration": 29,
    "start_time": "2022-10-31T21:32:34.890Z"
   },
   {
    "duration": 183,
    "start_time": "2022-10-31T21:32:46.533Z"
   },
   {
    "duration": 212,
    "start_time": "2022-10-31T21:33:05.536Z"
   },
   {
    "duration": 398,
    "start_time": "2022-10-31T21:33:13.522Z"
   },
   {
    "duration": 200,
    "start_time": "2022-10-31T21:33:19.968Z"
   },
   {
    "duration": 230,
    "start_time": "2022-10-31T21:33:31.873Z"
   },
   {
    "duration": 13,
    "start_time": "2022-10-31T21:33:44.253Z"
   },
   {
    "duration": 380,
    "start_time": "2022-10-31T21:34:03.507Z"
   },
   {
    "duration": 152,
    "start_time": "2022-10-31T21:34:03.889Z"
   },
   {
    "duration": 15,
    "start_time": "2022-10-31T21:34:04.043Z"
   },
   {
    "duration": 8,
    "start_time": "2022-10-31T21:34:04.060Z"
   },
   {
    "duration": 38,
    "start_time": "2022-10-31T21:34:04.070Z"
   },
   {
    "duration": 12,
    "start_time": "2022-10-31T21:34:04.110Z"
   },
   {
    "duration": 88,
    "start_time": "2022-10-31T21:34:04.123Z"
   },
   {
    "duration": 34,
    "start_time": "2022-10-31T21:34:04.213Z"
   },
   {
    "duration": 38,
    "start_time": "2022-10-31T21:34:04.249Z"
   },
   {
    "duration": 53,
    "start_time": "2022-10-31T21:34:04.288Z"
   },
   {
    "duration": 23,
    "start_time": "2022-10-31T21:34:04.343Z"
   },
   {
    "duration": 488,
    "start_time": "2022-10-31T21:34:04.368Z"
   },
   {
    "duration": 18,
    "start_time": "2022-10-31T21:34:04.858Z"
   },
   {
    "duration": 762,
    "start_time": "2022-10-31T21:34:04.878Z"
   },
   {
    "duration": 197,
    "start_time": "2022-10-31T21:34:05.642Z"
   },
   {
    "duration": 28,
    "start_time": "2022-10-31T21:34:05.840Z"
   },
   {
    "duration": 16,
    "start_time": "2022-10-31T21:34:05.870Z"
   },
   {
    "duration": 356,
    "start_time": "2022-10-31T21:35:21.128Z"
   },
   {
    "duration": 152,
    "start_time": "2022-10-31T21:35:21.485Z"
   },
   {
    "duration": 15,
    "start_time": "2022-10-31T21:35:21.639Z"
   },
   {
    "duration": 16,
    "start_time": "2022-10-31T21:35:21.656Z"
   },
   {
    "duration": 18,
    "start_time": "2022-10-31T21:35:21.674Z"
   },
   {
    "duration": 15,
    "start_time": "2022-10-31T21:35:21.694Z"
   },
   {
    "duration": 61,
    "start_time": "2022-10-31T21:35:21.710Z"
   },
   {
    "duration": 29,
    "start_time": "2022-10-31T21:35:21.773Z"
   },
   {
    "duration": 34,
    "start_time": "2022-10-31T21:35:21.803Z"
   },
   {
    "duration": 50,
    "start_time": "2022-10-31T21:35:21.838Z"
   },
   {
    "duration": 24,
    "start_time": "2022-10-31T21:35:21.900Z"
   },
   {
    "duration": 479,
    "start_time": "2022-10-31T21:35:21.926Z"
   },
   {
    "duration": 17,
    "start_time": "2022-10-31T21:35:22.407Z"
   },
   {
    "duration": 91,
    "start_time": "2022-10-31T21:35:22.426Z"
   },
   {
    "duration": 0,
    "start_time": "2022-10-31T21:35:22.518Z"
   },
   {
    "duration": 0,
    "start_time": "2022-10-31T21:35:22.519Z"
   },
   {
    "duration": 0,
    "start_time": "2022-10-31T21:35:22.520Z"
   },
   {
    "duration": 17,
    "start_time": "2022-10-31T21:36:13.829Z"
   },
   {
    "duration": 55,
    "start_time": "2022-10-31T21:36:24.964Z"
   },
   {
    "duration": 15,
    "start_time": "2022-10-31T21:36:31.376Z"
   },
   {
    "duration": 22,
    "start_time": "2022-10-31T21:36:47.683Z"
   },
   {
    "duration": 282,
    "start_time": "2022-10-31T21:37:02.997Z"
   },
   {
    "duration": 18,
    "start_time": "2022-10-31T21:37:11.605Z"
   },
   {
    "duration": 48,
    "start_time": "2022-11-01T06:24:06.445Z"
   },
   {
    "duration": 341,
    "start_time": "2022-11-01T06:24:10.233Z"
   },
   {
    "duration": 515,
    "start_time": "2022-11-01T06:24:10.575Z"
   },
   {
    "duration": 17,
    "start_time": "2022-11-01T06:24:11.092Z"
   },
   {
    "duration": 9,
    "start_time": "2022-11-01T06:24:11.111Z"
   },
   {
    "duration": 19,
    "start_time": "2022-11-01T06:24:12.120Z"
   },
   {
    "duration": 14,
    "start_time": "2022-11-01T06:24:13.228Z"
   },
   {
    "duration": 71,
    "start_time": "2022-11-01T06:24:14.353Z"
   },
   {
    "duration": 36,
    "start_time": "2022-11-01T06:24:15.338Z"
   },
   {
    "duration": 75,
    "start_time": "2022-11-01T06:24:25.062Z"
   },
   {
    "duration": 67,
    "start_time": "2022-11-01T06:24:32.795Z"
   },
   {
    "duration": 69,
    "start_time": "2022-11-01T06:24:52.466Z"
   },
   {
    "duration": 75,
    "start_time": "2022-11-01T06:24:58.021Z"
   },
   {
    "duration": 2553,
    "start_time": "2022-11-01T06:26:38.390Z"
   },
   {
    "duration": 19092,
    "start_time": "2022-11-01T06:27:00.753Z"
   },
   {
    "duration": 68,
    "start_time": "2022-11-01T06:28:41.536Z"
   },
   {
    "duration": 83,
    "start_time": "2022-11-01T06:29:01.663Z"
   },
   {
    "duration": 83,
    "start_time": "2022-11-01T06:29:59.993Z"
   },
   {
    "duration": 68,
    "start_time": "2022-11-01T06:30:12.392Z"
   },
   {
    "duration": 34,
    "start_time": "2022-11-01T06:30:13.690Z"
   },
   {
    "duration": 54,
    "start_time": "2022-11-01T06:30:15.964Z"
   },
   {
    "duration": 28,
    "start_time": "2022-11-01T06:30:21.401Z"
   },
   {
    "duration": 626,
    "start_time": "2022-11-01T06:30:22.888Z"
   },
   {
    "duration": 6,
    "start_time": "2022-11-01T06:30:28.957Z"
   },
   {
    "duration": 3,
    "start_time": "2022-11-01T06:30:46.771Z"
   },
   {
    "duration": 262,
    "start_time": "2022-11-01T06:30:54.726Z"
   },
   {
    "duration": 22,
    "start_time": "2022-11-01T06:31:08.124Z"
   },
   {
    "duration": 31,
    "start_time": "2022-11-01T06:32:24.418Z"
   },
   {
    "duration": 29,
    "start_time": "2022-11-01T06:32:38.135Z"
   },
   {
    "duration": 230,
    "start_time": "2022-11-01T06:32:44.211Z"
   },
   {
    "duration": 227,
    "start_time": "2022-11-01T06:33:08.012Z"
   },
   {
    "duration": 10,
    "start_time": "2022-11-01T06:34:50.632Z"
   },
   {
    "duration": 382,
    "start_time": "2022-11-01T06:35:00.518Z"
   },
   {
    "duration": 161,
    "start_time": "2022-11-01T06:35:00.902Z"
   },
   {
    "duration": 22,
    "start_time": "2022-11-01T06:35:01.064Z"
   },
   {
    "duration": 23,
    "start_time": "2022-11-01T06:35:01.089Z"
   },
   {
    "duration": 29,
    "start_time": "2022-11-01T06:35:01.114Z"
   },
   {
    "duration": 22,
    "start_time": "2022-11-01T06:35:01.145Z"
   },
   {
    "duration": 14,
    "start_time": "2022-11-01T06:35:01.169Z"
   },
   {
    "duration": 97,
    "start_time": "2022-11-01T06:35:01.185Z"
   },
   {
    "duration": 76,
    "start_time": "2022-11-01T06:35:01.283Z"
   },
   {
    "duration": 39,
    "start_time": "2022-11-01T06:35:01.376Z"
   },
   {
    "duration": 78,
    "start_time": "2022-11-01T06:35:01.417Z"
   },
   {
    "duration": 7,
    "start_time": "2022-11-01T06:35:01.497Z"
   },
   {
    "duration": 602,
    "start_time": "2022-11-01T06:35:01.506Z"
   },
   {
    "duration": 7,
    "start_time": "2022-11-01T06:35:02.111Z"
   },
   {
    "duration": 23,
    "start_time": "2022-11-01T06:35:02.119Z"
   },
   {
    "duration": 235,
    "start_time": "2022-11-01T06:35:02.143Z"
   },
   {
    "duration": 19,
    "start_time": "2022-11-01T06:35:02.380Z"
   },
   {
    "duration": 14,
    "start_time": "2022-11-01T06:35:02.400Z"
   },
   {
    "duration": 13,
    "start_time": "2022-11-01T06:35:21.674Z"
   },
   {
    "duration": 206,
    "start_time": "2022-11-01T06:35:22.800Z"
   },
   {
    "duration": 20,
    "start_time": "2022-11-01T06:35:25.430Z"
   },
   {
    "duration": 224,
    "start_time": "2022-11-01T06:35:53.798Z"
   },
   {
    "duration": 346,
    "start_time": "2022-11-01T06:35:56.733Z"
   },
   {
    "duration": 1489,
    "start_time": "2022-11-01T06:36:00.553Z"
   },
   {
    "duration": 244,
    "start_time": "2022-11-01T06:36:35.854Z"
   },
   {
    "duration": 227,
    "start_time": "2022-11-01T06:38:09.165Z"
   },
   {
    "duration": 55,
    "start_time": "2022-11-01T06:38:51.288Z"
   },
   {
    "duration": 9,
    "start_time": "2022-11-01T06:40:58.815Z"
   },
   {
    "duration": 22,
    "start_time": "2022-11-01T06:41:15.686Z"
   },
   {
    "duration": 24,
    "start_time": "2022-11-01T06:41:45.136Z"
   },
   {
    "duration": 394,
    "start_time": "2022-11-01T18:21:21.964Z"
   },
   {
    "duration": 616,
    "start_time": "2022-11-01T18:21:22.360Z"
   },
   {
    "duration": 17,
    "start_time": "2022-11-01T18:21:22.978Z"
   },
   {
    "duration": 25,
    "start_time": "2022-11-01T18:21:22.997Z"
   },
   {
    "duration": 20,
    "start_time": "2022-11-01T18:21:23.024Z"
   },
   {
    "duration": 14,
    "start_time": "2022-11-01T18:21:23.045Z"
   },
   {
    "duration": 8,
    "start_time": "2022-11-01T18:21:23.061Z"
   },
   {
    "duration": 100,
    "start_time": "2022-11-01T18:21:23.071Z"
   },
   {
    "duration": 76,
    "start_time": "2022-11-01T18:21:23.172Z"
   },
   {
    "duration": 36,
    "start_time": "2022-11-01T18:21:23.251Z"
   },
   {
    "duration": 68,
    "start_time": "2022-11-01T18:21:23.288Z"
   },
   {
    "duration": 7,
    "start_time": "2022-11-01T18:21:23.357Z"
   },
   {
    "duration": 661,
    "start_time": "2022-11-01T18:21:23.365Z"
   },
   {
    "duration": 6,
    "start_time": "2022-11-01T18:21:24.028Z"
   },
   {
    "duration": 15,
    "start_time": "2022-11-01T18:21:24.036Z"
   },
   {
    "duration": 248,
    "start_time": "2022-11-01T18:21:24.053Z"
   },
   {
    "duration": 26,
    "start_time": "2022-11-01T18:21:24.302Z"
   },
   {
    "duration": 14,
    "start_time": "2022-11-01T18:21:24.330Z"
   },
   {
    "duration": 75,
    "start_time": "2022-11-01T18:21:24.346Z"
   },
   {
    "duration": 23,
    "start_time": "2022-11-01T18:21:24.422Z"
   },
   {
    "duration": 17,
    "start_time": "2022-11-01T18:24:53.279Z"
   },
   {
    "duration": 16,
    "start_time": "2022-11-01T18:25:02.511Z"
   },
   {
    "duration": 3,
    "start_time": "2022-11-01T18:25:06.671Z"
   },
   {
    "duration": 26,
    "start_time": "2022-11-01T18:25:52.290Z"
   },
   {
    "duration": 7294,
    "start_time": "2022-11-01T18:25:58.347Z"
   },
   {
    "duration": 27,
    "start_time": "2022-11-01T18:26:17.394Z"
   },
   {
    "duration": 77,
    "start_time": "2022-11-01T18:26:57.202Z"
   },
   {
    "duration": 84,
    "start_time": "2022-11-01T18:27:10.491Z"
   },
   {
    "duration": 87,
    "start_time": "2022-11-01T18:28:14.087Z"
   },
   {
    "duration": 140,
    "start_time": "2022-11-01T18:31:32.656Z"
   },
   {
    "duration": 82,
    "start_time": "2022-11-01T18:31:42.897Z"
   },
   {
    "duration": 23,
    "start_time": "2022-11-01T18:32:07.768Z"
   },
   {
    "duration": 24,
    "start_time": "2022-11-01T18:32:15.606Z"
   },
   {
    "duration": 30,
    "start_time": "2022-11-01T18:32:19.140Z"
   },
   {
    "duration": 4,
    "start_time": "2022-11-01T18:33:46.742Z"
   },
   {
    "duration": 21,
    "start_time": "2022-11-01T18:33:53.931Z"
   },
   {
    "duration": 28,
    "start_time": "2022-11-01T18:33:57.570Z"
   },
   {
    "duration": 10,
    "start_time": "2022-11-01T18:34:08.435Z"
   },
   {
    "duration": 27,
    "start_time": "2022-11-01T18:34:14.732Z"
   },
   {
    "duration": 54,
    "start_time": "2022-11-01T18:35:53.963Z"
   },
   {
    "duration": 54,
    "start_time": "2022-11-01T18:36:08.603Z"
   },
   {
    "duration": 52,
    "start_time": "2022-11-01T18:36:16.873Z"
   },
   {
    "duration": 79,
    "start_time": "2022-11-01T18:36:23.831Z"
   },
   {
    "duration": 91,
    "start_time": "2022-11-01T18:36:45.374Z"
   },
   {
    "duration": 95,
    "start_time": "2022-11-01T18:43:09.952Z"
   },
   {
    "duration": 74,
    "start_time": "2022-11-01T18:46:06.677Z"
   },
   {
    "duration": 29,
    "start_time": "2022-11-01T18:46:44.391Z"
   },
   {
    "duration": 29,
    "start_time": "2022-11-01T18:47:02.384Z"
   },
   {
    "duration": 93,
    "start_time": "2022-11-01T18:47:18.864Z"
   },
   {
    "duration": 81,
    "start_time": "2022-11-01T18:47:53.089Z"
   },
   {
    "duration": 83,
    "start_time": "2022-11-01T18:48:31.715Z"
   },
   {
    "duration": 81,
    "start_time": "2022-11-01T18:48:44.884Z"
   },
   {
    "duration": 12,
    "start_time": "2022-11-01T18:48:58.667Z"
   },
   {
    "duration": 11,
    "start_time": "2022-11-01T18:49:07.242Z"
   },
   {
    "duration": 73,
    "start_time": "2022-11-01T18:49:11.414Z"
   },
   {
    "duration": 81,
    "start_time": "2022-11-01T18:49:15.223Z"
   },
   {
    "duration": 110,
    "start_time": "2022-11-01T18:49:25.836Z"
   },
   {
    "duration": 78,
    "start_time": "2022-11-01T18:49:35.404Z"
   },
   {
    "duration": 75,
    "start_time": "2022-11-01T18:49:48.687Z"
   },
   {
    "duration": 88,
    "start_time": "2022-11-01T18:54:11.040Z"
   },
   {
    "duration": 37,
    "start_time": "2022-11-01T18:56:04.366Z"
   },
   {
    "duration": 74,
    "start_time": "2022-11-01T18:56:16.814Z"
   },
   {
    "duration": 24,
    "start_time": "2022-11-01T18:56:37.544Z"
   },
   {
    "duration": 74,
    "start_time": "2022-11-01T18:56:42.513Z"
   },
   {
    "duration": 82,
    "start_time": "2022-11-01T18:57:21.058Z"
   },
   {
    "duration": 21,
    "start_time": "2022-11-01T18:57:34.632Z"
   },
   {
    "duration": 88,
    "start_time": "2022-11-01T18:57:44.507Z"
   },
   {
    "duration": 11,
    "start_time": "2022-11-01T18:57:51.658Z"
   },
   {
    "duration": 10,
    "start_time": "2022-11-01T18:57:57.277Z"
   },
   {
    "duration": 65,
    "start_time": "2022-11-01T18:58:30.675Z"
   },
   {
    "duration": 67,
    "start_time": "2022-11-01T18:58:46.007Z"
   },
   {
    "duration": 20,
    "start_time": "2022-11-01T18:59:06.214Z"
   },
   {
    "duration": 51,
    "start_time": "2022-11-01T18:59:21.791Z"
   },
   {
    "duration": 94,
    "start_time": "2022-11-01T18:59:34.923Z"
   },
   {
    "duration": 67,
    "start_time": "2022-11-01T19:00:08.324Z"
   },
   {
    "duration": 67,
    "start_time": "2022-11-01T19:00:51.652Z"
   },
   {
    "duration": 52,
    "start_time": "2022-11-01T19:01:34.416Z"
   },
   {
    "duration": 51,
    "start_time": "2022-11-01T19:02:11.396Z"
   },
   {
    "duration": 56,
    "start_time": "2022-11-01T19:02:58.299Z"
   },
   {
    "duration": 60,
    "start_time": "2022-11-01T19:03:03.178Z"
   },
   {
    "duration": 71,
    "start_time": "2022-11-01T19:03:23.875Z"
   },
   {
    "duration": 55,
    "start_time": "2022-11-01T19:04:02.560Z"
   },
   {
    "duration": 56,
    "start_time": "2022-11-01T19:04:26.146Z"
   },
   {
    "duration": 47,
    "start_time": "2022-11-01T20:28:09.731Z"
   },
   {
    "duration": 402,
    "start_time": "2022-11-01T20:28:14.444Z"
   },
   {
    "duration": 482,
    "start_time": "2022-11-01T20:28:14.848Z"
   },
   {
    "duration": 18,
    "start_time": "2022-11-01T20:28:15.333Z"
   },
   {
    "duration": 8,
    "start_time": "2022-11-01T20:28:15.353Z"
   },
   {
    "duration": 20,
    "start_time": "2022-11-01T20:28:15.362Z"
   },
   {
    "duration": 14,
    "start_time": "2022-11-01T20:28:15.383Z"
   },
   {
    "duration": 9,
    "start_time": "2022-11-01T20:28:15.398Z"
   },
   {
    "duration": 106,
    "start_time": "2022-11-01T20:28:15.408Z"
   },
   {
    "duration": 70,
    "start_time": "2022-11-01T20:28:15.515Z"
   },
   {
    "duration": 36,
    "start_time": "2022-11-01T20:28:15.588Z"
   },
   {
    "duration": 58,
    "start_time": "2022-11-01T20:28:15.638Z"
   },
   {
    "duration": 6,
    "start_time": "2022-11-01T20:28:15.698Z"
   },
   {
    "duration": 669,
    "start_time": "2022-11-01T20:28:15.705Z"
   },
   {
    "duration": 6,
    "start_time": "2022-11-01T20:28:16.376Z"
   },
   {
    "duration": 19,
    "start_time": "2022-11-01T20:28:16.383Z"
   },
   {
    "duration": 245,
    "start_time": "2022-11-01T20:28:16.404Z"
   },
   {
    "duration": 19,
    "start_time": "2022-11-01T20:28:16.651Z"
   },
   {
    "duration": 68,
    "start_time": "2022-11-01T20:28:16.671Z"
   },
   {
    "duration": 21,
    "start_time": "2022-11-01T20:28:16.740Z"
   },
   {
    "duration": 21,
    "start_time": "2022-11-01T20:28:16.763Z"
   },
   {
    "duration": 123,
    "start_time": "2022-11-01T20:28:16.785Z"
   },
   {
    "duration": 83,
    "start_time": "2022-11-01T20:28:16.909Z"
   },
   {
    "duration": 62,
    "start_time": "2022-11-01T20:28:16.993Z"
   },
   {
    "duration": 3,
    "start_time": "2022-11-01T20:33:52.500Z"
   },
   {
    "duration": 78,
    "start_time": "2022-11-01T20:35:04.357Z"
   },
   {
    "duration": 123,
    "start_time": "2022-11-01T20:35:54.606Z"
   },
   {
    "duration": 4,
    "start_time": "2022-11-01T20:36:01.391Z"
   },
   {
    "duration": 14,
    "start_time": "2022-11-01T20:36:22.970Z"
   },
   {
    "duration": 1283,
    "start_time": "2022-11-01T20:36:40.268Z"
   },
   {
    "duration": 16,
    "start_time": "2022-11-01T20:37:55.058Z"
   },
   {
    "duration": 73,
    "start_time": "2022-11-01T20:38:17.248Z"
   },
   {
    "duration": 111,
    "start_time": "2022-11-01T20:52:05.620Z"
   },
   {
    "duration": 679,
    "start_time": "2022-11-01T20:52:29.765Z"
   },
   {
    "duration": 248,
    "start_time": "2022-11-01T20:52:59.145Z"
   },
   {
    "duration": 124,
    "start_time": "2022-11-01T20:53:13.767Z"
   },
   {
    "duration": 100,
    "start_time": "2022-11-01T20:54:35.023Z"
   },
   {
    "duration": 104,
    "start_time": "2022-11-01T20:55:03.444Z"
   },
   {
    "duration": 109,
    "start_time": "2022-11-01T20:55:13.317Z"
   },
   {
    "duration": 879,
    "start_time": "2022-11-02T15:36:22.637Z"
   },
   {
    "duration": 493,
    "start_time": "2022-11-02T15:36:23.518Z"
   },
   {
    "duration": 15,
    "start_time": "2022-11-02T15:36:24.015Z"
   },
   {
    "duration": 13,
    "start_time": "2022-11-02T15:36:24.032Z"
   },
   {
    "duration": 24,
    "start_time": "2022-11-02T15:36:24.047Z"
   },
   {
    "duration": 13,
    "start_time": "2022-11-02T15:36:24.073Z"
   },
   {
    "duration": 8,
    "start_time": "2022-11-02T15:36:24.088Z"
   },
   {
    "duration": 113,
    "start_time": "2022-11-02T15:36:24.098Z"
   },
   {
    "duration": 83,
    "start_time": "2022-11-02T15:36:24.214Z"
   },
   {
    "duration": 41,
    "start_time": "2022-11-02T15:36:24.298Z"
   },
   {
    "duration": 71,
    "start_time": "2022-11-02T15:36:24.341Z"
   },
   {
    "duration": 8,
    "start_time": "2022-11-02T15:36:24.414Z"
   },
   {
    "duration": 335,
    "start_time": "2022-11-02T15:36:24.423Z"
   },
   {
    "duration": 7,
    "start_time": "2022-11-02T15:36:24.760Z"
   },
   {
    "duration": 38,
    "start_time": "2022-11-02T15:36:24.769Z"
   },
   {
    "duration": 253,
    "start_time": "2022-11-02T15:36:24.809Z"
   },
   {
    "duration": 21,
    "start_time": "2022-11-02T15:36:25.065Z"
   },
   {
    "duration": 109,
    "start_time": "2022-11-02T15:36:25.088Z"
   },
   {
    "duration": 38,
    "start_time": "2022-11-02T15:36:25.199Z"
   },
   {
    "duration": 35,
    "start_time": "2022-11-02T15:36:25.239Z"
   },
   {
    "duration": 153,
    "start_time": "2022-11-02T15:36:25.276Z"
   },
   {
    "duration": 80,
    "start_time": "2022-11-02T15:36:25.431Z"
   },
   {
    "duration": 19,
    "start_time": "2022-11-02T15:36:25.513Z"
   },
   {
    "duration": 48,
    "start_time": "2022-11-02T15:36:25.533Z"
   },
   {
    "duration": 25,
    "start_time": "2022-11-02T15:37:42.792Z"
   },
   {
    "duration": 41,
    "start_time": "2022-11-02T15:38:09.702Z"
   },
   {
    "duration": 41,
    "start_time": "2022-11-02T15:38:37.096Z"
   },
   {
    "duration": 55,
    "start_time": "2022-11-02T15:38:50.124Z"
   },
   {
    "duration": 46,
    "start_time": "2022-11-02T15:39:36.875Z"
   },
   {
    "duration": 36,
    "start_time": "2022-11-02T15:39:59.071Z"
   },
   {
    "duration": 38,
    "start_time": "2022-11-02T15:40:51.102Z"
   },
   {
    "duration": 58,
    "start_time": "2022-11-02T17:38:58.223Z"
   },
   {
    "duration": 924,
    "start_time": "2022-11-02T17:39:03.461Z"
   },
   {
    "duration": 667,
    "start_time": "2022-11-02T17:39:04.387Z"
   },
   {
    "duration": 18,
    "start_time": "2022-11-02T17:39:05.057Z"
   },
   {
    "duration": 12,
    "start_time": "2022-11-02T17:39:05.077Z"
   },
   {
    "duration": 29,
    "start_time": "2022-11-02T17:39:05.091Z"
   },
   {
    "duration": 16,
    "start_time": "2022-11-02T17:39:05.123Z"
   },
   {
    "duration": 9,
    "start_time": "2022-11-02T17:39:05.141Z"
   },
   {
    "duration": 120,
    "start_time": "2022-11-02T17:39:05.152Z"
   },
   {
    "duration": 81,
    "start_time": "2022-11-02T17:39:05.274Z"
   },
   {
    "duration": 44,
    "start_time": "2022-11-02T17:39:05.358Z"
   },
   {
    "duration": 79,
    "start_time": "2022-11-02T17:39:05.404Z"
   },
   {
    "duration": 9,
    "start_time": "2022-11-02T17:39:05.485Z"
   },
   {
    "duration": 357,
    "start_time": "2022-11-02T17:39:05.495Z"
   },
   {
    "duration": 5,
    "start_time": "2022-11-02T17:39:05.854Z"
   },
   {
    "duration": 21,
    "start_time": "2022-11-02T17:39:05.861Z"
   },
   {
    "duration": 277,
    "start_time": "2022-11-02T17:39:05.884Z"
   },
   {
    "duration": 20,
    "start_time": "2022-11-02T17:39:06.163Z"
   },
   {
    "duration": 87,
    "start_time": "2022-11-02T17:39:06.185Z"
   },
   {
    "duration": 24,
    "start_time": "2022-11-02T17:39:06.274Z"
   },
   {
    "duration": 46,
    "start_time": "2022-11-02T17:39:06.300Z"
   },
   {
    "duration": 136,
    "start_time": "2022-11-02T17:39:06.348Z"
   },
   {
    "duration": 71,
    "start_time": "2022-11-02T17:39:06.487Z"
   },
   {
    "duration": 17,
    "start_time": "2022-11-02T17:39:06.560Z"
   },
   {
    "duration": 58,
    "start_time": "2022-11-02T17:39:06.579Z"
   },
   {
    "duration": 39,
    "start_time": "2022-11-02T17:39:06.639Z"
   },
   {
    "duration": 56,
    "start_time": "2022-11-02T17:39:06.680Z"
   },
   {
    "duration": 44,
    "start_time": "2022-11-02T17:39:06.738Z"
   },
   {
    "duration": 22,
    "start_time": "2022-11-02T17:39:06.785Z"
   },
   {
    "duration": 7,
    "start_time": "2022-11-02T18:01:48.766Z"
   },
   {
    "duration": 5,
    "start_time": "2022-11-02T18:20:53.194Z"
   },
   {
    "duration": 98,
    "start_time": "2022-11-02T18:21:10.892Z"
   },
   {
    "duration": 365,
    "start_time": "2022-11-02T18:21:16.910Z"
   },
   {
    "duration": 8,
    "start_time": "2022-11-02T18:21:45.969Z"
   },
   {
    "duration": 374,
    "start_time": "2022-11-02T18:21:48.151Z"
   },
   {
    "duration": 8,
    "start_time": "2022-11-02T18:22:23.557Z"
   },
   {
    "duration": 98,
    "start_time": "2022-11-02T18:22:23.852Z"
   },
   {
    "duration": 5,
    "start_time": "2022-11-02T18:23:10.303Z"
   },
   {
    "duration": 915,
    "start_time": "2022-11-02T18:23:11.253Z"
   },
   {
    "duration": 5,
    "start_time": "2022-11-02T18:23:41.998Z"
   },
   {
    "duration": 1165,
    "start_time": "2022-11-02T18:23:43.263Z"
   },
   {
    "duration": 7,
    "start_time": "2022-11-02T18:24:10.980Z"
   },
   {
    "duration": 86,
    "start_time": "2022-11-02T18:24:12.127Z"
   },
   {
    "duration": 7,
    "start_time": "2022-11-02T18:24:28.309Z"
   },
   {
    "duration": 74,
    "start_time": "2022-11-02T18:24:28.551Z"
   },
   {
    "duration": 5,
    "start_time": "2022-11-02T18:24:35.544Z"
   },
   {
    "duration": 74,
    "start_time": "2022-11-02T18:24:35.804Z"
   },
   {
    "duration": 6,
    "start_time": "2022-11-02T18:24:42.007Z"
   },
   {
    "duration": 75,
    "start_time": "2022-11-02T18:24:42.378Z"
   },
   {
    "duration": 5,
    "start_time": "2022-11-02T18:24:52.351Z"
   },
   {
    "duration": 74,
    "start_time": "2022-11-02T18:24:52.575Z"
   },
   {
    "duration": 11,
    "start_time": "2022-11-02T18:25:37.515Z"
   },
   {
    "duration": 109,
    "start_time": "2022-11-02T18:25:45.038Z"
   },
   {
    "duration": 25,
    "start_time": "2022-11-02T18:28:32.600Z"
   },
   {
    "duration": 22,
    "start_time": "2022-11-02T18:28:44.916Z"
   },
   {
    "duration": 303,
    "start_time": "2022-11-02T18:29:04.428Z"
   },
   {
    "duration": 312,
    "start_time": "2022-11-02T18:29:32.367Z"
   },
   {
    "duration": 5,
    "start_time": "2022-11-02T18:49:02.363Z"
   },
   {
    "duration": 10,
    "start_time": "2022-11-02T18:52:20.485Z"
   },
   {
    "duration": 3,
    "start_time": "2022-11-02T18:52:41.954Z"
   },
   {
    "duration": 12,
    "start_time": "2022-11-02T18:52:46.348Z"
   },
   {
    "duration": 4,
    "start_time": "2022-11-02T18:53:23.441Z"
   },
   {
    "duration": 12,
    "start_time": "2022-11-02T18:53:26.131Z"
   },
   {
    "duration": 555,
    "start_time": "2022-11-02T18:53:46.638Z"
   },
   {
    "duration": 51,
    "start_time": "2022-11-02T18:53:49.376Z"
   },
   {
    "duration": 5,
    "start_time": "2022-11-02T18:53:54.732Z"
   },
   {
    "duration": 16,
    "start_time": "2022-11-02T18:53:55.145Z"
   },
   {
    "duration": 6,
    "start_time": "2022-11-02T18:54:24.051Z"
   },
   {
    "duration": 6,
    "start_time": "2022-11-02T18:54:25.298Z"
   },
   {
    "duration": 9,
    "start_time": "2022-11-02T18:57:39.783Z"
   },
   {
    "duration": 10,
    "start_time": "2022-11-02T19:03:57.917Z"
   },
   {
    "duration": 6,
    "start_time": "2022-11-02T19:04:36.536Z"
   },
   {
    "duration": 8,
    "start_time": "2022-11-02T19:04:36.943Z"
   },
   {
    "duration": 9,
    "start_time": "2022-11-02T19:04:37.317Z"
   },
   {
    "duration": 11,
    "start_time": "2022-11-02T19:06:33.022Z"
   },
   {
    "duration": 16,
    "start_time": "2022-11-02T19:08:28.553Z"
   },
   {
    "duration": 9,
    "start_time": "2022-11-02T19:08:50.600Z"
   },
   {
    "duration": 17,
    "start_time": "2022-11-02T19:10:39.954Z"
   },
   {
    "duration": 6,
    "start_time": "2022-11-02T19:12:30.687Z"
   },
   {
    "duration": 9,
    "start_time": "2022-11-02T19:12:31.537Z"
   },
   {
    "duration": 274,
    "start_time": "2022-11-02T19:12:36.165Z"
   },
   {
    "duration": 8,
    "start_time": "2022-11-02T19:12:37.029Z"
   },
   {
    "duration": 8,
    "start_time": "2022-11-02T19:12:37.561Z"
   },
   {
    "duration": 8,
    "start_time": "2022-11-02T19:12:38.079Z"
   },
   {
    "duration": 5,
    "start_time": "2022-11-02T19:12:51.609Z"
   },
   {
    "duration": 8,
    "start_time": "2022-11-02T19:12:54.328Z"
   },
   {
    "duration": 11,
    "start_time": "2022-11-02T19:12:57.801Z"
   },
   {
    "duration": 9,
    "start_time": "2022-11-02T19:12:58.410Z"
   },
   {
    "duration": 9,
    "start_time": "2022-11-02T19:12:58.950Z"
   },
   {
    "duration": 9,
    "start_time": "2022-11-02T19:12:59.415Z"
   },
   {
    "duration": 74,
    "start_time": "2022-11-02T19:18:58.296Z"
   },
   {
    "duration": 6,
    "start_time": "2022-11-02T19:19:06.805Z"
   },
   {
    "duration": 19,
    "start_time": "2022-11-02T19:19:21.650Z"
   },
   {
    "duration": 8,
    "start_time": "2022-11-02T19:27:13.117Z"
   },
   {
    "duration": 18,
    "start_time": "2022-11-02T19:27:15.121Z"
   },
   {
    "duration": 8,
    "start_time": "2022-11-02T19:28:08.758Z"
   },
   {
    "duration": 20,
    "start_time": "2022-11-02T19:28:10.065Z"
   },
   {
    "duration": 7,
    "start_time": "2022-11-02T19:29:20.736Z"
   },
   {
    "duration": 19,
    "start_time": "2022-11-02T19:29:22.263Z"
   },
   {
    "duration": 21,
    "start_time": "2022-11-02T19:29:48.865Z"
   },
   {
    "duration": 19,
    "start_time": "2022-11-02T19:29:52.911Z"
   },
   {
    "duration": 7,
    "start_time": "2022-11-02T19:30:18.763Z"
   },
   {
    "duration": 13,
    "start_time": "2022-11-02T19:30:19.357Z"
   },
   {
    "duration": 8,
    "start_time": "2022-11-02T19:31:14.903Z"
   },
   {
    "duration": 19,
    "start_time": "2022-11-02T19:31:16.028Z"
   },
   {
    "duration": 20,
    "start_time": "2022-11-02T19:31:17.040Z"
   },
   {
    "duration": 881,
    "start_time": "2022-11-04T16:53:42.747Z"
   },
   {
    "duration": 484,
    "start_time": "2022-11-04T16:53:43.630Z"
   },
   {
    "duration": 16,
    "start_time": "2022-11-04T16:53:44.116Z"
   },
   {
    "duration": 9,
    "start_time": "2022-11-04T16:53:49.226Z"
   },
   {
    "duration": 18,
    "start_time": "2022-11-04T16:53:49.448Z"
   },
   {
    "duration": 13,
    "start_time": "2022-11-04T16:53:52.126Z"
   },
   {
    "duration": 9,
    "start_time": "2022-11-04T16:53:52.339Z"
   },
   {
    "duration": 83,
    "start_time": "2022-11-04T16:53:52.544Z"
   },
   {
    "duration": 69,
    "start_time": "2022-11-04T16:53:56.728Z"
   },
   {
    "duration": 36,
    "start_time": "2022-11-04T16:53:58.669Z"
   },
   {
    "duration": 82,
    "start_time": "2022-11-04T16:54:04.805Z"
   },
   {
    "duration": 19,
    "start_time": "2022-11-04T16:54:11.167Z"
   },
   {
    "duration": 55,
    "start_time": "2022-11-04T16:57:08.576Z"
   },
   {
    "duration": 61,
    "start_time": "2022-11-04T16:57:13.527Z"
   },
   {
    "duration": 2,
    "start_time": "2022-11-04T16:57:17.601Z"
   },
   {
    "duration": 146,
    "start_time": "2022-11-04T16:57:17.822Z"
   },
   {
    "duration": 10,
    "start_time": "2022-11-04T16:57:18.120Z"
   },
   {
    "duration": 5,
    "start_time": "2022-11-04T16:57:18.580Z"
   },
   {
    "duration": 18,
    "start_time": "2022-11-04T16:57:18.887Z"
   },
   {
    "duration": 8,
    "start_time": "2022-11-04T16:57:21.221Z"
   },
   {
    "duration": 7,
    "start_time": "2022-11-04T16:57:21.470Z"
   },
   {
    "duration": 56,
    "start_time": "2022-11-04T16:57:21.748Z"
   },
   {
    "duration": 75,
    "start_time": "2022-11-04T16:57:23.197Z"
   },
   {
    "duration": 67,
    "start_time": "2022-11-04T16:57:56.472Z"
   },
   {
    "duration": 33,
    "start_time": "2022-11-04T16:58:03.861Z"
   },
   {
    "duration": 32,
    "start_time": "2022-11-04T16:58:17.592Z"
   },
   {
    "duration": 52,
    "start_time": "2022-11-04T17:05:11.000Z"
   },
   {
    "duration": 8,
    "start_time": "2022-11-04T17:05:14.621Z"
   },
   {
    "duration": 8,
    "start_time": "2022-11-04T17:05:48.924Z"
   },
   {
    "duration": 744,
    "start_time": "2022-11-04T17:06:04.092Z"
   },
   {
    "duration": 6,
    "start_time": "2022-11-04T17:08:53.729Z"
   },
   {
    "duration": 19,
    "start_time": "2022-11-04T17:08:54.649Z"
   },
   {
    "duration": 266,
    "start_time": "2022-11-04T17:09:15.993Z"
   },
   {
    "duration": 19,
    "start_time": "2022-11-04T17:10:51.286Z"
   },
   {
    "duration": 52,
    "start_time": "2022-11-04T17:10:51.929Z"
   },
   {
    "duration": 23,
    "start_time": "2022-11-04T17:10:54.130Z"
   },
   {
    "duration": 22,
    "start_time": "2022-11-04T17:37:53.568Z"
   },
   {
    "duration": 114,
    "start_time": "2022-11-04T17:37:56.791Z"
   },
   {
    "duration": 117,
    "start_time": "2022-11-04T17:38:01.874Z"
   },
   {
    "duration": 110,
    "start_time": "2022-11-04T17:38:06.751Z"
   },
   {
    "duration": 120,
    "start_time": "2022-11-04T17:38:16.983Z"
   },
   {
    "duration": 56,
    "start_time": "2022-11-04T17:53:38.826Z"
   },
   {
    "duration": 15,
    "start_time": "2022-11-04T17:54:31.349Z"
   },
   {
    "duration": 38,
    "start_time": "2022-11-04T17:54:49.122Z"
   },
   {
    "duration": 38,
    "start_time": "2022-11-04T17:54:50.273Z"
   },
   {
    "duration": 34,
    "start_time": "2022-11-04T17:54:50.677Z"
   },
   {
    "duration": 37,
    "start_time": "2022-11-04T17:54:51.255Z"
   },
   {
    "duration": 35,
    "start_time": "2022-11-04T17:56:17.962Z"
   },
   {
    "duration": 20,
    "start_time": "2022-11-04T18:08:24.934Z"
   },
   {
    "duration": 4,
    "start_time": "2022-11-04T18:08:51.577Z"
   },
   {
    "duration": 4,
    "start_time": "2022-11-04T18:09:06.841Z"
   },
   {
    "duration": 259,
    "start_time": "2022-11-04T18:13:27.172Z"
   },
   {
    "duration": 10,
    "start_time": "2022-11-04T18:18:54.700Z"
   },
   {
    "duration": 13,
    "start_time": "2022-11-04T18:18:58.124Z"
   },
   {
    "duration": 5,
    "start_time": "2022-11-04T18:19:13.335Z"
   },
   {
    "duration": 267,
    "start_time": "2022-11-04T18:19:16.655Z"
   },
   {
    "duration": 7,
    "start_time": "2022-11-04T18:19:19.745Z"
   },
   {
    "duration": 18,
    "start_time": "2022-11-04T18:19:21.856Z"
   },
   {
    "duration": 874,
    "start_time": "2022-11-04T18:19:57.265Z"
   },
   {
    "duration": 163,
    "start_time": "2022-11-04T18:19:58.141Z"
   },
   {
    "duration": 17,
    "start_time": "2022-11-04T18:19:58.306Z"
   },
   {
    "duration": 11,
    "start_time": "2022-11-04T18:19:58.324Z"
   },
   {
    "duration": 19,
    "start_time": "2022-11-04T18:19:58.336Z"
   },
   {
    "duration": 13,
    "start_time": "2022-11-04T18:19:58.376Z"
   },
   {
    "duration": 9,
    "start_time": "2022-11-04T18:19:58.390Z"
   },
   {
    "duration": 81,
    "start_time": "2022-11-04T18:19:58.400Z"
   },
   {
    "duration": 124,
    "start_time": "2022-11-04T18:19:58.483Z"
   },
   {
    "duration": 88,
    "start_time": "2022-11-04T18:19:58.611Z"
   },
   {
    "duration": 36,
    "start_time": "2022-11-04T18:19:58.701Z"
   },
   {
    "duration": 66,
    "start_time": "2022-11-04T18:19:58.739Z"
   },
   {
    "duration": 7,
    "start_time": "2022-11-04T18:19:58.807Z"
   },
   {
    "duration": 494,
    "start_time": "2022-11-04T18:19:58.815Z"
   },
   {
    "duration": 5,
    "start_time": "2022-11-04T18:19:59.311Z"
   },
   {
    "duration": 18,
    "start_time": "2022-11-04T18:19:59.318Z"
   },
   {
    "duration": 230,
    "start_time": "2022-11-04T18:19:59.338Z"
   },
   {
    "duration": 18,
    "start_time": "2022-11-04T18:19:59.570Z"
   },
   {
    "duration": 74,
    "start_time": "2022-11-04T18:19:59.590Z"
   },
   {
    "duration": 28,
    "start_time": "2022-11-04T18:19:59.666Z"
   },
   {
    "duration": 22,
    "start_time": "2022-11-04T18:19:59.695Z"
   },
   {
    "duration": 115,
    "start_time": "2022-11-04T18:19:59.719Z"
   },
   {
    "duration": 57,
    "start_time": "2022-11-04T18:19:59.836Z"
   },
   {
    "duration": 14,
    "start_time": "2022-11-04T18:19:59.895Z"
   },
   {
    "duration": 34,
    "start_time": "2022-11-04T18:19:59.910Z"
   },
   {
    "duration": 51,
    "start_time": "2022-11-04T18:19:59.945Z"
   },
   {
    "duration": 33,
    "start_time": "2022-11-04T18:19:59.997Z"
   },
   {
    "duration": 19,
    "start_time": "2022-11-04T18:20:00.033Z"
   },
   {
    "duration": 5,
    "start_time": "2022-11-04T18:20:00.076Z"
   },
   {
    "duration": 18,
    "start_time": "2022-11-04T18:20:00.083Z"
   },
   {
    "duration": 276,
    "start_time": "2022-11-04T18:20:00.103Z"
   },
   {
    "duration": 7,
    "start_time": "2022-11-04T18:20:00.380Z"
   },
   {
    "duration": 130,
    "start_time": "2022-11-04T18:20:00.389Z"
   },
   {
    "duration": 0,
    "start_time": "2022-11-04T18:20:00.521Z"
   },
   {
    "duration": 7,
    "start_time": "2022-11-04T18:21:11.474Z"
   },
   {
    "duration": 16,
    "start_time": "2022-11-04T18:21:13.233Z"
   },
   {
    "duration": 8,
    "start_time": "2022-11-04T18:21:35.721Z"
   },
   {
    "duration": 17,
    "start_time": "2022-11-04T18:21:36.799Z"
   },
   {
    "duration": 7,
    "start_time": "2022-11-04T18:21:51.894Z"
   },
   {
    "duration": 16,
    "start_time": "2022-11-04T18:21:52.467Z"
   },
   {
    "duration": 5,
    "start_time": "2022-11-04T18:22:10.843Z"
   },
   {
    "duration": 8,
    "start_time": "2022-11-04T18:22:16.359Z"
   },
   {
    "duration": 17,
    "start_time": "2022-11-04T18:22:17.566Z"
   },
   {
    "duration": 6,
    "start_time": "2022-11-04T18:22:23.437Z"
   },
   {
    "duration": 17,
    "start_time": "2022-11-04T18:22:24.552Z"
   },
   {
    "duration": 75,
    "start_time": "2022-11-04T18:23:35.302Z"
   },
   {
    "duration": 46,
    "start_time": "2022-11-04T18:23:44.437Z"
   },
   {
    "duration": 49,
    "start_time": "2022-11-04T18:23:50.735Z"
   },
   {
    "duration": 7,
    "start_time": "2022-11-04T18:24:42.696Z"
   },
   {
    "duration": 54,
    "start_time": "2022-11-04T18:24:52.148Z"
   },
   {
    "duration": 50,
    "start_time": "2022-11-04T18:25:08.067Z"
   },
   {
    "duration": 7,
    "start_time": "2022-11-04T18:25:14.029Z"
   },
   {
    "duration": 49,
    "start_time": "2022-11-04T18:25:31.644Z"
   },
   {
    "duration": 9,
    "start_time": "2022-11-04T18:25:44.127Z"
   },
   {
    "duration": 18,
    "start_time": "2022-11-04T18:25:49.707Z"
   },
   {
    "duration": 17,
    "start_time": "2022-11-04T18:25:53.880Z"
   },
   {
    "duration": 19,
    "start_time": "2022-11-04T18:26:26.968Z"
   },
   {
    "duration": 781,
    "start_time": "2022-11-04T19:13:27.826Z"
   },
   {
    "duration": 165,
    "start_time": "2022-11-04T19:13:28.609Z"
   },
   {
    "duration": 16,
    "start_time": "2022-11-04T19:13:28.776Z"
   },
   {
    "duration": 8,
    "start_time": "2022-11-04T19:13:28.794Z"
   },
   {
    "duration": 19,
    "start_time": "2022-11-04T19:13:28.803Z"
   },
   {
    "duration": 13,
    "start_time": "2022-11-04T19:13:28.823Z"
   },
   {
    "duration": 40,
    "start_time": "2022-11-04T19:13:28.837Z"
   },
   {
    "duration": 68,
    "start_time": "2022-11-04T19:13:28.878Z"
   },
   {
    "duration": 90,
    "start_time": "2022-11-04T19:13:28.948Z"
   },
   {
    "duration": 78,
    "start_time": "2022-11-04T19:13:29.041Z"
   },
   {
    "duration": 39,
    "start_time": "2022-11-04T19:13:29.121Z"
   },
   {
    "duration": 69,
    "start_time": "2022-11-04T19:13:29.162Z"
   },
   {
    "duration": 7,
    "start_time": "2022-11-04T19:13:29.233Z"
   },
   {
    "duration": 535,
    "start_time": "2022-11-04T19:13:29.241Z"
   },
   {
    "duration": 6,
    "start_time": "2022-11-04T19:13:29.777Z"
   },
   {
    "duration": 17,
    "start_time": "2022-11-04T19:13:29.784Z"
   },
   {
    "duration": 239,
    "start_time": "2022-11-04T19:13:29.802Z"
   },
   {
    "duration": 18,
    "start_time": "2022-11-04T19:13:30.043Z"
   },
   {
    "duration": 66,
    "start_time": "2022-11-04T19:13:30.062Z"
   },
   {
    "duration": 22,
    "start_time": "2022-11-04T19:13:30.129Z"
   },
   {
    "duration": 38,
    "start_time": "2022-11-04T19:13:30.152Z"
   },
   {
    "duration": 114,
    "start_time": "2022-11-04T19:13:30.191Z"
   },
   {
    "duration": 59,
    "start_time": "2022-11-04T19:13:30.306Z"
   },
   {
    "duration": 25,
    "start_time": "2022-11-04T19:13:30.366Z"
   },
   {
    "duration": 49,
    "start_time": "2022-11-04T19:13:30.393Z"
   },
   {
    "duration": 39,
    "start_time": "2022-11-04T19:13:30.443Z"
   },
   {
    "duration": 41,
    "start_time": "2022-11-04T19:13:30.484Z"
   },
   {
    "duration": 25,
    "start_time": "2022-11-04T19:13:30.529Z"
   },
   {
    "duration": 22,
    "start_time": "2022-11-04T19:13:30.556Z"
   },
   {
    "duration": 38,
    "start_time": "2022-11-04T19:13:30.580Z"
   },
   {
    "duration": 287,
    "start_time": "2022-11-04T19:13:30.620Z"
   },
   {
    "duration": 8,
    "start_time": "2022-11-04T19:13:30.908Z"
   },
   {
    "duration": 65,
    "start_time": "2022-11-04T19:13:30.917Z"
   },
   {
    "duration": 62,
    "start_time": "2022-11-04T19:13:30.984Z"
   },
   {
    "duration": 27,
    "start_time": "2022-11-04T19:13:31.047Z"
   },
   {
    "duration": 65,
    "start_time": "2022-11-04T19:14:57.555Z"
   },
   {
    "duration": 790,
    "start_time": "2022-11-04T19:23:03.623Z"
   },
   {
    "duration": 150,
    "start_time": "2022-11-04T19:23:04.415Z"
   },
   {
    "duration": 18,
    "start_time": "2022-11-04T19:23:04.566Z"
   },
   {
    "duration": 39,
    "start_time": "2022-11-04T19:23:04.586Z"
   },
   {
    "duration": 38,
    "start_time": "2022-11-04T19:23:04.627Z"
   },
   {
    "duration": 12,
    "start_time": "2022-11-04T19:23:04.667Z"
   },
   {
    "duration": 18,
    "start_time": "2022-11-04T19:23:04.680Z"
   },
   {
    "duration": 91,
    "start_time": "2022-11-04T19:23:04.699Z"
   },
   {
    "duration": 77,
    "start_time": "2022-11-04T19:23:04.792Z"
   },
   {
    "duration": 71,
    "start_time": "2022-11-04T19:23:04.878Z"
   },
   {
    "duration": 46,
    "start_time": "2022-11-04T19:23:04.950Z"
   },
   {
    "duration": 53,
    "start_time": "2022-11-04T19:23:04.998Z"
   },
   {
    "duration": 25,
    "start_time": "2022-11-04T19:23:05.053Z"
   },
   {
    "duration": 550,
    "start_time": "2022-11-04T19:23:05.080Z"
   },
   {
    "duration": 6,
    "start_time": "2022-11-04T19:23:05.632Z"
   },
   {
    "duration": 24,
    "start_time": "2022-11-04T19:23:05.639Z"
   },
   {
    "duration": 229,
    "start_time": "2022-11-04T19:23:05.665Z"
   },
   {
    "duration": 19,
    "start_time": "2022-11-04T19:23:05.896Z"
   },
   {
    "duration": 75,
    "start_time": "2022-11-04T19:23:05.917Z"
   },
   {
    "duration": 25,
    "start_time": "2022-11-04T19:23:05.994Z"
   },
   {
    "duration": 68,
    "start_time": "2022-11-04T19:23:06.021Z"
   },
   {
    "duration": 106,
    "start_time": "2022-11-04T19:23:06.091Z"
   },
   {
    "duration": 58,
    "start_time": "2022-11-04T19:23:06.198Z"
   },
   {
    "duration": 24,
    "start_time": "2022-11-04T19:23:06.258Z"
   },
   {
    "duration": 37,
    "start_time": "2022-11-04T19:23:06.284Z"
   },
   {
    "duration": 32,
    "start_time": "2022-11-04T19:23:06.323Z"
   },
   {
    "duration": 49,
    "start_time": "2022-11-04T19:23:06.356Z"
   },
   {
    "duration": 27,
    "start_time": "2022-11-04T19:23:06.408Z"
   },
   {
    "duration": 12,
    "start_time": "2022-11-04T19:23:06.437Z"
   },
   {
    "duration": 30,
    "start_time": "2022-11-04T19:23:06.450Z"
   },
   {
    "duration": 263,
    "start_time": "2022-11-04T19:23:06.481Z"
   },
   {
    "duration": 7,
    "start_time": "2022-11-04T19:23:06.745Z"
   },
   {
    "duration": 41,
    "start_time": "2022-11-04T19:23:06.753Z"
   },
   {
    "duration": 19,
    "start_time": "2022-11-04T19:23:06.796Z"
   },
   {
    "duration": 27,
    "start_time": "2022-11-04T19:23:06.816Z"
   },
   {
    "duration": 830,
    "start_time": "2022-11-05T09:44:58.146Z"
   },
   {
    "duration": 1067,
    "start_time": "2022-11-05T09:44:58.978Z"
   },
   {
    "duration": 23,
    "start_time": "2022-11-05T09:45:00.047Z"
   },
   {
    "duration": 22,
    "start_time": "2022-11-05T09:45:00.072Z"
   },
   {
    "duration": 28,
    "start_time": "2022-11-05T09:45:00.096Z"
   },
   {
    "duration": 24,
    "start_time": "2022-11-05T09:45:00.126Z"
   },
   {
    "duration": 20,
    "start_time": "2022-11-05T09:45:00.152Z"
   },
   {
    "duration": 79,
    "start_time": "2022-11-05T09:45:00.173Z"
   },
   {
    "duration": 80,
    "start_time": "2022-11-05T09:45:00.254Z"
   },
   {
    "duration": 73,
    "start_time": "2022-11-05T09:45:00.336Z"
   },
   {
    "duration": 59,
    "start_time": "2022-11-05T09:45:00.411Z"
   },
   {
    "duration": 88,
    "start_time": "2022-11-05T09:45:00.472Z"
   },
   {
    "duration": 9,
    "start_time": "2022-11-05T09:45:00.562Z"
   },
   {
    "duration": 894,
    "start_time": "2022-11-05T09:45:00.574Z"
   },
   {
    "duration": 8,
    "start_time": "2022-11-05T09:45:01.470Z"
   },
   {
    "duration": 27,
    "start_time": "2022-11-05T09:45:01.480Z"
   },
   {
    "duration": 283,
    "start_time": "2022-11-05T09:45:01.509Z"
   },
   {
    "duration": 22,
    "start_time": "2022-11-05T09:45:01.794Z"
   },
   {
    "duration": 60,
    "start_time": "2022-11-05T09:45:01.831Z"
   },
   {
    "duration": 47,
    "start_time": "2022-11-05T09:45:01.893Z"
   },
   {
    "duration": 25,
    "start_time": "2022-11-05T09:45:01.943Z"
   },
   {
    "duration": 146,
    "start_time": "2022-11-05T09:45:01.970Z"
   },
   {
    "duration": 82,
    "start_time": "2022-11-05T09:45:02.118Z"
   },
   {
    "duration": 32,
    "start_time": "2022-11-05T09:45:02.202Z"
   },
   {
    "duration": 44,
    "start_time": "2022-11-05T09:45:02.236Z"
   },
   {
    "duration": 57,
    "start_time": "2022-11-05T09:45:02.282Z"
   },
   {
    "duration": 41,
    "start_time": "2022-11-05T09:45:02.341Z"
   },
   {
    "duration": 48,
    "start_time": "2022-11-05T09:45:02.384Z"
   },
   {
    "duration": 5,
    "start_time": "2022-11-05T09:45:02.434Z"
   },
   {
    "duration": 17,
    "start_time": "2022-11-05T09:45:02.441Z"
   },
   {
    "duration": 320,
    "start_time": "2022-11-05T09:45:02.459Z"
   },
   {
    "duration": 8,
    "start_time": "2022-11-05T09:45:02.781Z"
   },
   {
    "duration": 42,
    "start_time": "2022-11-05T09:45:02.791Z"
   },
   {
    "duration": 19,
    "start_time": "2022-11-05T09:45:02.835Z"
   },
   {
    "duration": 19,
    "start_time": "2022-11-05T09:45:02.856Z"
   },
   {
    "duration": 22,
    "start_time": "2022-11-05T09:57:21.137Z"
   },
   {
    "duration": 697,
    "start_time": "2022-11-05T09:57:24.867Z"
   },
   {
    "duration": 823,
    "start_time": "2022-11-05T11:23:27.122Z"
   },
   {
    "duration": 493,
    "start_time": "2022-11-05T11:23:29.641Z"
   },
   {
    "duration": 15,
    "start_time": "2022-11-05T11:23:30.136Z"
   },
   {
    "duration": 8,
    "start_time": "2022-11-05T11:23:32.161Z"
   },
   {
    "duration": 20,
    "start_time": "2022-11-05T11:23:33.299Z"
   },
   {
    "duration": 13,
    "start_time": "2022-11-05T11:23:35.451Z"
   },
   {
    "duration": 12,
    "start_time": "2022-11-05T11:23:35.735Z"
   },
   {
    "duration": 56,
    "start_time": "2022-11-05T11:23:36.018Z"
   },
   {
    "duration": 66,
    "start_time": "2022-11-05T11:23:36.421Z"
   },
   {
    "duration": 80,
    "start_time": "2022-11-05T11:23:38.901Z"
   },
   {
    "duration": 79,
    "start_time": "2022-11-05T11:23:47.774Z"
   },
   {
    "duration": 70,
    "start_time": "2022-11-05T11:25:04.230Z"
   },
   {
    "duration": 34,
    "start_time": "2022-11-05T11:25:07.017Z"
   },
   {
    "duration": 10,
    "start_time": "2022-11-05T11:26:25.095Z"
   },
   {
    "duration": 7,
    "start_time": "2022-11-05T11:26:36.565Z"
   },
   {
    "duration": 8,
    "start_time": "2022-11-05T11:26:55.482Z"
   },
   {
    "duration": 8,
    "start_time": "2022-11-05T11:29:56.701Z"
   },
   {
    "duration": 8,
    "start_time": "2022-11-05T11:30:24.557Z"
   },
   {
    "duration": 71,
    "start_time": "2022-11-05T11:35:07.412Z"
   },
   {
    "duration": 71,
    "start_time": "2022-11-05T11:35:27.944Z"
   },
   {
    "duration": 91,
    "start_time": "2022-11-05T11:36:59.022Z"
   },
   {
    "duration": 74,
    "start_time": "2022-11-05T11:37:06.955Z"
   },
   {
    "duration": 7,
    "start_time": "2022-11-05T11:43:50.918Z"
   },
   {
    "duration": 715,
    "start_time": "2022-11-05T11:43:52.543Z"
   },
   {
    "duration": 553,
    "start_time": "2022-11-05T11:43:55.982Z"
   },
   {
    "duration": 14,
    "start_time": "2022-11-05T11:43:58.840Z"
   },
   {
    "duration": 17,
    "start_time": "2022-11-05T11:43:59.857Z"
   },
   {
    "duration": 227,
    "start_time": "2022-11-05T11:44:02.630Z"
   },
   {
    "duration": 1283,
    "start_time": "2022-11-05T11:44:06.348Z"
   },
   {
    "duration": 993,
    "start_time": "2022-11-05T11:44:11.515Z"
   },
   {
    "duration": 19,
    "start_time": "2022-11-05T11:46:48.560Z"
   },
   {
    "duration": 79,
    "start_time": "2022-11-05T11:47:42.718Z"
   },
   {
    "duration": 81,
    "start_time": "2022-11-05T11:48:30.516Z"
   },
   {
    "duration": 35,
    "start_time": "2022-11-05T11:49:25.258Z"
   },
   {
    "duration": 7,
    "start_time": "2022-11-05T11:49:40.806Z"
   },
   {
    "duration": 8,
    "start_time": "2022-11-05T11:49:58.633Z"
   },
   {
    "duration": 5,
    "start_time": "2022-11-05T11:50:04.157Z"
   },
   {
    "duration": 9,
    "start_time": "2022-11-05T11:50:17.498Z"
   },
   {
    "duration": 7,
    "start_time": "2022-11-05T11:50:31.048Z"
   },
   {
    "duration": 71,
    "start_time": "2022-11-05T11:50:35.982Z"
   },
   {
    "duration": 7,
    "start_time": "2022-11-05T11:50:37.025Z"
   },
   {
    "duration": 827,
    "start_time": "2022-11-05T11:53:02.117Z"
   },
   {
    "duration": 303,
    "start_time": "2022-11-05T11:53:02.946Z"
   },
   {
    "duration": 15,
    "start_time": "2022-11-05T11:53:03.251Z"
   },
   {
    "duration": 11,
    "start_time": "2022-11-05T11:53:03.267Z"
   },
   {
    "duration": 27,
    "start_time": "2022-11-05T11:53:03.279Z"
   },
   {
    "duration": 17,
    "start_time": "2022-11-05T11:53:03.308Z"
   },
   {
    "duration": 24,
    "start_time": "2022-11-05T11:53:03.327Z"
   },
   {
    "duration": 80,
    "start_time": "2022-11-05T11:53:03.352Z"
   },
   {
    "duration": 70,
    "start_time": "2022-11-05T11:53:03.434Z"
   },
   {
    "duration": 81,
    "start_time": "2022-11-05T11:53:03.506Z"
   },
   {
    "duration": 45,
    "start_time": "2022-11-05T11:53:03.589Z"
   },
   {
    "duration": 55,
    "start_time": "2022-11-05T11:53:03.635Z"
   },
   {
    "duration": 88,
    "start_time": "2022-11-05T11:53:03.692Z"
   },
   {
    "duration": 5,
    "start_time": "2022-11-05T11:53:03.782Z"
   },
   {
    "duration": 524,
    "start_time": "2022-11-05T11:53:03.789Z"
   },
   {
    "duration": 513,
    "start_time": "2022-11-05T11:53:04.314Z"
   },
   {
    "duration": 11,
    "start_time": "2022-11-05T11:53:04.828Z"
   },
   {
    "duration": 18,
    "start_time": "2022-11-05T11:53:04.840Z"
   },
   {
    "duration": 929,
    "start_time": "2022-11-05T11:53:04.860Z"
   },
   {
    "duration": 20,
    "start_time": "2022-11-05T11:53:05.790Z"
   },
   {
    "duration": 78,
    "start_time": "2022-11-05T11:53:05.821Z"
   },
   {
    "duration": 90,
    "start_time": "2022-11-05T11:53:05.901Z"
   },
   {
    "duration": 0,
    "start_time": "2022-11-05T11:53:05.993Z"
   },
   {
    "duration": 0,
    "start_time": "2022-11-05T11:53:05.994Z"
   },
   {
    "duration": 0,
    "start_time": "2022-11-05T11:53:05.995Z"
   },
   {
    "duration": 0,
    "start_time": "2022-11-05T11:53:05.996Z"
   },
   {
    "duration": 0,
    "start_time": "2022-11-05T11:53:05.997Z"
   },
   {
    "duration": 0,
    "start_time": "2022-11-05T11:53:05.998Z"
   },
   {
    "duration": 0,
    "start_time": "2022-11-05T11:53:05.999Z"
   },
   {
    "duration": 0,
    "start_time": "2022-11-05T11:53:06.000Z"
   },
   {
    "duration": 0,
    "start_time": "2022-11-05T11:53:06.001Z"
   },
   {
    "duration": 0,
    "start_time": "2022-11-05T11:53:06.002Z"
   },
   {
    "duration": 0,
    "start_time": "2022-11-05T11:53:06.003Z"
   },
   {
    "duration": 0,
    "start_time": "2022-11-05T11:53:06.022Z"
   },
   {
    "duration": 0,
    "start_time": "2022-11-05T11:53:06.022Z"
   },
   {
    "duration": 0,
    "start_time": "2022-11-05T11:53:06.024Z"
   },
   {
    "duration": 0,
    "start_time": "2022-11-05T11:53:06.024Z"
   },
   {
    "duration": 0,
    "start_time": "2022-11-05T11:53:06.025Z"
   },
   {
    "duration": 0,
    "start_time": "2022-11-05T11:53:06.027Z"
   },
   {
    "duration": 758,
    "start_time": "2022-11-05T11:53:43.279Z"
   },
   {
    "duration": 151,
    "start_time": "2022-11-05T11:53:44.039Z"
   },
   {
    "duration": 14,
    "start_time": "2022-11-05T11:53:44.192Z"
   },
   {
    "duration": 14,
    "start_time": "2022-11-05T11:53:44.208Z"
   },
   {
    "duration": 18,
    "start_time": "2022-11-05T11:53:44.224Z"
   },
   {
    "duration": 12,
    "start_time": "2022-11-05T11:53:44.243Z"
   },
   {
    "duration": 8,
    "start_time": "2022-11-05T11:53:44.256Z"
   },
   {
    "duration": 78,
    "start_time": "2022-11-05T11:53:44.265Z"
   },
   {
    "duration": 65,
    "start_time": "2022-11-05T11:53:44.344Z"
   },
   {
    "duration": 67,
    "start_time": "2022-11-05T11:53:44.423Z"
   },
   {
    "duration": 43,
    "start_time": "2022-11-05T11:53:44.492Z"
   },
   {
    "duration": 55,
    "start_time": "2022-11-05T11:53:44.536Z"
   },
   {
    "duration": 90,
    "start_time": "2022-11-05T11:53:44.593Z"
   },
   {
    "duration": 7,
    "start_time": "2022-11-05T11:53:44.685Z"
   },
   {
    "duration": 489,
    "start_time": "2022-11-05T11:53:44.693Z"
   },
   {
    "duration": 876,
    "start_time": "2022-11-05T11:53:45.183Z"
   },
   {
    "duration": 64,
    "start_time": "2022-11-05T11:53:46.061Z"
   },
   {
    "duration": 14,
    "start_time": "2022-11-05T11:53:46.127Z"
   },
   {
    "duration": 1297,
    "start_time": "2022-11-05T11:53:46.142Z"
   },
   {
    "duration": 20,
    "start_time": "2022-11-05T11:53:47.440Z"
   },
   {
    "duration": 90,
    "start_time": "2022-11-05T11:53:47.462Z"
   },
   {
    "duration": 92,
    "start_time": "2022-11-05T11:53:47.554Z"
   },
   {
    "duration": 0,
    "start_time": "2022-11-05T11:53:47.648Z"
   },
   {
    "duration": 0,
    "start_time": "2022-11-05T11:53:47.649Z"
   },
   {
    "duration": 0,
    "start_time": "2022-11-05T11:53:47.650Z"
   },
   {
    "duration": 0,
    "start_time": "2022-11-05T11:53:47.651Z"
   },
   {
    "duration": 0,
    "start_time": "2022-11-05T11:53:47.652Z"
   },
   {
    "duration": 0,
    "start_time": "2022-11-05T11:53:47.653Z"
   },
   {
    "duration": 0,
    "start_time": "2022-11-05T11:53:47.654Z"
   },
   {
    "duration": 0,
    "start_time": "2022-11-05T11:53:47.655Z"
   },
   {
    "duration": 0,
    "start_time": "2022-11-05T11:53:47.656Z"
   },
   {
    "duration": 0,
    "start_time": "2022-11-05T11:53:47.657Z"
   },
   {
    "duration": 0,
    "start_time": "2022-11-05T11:53:47.658Z"
   },
   {
    "duration": 0,
    "start_time": "2022-11-05T11:53:47.659Z"
   },
   {
    "duration": 0,
    "start_time": "2022-11-05T11:53:47.660Z"
   },
   {
    "duration": 0,
    "start_time": "2022-11-05T11:53:47.661Z"
   },
   {
    "duration": 0,
    "start_time": "2022-11-05T11:53:47.663Z"
   },
   {
    "duration": 0,
    "start_time": "2022-11-05T11:53:47.663Z"
   },
   {
    "duration": 0,
    "start_time": "2022-11-05T11:53:47.664Z"
   },
   {
    "duration": 69,
    "start_time": "2022-11-05T11:54:08.322Z"
   },
   {
    "duration": 18,
    "start_time": "2022-11-05T11:54:42.091Z"
   },
   {
    "duration": 8,
    "start_time": "2022-11-05T11:54:49.038Z"
   },
   {
    "duration": 7,
    "start_time": "2022-11-05T11:55:09.136Z"
   },
   {
    "duration": 60,
    "start_time": "2022-11-05T11:55:26.789Z"
   },
   {
    "duration": 5,
    "start_time": "2022-11-05T11:55:34.015Z"
   },
   {
    "duration": 6,
    "start_time": "2022-11-05T11:56:07.409Z"
   },
   {
    "duration": 8,
    "start_time": "2022-11-05T11:56:21.318Z"
   },
   {
    "duration": 7,
    "start_time": "2022-11-05T11:56:32.901Z"
   },
   {
    "duration": 6,
    "start_time": "2022-11-05T11:56:46.792Z"
   },
   {
    "duration": 8,
    "start_time": "2022-11-05T11:56:58.618Z"
   },
   {
    "duration": 7,
    "start_time": "2022-11-05T11:57:12.169Z"
   },
   {
    "duration": 773,
    "start_time": "2022-11-05T11:57:38.922Z"
   },
   {
    "duration": 6,
    "start_time": "2022-11-05T11:58:21.560Z"
   },
   {
    "duration": 5,
    "start_time": "2022-11-05T12:01:45.466Z"
   },
   {
    "duration": 10,
    "start_time": "2022-11-05T12:02:18.974Z"
   },
   {
    "duration": 7,
    "start_time": "2022-11-05T12:02:55.238Z"
   },
   {
    "duration": 9,
    "start_time": "2022-11-05T12:03:17.298Z"
   },
   {
    "duration": 8,
    "start_time": "2022-11-05T12:03:17.886Z"
   },
   {
    "duration": 60,
    "start_time": "2022-11-05T12:04:23.494Z"
   },
   {
    "duration": 30,
    "start_time": "2022-11-05T12:04:24.025Z"
   },
   {
    "duration": 21,
    "start_time": "2022-11-05T12:04:54.682Z"
   },
   {
    "duration": 109,
    "start_time": "2022-11-05T12:04:56.935Z"
   },
   {
    "duration": 61,
    "start_time": "2022-11-05T12:04:59.399Z"
   },
   {
    "duration": 14,
    "start_time": "2022-11-05T12:05:05.439Z"
   },
   {
    "duration": 25,
    "start_time": "2022-11-05T12:05:32.260Z"
   },
   {
    "duration": 2,
    "start_time": "2022-11-05T12:10:05.342Z"
   },
   {
    "duration": 39,
    "start_time": "2022-11-05T12:10:37.437Z"
   },
   {
    "duration": 36,
    "start_time": "2022-11-05T12:11:15.394Z"
   },
   {
    "duration": 98,
    "start_time": "2022-11-05T12:11:46.580Z"
   },
   {
    "duration": 5,
    "start_time": "2022-11-05T12:11:50.374Z"
   },
   {
    "duration": 32,
    "start_time": "2022-11-05T12:12:07.237Z"
   },
   {
    "duration": 43,
    "start_time": "2022-11-05T12:12:43.709Z"
   },
   {
    "duration": 31,
    "start_time": "2022-11-05T12:12:46.871Z"
   },
   {
    "duration": 4,
    "start_time": "2022-11-05T12:12:55.759Z"
   },
   {
    "duration": 32,
    "start_time": "2022-11-05T12:12:58.330Z"
   },
   {
    "duration": 32,
    "start_time": "2022-11-05T12:13:12.530Z"
   },
   {
    "duration": 31,
    "start_time": "2022-11-05T12:14:06.349Z"
   },
   {
    "duration": 4,
    "start_time": "2022-11-05T12:14:35.178Z"
   },
   {
    "duration": 35,
    "start_time": "2022-11-05T12:14:35.692Z"
   },
   {
    "duration": 47,
    "start_time": "2022-11-05T12:14:49.137Z"
   },
   {
    "duration": 687,
    "start_time": "2022-11-05T12:15:35.225Z"
   },
   {
    "duration": 540,
    "start_time": "2022-11-05T12:15:50.127Z"
   },
   {
    "duration": 47,
    "start_time": "2022-11-05T12:16:09.494Z"
   },
   {
    "duration": 76,
    "start_time": "2022-11-05T12:16:12.657Z"
   },
   {
    "duration": 90,
    "start_time": "2022-11-05T12:17:30.682Z"
   },
   {
    "duration": 32,
    "start_time": "2022-11-05T12:17:40.514Z"
   },
   {
    "duration": 8,
    "start_time": "2022-11-05T12:20:12.158Z"
   },
   {
    "duration": 7,
    "start_time": "2022-11-05T12:20:33.167Z"
   },
   {
    "duration": 8,
    "start_time": "2022-11-05T12:20:39.810Z"
   },
   {
    "duration": 46,
    "start_time": "2022-11-05T12:21:19.331Z"
   },
   {
    "duration": 10,
    "start_time": "2022-11-05T12:21:40.234Z"
   },
   {
    "duration": 9,
    "start_time": "2022-11-05T12:21:49.606Z"
   },
   {
    "duration": 3,
    "start_time": "2022-11-05T12:21:56.713Z"
   },
   {
    "duration": 4,
    "start_time": "2022-11-05T12:22:03.179Z"
   },
   {
    "duration": 10,
    "start_time": "2022-11-05T12:22:27.910Z"
   },
   {
    "duration": 48,
    "start_time": "2022-11-05T12:22:42.485Z"
   },
   {
    "duration": 27,
    "start_time": "2022-11-05T12:22:53.316Z"
   },
   {
    "duration": 25,
    "start_time": "2022-11-05T12:23:10.693Z"
   },
   {
    "duration": 9,
    "start_time": "2022-11-05T12:23:44.186Z"
   },
   {
    "duration": 68,
    "start_time": "2022-11-05T14:53:23.641Z"
   },
   {
    "duration": 869,
    "start_time": "2022-11-05T14:53:28.910Z"
   },
   {
    "duration": 521,
    "start_time": "2022-11-05T14:53:29.781Z"
   },
   {
    "duration": 17,
    "start_time": "2022-11-05T14:53:30.304Z"
   },
   {
    "duration": 19,
    "start_time": "2022-11-05T14:53:30.323Z"
   },
   {
    "duration": 33,
    "start_time": "2022-11-05T14:53:30.343Z"
   },
   {
    "duration": 31,
    "start_time": "2022-11-05T14:53:30.378Z"
   },
   {
    "duration": 35,
    "start_time": "2022-11-05T14:53:30.411Z"
   },
   {
    "duration": 80,
    "start_time": "2022-11-05T14:53:30.448Z"
   },
   {
    "duration": 70,
    "start_time": "2022-11-05T14:53:30.529Z"
   },
   {
    "duration": 78,
    "start_time": "2022-11-05T14:53:30.602Z"
   },
   {
    "duration": 51,
    "start_time": "2022-11-05T14:53:30.682Z"
   },
   {
    "duration": 53,
    "start_time": "2022-11-05T14:53:30.735Z"
   },
   {
    "duration": 84,
    "start_time": "2022-11-05T14:53:30.790Z"
   },
   {
    "duration": 7,
    "start_time": "2022-11-05T14:53:30.875Z"
   },
   {
    "duration": 716,
    "start_time": "2022-11-05T14:53:30.883Z"
   },
   {
    "duration": 594,
    "start_time": "2022-11-05T14:53:31.601Z"
   },
   {
    "duration": 10,
    "start_time": "2022-11-05T14:53:32.197Z"
   },
   {
    "duration": 16,
    "start_time": "2022-11-05T14:53:32.220Z"
   },
   {
    "duration": 999,
    "start_time": "2022-11-05T14:53:32.238Z"
   },
   {
    "duration": 19,
    "start_time": "2022-11-05T14:53:33.239Z"
   },
   {
    "duration": 84,
    "start_time": "2022-11-05T14:53:33.259Z"
   },
   {
    "duration": 9,
    "start_time": "2022-11-05T14:53:33.344Z"
   },
   {
    "duration": 27,
    "start_time": "2022-11-05T14:53:33.354Z"
   },
   {
    "duration": 41,
    "start_time": "2022-11-05T14:53:33.383Z"
   },
   {
    "duration": 23,
    "start_time": "2022-11-05T14:53:33.425Z"
   },
   {
    "duration": 26,
    "start_time": "2022-11-05T14:53:33.450Z"
   },
   {
    "duration": 114,
    "start_time": "2022-11-05T14:53:33.477Z"
   },
   {
    "duration": 62,
    "start_time": "2022-11-05T14:53:33.594Z"
   },
   {
    "duration": 12,
    "start_time": "2022-11-05T14:53:33.658Z"
   },
   {
    "duration": 44,
    "start_time": "2022-11-05T14:53:33.672Z"
   },
   {
    "duration": 0,
    "start_time": "2022-11-05T14:53:33.718Z"
   },
   {
    "duration": 0,
    "start_time": "2022-11-05T14:53:33.719Z"
   },
   {
    "duration": 0,
    "start_time": "2022-11-05T14:53:33.720Z"
   },
   {
    "duration": 0,
    "start_time": "2022-11-05T14:53:33.721Z"
   },
   {
    "duration": 0,
    "start_time": "2022-11-05T14:53:33.722Z"
   },
   {
    "duration": 0,
    "start_time": "2022-11-05T14:53:33.723Z"
   },
   {
    "duration": 0,
    "start_time": "2022-11-05T14:53:33.724Z"
   },
   {
    "duration": 0,
    "start_time": "2022-11-05T14:53:33.725Z"
   },
   {
    "duration": 0,
    "start_time": "2022-11-05T14:53:33.726Z"
   },
   {
    "duration": 0,
    "start_time": "2022-11-05T14:53:33.727Z"
   },
   {
    "duration": 0,
    "start_time": "2022-11-05T14:53:33.728Z"
   },
   {
    "duration": 24,
    "start_time": "2022-11-05T14:54:40.016Z"
   },
   {
    "duration": 41,
    "start_time": "2022-11-05T14:56:44.185Z"
   },
   {
    "duration": 44,
    "start_time": "2022-11-05T14:56:52.248Z"
   },
   {
    "duration": 117,
    "start_time": "2022-11-05T14:57:01.383Z"
   },
   {
    "duration": 25,
    "start_time": "2022-11-05T14:57:16.823Z"
   },
   {
    "duration": 19,
    "start_time": "2022-11-05T14:57:21.100Z"
   },
   {
    "duration": 15,
    "start_time": "2022-11-05T14:57:37.127Z"
   },
   {
    "duration": 38,
    "start_time": "2022-11-05T14:57:44.854Z"
   },
   {
    "duration": 102,
    "start_time": "2022-11-05T14:58:37.818Z"
   },
   {
    "duration": 41,
    "start_time": "2022-11-05T14:58:41.701Z"
   },
   {
    "duration": 32,
    "start_time": "2022-11-05T14:58:42.259Z"
   },
   {
    "duration": 32,
    "start_time": "2022-11-05T14:58:42.737Z"
   },
   {
    "duration": 90,
    "start_time": "2022-11-05T14:59:46.527Z"
   },
   {
    "duration": 19,
    "start_time": "2022-11-05T15:01:07.932Z"
   },
   {
    "duration": 90,
    "start_time": "2022-11-05T15:01:40.044Z"
   },
   {
    "duration": 100,
    "start_time": "2022-11-05T15:01:43.020Z"
   },
   {
    "duration": 103,
    "start_time": "2022-11-05T15:06:16.317Z"
   },
   {
    "duration": 89,
    "start_time": "2022-11-05T15:06:28.972Z"
   },
   {
    "duration": 94,
    "start_time": "2022-11-05T15:06:32.731Z"
   },
   {
    "duration": 98,
    "start_time": "2022-11-05T15:09:09.490Z"
   },
   {
    "duration": 51,
    "start_time": "2022-11-05T15:12:36.031Z"
   },
   {
    "duration": 47,
    "start_time": "2022-11-05T15:13:02.678Z"
   },
   {
    "duration": 107,
    "start_time": "2022-11-05T15:13:06.999Z"
   },
   {
    "duration": 23,
    "start_time": "2022-11-05T15:21:50.108Z"
   },
   {
    "duration": 29,
    "start_time": "2022-11-05T15:22:17.924Z"
   },
   {
    "duration": 22746,
    "start_time": "2022-11-05T15:22:37.623Z"
   },
   {
    "duration": 6,
    "start_time": "2022-11-05T15:24:54.737Z"
   },
   {
    "duration": 5,
    "start_time": "2022-11-05T15:24:57.031Z"
   },
   {
    "duration": 244,
    "start_time": "2022-11-05T15:24:59.137Z"
   },
   {
    "duration": 851,
    "start_time": "2022-11-05T17:59:44.190Z"
   },
   {
    "duration": 468,
    "start_time": "2022-11-05T17:59:45.043Z"
   },
   {
    "duration": 14,
    "start_time": "2022-11-05T17:59:45.513Z"
   },
   {
    "duration": 8,
    "start_time": "2022-11-05T17:59:45.529Z"
   },
   {
    "duration": 19,
    "start_time": "2022-11-05T17:59:45.538Z"
   },
   {
    "duration": 11,
    "start_time": "2022-11-05T17:59:45.558Z"
   },
   {
    "duration": 9,
    "start_time": "2022-11-05T17:59:45.570Z"
   },
   {
    "duration": 90,
    "start_time": "2022-11-05T17:59:45.580Z"
   },
   {
    "duration": 86,
    "start_time": "2022-11-05T17:59:45.672Z"
   },
   {
    "duration": 81,
    "start_time": "2022-11-05T17:59:45.761Z"
   },
   {
    "duration": 36,
    "start_time": "2022-11-05T17:59:45.844Z"
   },
   {
    "duration": 70,
    "start_time": "2022-11-05T17:59:45.881Z"
   },
   {
    "duration": 76,
    "start_time": "2022-11-05T17:59:45.953Z"
   },
   {
    "duration": 6,
    "start_time": "2022-11-05T17:59:46.031Z"
   },
   {
    "duration": 634,
    "start_time": "2022-11-05T17:59:46.038Z"
   },
   {
    "duration": 528,
    "start_time": "2022-11-05T17:59:46.674Z"
   },
   {
    "duration": 19,
    "start_time": "2022-11-05T17:59:47.203Z"
   },
   {
    "duration": 14,
    "start_time": "2022-11-05T17:59:47.224Z"
   },
   {
    "duration": 906,
    "start_time": "2022-11-05T17:59:47.240Z"
   },
   {
    "duration": 20,
    "start_time": "2022-11-05T17:59:48.147Z"
   },
   {
    "duration": 85,
    "start_time": "2022-11-05T17:59:48.168Z"
   },
   {
    "duration": 8,
    "start_time": "2022-11-05T17:59:48.255Z"
   },
   {
    "duration": 8,
    "start_time": "2022-11-05T17:59:48.265Z"
   },
   {
    "duration": 52,
    "start_time": "2022-11-05T17:59:48.274Z"
   },
   {
    "duration": 20,
    "start_time": "2022-11-05T17:59:48.328Z"
   },
   {
    "duration": 20,
    "start_time": "2022-11-05T17:59:48.350Z"
   },
   {
    "duration": 128,
    "start_time": "2022-11-05T17:59:48.372Z"
   },
   {
    "duration": 58,
    "start_time": "2022-11-05T17:59:48.503Z"
   },
   {
    "duration": 14,
    "start_time": "2022-11-05T17:59:48.562Z"
   },
   {
    "duration": 18,
    "start_time": "2022-11-05T17:59:48.579Z"
   },
   {
    "duration": 113,
    "start_time": "2022-11-05T17:59:48.598Z"
   },
   {
    "duration": 24,
    "start_time": "2022-11-05T17:59:48.713Z"
   },
   {
    "duration": 4,
    "start_time": "2022-11-05T17:59:48.738Z"
   },
   {
    "duration": 6,
    "start_time": "2022-11-05T17:59:48.744Z"
   },
   {
    "duration": 279,
    "start_time": "2022-11-05T17:59:48.751Z"
   },
   {
    "duration": 10,
    "start_time": "2022-11-05T17:59:49.032Z"
   },
   {
    "duration": 48,
    "start_time": "2022-11-05T17:59:49.043Z"
   },
   {
    "duration": 24,
    "start_time": "2022-11-05T17:59:49.093Z"
   },
   {
    "duration": 21,
    "start_time": "2022-11-05T17:59:49.123Z"
   },
   {
    "duration": 29,
    "start_time": "2022-11-05T17:59:49.146Z"
   },
   {
    "duration": 54,
    "start_time": "2022-11-05T18:06:23.800Z"
   },
   {
    "duration": 790,
    "start_time": "2022-11-05T18:11:56.779Z"
   },
   {
    "duration": 149,
    "start_time": "2022-11-05T18:11:57.571Z"
   },
   {
    "duration": 15,
    "start_time": "2022-11-05T18:11:57.722Z"
   },
   {
    "duration": 8,
    "start_time": "2022-11-05T18:11:57.739Z"
   },
   {
    "duration": 20,
    "start_time": "2022-11-05T18:11:57.748Z"
   },
   {
    "duration": 10,
    "start_time": "2022-11-05T18:11:57.769Z"
   },
   {
    "duration": 7,
    "start_time": "2022-11-05T18:11:57.781Z"
   },
   {
    "duration": 81,
    "start_time": "2022-11-05T18:11:57.790Z"
   },
   {
    "duration": 73,
    "start_time": "2022-11-05T18:11:57.872Z"
   },
   {
    "duration": 64,
    "start_time": "2022-11-05T18:11:57.948Z"
   },
   {
    "duration": 38,
    "start_time": "2022-11-05T18:11:58.013Z"
   },
   {
    "duration": 53,
    "start_time": "2022-11-05T18:11:58.052Z"
   },
   {
    "duration": 69,
    "start_time": "2022-11-05T18:11:58.122Z"
   },
   {
    "duration": 7,
    "start_time": "2022-11-05T18:11:58.193Z"
   },
   {
    "duration": 484,
    "start_time": "2022-11-05T18:11:58.222Z"
   },
   {
    "duration": 580,
    "start_time": "2022-11-05T18:11:58.708Z"
   },
   {
    "duration": 10,
    "start_time": "2022-11-05T18:11:59.289Z"
   },
   {
    "duration": 27,
    "start_time": "2022-11-05T18:11:59.301Z"
   },
   {
    "duration": 876,
    "start_time": "2022-11-05T18:11:59.329Z"
   },
   {
    "duration": 26,
    "start_time": "2022-11-05T18:12:00.206Z"
   },
   {
    "duration": 70,
    "start_time": "2022-11-05T18:12:00.234Z"
   },
   {
    "duration": 18,
    "start_time": "2022-11-05T18:12:00.306Z"
   },
   {
    "duration": 8,
    "start_time": "2022-11-05T18:12:00.326Z"
   },
   {
    "duration": 54,
    "start_time": "2022-11-05T18:12:00.337Z"
   },
   {
    "duration": 42,
    "start_time": "2022-11-05T18:12:00.392Z"
   },
   {
    "duration": 19,
    "start_time": "2022-11-05T18:12:00.436Z"
   },
   {
    "duration": 116,
    "start_time": "2022-11-05T18:12:00.457Z"
   },
   {
    "duration": 59,
    "start_time": "2022-11-05T18:12:00.577Z"
   },
   {
    "duration": 12,
    "start_time": "2022-11-05T18:12:00.638Z"
   },
   {
    "duration": 17,
    "start_time": "2022-11-05T18:12:00.652Z"
   },
   {
    "duration": 116,
    "start_time": "2022-11-05T18:12:00.671Z"
   },
   {
    "duration": 18,
    "start_time": "2022-11-05T18:12:00.789Z"
   },
   {
    "duration": 4,
    "start_time": "2022-11-05T18:12:00.822Z"
   },
   {
    "duration": 13,
    "start_time": "2022-11-05T18:12:00.828Z"
   },
   {
    "duration": 247,
    "start_time": "2022-11-05T18:12:00.842Z"
   },
   {
    "duration": 8,
    "start_time": "2022-11-05T18:12:01.091Z"
   },
   {
    "duration": 60,
    "start_time": "2022-11-05T18:12:01.100Z"
   },
   {
    "duration": 41,
    "start_time": "2022-11-05T18:12:01.161Z"
   },
   {
    "duration": 43,
    "start_time": "2022-11-05T18:12:01.204Z"
   },
   {
    "duration": 55,
    "start_time": "2022-11-05T18:12:01.249Z"
   },
   {
    "duration": 65,
    "start_time": "2022-11-05T18:21:24.896Z"
   },
   {
    "duration": 60,
    "start_time": "2022-11-05T18:21:32.894Z"
   },
   {
    "duration": 811,
    "start_time": "2022-11-05T18:21:39.798Z"
   },
   {
    "duration": 60,
    "start_time": "2022-11-05T18:21:45.443Z"
   },
   {
    "duration": 59,
    "start_time": "2022-11-05T18:21:53.379Z"
   },
   {
    "duration": 11,
    "start_time": "2022-11-05T18:27:10.741Z"
   },
   {
    "duration": 112,
    "start_time": "2022-11-05T18:27:16.066Z"
   },
   {
    "duration": 11,
    "start_time": "2022-11-05T18:27:56.908Z"
   },
   {
    "duration": 122,
    "start_time": "2022-11-05T18:28:00.396Z"
   },
   {
    "duration": 12,
    "start_time": "2022-11-05T18:36:24.087Z"
   },
   {
    "duration": 815,
    "start_time": "2022-11-05T18:36:26.163Z"
   },
   {
    "duration": 8,
    "start_time": "2022-11-05T18:36:57.628Z"
   },
   {
    "duration": 849,
    "start_time": "2022-11-05T18:36:58.983Z"
   },
   {
    "duration": 6,
    "start_time": "2022-11-05T18:38:29.752Z"
   },
   {
    "duration": 4,
    "start_time": "2022-11-05T18:38:33.995Z"
   },
   {
    "duration": 8,
    "start_time": "2022-11-05T18:39:06.672Z"
   },
   {
    "duration": 5,
    "start_time": "2022-11-05T18:39:57.028Z"
   },
   {
    "duration": 10,
    "start_time": "2022-11-05T18:40:10.237Z"
   },
   {
    "duration": 10,
    "start_time": "2022-11-05T18:40:17.007Z"
   },
   {
    "duration": 5,
    "start_time": "2022-11-05T18:40:27.406Z"
   },
   {
    "duration": 6,
    "start_time": "2022-11-05T18:40:39.685Z"
   },
   {
    "duration": 5,
    "start_time": "2022-11-05T18:40:44.741Z"
   },
   {
    "duration": 5,
    "start_time": "2022-11-05T18:40:50.929Z"
   },
   {
    "duration": 6,
    "start_time": "2022-11-05T18:40:57.253Z"
   },
   {
    "duration": 10,
    "start_time": "2022-11-05T18:41:44.498Z"
   },
   {
    "duration": 9,
    "start_time": "2022-11-05T18:42:14.875Z"
   },
   {
    "duration": 9,
    "start_time": "2022-11-05T18:43:15.949Z"
   },
   {
    "duration": 9,
    "start_time": "2022-11-05T18:43:21.731Z"
   },
   {
    "duration": 9,
    "start_time": "2022-11-05T18:43:25.761Z"
   },
   {
    "duration": 9,
    "start_time": "2022-11-05T18:43:37.736Z"
   },
   {
    "duration": 9,
    "start_time": "2022-11-05T18:44:39.965Z"
   },
   {
    "duration": 6,
    "start_time": "2022-11-05T18:44:47.261Z"
   },
   {
    "duration": 5,
    "start_time": "2022-11-05T18:44:54.570Z"
   },
   {
    "duration": 6,
    "start_time": "2022-11-05T18:44:59.625Z"
   },
   {
    "duration": 4,
    "start_time": "2022-11-05T18:45:04.256Z"
   },
   {
    "duration": 15,
    "start_time": "2022-11-05T18:54:04.747Z"
   },
   {
    "duration": 3456,
    "start_time": "2022-11-05T18:54:06.085Z"
   },
   {
    "duration": 16,
    "start_time": "2022-11-05T18:54:27.242Z"
   },
   {
    "duration": 3065,
    "start_time": "2022-11-05T18:54:29.133Z"
   },
   {
    "duration": 15,
    "start_time": "2022-11-05T18:55:14.864Z"
   },
   {
    "duration": 3313,
    "start_time": "2022-11-05T18:55:17.273Z"
   },
   {
    "duration": 15,
    "start_time": "2022-11-05T18:55:28.088Z"
   },
   {
    "duration": 3173,
    "start_time": "2022-11-05T18:55:30.966Z"
   },
   {
    "duration": 15,
    "start_time": "2022-11-05T18:56:03.753Z"
   },
   {
    "duration": 3238,
    "start_time": "2022-11-05T18:56:05.560Z"
   },
   {
    "duration": 14,
    "start_time": "2022-11-05T18:56:36.728Z"
   },
   {
    "duration": 14,
    "start_time": "2022-11-05T19:03:33.105Z"
   },
   {
    "duration": 3130,
    "start_time": "2022-11-05T19:03:37.567Z"
   },
   {
    "duration": 3090,
    "start_time": "2022-11-05T19:03:48.924Z"
   },
   {
    "duration": 3108,
    "start_time": "2022-11-05T19:03:52.015Z"
   },
   {
    "duration": 833,
    "start_time": "2022-11-05T19:15:32.603Z"
   },
   {
    "duration": 152,
    "start_time": "2022-11-05T19:15:33.438Z"
   },
   {
    "duration": 16,
    "start_time": "2022-11-05T19:15:33.592Z"
   },
   {
    "duration": 15,
    "start_time": "2022-11-05T19:15:33.610Z"
   },
   {
    "duration": 19,
    "start_time": "2022-11-05T19:15:33.626Z"
   },
   {
    "duration": 12,
    "start_time": "2022-11-05T19:15:33.646Z"
   },
   {
    "duration": 9,
    "start_time": "2022-11-05T19:15:33.659Z"
   },
   {
    "duration": 82,
    "start_time": "2022-11-05T19:15:33.669Z"
   },
   {
    "duration": 70,
    "start_time": "2022-11-05T19:15:33.752Z"
   },
   {
    "duration": 68,
    "start_time": "2022-11-05T19:15:33.825Z"
   },
   {
    "duration": 49,
    "start_time": "2022-11-05T19:15:33.894Z"
   },
   {
    "duration": 54,
    "start_time": "2022-11-05T19:15:33.944Z"
   },
   {
    "duration": 83,
    "start_time": "2022-11-05T19:15:33.999Z"
   },
   {
    "duration": 6,
    "start_time": "2022-11-05T19:15:34.084Z"
   },
   {
    "duration": 504,
    "start_time": "2022-11-05T19:15:34.091Z"
   },
   {
    "duration": 508,
    "start_time": "2022-11-05T19:15:34.596Z"
   },
   {
    "duration": 18,
    "start_time": "2022-11-05T19:15:35.105Z"
   },
   {
    "duration": 13,
    "start_time": "2022-11-05T19:15:35.124Z"
   },
   {
    "duration": 899,
    "start_time": "2022-11-05T19:15:35.139Z"
   },
   {
    "duration": 19,
    "start_time": "2022-11-05T19:15:36.040Z"
   },
   {
    "duration": 80,
    "start_time": "2022-11-05T19:15:36.061Z"
   },
   {
    "duration": 7,
    "start_time": "2022-11-05T19:15:36.143Z"
   },
   {
    "duration": 7,
    "start_time": "2022-11-05T19:15:36.152Z"
   },
   {
    "duration": 34,
    "start_time": "2022-11-05T19:15:36.160Z"
   },
   {
    "duration": 43,
    "start_time": "2022-11-05T19:15:36.196Z"
   },
   {
    "duration": 20,
    "start_time": "2022-11-05T19:15:36.240Z"
   },
   {
    "duration": 114,
    "start_time": "2022-11-05T19:15:36.262Z"
   },
   {
    "duration": 68,
    "start_time": "2022-11-05T19:15:36.380Z"
   },
   {
    "duration": 14,
    "start_time": "2022-11-05T19:15:36.449Z"
   },
   {
    "duration": 18,
    "start_time": "2022-11-05T19:15:36.464Z"
   },
   {
    "duration": 129,
    "start_time": "2022-11-05T19:15:36.484Z"
   },
   {
    "duration": 25,
    "start_time": "2022-11-05T19:15:36.615Z"
   },
   {
    "duration": 4,
    "start_time": "2022-11-05T19:15:36.642Z"
   },
   {
    "duration": 8,
    "start_time": "2022-11-05T19:15:36.648Z"
   },
   {
    "duration": 298,
    "start_time": "2022-11-05T19:15:36.658Z"
   },
   {
    "duration": 18,
    "start_time": "2022-11-05T19:15:36.958Z"
   },
   {
    "duration": 3337,
    "start_time": "2022-11-05T19:15:36.978Z"
   },
   {
    "duration": 3208,
    "start_time": "2022-11-05T19:15:40.317Z"
   },
   {
    "duration": 3236,
    "start_time": "2022-11-05T19:15:43.527Z"
   },
   {
    "duration": 797,
    "start_time": "2022-11-05T19:22:21.448Z"
   },
   {
    "duration": 153,
    "start_time": "2022-11-05T19:22:22.247Z"
   },
   {
    "duration": 15,
    "start_time": "2022-11-05T19:22:22.401Z"
   },
   {
    "duration": 27,
    "start_time": "2022-11-05T19:22:22.417Z"
   },
   {
    "duration": 26,
    "start_time": "2022-11-05T19:22:22.446Z"
   },
   {
    "duration": 13,
    "start_time": "2022-11-05T19:22:22.473Z"
   },
   {
    "duration": 9,
    "start_time": "2022-11-05T19:22:22.488Z"
   },
   {
    "duration": 62,
    "start_time": "2022-11-05T19:22:22.499Z"
   },
   {
    "duration": 77,
    "start_time": "2022-11-05T19:22:22.563Z"
   },
   {
    "duration": 80,
    "start_time": "2022-11-05T19:22:22.642Z"
   },
   {
    "duration": 34,
    "start_time": "2022-11-05T19:22:22.724Z"
   },
   {
    "duration": 30,
    "start_time": "2022-11-05T19:22:22.759Z"
   },
   {
    "duration": 89,
    "start_time": "2022-11-05T19:22:22.790Z"
   },
   {
    "duration": 6,
    "start_time": "2022-11-05T19:22:22.882Z"
   },
   {
    "duration": 502,
    "start_time": "2022-11-05T19:22:22.889Z"
   },
   {
    "duration": 507,
    "start_time": "2022-11-05T19:22:23.393Z"
   },
   {
    "duration": 11,
    "start_time": "2022-11-05T19:22:23.902Z"
   },
   {
    "duration": 15,
    "start_time": "2022-11-05T19:22:23.922Z"
   },
   {
    "duration": 972,
    "start_time": "2022-11-05T19:22:23.939Z"
   },
   {
    "duration": 24,
    "start_time": "2022-11-05T19:22:24.914Z"
   },
   {
    "duration": 83,
    "start_time": "2022-11-05T19:22:24.940Z"
   },
   {
    "duration": 10,
    "start_time": "2022-11-05T19:22:25.025Z"
   },
   {
    "duration": 11,
    "start_time": "2022-11-05T19:22:25.037Z"
   },
   {
    "duration": 72,
    "start_time": "2022-11-05T19:22:25.050Z"
   },
   {
    "duration": 27,
    "start_time": "2022-11-05T19:22:25.124Z"
   },
   {
    "duration": 20,
    "start_time": "2022-11-05T19:22:25.153Z"
   },
   {
    "duration": 118,
    "start_time": "2022-11-05T19:22:25.175Z"
   },
   {
    "duration": 64,
    "start_time": "2022-11-05T19:22:25.295Z"
   },
   {
    "duration": 12,
    "start_time": "2022-11-05T19:22:25.361Z"
   },
   {
    "duration": 15,
    "start_time": "2022-11-05T19:22:25.374Z"
   },
   {
    "duration": 111,
    "start_time": "2022-11-05T19:22:25.391Z"
   },
   {
    "duration": 29,
    "start_time": "2022-11-05T19:22:25.504Z"
   },
   {
    "duration": 4,
    "start_time": "2022-11-05T19:22:25.534Z"
   },
   {
    "duration": 5,
    "start_time": "2022-11-05T19:22:25.540Z"
   },
   {
    "duration": 278,
    "start_time": "2022-11-05T19:22:25.546Z"
   },
   {
    "duration": 15,
    "start_time": "2022-11-05T19:22:25.825Z"
   },
   {
    "duration": 3227,
    "start_time": "2022-11-05T19:22:25.842Z"
   },
   {
    "duration": 3224,
    "start_time": "2022-11-05T19:22:29.071Z"
   },
   {
    "duration": 3120,
    "start_time": "2022-11-05T19:22:32.296Z"
   },
   {
    "duration": 1037,
    "start_time": "2022-11-05T19:24:00.520Z"
   },
   {
    "duration": 292,
    "start_time": "2022-11-05T19:24:01.559Z"
   },
   {
    "duration": 16,
    "start_time": "2022-11-05T19:24:01.853Z"
   },
   {
    "duration": 9,
    "start_time": "2022-11-05T19:24:01.923Z"
   },
   {
    "duration": 32,
    "start_time": "2022-11-05T19:24:01.934Z"
   },
   {
    "duration": 64,
    "start_time": "2022-11-05T19:24:01.968Z"
   },
   {
    "duration": 20,
    "start_time": "2022-11-05T19:24:02.033Z"
   },
   {
    "duration": 113,
    "start_time": "2022-11-05T19:24:02.055Z"
   },
   {
    "duration": 122,
    "start_time": "2022-11-05T19:24:02.223Z"
   },
   {
    "duration": 178,
    "start_time": "2022-11-05T19:24:02.347Z"
   },
   {
    "duration": 38,
    "start_time": "2022-11-05T19:24:02.527Z"
   },
   {
    "duration": 83,
    "start_time": "2022-11-05T19:24:02.567Z"
   },
   {
    "duration": 176,
    "start_time": "2022-11-05T19:24:02.652Z"
   },
   {
    "duration": 7,
    "start_time": "2022-11-05T19:24:02.829Z"
   },
   {
    "duration": 575,
    "start_time": "2022-11-05T19:24:02.837Z"
   },
   {
    "duration": 525,
    "start_time": "2022-11-05T19:24:03.414Z"
   },
   {
    "duration": 12,
    "start_time": "2022-11-05T19:24:03.941Z"
   },
   {
    "duration": 14,
    "start_time": "2022-11-05T19:24:03.955Z"
   },
   {
    "duration": 925,
    "start_time": "2022-11-05T19:24:03.971Z"
   },
   {
    "duration": 28,
    "start_time": "2022-11-05T19:24:04.897Z"
   },
   {
    "duration": 72,
    "start_time": "2022-11-05T19:24:04.926Z"
   },
   {
    "duration": 24,
    "start_time": "2022-11-05T19:24:04.999Z"
   },
   {
    "duration": 9,
    "start_time": "2022-11-05T19:24:05.024Z"
   },
   {
    "duration": 30,
    "start_time": "2022-11-05T19:24:05.035Z"
   },
   {
    "duration": 22,
    "start_time": "2022-11-05T19:24:05.067Z"
   },
   {
    "duration": 51,
    "start_time": "2022-11-05T19:24:05.090Z"
   },
   {
    "duration": 102,
    "start_time": "2022-11-05T19:24:05.143Z"
   },
   {
    "duration": 50,
    "start_time": "2022-11-05T19:24:05.248Z"
   },
   {
    "duration": 26,
    "start_time": "2022-11-05T19:24:05.299Z"
   },
   {
    "duration": 17,
    "start_time": "2022-11-05T19:24:05.326Z"
   },
   {
    "duration": 100,
    "start_time": "2022-11-05T19:24:05.345Z"
   },
   {
    "duration": 18,
    "start_time": "2022-11-05T19:24:05.447Z"
   },
   {
    "duration": 4,
    "start_time": "2022-11-05T19:24:05.466Z"
   },
   {
    "duration": 7,
    "start_time": "2022-11-05T19:24:05.471Z"
   },
   {
    "duration": 272,
    "start_time": "2022-11-05T19:24:05.480Z"
   },
   {
    "duration": 14,
    "start_time": "2022-11-05T19:24:05.754Z"
   },
   {
    "duration": 3189,
    "start_time": "2022-11-05T19:24:05.769Z"
   },
   {
    "duration": 3194,
    "start_time": "2022-11-05T19:24:08.960Z"
   },
   {
    "duration": 3222,
    "start_time": "2022-11-05T19:24:12.156Z"
   },
   {
    "duration": 790,
    "start_time": "2022-11-06T12:49:04.736Z"
   },
   {
    "duration": 154,
    "start_time": "2022-11-06T12:49:05.528Z"
   },
   {
    "duration": 16,
    "start_time": "2022-11-06T12:49:05.684Z"
   },
   {
    "duration": 8,
    "start_time": "2022-11-06T12:49:05.702Z"
   },
   {
    "duration": 19,
    "start_time": "2022-11-06T12:49:05.712Z"
   },
   {
    "duration": 11,
    "start_time": "2022-11-06T12:49:05.733Z"
   },
   {
    "duration": 9,
    "start_time": "2022-11-06T12:49:05.746Z"
   },
   {
    "duration": 87,
    "start_time": "2022-11-06T12:49:05.757Z"
   },
   {
    "duration": 81,
    "start_time": "2022-11-06T12:49:05.846Z"
   },
   {
    "duration": 78,
    "start_time": "2022-11-06T12:49:05.929Z"
   },
   {
    "duration": 35,
    "start_time": "2022-11-06T12:49:06.009Z"
   },
   {
    "duration": 29,
    "start_time": "2022-11-06T12:49:06.045Z"
   },
   {
    "duration": 72,
    "start_time": "2022-11-06T12:49:06.090Z"
   },
   {
    "duration": 6,
    "start_time": "2022-11-06T12:49:06.164Z"
   },
   {
    "duration": 600,
    "start_time": "2022-11-06T12:49:06.172Z"
   },
   {
    "duration": 567,
    "start_time": "2022-11-06T12:49:06.774Z"
   },
   {
    "duration": 10,
    "start_time": "2022-11-06T12:49:07.343Z"
   },
   {
    "duration": 22,
    "start_time": "2022-11-06T12:49:07.355Z"
   },
   {
    "duration": 967,
    "start_time": "2022-11-06T12:49:07.379Z"
   },
   {
    "duration": 19,
    "start_time": "2022-11-06T12:49:08.348Z"
   },
   {
    "duration": 84,
    "start_time": "2022-11-06T12:49:08.368Z"
   },
   {
    "duration": 9,
    "start_time": "2022-11-06T12:49:08.454Z"
   },
   {
    "duration": 29,
    "start_time": "2022-11-06T12:49:08.464Z"
   },
   {
    "duration": 30,
    "start_time": "2022-11-06T12:49:08.494Z"
   },
   {
    "duration": 22,
    "start_time": "2022-11-06T12:49:08.525Z"
   },
   {
    "duration": 46,
    "start_time": "2022-11-06T12:49:08.549Z"
   },
   {
    "duration": 113,
    "start_time": "2022-11-06T12:49:08.596Z"
   },
   {
    "duration": 56,
    "start_time": "2022-11-06T12:49:08.712Z"
   },
   {
    "duration": 31,
    "start_time": "2022-11-06T12:49:08.769Z"
   },
   {
    "duration": 17,
    "start_time": "2022-11-06T12:49:08.801Z"
   },
   {
    "duration": 107,
    "start_time": "2022-11-06T12:49:08.820Z"
   },
   {
    "duration": 19,
    "start_time": "2022-11-06T12:49:08.929Z"
   },
   {
    "duration": 5,
    "start_time": "2022-11-06T12:49:08.950Z"
   },
   {
    "duration": 5,
    "start_time": "2022-11-06T12:49:08.956Z"
   },
   {
    "duration": 263,
    "start_time": "2022-11-06T12:49:08.962Z"
   },
   {
    "duration": 15,
    "start_time": "2022-11-06T12:49:09.227Z"
   },
   {
    "duration": 3328,
    "start_time": "2022-11-06T12:49:09.244Z"
   },
   {
    "duration": 3340,
    "start_time": "2022-11-06T12:49:12.574Z"
   },
   {
    "duration": 3425,
    "start_time": "2022-11-06T12:49:15.916Z"
   }
  ],
  "kernelspec": {
   "display_name": "Python 3 (ipykernel)",
   "language": "python",
   "name": "python3"
  },
  "language_info": {
   "codemirror_mode": {
    "name": "ipython",
    "version": 3
   },
   "file_extension": ".py",
   "mimetype": "text/x-python",
   "name": "python",
   "nbconvert_exporter": "python",
   "pygments_lexer": "ipython3",
   "version": "3.9.12"
  },
  "toc": {
   "base_numbering": 1,
   "nav_menu": {},
   "number_sections": false,
   "sideBar": true,
   "skip_h1_title": false,
   "title_cell": "Table of Contents",
   "title_sidebar": "Contents",
   "toc_cell": false,
   "toc_position": {
    "height": "1056px",
    "left": "68px",
    "top": "112.229px",
    "width": "279.646px"
   },
   "toc_section_display": true,
   "toc_window_display": true
  }
 },
 "nbformat": 4,
 "nbformat_minor": 2
}
